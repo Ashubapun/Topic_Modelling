{
  "nbformat": 4,
  "nbformat_minor": 0,
  "metadata": {
    "colab": {
      "provenance": [],
      "gpuType": "T4",
      "authorship_tag": "ABX9TyPL6h17v0iiUn0TPsePrh8r",
      "include_colab_link": true
    },
    "kernelspec": {
      "name": "python3",
      "display_name": "Python 3"
    },
    "language_info": {
      "name": "python"
    },
    "accelerator": "GPU",
    "gpuClass": "standard"
  },
  "cells": [
    {
      "cell_type": "markdown",
      "metadata": {
        "id": "view-in-github",
        "colab_type": "text"
      },
      "source": [
        "<a href=\"https://colab.research.google.com/github/Ashubapun/Topic_Modelling/blob/main/topicmodelling_lda_%2B_tfidf_.ipynb\" target=\"_parent\"><img src=\"https://colab.research.google.com/assets/colab-badge.svg\" alt=\"Open In Colab\"/></a>"
      ]
    },
    {
      "cell_type": "code",
      "execution_count": null,
      "metadata": {
        "id": "I_t0-orUGU5M",
        "colab": {
          "base_uri": "https://localhost:8080/"
        },
        "outputId": "3e00aeae-ae00-480d-d8f0-54d6f32ce2e0"
      },
      "outputs": [
        {
          "output_type": "stream",
          "name": "stdout",
          "text": [
            "Looking in indexes: https://pypi.org/simple, https://us-python.pkg.dev/colab-wheels/public/simple/\n",
            "Requirement already satisfied: pyLDAvis in /usr/local/lib/python3.10/dist-packages (3.4.1)\n",
            "Requirement already satisfied: numpy>=1.24.2 in /usr/local/lib/python3.10/dist-packages (from pyLDAvis) (1.24.3)\n",
            "Requirement already satisfied: scipy in /usr/local/lib/python3.10/dist-packages (from pyLDAvis) (1.10.1)\n",
            "Requirement already satisfied: pandas>=2.0.0 in /usr/local/lib/python3.10/dist-packages (from pyLDAvis) (2.0.1)\n",
            "Requirement already satisfied: joblib>=1.2.0 in /usr/local/lib/python3.10/dist-packages (from pyLDAvis) (1.2.0)\n",
            "Requirement already satisfied: jinja2 in /usr/local/lib/python3.10/dist-packages (from pyLDAvis) (3.1.2)\n",
            "Requirement already satisfied: numexpr in /usr/local/lib/python3.10/dist-packages (from pyLDAvis) (2.8.4)\n",
            "Requirement already satisfied: funcy in /usr/local/lib/python3.10/dist-packages (from pyLDAvis) (2.0)\n",
            "Requirement already satisfied: scikit-learn>=1.0.0 in /usr/local/lib/python3.10/dist-packages (from pyLDAvis) (1.2.2)\n",
            "Requirement already satisfied: gensim in /usr/local/lib/python3.10/dist-packages (from pyLDAvis) (4.3.1)\n",
            "Requirement already satisfied: setuptools in /usr/local/lib/python3.10/dist-packages (from pyLDAvis) (67.7.2)\n",
            "Requirement already satisfied: python-dateutil>=2.8.2 in /usr/local/lib/python3.10/dist-packages (from pandas>=2.0.0->pyLDAvis) (2.8.2)\n",
            "Requirement already satisfied: pytz>=2020.1 in /usr/local/lib/python3.10/dist-packages (from pandas>=2.0.0->pyLDAvis) (2022.7.1)\n",
            "Requirement already satisfied: tzdata>=2022.1 in /usr/local/lib/python3.10/dist-packages (from pandas>=2.0.0->pyLDAvis) (2023.3)\n",
            "Requirement already satisfied: threadpoolctl>=2.0.0 in /usr/local/lib/python3.10/dist-packages (from scikit-learn>=1.0.0->pyLDAvis) (3.1.0)\n",
            "Requirement already satisfied: smart-open>=1.8.1 in /usr/local/lib/python3.10/dist-packages (from gensim->pyLDAvis) (6.3.0)\n",
            "Requirement already satisfied: MarkupSafe>=2.0 in /usr/local/lib/python3.10/dist-packages (from jinja2->pyLDAvis) (2.1.2)\n",
            "Requirement already satisfied: six>=1.5 in /usr/local/lib/python3.10/dist-packages (from python-dateutil>=2.8.2->pandas>=2.0.0->pyLDAvis) (1.16.0)\n"
          ]
        }
      ],
      "source": [
        "!pip install pyLDAvis\n",
        "\n",
        "import pandas as pd\n",
        "import numpy as np\n",
        "import seaborn as sns"
      ]
    },
    {
      "cell_type": "code",
      "source": [
        "!pip install nltk"
      ],
      "metadata": {
        "colab": {
          "base_uri": "https://localhost:8080/"
        },
        "id": "g1FBprP6HPOA",
        "outputId": "a4239d70-4c8b-4a65-8c9d-6f9ac46f6eef"
      },
      "execution_count": null,
      "outputs": [
        {
          "output_type": "stream",
          "name": "stdout",
          "text": [
            "Looking in indexes: https://pypi.org/simple, https://us-python.pkg.dev/colab-wheels/public/simple/\n",
            "Requirement already satisfied: nltk in /usr/local/lib/python3.10/dist-packages (3.8.1)\n",
            "Requirement already satisfied: click in /usr/local/lib/python3.10/dist-packages (from nltk) (8.1.3)\n",
            "Requirement already satisfied: joblib in /usr/local/lib/python3.10/dist-packages (from nltk) (1.2.0)\n",
            "Requirement already satisfied: regex>=2021.8.3 in /usr/local/lib/python3.10/dist-packages (from nltk) (2022.10.31)\n",
            "Requirement already satisfied: tqdm in /usr/local/lib/python3.10/dist-packages (from nltk) (4.65.0)\n"
          ]
        }
      ]
    },
    {
      "cell_type": "code",
      "source": [
        "from sklearn.model_selection import train_test_split\n",
        "import nltk"
      ],
      "metadata": {
        "id": "e0UAZ8yIHXvG"
      },
      "execution_count": null,
      "outputs": []
    },
    {
      "cell_type": "code",
      "source": [
        "tweets = pd.read_csv('/content/tweets_cleaned_13_04_23.csv')\n",
        "tweets"
      ],
      "metadata": {
        "colab": {
          "base_uri": "https://localhost:8080/",
          "height": 423
        },
        "id": "Q1SycuX3Hnd_",
        "outputId": "7ea143da-2dc3-46c5-ba20-f02534d20a8d"
      },
      "execution_count": null,
      "outputs": [
        {
          "output_type": "execute_result",
          "data": {
            "text/plain": [
              "       Unnamed: 0                                              Tweet Hashtag\n",
              "0               0  effect of anthocyanins on gut health markers f...  health\n",
              "1               1  good news recently accept position as software...  health\n",
              "2               2  start keto this month eat about lbs of pork be...  health\n",
              "3               3  be healthy mean get whole lot more out of life...  health\n",
              "4               4  butterfly welcome the feed govt announcement o...  health\n",
              "...           ...                                                ...     ...\n",
              "17634       18496  the pakistan women football team have be annou...  sports\n",
              "17635       18497  big ant studios and nacon cricket the official...  sports\n",
              "17636       18498  list of injure players in ipl be increase day ...  sports\n",
              "17637       18499  sport sponsorship cricket especially ipl domin...  sports\n",
              "17638       18500  𝙉𝙀𝙒 𝙅𝙊𝘽 𝘼𝙇𝙀𝙍𝙏 aston villa fc lead sport therap...  sports\n",
              "\n",
              "[17639 rows x 3 columns]"
            ],
            "text/html": [
              "\n",
              "  <div id=\"df-9888602d-2c5d-4297-aa25-d4679e0215a2\">\n",
              "    <div class=\"colab-df-container\">\n",
              "      <div>\n",
              "<style scoped>\n",
              "    .dataframe tbody tr th:only-of-type {\n",
              "        vertical-align: middle;\n",
              "    }\n",
              "\n",
              "    .dataframe tbody tr th {\n",
              "        vertical-align: top;\n",
              "    }\n",
              "\n",
              "    .dataframe thead th {\n",
              "        text-align: right;\n",
              "    }\n",
              "</style>\n",
              "<table border=\"1\" class=\"dataframe\">\n",
              "  <thead>\n",
              "    <tr style=\"text-align: right;\">\n",
              "      <th></th>\n",
              "      <th>Unnamed: 0</th>\n",
              "      <th>Tweet</th>\n",
              "      <th>Hashtag</th>\n",
              "    </tr>\n",
              "  </thead>\n",
              "  <tbody>\n",
              "    <tr>\n",
              "      <th>0</th>\n",
              "      <td>0</td>\n",
              "      <td>effect of anthocyanins on gut health markers f...</td>\n",
              "      <td>health</td>\n",
              "    </tr>\n",
              "    <tr>\n",
              "      <th>1</th>\n",
              "      <td>1</td>\n",
              "      <td>good news recently accept position as software...</td>\n",
              "      <td>health</td>\n",
              "    </tr>\n",
              "    <tr>\n",
              "      <th>2</th>\n",
              "      <td>2</td>\n",
              "      <td>start keto this month eat about lbs of pork be...</td>\n",
              "      <td>health</td>\n",
              "    </tr>\n",
              "    <tr>\n",
              "      <th>3</th>\n",
              "      <td>3</td>\n",
              "      <td>be healthy mean get whole lot more out of life...</td>\n",
              "      <td>health</td>\n",
              "    </tr>\n",
              "    <tr>\n",
              "      <th>4</th>\n",
              "      <td>4</td>\n",
              "      <td>butterfly welcome the feed govt announcement o...</td>\n",
              "      <td>health</td>\n",
              "    </tr>\n",
              "    <tr>\n",
              "      <th>...</th>\n",
              "      <td>...</td>\n",
              "      <td>...</td>\n",
              "      <td>...</td>\n",
              "    </tr>\n",
              "    <tr>\n",
              "      <th>17634</th>\n",
              "      <td>18496</td>\n",
              "      <td>the pakistan women football team have be annou...</td>\n",
              "      <td>sports</td>\n",
              "    </tr>\n",
              "    <tr>\n",
              "      <th>17635</th>\n",
              "      <td>18497</td>\n",
              "      <td>big ant studios and nacon cricket the official...</td>\n",
              "      <td>sports</td>\n",
              "    </tr>\n",
              "    <tr>\n",
              "      <th>17636</th>\n",
              "      <td>18498</td>\n",
              "      <td>list of injure players in ipl be increase day ...</td>\n",
              "      <td>sports</td>\n",
              "    </tr>\n",
              "    <tr>\n",
              "      <th>17637</th>\n",
              "      <td>18499</td>\n",
              "      <td>sport sponsorship cricket especially ipl domin...</td>\n",
              "      <td>sports</td>\n",
              "    </tr>\n",
              "    <tr>\n",
              "      <th>17638</th>\n",
              "      <td>18500</td>\n",
              "      <td>𝙉𝙀𝙒 𝙅𝙊𝘽 𝘼𝙇𝙀𝙍𝙏 aston villa fc lead sport therap...</td>\n",
              "      <td>sports</td>\n",
              "    </tr>\n",
              "  </tbody>\n",
              "</table>\n",
              "<p>17639 rows × 3 columns</p>\n",
              "</div>\n",
              "      <button class=\"colab-df-convert\" onclick=\"convertToInteractive('df-9888602d-2c5d-4297-aa25-d4679e0215a2')\"\n",
              "              title=\"Convert this dataframe to an interactive table.\"\n",
              "              style=\"display:none;\">\n",
              "        \n",
              "  <svg xmlns=\"http://www.w3.org/2000/svg\" height=\"24px\"viewBox=\"0 0 24 24\"\n",
              "       width=\"24px\">\n",
              "    <path d=\"M0 0h24v24H0V0z\" fill=\"none\"/>\n",
              "    <path d=\"M18.56 5.44l.94 2.06.94-2.06 2.06-.94-2.06-.94-.94-2.06-.94 2.06-2.06.94zm-11 1L8.5 8.5l.94-2.06 2.06-.94-2.06-.94L8.5 2.5l-.94 2.06-2.06.94zm10 10l.94 2.06.94-2.06 2.06-.94-2.06-.94-.94-2.06-.94 2.06-2.06.94z\"/><path d=\"M17.41 7.96l-1.37-1.37c-.4-.4-.92-.59-1.43-.59-.52 0-1.04.2-1.43.59L10.3 9.45l-7.72 7.72c-.78.78-.78 2.05 0 2.83L4 21.41c.39.39.9.59 1.41.59.51 0 1.02-.2 1.41-.59l7.78-7.78 2.81-2.81c.8-.78.8-2.07 0-2.86zM5.41 20L4 18.59l7.72-7.72 1.47 1.35L5.41 20z\"/>\n",
              "  </svg>\n",
              "      </button>\n",
              "      \n",
              "  <style>\n",
              "    .colab-df-container {\n",
              "      display:flex;\n",
              "      flex-wrap:wrap;\n",
              "      gap: 12px;\n",
              "    }\n",
              "\n",
              "    .colab-df-convert {\n",
              "      background-color: #E8F0FE;\n",
              "      border: none;\n",
              "      border-radius: 50%;\n",
              "      cursor: pointer;\n",
              "      display: none;\n",
              "      fill: #1967D2;\n",
              "      height: 32px;\n",
              "      padding: 0 0 0 0;\n",
              "      width: 32px;\n",
              "    }\n",
              "\n",
              "    .colab-df-convert:hover {\n",
              "      background-color: #E2EBFA;\n",
              "      box-shadow: 0px 1px 2px rgba(60, 64, 67, 0.3), 0px 1px 3px 1px rgba(60, 64, 67, 0.15);\n",
              "      fill: #174EA6;\n",
              "    }\n",
              "\n",
              "    [theme=dark] .colab-df-convert {\n",
              "      background-color: #3B4455;\n",
              "      fill: #D2E3FC;\n",
              "    }\n",
              "\n",
              "    [theme=dark] .colab-df-convert:hover {\n",
              "      background-color: #434B5C;\n",
              "      box-shadow: 0px 1px 3px 1px rgba(0, 0, 0, 0.15);\n",
              "      filter: drop-shadow(0px 1px 2px rgba(0, 0, 0, 0.3));\n",
              "      fill: #FFFFFF;\n",
              "    }\n",
              "  </style>\n",
              "\n",
              "      <script>\n",
              "        const buttonEl =\n",
              "          document.querySelector('#df-9888602d-2c5d-4297-aa25-d4679e0215a2 button.colab-df-convert');\n",
              "        buttonEl.style.display =\n",
              "          google.colab.kernel.accessAllowed ? 'block' : 'none';\n",
              "\n",
              "        async function convertToInteractive(key) {\n",
              "          const element = document.querySelector('#df-9888602d-2c5d-4297-aa25-d4679e0215a2');\n",
              "          const dataTable =\n",
              "            await google.colab.kernel.invokeFunction('convertToInteractive',\n",
              "                                                     [key], {});\n",
              "          if (!dataTable) return;\n",
              "\n",
              "          const docLinkHtml = 'Like what you see? Visit the ' +\n",
              "            '<a target=\"_blank\" href=https://colab.research.google.com/notebooks/data_table.ipynb>data table notebook</a>'\n",
              "            + ' to learn more about interactive tables.';\n",
              "          element.innerHTML = '';\n",
              "          dataTable['output_type'] = 'display_data';\n",
              "          await google.colab.output.renderOutput(dataTable, element);\n",
              "          const docLink = document.createElement('div');\n",
              "          docLink.innerHTML = docLinkHtml;\n",
              "          element.appendChild(docLink);\n",
              "        }\n",
              "      </script>\n",
              "    </div>\n",
              "  </div>\n",
              "  "
            ]
          },
          "metadata": {},
          "execution_count": 4
        }
      ]
    },
    {
      "cell_type": "code",
      "source": [
        "import collections\n",
        "\n",
        "filtered_words = [word for word in tweets['Hashtag'].split() if word not in stopwords]\n",
        "counted_words = collections.Counter(filtered_words)\n",
        "\n",
        "words = []\n",
        "counts = []\n",
        "for letter, count in counted_words.most_common(10):\n",
        "    words.append(letter)\n",
        "    counts.append(count)"
      ],
      "metadata": {
        "id": "6rS9U6q8AdR7"
      },
      "execution_count": null,
      "outputs": []
    },
    {
      "cell_type": "code",
      "source": [
        "tweets['Hashtag']"
      ],
      "metadata": {
        "colab": {
          "base_uri": "https://localhost:8080/"
        },
        "id": "W-Old_TyHwOG",
        "outputId": "0700eb22-e5fd-4d84-c4a7-316d104394e1"
      },
      "execution_count": null,
      "outputs": [
        {
          "output_type": "execute_result",
          "data": {
            "text/plain": [
              "Hashtag\n",
              "politics    4910\n",
              "health      4404\n",
              "sports      4167\n",
              "tech        4158\n",
              "Name: count, dtype: int64"
            ]
          },
          "metadata": {},
          "execution_count": 5
        }
      ]
    },
    {
      "cell_type": "code",
      "source": [
        "tweets_y = tweets['Hashtag']\n",
        "tweets_y"
      ],
      "metadata": {
        "colab": {
          "base_uri": "https://localhost:8080/"
        },
        "id": "HkDOrv-4H65H",
        "outputId": "7e251f84-d772-416e-e92b-557f998b94ac"
      },
      "execution_count": null,
      "outputs": [
        {
          "output_type": "execute_result",
          "data": {
            "text/plain": [
              "0        health\n",
              "1        health\n",
              "2        health\n",
              "3        health\n",
              "4        health\n",
              "          ...  \n",
              "17634    sports\n",
              "17635    sports\n",
              "17636    sports\n",
              "17637    sports\n",
              "17638    sports\n",
              "Name: Hashtag, Length: 17639, dtype: object"
            ]
          },
          "metadata": {},
          "execution_count": 6
        }
      ]
    },
    {
      "cell_type": "code",
      "source": [
        "tweets_x = tweets.drop(columns = 'Hashtag')\n",
        "tweets_x"
      ],
      "metadata": {
        "colab": {
          "base_uri": "https://localhost:8080/",
          "height": 423
        },
        "id": "cGzN91H1ISCf",
        "outputId": "c8eae680-a7f6-4ff6-dc73-5a3c9338f03e"
      },
      "execution_count": null,
      "outputs": [
        {
          "output_type": "execute_result",
          "data": {
            "text/plain": [
              "       Unnamed: 0                                              Tweet\n",
              "0               0  effect of anthocyanins on gut health markers f...\n",
              "1               1  good news recently accept position as software...\n",
              "2               2  start keto this month eat about lbs of pork be...\n",
              "3               3  be healthy mean get whole lot more out of life...\n",
              "4               4  butterfly welcome the feed govt announcement o...\n",
              "...           ...                                                ...\n",
              "17634       18496  the pakistan women football team have be annou...\n",
              "17635       18497  big ant studios and nacon cricket the official...\n",
              "17636       18498  list of injure players in ipl be increase day ...\n",
              "17637       18499  sport sponsorship cricket especially ipl domin...\n",
              "17638       18500  𝙉𝙀𝙒 𝙅𝙊𝘽 𝘼𝙇𝙀𝙍𝙏 aston villa fc lead sport therap...\n",
              "\n",
              "[17639 rows x 2 columns]"
            ],
            "text/html": [
              "\n",
              "  <div id=\"df-8b9b9870-a309-4f7e-a57a-f1dc8cac71d3\">\n",
              "    <div class=\"colab-df-container\">\n",
              "      <div>\n",
              "<style scoped>\n",
              "    .dataframe tbody tr th:only-of-type {\n",
              "        vertical-align: middle;\n",
              "    }\n",
              "\n",
              "    .dataframe tbody tr th {\n",
              "        vertical-align: top;\n",
              "    }\n",
              "\n",
              "    .dataframe thead th {\n",
              "        text-align: right;\n",
              "    }\n",
              "</style>\n",
              "<table border=\"1\" class=\"dataframe\">\n",
              "  <thead>\n",
              "    <tr style=\"text-align: right;\">\n",
              "      <th></th>\n",
              "      <th>Unnamed: 0</th>\n",
              "      <th>Tweet</th>\n",
              "    </tr>\n",
              "  </thead>\n",
              "  <tbody>\n",
              "    <tr>\n",
              "      <th>0</th>\n",
              "      <td>0</td>\n",
              "      <td>effect of anthocyanins on gut health markers f...</td>\n",
              "    </tr>\n",
              "    <tr>\n",
              "      <th>1</th>\n",
              "      <td>1</td>\n",
              "      <td>good news recently accept position as software...</td>\n",
              "    </tr>\n",
              "    <tr>\n",
              "      <th>2</th>\n",
              "      <td>2</td>\n",
              "      <td>start keto this month eat about lbs of pork be...</td>\n",
              "    </tr>\n",
              "    <tr>\n",
              "      <th>3</th>\n",
              "      <td>3</td>\n",
              "      <td>be healthy mean get whole lot more out of life...</td>\n",
              "    </tr>\n",
              "    <tr>\n",
              "      <th>4</th>\n",
              "      <td>4</td>\n",
              "      <td>butterfly welcome the feed govt announcement o...</td>\n",
              "    </tr>\n",
              "    <tr>\n",
              "      <th>...</th>\n",
              "      <td>...</td>\n",
              "      <td>...</td>\n",
              "    </tr>\n",
              "    <tr>\n",
              "      <th>17634</th>\n",
              "      <td>18496</td>\n",
              "      <td>the pakistan women football team have be annou...</td>\n",
              "    </tr>\n",
              "    <tr>\n",
              "      <th>17635</th>\n",
              "      <td>18497</td>\n",
              "      <td>big ant studios and nacon cricket the official...</td>\n",
              "    </tr>\n",
              "    <tr>\n",
              "      <th>17636</th>\n",
              "      <td>18498</td>\n",
              "      <td>list of injure players in ipl be increase day ...</td>\n",
              "    </tr>\n",
              "    <tr>\n",
              "      <th>17637</th>\n",
              "      <td>18499</td>\n",
              "      <td>sport sponsorship cricket especially ipl domin...</td>\n",
              "    </tr>\n",
              "    <tr>\n",
              "      <th>17638</th>\n",
              "      <td>18500</td>\n",
              "      <td>𝙉𝙀𝙒 𝙅𝙊𝘽 𝘼𝙇𝙀𝙍𝙏 aston villa fc lead sport therap...</td>\n",
              "    </tr>\n",
              "  </tbody>\n",
              "</table>\n",
              "<p>17639 rows × 2 columns</p>\n",
              "</div>\n",
              "      <button class=\"colab-df-convert\" onclick=\"convertToInteractive('df-8b9b9870-a309-4f7e-a57a-f1dc8cac71d3')\"\n",
              "              title=\"Convert this dataframe to an interactive table.\"\n",
              "              style=\"display:none;\">\n",
              "        \n",
              "  <svg xmlns=\"http://www.w3.org/2000/svg\" height=\"24px\"viewBox=\"0 0 24 24\"\n",
              "       width=\"24px\">\n",
              "    <path d=\"M0 0h24v24H0V0z\" fill=\"none\"/>\n",
              "    <path d=\"M18.56 5.44l.94 2.06.94-2.06 2.06-.94-2.06-.94-.94-2.06-.94 2.06-2.06.94zm-11 1L8.5 8.5l.94-2.06 2.06-.94-2.06-.94L8.5 2.5l-.94 2.06-2.06.94zm10 10l.94 2.06.94-2.06 2.06-.94-2.06-.94-.94-2.06-.94 2.06-2.06.94z\"/><path d=\"M17.41 7.96l-1.37-1.37c-.4-.4-.92-.59-1.43-.59-.52 0-1.04.2-1.43.59L10.3 9.45l-7.72 7.72c-.78.78-.78 2.05 0 2.83L4 21.41c.39.39.9.59 1.41.59.51 0 1.02-.2 1.41-.59l7.78-7.78 2.81-2.81c.8-.78.8-2.07 0-2.86zM5.41 20L4 18.59l7.72-7.72 1.47 1.35L5.41 20z\"/>\n",
              "  </svg>\n",
              "      </button>\n",
              "      \n",
              "  <style>\n",
              "    .colab-df-container {\n",
              "      display:flex;\n",
              "      flex-wrap:wrap;\n",
              "      gap: 12px;\n",
              "    }\n",
              "\n",
              "    .colab-df-convert {\n",
              "      background-color: #E8F0FE;\n",
              "      border: none;\n",
              "      border-radius: 50%;\n",
              "      cursor: pointer;\n",
              "      display: none;\n",
              "      fill: #1967D2;\n",
              "      height: 32px;\n",
              "      padding: 0 0 0 0;\n",
              "      width: 32px;\n",
              "    }\n",
              "\n",
              "    .colab-df-convert:hover {\n",
              "      background-color: #E2EBFA;\n",
              "      box-shadow: 0px 1px 2px rgba(60, 64, 67, 0.3), 0px 1px 3px 1px rgba(60, 64, 67, 0.15);\n",
              "      fill: #174EA6;\n",
              "    }\n",
              "\n",
              "    [theme=dark] .colab-df-convert {\n",
              "      background-color: #3B4455;\n",
              "      fill: #D2E3FC;\n",
              "    }\n",
              "\n",
              "    [theme=dark] .colab-df-convert:hover {\n",
              "      background-color: #434B5C;\n",
              "      box-shadow: 0px 1px 3px 1px rgba(0, 0, 0, 0.15);\n",
              "      filter: drop-shadow(0px 1px 2px rgba(0, 0, 0, 0.3));\n",
              "      fill: #FFFFFF;\n",
              "    }\n",
              "  </style>\n",
              "\n",
              "      <script>\n",
              "        const buttonEl =\n",
              "          document.querySelector('#df-8b9b9870-a309-4f7e-a57a-f1dc8cac71d3 button.colab-df-convert');\n",
              "        buttonEl.style.display =\n",
              "          google.colab.kernel.accessAllowed ? 'block' : 'none';\n",
              "\n",
              "        async function convertToInteractive(key) {\n",
              "          const element = document.querySelector('#df-8b9b9870-a309-4f7e-a57a-f1dc8cac71d3');\n",
              "          const dataTable =\n",
              "            await google.colab.kernel.invokeFunction('convertToInteractive',\n",
              "                                                     [key], {});\n",
              "          if (!dataTable) return;\n",
              "\n",
              "          const docLinkHtml = 'Like what you see? Visit the ' +\n",
              "            '<a target=\"_blank\" href=https://colab.research.google.com/notebooks/data_table.ipynb>data table notebook</a>'\n",
              "            + ' to learn more about interactive tables.';\n",
              "          element.innerHTML = '';\n",
              "          dataTable['output_type'] = 'display_data';\n",
              "          await google.colab.output.renderOutput(dataTable, element);\n",
              "          const docLink = document.createElement('div');\n",
              "          docLink.innerHTML = docLinkHtml;\n",
              "          element.appendChild(docLink);\n",
              "        }\n",
              "      </script>\n",
              "    </div>\n",
              "  </div>\n",
              "  "
            ]
          },
          "metadata": {},
          "execution_count": 7
        }
      ]
    },
    {
      "cell_type": "code",
      "source": [
        "# label encoding\n",
        "\n",
        "from sklearn.preprocessing import LabelEncoder\n",
        "le = LabelEncoder()\n",
        "tweets_y = le.fit_transform(tweets_y)"
      ],
      "metadata": {
        "id": "R9-z4kY8ENl2"
      },
      "execution_count": null,
      "outputs": []
    },
    {
      "cell_type": "code",
      "source": [
        "\n",
        "tweets_y"
      ],
      "metadata": {
        "colab": {
          "base_uri": "https://localhost:8080/"
        },
        "id": "ruTtMhf8En06",
        "outputId": "b1f850d4-fbe6-446b-c9cf-932a2785b9c7"
      },
      "execution_count": null,
      "outputs": [
        {
          "output_type": "execute_result",
          "data": {
            "text/plain": [
              "array([0, 0, 0, ..., 2, 2, 2])"
            ]
          },
          "metadata": {},
          "execution_count": 9
        }
      ]
    },
    {
      "cell_type": "markdown",
      "source": [
        "# Lower Casing"
      ],
      "metadata": {
        "id": "lZ24rp1RKuMe"
      }
    },
    {
      "cell_type": "code",
      "source": [
        "tweets_x['Tweet'] = tweets_x['Tweet'].str.lower()"
      ],
      "metadata": {
        "id": "fkE7n6-9IcW2"
      },
      "execution_count": null,
      "outputs": []
    },
    {
      "cell_type": "code",
      "source": [
        "tweets_x"
      ],
      "metadata": {
        "colab": {
          "base_uri": "https://localhost:8080/",
          "height": 423
        },
        "id": "0JMlqsJ9Iu3m",
        "outputId": "f5bea8b8-f042-4ddd-a417-3a224116c7f4"
      },
      "execution_count": null,
      "outputs": [
        {
          "output_type": "execute_result",
          "data": {
            "text/plain": [
              "       Unnamed: 0                                              Tweet\n",
              "0               0  effect of anthocyanins on gut health markers f...\n",
              "1               1  good news recently accept position as software...\n",
              "2               2  start keto this month eat about lbs of pork be...\n",
              "3               3  be healthy mean get whole lot more out of life...\n",
              "4               4  butterfly welcome the feed govt announcement o...\n",
              "...           ...                                                ...\n",
              "17634       18496  the pakistan women football team have be annou...\n",
              "17635       18497  big ant studios and nacon cricket the official...\n",
              "17636       18498  list of injure players in ipl be increase day ...\n",
              "17637       18499  sport sponsorship cricket especially ipl domin...\n",
              "17638       18500  𝙉𝙀𝙒 𝙅𝙊𝘽 𝘼𝙇𝙀𝙍𝙏 aston villa fc lead sport therap...\n",
              "\n",
              "[17639 rows x 2 columns]"
            ],
            "text/html": [
              "\n",
              "  <div id=\"df-0b11c69c-62bf-4f1c-8b90-1d82f77b598f\">\n",
              "    <div class=\"colab-df-container\">\n",
              "      <div>\n",
              "<style scoped>\n",
              "    .dataframe tbody tr th:only-of-type {\n",
              "        vertical-align: middle;\n",
              "    }\n",
              "\n",
              "    .dataframe tbody tr th {\n",
              "        vertical-align: top;\n",
              "    }\n",
              "\n",
              "    .dataframe thead th {\n",
              "        text-align: right;\n",
              "    }\n",
              "</style>\n",
              "<table border=\"1\" class=\"dataframe\">\n",
              "  <thead>\n",
              "    <tr style=\"text-align: right;\">\n",
              "      <th></th>\n",
              "      <th>Unnamed: 0</th>\n",
              "      <th>Tweet</th>\n",
              "    </tr>\n",
              "  </thead>\n",
              "  <tbody>\n",
              "    <tr>\n",
              "      <th>0</th>\n",
              "      <td>0</td>\n",
              "      <td>effect of anthocyanins on gut health markers f...</td>\n",
              "    </tr>\n",
              "    <tr>\n",
              "      <th>1</th>\n",
              "      <td>1</td>\n",
              "      <td>good news recently accept position as software...</td>\n",
              "    </tr>\n",
              "    <tr>\n",
              "      <th>2</th>\n",
              "      <td>2</td>\n",
              "      <td>start keto this month eat about lbs of pork be...</td>\n",
              "    </tr>\n",
              "    <tr>\n",
              "      <th>3</th>\n",
              "      <td>3</td>\n",
              "      <td>be healthy mean get whole lot more out of life...</td>\n",
              "    </tr>\n",
              "    <tr>\n",
              "      <th>4</th>\n",
              "      <td>4</td>\n",
              "      <td>butterfly welcome the feed govt announcement o...</td>\n",
              "    </tr>\n",
              "    <tr>\n",
              "      <th>...</th>\n",
              "      <td>...</td>\n",
              "      <td>...</td>\n",
              "    </tr>\n",
              "    <tr>\n",
              "      <th>17634</th>\n",
              "      <td>18496</td>\n",
              "      <td>the pakistan women football team have be annou...</td>\n",
              "    </tr>\n",
              "    <tr>\n",
              "      <th>17635</th>\n",
              "      <td>18497</td>\n",
              "      <td>big ant studios and nacon cricket the official...</td>\n",
              "    </tr>\n",
              "    <tr>\n",
              "      <th>17636</th>\n",
              "      <td>18498</td>\n",
              "      <td>list of injure players in ipl be increase day ...</td>\n",
              "    </tr>\n",
              "    <tr>\n",
              "      <th>17637</th>\n",
              "      <td>18499</td>\n",
              "      <td>sport sponsorship cricket especially ipl domin...</td>\n",
              "    </tr>\n",
              "    <tr>\n",
              "      <th>17638</th>\n",
              "      <td>18500</td>\n",
              "      <td>𝙉𝙀𝙒 𝙅𝙊𝘽 𝘼𝙇𝙀𝙍𝙏 aston villa fc lead sport therap...</td>\n",
              "    </tr>\n",
              "  </tbody>\n",
              "</table>\n",
              "<p>17639 rows × 2 columns</p>\n",
              "</div>\n",
              "      <button class=\"colab-df-convert\" onclick=\"convertToInteractive('df-0b11c69c-62bf-4f1c-8b90-1d82f77b598f')\"\n",
              "              title=\"Convert this dataframe to an interactive table.\"\n",
              "              style=\"display:none;\">\n",
              "        \n",
              "  <svg xmlns=\"http://www.w3.org/2000/svg\" height=\"24px\"viewBox=\"0 0 24 24\"\n",
              "       width=\"24px\">\n",
              "    <path d=\"M0 0h24v24H0V0z\" fill=\"none\"/>\n",
              "    <path d=\"M18.56 5.44l.94 2.06.94-2.06 2.06-.94-2.06-.94-.94-2.06-.94 2.06-2.06.94zm-11 1L8.5 8.5l.94-2.06 2.06-.94-2.06-.94L8.5 2.5l-.94 2.06-2.06.94zm10 10l.94 2.06.94-2.06 2.06-.94-2.06-.94-.94-2.06-.94 2.06-2.06.94z\"/><path d=\"M17.41 7.96l-1.37-1.37c-.4-.4-.92-.59-1.43-.59-.52 0-1.04.2-1.43.59L10.3 9.45l-7.72 7.72c-.78.78-.78 2.05 0 2.83L4 21.41c.39.39.9.59 1.41.59.51 0 1.02-.2 1.41-.59l7.78-7.78 2.81-2.81c.8-.78.8-2.07 0-2.86zM5.41 20L4 18.59l7.72-7.72 1.47 1.35L5.41 20z\"/>\n",
              "  </svg>\n",
              "      </button>\n",
              "      \n",
              "  <style>\n",
              "    .colab-df-container {\n",
              "      display:flex;\n",
              "      flex-wrap:wrap;\n",
              "      gap: 12px;\n",
              "    }\n",
              "\n",
              "    .colab-df-convert {\n",
              "      background-color: #E8F0FE;\n",
              "      border: none;\n",
              "      border-radius: 50%;\n",
              "      cursor: pointer;\n",
              "      display: none;\n",
              "      fill: #1967D2;\n",
              "      height: 32px;\n",
              "      padding: 0 0 0 0;\n",
              "      width: 32px;\n",
              "    }\n",
              "\n",
              "    .colab-df-convert:hover {\n",
              "      background-color: #E2EBFA;\n",
              "      box-shadow: 0px 1px 2px rgba(60, 64, 67, 0.3), 0px 1px 3px 1px rgba(60, 64, 67, 0.15);\n",
              "      fill: #174EA6;\n",
              "    }\n",
              "\n",
              "    [theme=dark] .colab-df-convert {\n",
              "      background-color: #3B4455;\n",
              "      fill: #D2E3FC;\n",
              "    }\n",
              "\n",
              "    [theme=dark] .colab-df-convert:hover {\n",
              "      background-color: #434B5C;\n",
              "      box-shadow: 0px 1px 3px 1px rgba(0, 0, 0, 0.15);\n",
              "      filter: drop-shadow(0px 1px 2px rgba(0, 0, 0, 0.3));\n",
              "      fill: #FFFFFF;\n",
              "    }\n",
              "  </style>\n",
              "\n",
              "      <script>\n",
              "        const buttonEl =\n",
              "          document.querySelector('#df-0b11c69c-62bf-4f1c-8b90-1d82f77b598f button.colab-df-convert');\n",
              "        buttonEl.style.display =\n",
              "          google.colab.kernel.accessAllowed ? 'block' : 'none';\n",
              "\n",
              "        async function convertToInteractive(key) {\n",
              "          const element = document.querySelector('#df-0b11c69c-62bf-4f1c-8b90-1d82f77b598f');\n",
              "          const dataTable =\n",
              "            await google.colab.kernel.invokeFunction('convertToInteractive',\n",
              "                                                     [key], {});\n",
              "          if (!dataTable) return;\n",
              "\n",
              "          const docLinkHtml = 'Like what you see? Visit the ' +\n",
              "            '<a target=\"_blank\" href=https://colab.research.google.com/notebooks/data_table.ipynb>data table notebook</a>'\n",
              "            + ' to learn more about interactive tables.';\n",
              "          element.innerHTML = '';\n",
              "          dataTable['output_type'] = 'display_data';\n",
              "          await google.colab.output.renderOutput(dataTable, element);\n",
              "          const docLink = document.createElement('div');\n",
              "          docLink.innerHTML = docLinkHtml;\n",
              "          element.appendChild(docLink);\n",
              "        }\n",
              "      </script>\n",
              "    </div>\n",
              "  </div>\n",
              "  "
            ]
          },
          "metadata": {},
          "execution_count": 11
        }
      ]
    },
    {
      "cell_type": "markdown",
      "source": [
        "# Removing html tags and urls"
      ],
      "metadata": {
        "id": "FDONkzv7LBTM"
      }
    },
    {
      "cell_type": "code",
      "source": [
        "import re\n",
        "def remove_tags_url(text):\n",
        "  #pattern = re.compile(\"!#$%&'*+-.^_`|~:\")\n",
        "  pattern = re.compile(r'https?:\\/\\/(www\\.)?[-a-zA-Z0-9@:%._\\+~#=]{1,256}\\.[a-zA-Z0-9()]{1,6}\\b([-a-zA-Z0-9()@:%_\\+.~#?&//=]*)')\n",
        "  return pattern.sub(r'',text)\n"
      ],
      "metadata": {
        "id": "C0S3Oaf_Jy-O"
      },
      "execution_count": null,
      "outputs": []
    },
    {
      "cell_type": "code",
      "source": [
        "tweets_x['Tweet'].apply(remove_tags_url)"
      ],
      "metadata": {
        "colab": {
          "base_uri": "https://localhost:8080/"
        },
        "id": "j_mbFALjNS_v",
        "outputId": "3c2b2d91-b6c7-4c9f-c662-a27d71a6dd14"
      },
      "execution_count": null,
      "outputs": [
        {
          "output_type": "execute_result",
          "data": {
            "text/plain": [
              "0        effect of anthocyanins on gut health markers f...\n",
              "1        good news recently accept position as software...\n",
              "2        start keto this month eat about lbs of pork be...\n",
              "3        be healthy mean get whole lot more out of life...\n",
              "4        butterfly welcome the feed govt announcement o...\n",
              "                               ...                        \n",
              "17634    the pakistan women football team have be annou...\n",
              "17635    big ant studios and nacon cricket the official...\n",
              "17636    list of injure players in ipl be increase day ...\n",
              "17637    sport sponsorship cricket especially ipl domin...\n",
              "17638    𝙉𝙀𝙒 𝙅𝙊𝘽 𝘼𝙇𝙀𝙍𝙏 aston villa fc lead sport therap...\n",
              "Name: Tweet, Length: 17639, dtype: object"
            ]
          },
          "metadata": {},
          "execution_count": 13
        }
      ]
    },
    {
      "cell_type": "markdown",
      "source": [
        "# Remove Punctuations"
      ],
      "metadata": {
        "id": "0OcETTINOlRW"
      }
    },
    {
      "cell_type": "code",
      "source": [
        "import string\n",
        "exclude = string.punctuation\n",
        "def remove_punc(text):\n",
        "  for char in exclude:\n",
        "    text = text.replace(char, \"\")\n",
        "  return text"
      ],
      "metadata": {
        "id": "9LVxoWZvOk82"
      },
      "execution_count": null,
      "outputs": []
    },
    {
      "cell_type": "code",
      "source": [
        "exclude"
      ],
      "metadata": {
        "colab": {
          "base_uri": "https://localhost:8080/",
          "height": 36
        },
        "id": "-Zd2HuMPP2gN",
        "outputId": "142cf258-5538-4061-9d11-5c2635a9a944"
      },
      "execution_count": null,
      "outputs": [
        {
          "output_type": "execute_result",
          "data": {
            "text/plain": [
              "'!\"#$%&\\'()*+,-./:;<=>?@[\\\\]^_`{|}~'"
            ],
            "application/vnd.google.colaboratory.intrinsic+json": {
              "type": "string"
            }
          },
          "metadata": {},
          "execution_count": 15
        }
      ]
    },
    {
      "cell_type": "code",
      "source": [
        "# or use standard technique\n",
        "def remove_punctuations(text):\n",
        "  return text.translate(str.maketrans(\" \",\" \", exclude))"
      ],
      "metadata": {
        "id": "Bg5c5dE9NcPm"
      },
      "execution_count": null,
      "outputs": []
    },
    {
      "cell_type": "code",
      "source": [
        "tweets_x['Tweet'].apply(remove_punctuations)"
      ],
      "metadata": {
        "colab": {
          "base_uri": "https://localhost:8080/"
        },
        "id": "f4fvoaL0Pcz-",
        "outputId": "afbb5818-ca55-4f53-edd6-6971f3c390cd"
      },
      "execution_count": null,
      "outputs": [
        {
          "output_type": "execute_result",
          "data": {
            "text/plain": [
              "0        effect of anthocyanins on gut health markers f...\n",
              "1        good news recently accept position as software...\n",
              "2        start keto this month eat about lbs of pork be...\n",
              "3        be healthy mean get whole lot more out of life...\n",
              "4        butterfly welcome the feed govt announcement o...\n",
              "                               ...                        \n",
              "17634    the pakistan women football team have be annou...\n",
              "17635    big ant studios and nacon cricket the official...\n",
              "17636    list of injure players in ipl be increase day ...\n",
              "17637    sport sponsorship cricket especially ipl domin...\n",
              "17638    𝙉𝙀𝙒 𝙅𝙊𝘽 𝘼𝙇𝙀𝙍𝙏 aston villa fc lead sport therap...\n",
              "Name: Tweet, Length: 17639, dtype: object"
            ]
          },
          "metadata": {},
          "execution_count": 17
        }
      ]
    },
    {
      "cell_type": "code",
      "source": [
        "tweets_x.head()"
      ],
      "metadata": {
        "colab": {
          "base_uri": "https://localhost:8080/",
          "height": 206
        },
        "id": "Ef7sHqA-QCoF",
        "outputId": "f0a76813-ef44-4ab1-f984-7a083ed090c4"
      },
      "execution_count": null,
      "outputs": [
        {
          "output_type": "execute_result",
          "data": {
            "text/plain": [
              "   Unnamed: 0                                              Tweet\n",
              "0           0  effect of anthocyanins on gut health markers f...\n",
              "1           1  good news recently accept position as software...\n",
              "2           2  start keto this month eat about lbs of pork be...\n",
              "3           3  be healthy mean get whole lot more out of life...\n",
              "4           4  butterfly welcome the feed govt announcement o..."
            ],
            "text/html": [
              "\n",
              "  <div id=\"df-47ee1afd-767d-4f6a-9ee1-41c4425591ad\">\n",
              "    <div class=\"colab-df-container\">\n",
              "      <div>\n",
              "<style scoped>\n",
              "    .dataframe tbody tr th:only-of-type {\n",
              "        vertical-align: middle;\n",
              "    }\n",
              "\n",
              "    .dataframe tbody tr th {\n",
              "        vertical-align: top;\n",
              "    }\n",
              "\n",
              "    .dataframe thead th {\n",
              "        text-align: right;\n",
              "    }\n",
              "</style>\n",
              "<table border=\"1\" class=\"dataframe\">\n",
              "  <thead>\n",
              "    <tr style=\"text-align: right;\">\n",
              "      <th></th>\n",
              "      <th>Unnamed: 0</th>\n",
              "      <th>Tweet</th>\n",
              "    </tr>\n",
              "  </thead>\n",
              "  <tbody>\n",
              "    <tr>\n",
              "      <th>0</th>\n",
              "      <td>0</td>\n",
              "      <td>effect of anthocyanins on gut health markers f...</td>\n",
              "    </tr>\n",
              "    <tr>\n",
              "      <th>1</th>\n",
              "      <td>1</td>\n",
              "      <td>good news recently accept position as software...</td>\n",
              "    </tr>\n",
              "    <tr>\n",
              "      <th>2</th>\n",
              "      <td>2</td>\n",
              "      <td>start keto this month eat about lbs of pork be...</td>\n",
              "    </tr>\n",
              "    <tr>\n",
              "      <th>3</th>\n",
              "      <td>3</td>\n",
              "      <td>be healthy mean get whole lot more out of life...</td>\n",
              "    </tr>\n",
              "    <tr>\n",
              "      <th>4</th>\n",
              "      <td>4</td>\n",
              "      <td>butterfly welcome the feed govt announcement o...</td>\n",
              "    </tr>\n",
              "  </tbody>\n",
              "</table>\n",
              "</div>\n",
              "      <button class=\"colab-df-convert\" onclick=\"convertToInteractive('df-47ee1afd-767d-4f6a-9ee1-41c4425591ad')\"\n",
              "              title=\"Convert this dataframe to an interactive table.\"\n",
              "              style=\"display:none;\">\n",
              "        \n",
              "  <svg xmlns=\"http://www.w3.org/2000/svg\" height=\"24px\"viewBox=\"0 0 24 24\"\n",
              "       width=\"24px\">\n",
              "    <path d=\"M0 0h24v24H0V0z\" fill=\"none\"/>\n",
              "    <path d=\"M18.56 5.44l.94 2.06.94-2.06 2.06-.94-2.06-.94-.94-2.06-.94 2.06-2.06.94zm-11 1L8.5 8.5l.94-2.06 2.06-.94-2.06-.94L8.5 2.5l-.94 2.06-2.06.94zm10 10l.94 2.06.94-2.06 2.06-.94-2.06-.94-.94-2.06-.94 2.06-2.06.94z\"/><path d=\"M17.41 7.96l-1.37-1.37c-.4-.4-.92-.59-1.43-.59-.52 0-1.04.2-1.43.59L10.3 9.45l-7.72 7.72c-.78.78-.78 2.05 0 2.83L4 21.41c.39.39.9.59 1.41.59.51 0 1.02-.2 1.41-.59l7.78-7.78 2.81-2.81c.8-.78.8-2.07 0-2.86zM5.41 20L4 18.59l7.72-7.72 1.47 1.35L5.41 20z\"/>\n",
              "  </svg>\n",
              "      </button>\n",
              "      \n",
              "  <style>\n",
              "    .colab-df-container {\n",
              "      display:flex;\n",
              "      flex-wrap:wrap;\n",
              "      gap: 12px;\n",
              "    }\n",
              "\n",
              "    .colab-df-convert {\n",
              "      background-color: #E8F0FE;\n",
              "      border: none;\n",
              "      border-radius: 50%;\n",
              "      cursor: pointer;\n",
              "      display: none;\n",
              "      fill: #1967D2;\n",
              "      height: 32px;\n",
              "      padding: 0 0 0 0;\n",
              "      width: 32px;\n",
              "    }\n",
              "\n",
              "    .colab-df-convert:hover {\n",
              "      background-color: #E2EBFA;\n",
              "      box-shadow: 0px 1px 2px rgba(60, 64, 67, 0.3), 0px 1px 3px 1px rgba(60, 64, 67, 0.15);\n",
              "      fill: #174EA6;\n",
              "    }\n",
              "\n",
              "    [theme=dark] .colab-df-convert {\n",
              "      background-color: #3B4455;\n",
              "      fill: #D2E3FC;\n",
              "    }\n",
              "\n",
              "    [theme=dark] .colab-df-convert:hover {\n",
              "      background-color: #434B5C;\n",
              "      box-shadow: 0px 1px 3px 1px rgba(0, 0, 0, 0.15);\n",
              "      filter: drop-shadow(0px 1px 2px rgba(0, 0, 0, 0.3));\n",
              "      fill: #FFFFFF;\n",
              "    }\n",
              "  </style>\n",
              "\n",
              "      <script>\n",
              "        const buttonEl =\n",
              "          document.querySelector('#df-47ee1afd-767d-4f6a-9ee1-41c4425591ad button.colab-df-convert');\n",
              "        buttonEl.style.display =\n",
              "          google.colab.kernel.accessAllowed ? 'block' : 'none';\n",
              "\n",
              "        async function convertToInteractive(key) {\n",
              "          const element = document.querySelector('#df-47ee1afd-767d-4f6a-9ee1-41c4425591ad');\n",
              "          const dataTable =\n",
              "            await google.colab.kernel.invokeFunction('convertToInteractive',\n",
              "                                                     [key], {});\n",
              "          if (!dataTable) return;\n",
              "\n",
              "          const docLinkHtml = 'Like what you see? Visit the ' +\n",
              "            '<a target=\"_blank\" href=https://colab.research.google.com/notebooks/data_table.ipynb>data table notebook</a>'\n",
              "            + ' to learn more about interactive tables.';\n",
              "          element.innerHTML = '';\n",
              "          dataTable['output_type'] = 'display_data';\n",
              "          await google.colab.output.renderOutput(dataTable, element);\n",
              "          const docLink = document.createElement('div');\n",
              "          docLink.innerHTML = docLinkHtml;\n",
              "          element.appendChild(docLink);\n",
              "        }\n",
              "      </script>\n",
              "    </div>\n",
              "  </div>\n",
              "  "
            ]
          },
          "metadata": {},
          "execution_count": 18
        }
      ]
    },
    {
      "cell_type": "markdown",
      "source": [
        "# Chat word Treatment"
      ],
      "metadata": {
        "id": "uaOteo4zQhz2"
      }
    },
    {
      "cell_type": "code",
      "source": [
        "def chat_conversion(text):\n",
        "  chat_words = {}\n",
        "  new_text = []\n",
        "  for i in text.split():\n",
        "    if i in chat_words:\n",
        "      new_text.append(chat_words[i])\n",
        "    else:\n",
        "      new_text.append(i)\n",
        "\n",
        "  return \" \".join(new_text)"
      ],
      "metadata": {
        "id": "cGIIoJGOQPDN"
      },
      "execution_count": null,
      "outputs": []
    },
    {
      "cell_type": "markdown",
      "source": [
        "# Spelling Correction"
      ],
      "metadata": {
        "id": "uzu_csCaS1ed"
      }
    },
    {
      "cell_type": "code",
      "source": [
        "from textblob import TextBlob\n",
        "def spell_check(text):\n",
        "    for word in text.split():\n",
        "      textblob = TextBlob(text = text)\n",
        "      return textblob.correct().string"
      ],
      "metadata": {
        "id": "Z0bsYGmqR_Cd"
      },
      "execution_count": null,
      "outputs": []
    },
    {
      "cell_type": "markdown",
      "source": [
        "# Remove Stopwords"
      ],
      "metadata": {
        "id": "icHe3IY4t-Ur"
      }
    },
    {
      "cell_type": "code",
      "source": [
        "nltk.download('stopwords')\n",
        "from nltk.corpus import stopwords\n",
        "stopwords.words('english')\n",
        "\n",
        "def remove_stopwords(text):\n",
        "  new_text = []\n",
        "  for word in text.split():\n",
        "    if word in stopwords.words('english'):\n",
        "      new_text.append(\"\")\n",
        "    else:\n",
        "      new_text.append(word)\n",
        "\n",
        "  x = new_text[:]\n",
        "  new_text.clear()\n",
        "  return \" \".join(x)"
      ],
      "metadata": {
        "colab": {
          "base_uri": "https://localhost:8080/"
        },
        "id": "Lq9Exl5xt-G4",
        "outputId": "7a9cb56d-4af8-49e6-f7a9-bff7a7a8dc39"
      },
      "execution_count": null,
      "outputs": [
        {
          "output_type": "stream",
          "name": "stderr",
          "text": [
            "[nltk_data] Downloading package stopwords to /root/nltk_data...\n",
            "[nltk_data]   Unzipping corpora/stopwords.zip.\n"
          ]
        }
      ]
    },
    {
      "cell_type": "code",
      "source": [
        "tweets_x['Tweet'] = tweets_x['Tweet'].apply(remove_stopwords)"
      ],
      "metadata": {
        "id": "NvcYlZCzv2Dn"
      },
      "execution_count": null,
      "outputs": []
    },
    {
      "cell_type": "code",
      "source": [],
      "metadata": {
        "id": "O4PIfaqywpTm"
      },
      "execution_count": null,
      "outputs": []
    },
    {
      "cell_type": "markdown",
      "source": [
        "# Tokenization"
      ],
      "metadata": {
        "id": "4wQXpBoKxiR1"
      }
    },
    {
      "cell_type": "code",
      "source": [
        "# import spacy\n",
        "# nlp = spacy.load('en_core_web_sm')\n",
        "# doc = nlp(text)\n",
        "# for token in doc:\n",
        "#   print(token)"
      ],
      "metadata": {
        "id": "zJs01Zwkxmnk"
      },
      "execution_count": null,
      "outputs": []
    },
    {
      "cell_type": "code",
      "source": [
        "nltk.download('punkt')"
      ],
      "metadata": {
        "colab": {
          "base_uri": "https://localhost:8080/"
        },
        "id": "GjuTbRH0fqOY",
        "outputId": "83e6c127-3729-4757-dc88-253cd8617100"
      },
      "execution_count": null,
      "outputs": [
        {
          "output_type": "stream",
          "name": "stderr",
          "text": [
            "[nltk_data] Downloading package punkt to /root/nltk_data...\n",
            "[nltk_data]   Unzipping tokenizers/punkt.zip.\n"
          ]
        },
        {
          "output_type": "execute_result",
          "data": {
            "text/plain": [
              "True"
            ]
          },
          "metadata": {},
          "execution_count": 24
        }
      ]
    },
    {
      "cell_type": "code",
      "source": [
        "# from nltk.tokenize import word_tokenize, sent_tokenize, wordpunct_tokenize\n",
        "# for i in tweets_x['Tweet']:\n",
        "#   words = [w for w in nltk.tokenize.word_tokenize(i)]\n",
        "#   words = [le]\n",
        "\n",
        "# tweets_x['Tweet'] = tweets_x['Tweet'].apply(wordpunct_tokenize)"
      ],
      "metadata": {
        "id": "Pbg-6rREyQQ9"
      },
      "execution_count": null,
      "outputs": []
    },
    {
      "cell_type": "code",
      "source": [
        "from nltk.tokenize import word_tokenize\n",
        "tweets_x['Tweet'] = tweets_x['Tweet'].apply(word_tokenize)"
      ],
      "metadata": {
        "id": "kDZ7EeTTgS2E"
      },
      "execution_count": null,
      "outputs": []
    },
    {
      "cell_type": "code",
      "source": [
        "tweets_x"
      ],
      "metadata": {
        "colab": {
          "base_uri": "https://localhost:8080/",
          "height": 423
        },
        "id": "HltnUeUGy8vp",
        "outputId": "b3aba99e-833c-4467-8d5e-2eb39a3e2a81"
      },
      "execution_count": null,
      "outputs": [
        {
          "output_type": "execute_result",
          "data": {
            "text/plain": [
              "       Unnamed: 0                                              Tweet\n",
              "0               0  [effect, anthocyanins, gut, health, markers, f...\n",
              "1               1  [good, news, recently, accept, position, softw...\n",
              "2               2  [start, keto, month, eat, lbs, pork, belly, do...\n",
              "3               3  [healthy, mean, get, whole, lot, life, positiv...\n",
              "4               4  [butterfly, welcome, feed, govt, announcement,...\n",
              "...           ...                                                ...\n",
              "17634       18496  [pakistan, women, football, team, announce, fi...\n",
              "17635       18497  [big, ant, studios, nacon, cricket, official, ...\n",
              "17636       18498  [list, injure, players, ipl, increase, day, da...\n",
              "17637       18499  [sport, sponsorship, cricket, especially, ipl,...\n",
              "17638       18500  [𝙉𝙀𝙒, 𝙅𝙊𝘽, 𝘼𝙇𝙀𝙍𝙏, aston, villa, fc, lead, spor...\n",
              "\n",
              "[17639 rows x 2 columns]"
            ],
            "text/html": [
              "\n",
              "  <div id=\"df-7893f3fb-3091-45db-8ae3-dd76eda0c859\">\n",
              "    <div class=\"colab-df-container\">\n",
              "      <div>\n",
              "<style scoped>\n",
              "    .dataframe tbody tr th:only-of-type {\n",
              "        vertical-align: middle;\n",
              "    }\n",
              "\n",
              "    .dataframe tbody tr th {\n",
              "        vertical-align: top;\n",
              "    }\n",
              "\n",
              "    .dataframe thead th {\n",
              "        text-align: right;\n",
              "    }\n",
              "</style>\n",
              "<table border=\"1\" class=\"dataframe\">\n",
              "  <thead>\n",
              "    <tr style=\"text-align: right;\">\n",
              "      <th></th>\n",
              "      <th>Unnamed: 0</th>\n",
              "      <th>Tweet</th>\n",
              "    </tr>\n",
              "  </thead>\n",
              "  <tbody>\n",
              "    <tr>\n",
              "      <th>0</th>\n",
              "      <td>0</td>\n",
              "      <td>[effect, anthocyanins, gut, health, markers, f...</td>\n",
              "    </tr>\n",
              "    <tr>\n",
              "      <th>1</th>\n",
              "      <td>1</td>\n",
              "      <td>[good, news, recently, accept, position, softw...</td>\n",
              "    </tr>\n",
              "    <tr>\n",
              "      <th>2</th>\n",
              "      <td>2</td>\n",
              "      <td>[start, keto, month, eat, lbs, pork, belly, do...</td>\n",
              "    </tr>\n",
              "    <tr>\n",
              "      <th>3</th>\n",
              "      <td>3</td>\n",
              "      <td>[healthy, mean, get, whole, lot, life, positiv...</td>\n",
              "    </tr>\n",
              "    <tr>\n",
              "      <th>4</th>\n",
              "      <td>4</td>\n",
              "      <td>[butterfly, welcome, feed, govt, announcement,...</td>\n",
              "    </tr>\n",
              "    <tr>\n",
              "      <th>...</th>\n",
              "      <td>...</td>\n",
              "      <td>...</td>\n",
              "    </tr>\n",
              "    <tr>\n",
              "      <th>17634</th>\n",
              "      <td>18496</td>\n",
              "      <td>[pakistan, women, football, team, announce, fi...</td>\n",
              "    </tr>\n",
              "    <tr>\n",
              "      <th>17635</th>\n",
              "      <td>18497</td>\n",
              "      <td>[big, ant, studios, nacon, cricket, official, ...</td>\n",
              "    </tr>\n",
              "    <tr>\n",
              "      <th>17636</th>\n",
              "      <td>18498</td>\n",
              "      <td>[list, injure, players, ipl, increase, day, da...</td>\n",
              "    </tr>\n",
              "    <tr>\n",
              "      <th>17637</th>\n",
              "      <td>18499</td>\n",
              "      <td>[sport, sponsorship, cricket, especially, ipl,...</td>\n",
              "    </tr>\n",
              "    <tr>\n",
              "      <th>17638</th>\n",
              "      <td>18500</td>\n",
              "      <td>[𝙉𝙀𝙒, 𝙅𝙊𝘽, 𝘼𝙇𝙀𝙍𝙏, aston, villa, fc, lead, spor...</td>\n",
              "    </tr>\n",
              "  </tbody>\n",
              "</table>\n",
              "<p>17639 rows × 2 columns</p>\n",
              "</div>\n",
              "      <button class=\"colab-df-convert\" onclick=\"convertToInteractive('df-7893f3fb-3091-45db-8ae3-dd76eda0c859')\"\n",
              "              title=\"Convert this dataframe to an interactive table.\"\n",
              "              style=\"display:none;\">\n",
              "        \n",
              "  <svg xmlns=\"http://www.w3.org/2000/svg\" height=\"24px\"viewBox=\"0 0 24 24\"\n",
              "       width=\"24px\">\n",
              "    <path d=\"M0 0h24v24H0V0z\" fill=\"none\"/>\n",
              "    <path d=\"M18.56 5.44l.94 2.06.94-2.06 2.06-.94-2.06-.94-.94-2.06-.94 2.06-2.06.94zm-11 1L8.5 8.5l.94-2.06 2.06-.94-2.06-.94L8.5 2.5l-.94 2.06-2.06.94zm10 10l.94 2.06.94-2.06 2.06-.94-2.06-.94-.94-2.06-.94 2.06-2.06.94z\"/><path d=\"M17.41 7.96l-1.37-1.37c-.4-.4-.92-.59-1.43-.59-.52 0-1.04.2-1.43.59L10.3 9.45l-7.72 7.72c-.78.78-.78 2.05 0 2.83L4 21.41c.39.39.9.59 1.41.59.51 0 1.02-.2 1.41-.59l7.78-7.78 2.81-2.81c.8-.78.8-2.07 0-2.86zM5.41 20L4 18.59l7.72-7.72 1.47 1.35L5.41 20z\"/>\n",
              "  </svg>\n",
              "      </button>\n",
              "      \n",
              "  <style>\n",
              "    .colab-df-container {\n",
              "      display:flex;\n",
              "      flex-wrap:wrap;\n",
              "      gap: 12px;\n",
              "    }\n",
              "\n",
              "    .colab-df-convert {\n",
              "      background-color: #E8F0FE;\n",
              "      border: none;\n",
              "      border-radius: 50%;\n",
              "      cursor: pointer;\n",
              "      display: none;\n",
              "      fill: #1967D2;\n",
              "      height: 32px;\n",
              "      padding: 0 0 0 0;\n",
              "      width: 32px;\n",
              "    }\n",
              "\n",
              "    .colab-df-convert:hover {\n",
              "      background-color: #E2EBFA;\n",
              "      box-shadow: 0px 1px 2px rgba(60, 64, 67, 0.3), 0px 1px 3px 1px rgba(60, 64, 67, 0.15);\n",
              "      fill: #174EA6;\n",
              "    }\n",
              "\n",
              "    [theme=dark] .colab-df-convert {\n",
              "      background-color: #3B4455;\n",
              "      fill: #D2E3FC;\n",
              "    }\n",
              "\n",
              "    [theme=dark] .colab-df-convert:hover {\n",
              "      background-color: #434B5C;\n",
              "      box-shadow: 0px 1px 3px 1px rgba(0, 0, 0, 0.15);\n",
              "      filter: drop-shadow(0px 1px 2px rgba(0, 0, 0, 0.3));\n",
              "      fill: #FFFFFF;\n",
              "    }\n",
              "  </style>\n",
              "\n",
              "      <script>\n",
              "        const buttonEl =\n",
              "          document.querySelector('#df-7893f3fb-3091-45db-8ae3-dd76eda0c859 button.colab-df-convert');\n",
              "        buttonEl.style.display =\n",
              "          google.colab.kernel.accessAllowed ? 'block' : 'none';\n",
              "\n",
              "        async function convertToInteractive(key) {\n",
              "          const element = document.querySelector('#df-7893f3fb-3091-45db-8ae3-dd76eda0c859');\n",
              "          const dataTable =\n",
              "            await google.colab.kernel.invokeFunction('convertToInteractive',\n",
              "                                                     [key], {});\n",
              "          if (!dataTable) return;\n",
              "\n",
              "          const docLinkHtml = 'Like what you see? Visit the ' +\n",
              "            '<a target=\"_blank\" href=https://colab.research.google.com/notebooks/data_table.ipynb>data table notebook</a>'\n",
              "            + ' to learn more about interactive tables.';\n",
              "          element.innerHTML = '';\n",
              "          dataTable['output_type'] = 'display_data';\n",
              "          await google.colab.output.renderOutput(dataTable, element);\n",
              "          const docLink = document.createElement('div');\n",
              "          docLink.innerHTML = docLinkHtml;\n",
              "          element.appendChild(docLink);\n",
              "        }\n",
              "      </script>\n",
              "    </div>\n",
              "  </div>\n",
              "  "
            ]
          },
          "metadata": {},
          "execution_count": 27
        }
      ]
    },
    {
      "cell_type": "markdown",
      "source": [
        "# Lemmatization"
      ],
      "metadata": {
        "id": "YS9OdRLAzxkc"
      }
    },
    {
      "cell_type": "code",
      "source": [
        "tweets_x['Tweet'] = [','.join(map(str, l)) for l in tweets_x['Tweet']]"
      ],
      "metadata": {
        "id": "n-6-31fX28VW"
      },
      "execution_count": null,
      "outputs": []
    },
    {
      "cell_type": "code",
      "source": [
        "nltk.download('wordnet')\n",
        "from nltk.stem import WordNetLemmatizer\n",
        "wordnet_lemmatize = WordNetLemmatizer()\n",
        "tweets_x['Tweet'].apply(wordnet_lemmatize.lemmatize)"
      ],
      "metadata": {
        "colab": {
          "base_uri": "https://localhost:8080/"
        },
        "id": "HBBSMoiYzOU6",
        "outputId": "04ddcb4a-f899-44a8-c8a0-1b11ea058e47"
      },
      "execution_count": null,
      "outputs": [
        {
          "output_type": "stream",
          "name": "stderr",
          "text": [
            "[nltk_data] Downloading package wordnet to /root/nltk_data...\n"
          ]
        },
        {
          "output_type": "execute_result",
          "data": {
            "text/plain": [
              "0        effect,anthocyanins,gut,health,markers,firmicu...\n",
              "1        good,news,recently,accept,position,software,de...\n",
              "2        start,keto,month,eat,lbs,pork,belly,dozen,egg,...\n",
              "3        healthy,mean,get,whole,lot,life,positive,menta...\n",
              "4        butterfly,welcome,feed,govt,announcement,milli...\n",
              "                               ...                        \n",
              "17634    pakistan,women,football,team,announce,first,ro...\n",
              "17635    big,ant,studios,nacon,cricket,official,game,as...\n",
              "17636    list,injure,players,ipl,increase,day,day,know,...\n",
              "17637    sport,sponsorship,cricket,especially,ipl,domin...\n",
              "17638    𝙉𝙀𝙒,𝙅𝙊𝘽,𝘼𝙇𝙀𝙍𝙏,aston,villa,fc,lead,sport,therap...\n",
              "Name: Tweet, Length: 17639, dtype: object"
            ]
          },
          "metadata": {},
          "execution_count": 29
        }
      ]
    },
    {
      "cell_type": "code",
      "source": [
        "# import nltk\n",
        "# nltk.download('punkt')\n",
        "# for i in tweets_x['Tweet']:\n",
        "#   words = [w for w in nltk.tokenize.word_tokenize(i)]\n",
        "#   words = [wordnet_lemmatize(w) for w in words if len(w)>2]"
      ],
      "metadata": {
        "id": "7xd0pDIk5boS"
      },
      "execution_count": null,
      "outputs": []
    },
    {
      "cell_type": "code",
      "source": [
        "tweets_x['Tweet'].shape[0]"
      ],
      "metadata": {
        "colab": {
          "base_uri": "https://localhost:8080/"
        },
        "id": "dnvtg6bXs39j",
        "outputId": "4e8ffded-31b0-4442-9ac0-3b1e0bd169fe"
      },
      "execution_count": null,
      "outputs": [
        {
          "output_type": "execute_result",
          "data": {
            "text/plain": [
              "17639"
            ]
          },
          "metadata": {},
          "execution_count": 31
        }
      ]
    },
    {
      "cell_type": "code",
      "source": [
        "x = []\n",
        "for i in range(tweets_x['Tweet'].shape[0]):\n",
        "  y = tweets_x['Tweet'][i].split(',')\n",
        "  x.append(y)\n",
        "\n",
        "print(x)"
      ],
      "metadata": {
        "colab": {
          "base_uri": "https://localhost:8080/"
        },
        "id": "DT2zSoDGsFZp",
        "outputId": "c3781782-a90e-4fb0-d0e5-2aed07013f31"
      },
      "execution_count": null,
      "outputs": [
        {
          "output_type": "stream",
          "name": "stderr",
          "text": [
            "IOPub data rate exceeded.\n",
            "The notebook server will temporarily stop sending output\n",
            "to the client in order to avoid crashing it.\n",
            "To change this limit, set the config variable\n",
            "`--NotebookApp.iopub_data_rate_limit`.\n",
            "\n",
            "Current values:\n",
            "NotebookApp.iopub_data_rate_limit=1000000.0 (bytes/sec)\n",
            "NotebookApp.rate_limit_window=3.0 (secs)\n",
            "\n"
          ]
        }
      ]
    },
    {
      "cell_type": "code",
      "source": [
        "corpus = x\n",
        "len(corpus)"
      ],
      "metadata": {
        "id": "gVnaJuAwvQxF",
        "outputId": "a80e7575-6ea1-49dd-d4fb-9f9b6fb75350",
        "colab": {
          "base_uri": "https://localhost:8080/"
        }
      },
      "execution_count": null,
      "outputs": [
        {
          "output_type": "execute_result",
          "data": {
            "text/plain": [
              "17639"
            ]
          },
          "metadata": {},
          "execution_count": 33
        }
      ]
    },
    {
      "cell_type": "code",
      "source": [
        "# nested list to one flat list\n",
        "def flat(lis):\n",
        "    flatList = []\n",
        "    # Iterate with outer list\n",
        "    for element in lis:\n",
        "        if type(element) is list:\n",
        "            # Check if type is list than iterate through the sublist\n",
        "            for item in element:\n",
        "                flatList.append(item)\n",
        "        else:\n",
        "            flatList.append(element)\n",
        "    return flatList"
      ],
      "metadata": {
        "id": "PVigK1mp-fZJ"
      },
      "execution_count": null,
      "outputs": []
    },
    {
      "cell_type": "code",
      "source": [
        "corpus = set(flat(x))\n",
        "len(corpus)"
      ],
      "metadata": {
        "colab": {
          "base_uri": "https://localhost:8080/"
        },
        "id": "1mhNnd-F_6Lf",
        "outputId": "58d86b4a-b061-4a81-aab7-b182c0ae40a5"
      },
      "execution_count": null,
      "outputs": [
        {
          "output_type": "execute_result",
          "data": {
            "text/plain": [
              "33106"
            ]
          },
          "metadata": {},
          "execution_count": 35
        }
      ]
    },
    {
      "cell_type": "code",
      "source": [
        "print(corpus)"
      ],
      "metadata": {
        "colab": {
          "base_uri": "https://localhost:8080/"
        },
        "id": "bJE_o9K1A_zC",
        "outputId": "4d0b1bbc-8b40-48e4-fd04-9b620aa6d3bf"
      },
      "execution_count": null,
      "outputs": [
        {
          "output_type": "stream",
          "name": "stdout",
          "text": [
            "{'jasonholder', 'fracture', 'belief', 'jansen', 'ladybug', 'tc', 'hasranga', 'devcommunity', 'jumper', 'apco', 'sozialismus', 'ussf', 'huddersfield', 'wwos', 'reave', 'baluchistan', 'myteam', 'haiti', 'indifoot', 'beyciler', 'bamboozle', 'akhtar', 'cliché', 'faf', 'theaters', 'massive', 'kryza', 'minsters', 'ben', 'implications', 'unrealised', 'teleoperation', 'gti', 'approach', 'ekanastadium', 'upscprelims', 'maltese', 'protestors', 'prosthetics', 'leisuretime', 'كورونا', 'jammuandkashmir', 'khelon', 'regina', 'solar', 'mate', 'mea', 'godseyeai', 'ruturaj', 'misus', 'healthcaretech', 'gogh', 'kapha', 'nursery', 'gockel', 'owalo', 'oxidant', 'jasmy', 'contemptible', 'ekambi', 'spacehabitat', 'dedolph', 'luciano', 'confederalism', 'kirby', 'techrevolution', 'vaujany', 'perhaps', 'diffusers', 'emmanuel', 'inflate', 'johnkennedy', 'whet', 'chill', 'patanjali', 'priceisright', 'proposition', 'fanduel', 'healthminister', 'obituary', 'spaceclean', 'sanuki', 'perseverance', 'blah', 'savoir', 'gettin', 'hijack', 'resignjacinda', 'kicker', 'nawalapitiya', 'neale', 'televisions', 'keeleyhawes', 'afvet', 'fmri', 'happychristmas', 'nftgame', 'ear', 'aquaponics', 'crystle', 'piirros', 'blackgamedv', 'disillusion', 'cha', 'trouper', 'shall', 'capable', 'icy', 'affiliate', 'anniversaries', 'onlinegambling', 'ni', 'traitors', 'cryptocommunity', 'useless', 'realize', 'goalless', 'weburnwerise', 'enzymes', 'nhs', 'experiencestore', 'airjordan', 'tamil', 'glasser', 'jsac', 'reverse', 'disbelief', 'creditor', 'opportunistic', 'ligament', 'negotiators', 'subramanian', 'numerical', 'foryou', 'jimmy', 'uscapitol', 'fshealth', 'youngdems', 'kidsthesedays', 'chithra', 'presence', 'universe', 'morning', 'oyster', 'goacongress', 'thismorning', 'messy', 'outdoors', 'nftnyc', 'niborder', 'bocatc', 'atomic', 'letsgetrogue', 'bhm', 'glasgowceltic', 'dcvrr', 'migraines', 'taster', 'applications', 'ccun', 'seekinghealth', 'liberia', 'newjersey', 'casselman', 'pathway', 'cpi', 'lifecoach', 'didacta', 'alright', 'slotgame', 'toward', 'salmonmoose', 'carry', 'duel', 'beef', 'bedrooms', 'showup', 'homm', 'rajah', 'stick', 'commentatary', 'vaccines', 'kai', 'dietsch', 'gracefully', 'britishasian', 'coronavirus', 'corroborate', 'enjoylife', 'rrr', 'fut', 'ukcrickettours', 'consign', 'utes', 'tj', 'purplereign', 'neru', 'fitleaders', 'blackhistory', 'rainfall', 'srt', 'sxp', 'betika', 'lookin', 'vikramaditya', 'friendly', 'printingservice', 'ecuador', 'agents', 'laz', 'muslims', 'goinglive', 'walgreens', 'brainwash', 'mysterious', 'adaptation', 'coiming', 'turingblog', 'elclasicoday', 'solidity', 'viewership', 'azurecosmosdb', 'syndrome', 'rtitbot', 'mcw', 'dronedeploy', 'jurors', 'contestalert', 'insurtech', 'mumble', 'serhiy', 'empowerments', 'quotesmith', 'todayinherald', 'dysphagia', 'ar', 'demoralize', 'chuckschumer', 'dylan', 'userexperience', 'cruel', 'hernia', 'obless', 'rottoarmy', 'gbamm', 'mayogaa', 'hashimotos', 'digitalmedia', 'thoughtleader', 'livenow', 'securityupgrade', 'aacr', 'kindly', 'accommodative', 'unimaginable', 'akhileshyadav', 'underneath', 'pediatricians', 'braggs', 'marcus', 'nov', 'sonyalpha', 'realjournalist', 'spasms', 'maxpreps', 'ombe', 'guangdong', 'institutions', 'usda', 'wtc', 'bioanth', 'dubw', 'bjpgovt', 'populist', 'footballfamily', 'ranunculus', 'int', 'supportyourbody', 'abhishekporel', 'normlnews', 'ahricosplay', 'toursandtravels', 'mushfiqurrahim', 'psych', 'brainstorm', 'newprofilepic', 'utleg', 'unpeacekeepers', 'steamer', 'sndr', 'absurd', 'commemorate', 'cooper', 'ethox', 'genpact', 'potshots', 'ku', 'wesley', 'generator', 'enrollees', 'keshav', 'park', 'iphoneapp', 'esg', 'manang', 'medbeds', 'dlss', 'dirty', 'foreground', 'spanish', 'autonomy', 'enthusiastic', 'mithun', 'ruben', 'flair', 'wide', 'willis', 'keevabeaver', 'emneth', 'ericstan', 'excellency', 'wokeness', 'play', 'eia', 'dhp', 'kesk', 'paradigm', 'sharpshooter', 'peertopeer', 'thechurch', 'production', 'cite', 'begrateful', 'johnson', 'southern', 'pivot', 'consolidation', 'whole', 'watchdogs', 'segregationist', 'funmi', 'neurologist', 'brinscall', 'satsang', 'png', 'lyle', 'webgpu', 'pakchina', 'billionaires', 'nootropicstack', 'thursdaymorning', 'rest', 'juniper', 'bung', 'bgg', 'northamerica', 'qeuh', 'calcitonin', 'pizza', 'eknathshinde', 'claude', 'afcsouth', 'noisy', 'coronaviruses', 'pitchfork', 'period', 'freemarket', 'selfish', 'sanity', 'neuter', 'gpas', 'nolonger', 'quiztime', 'gamium', 'bilbao', 'jazzcore', 'mgr', 'race', 'attenuate', 'nicolls', 'toshio', 'constitution', 'meter', 'vallabhbhai', 'lokmanya', 'guyfawkes', 'visitor', 'newyou', 'naughty', 'boenning', 'league', 'avax', 'civilservice', 'duh', 'morphological', 'drinkin', 'beneficial', 'distress', 'localfootball', 'wavelengths', 'speechless', 'hyperloop', 'stemeducation', 'ujjain', 'ternary', 'southasian', 'healthinsurance', 'openbci', 'ideologies', 'scrutiny', 'women', 'foe', 'tuatagovailoa', 'puppers', 'aiff', 'lasith', 'turp', 'tedious', 'inflation', 'rwandan', 'lui', 'mohammadabbas', 'dasunshanaka', 'woodenstump', 'techcareer', 'nova', 'newtech', 'eflcup', 'geneesmiddelen', 'mania', 'statefootball', 'cattleskull', 'yasuhiro', 'lawofattraction', 'irrational', 'sailors', 'piccio', 'overseas', 'gals', 'syllabus', 'jairam', 'scathing', 'arwards', 'distinguish', 'leeper', 'rg', 'carb', 'matic', 'prosperous', 'auckland', 'elclassico', 'unpaidcarers', 'cartograms', 'atop', 'setantasports', 'chalamet', 'nine', 'fda', 'cuesports', 'dodgydutton', 'safespace', 'mice', 'wickremesinghe', 'icreate', 'audiobook', 'palem', 'gamingzone', 'knobbie', 'bugbounty', 'fri', 'igulisting', 'modiji', 'utd', 'stevie', 'jansena', 'limitation', 'throats', 'nickleback', 'migrant', 'payyanad', 'sad', 'plaster', 'sanctuary', 'frustrate', 'ldl', 'paddypower', 'wallnau', 'dline', 'atlantafalcons', 'matrixai', 'mindinventory', 'rafaelnadal', 'tapp', 'clinic', 'collina', 'outsidefitness', 'whistle', 'hartford', 'natureart', 'bre', 'proposals', 'flax', 'democrat', 'masorti', 'manlet', 'mopol', 'boomer', 'chinavitality', 'opponent', 'disturbance', 'connections', 'contribution', 'digibyte', 'vet', 'fundamentally', 'malibu', 'junkfood', 'ptsdandbeyond', 'virologic', 'successive', 'crazy', 'uddhavthackarey', 'peacekeepers', 'unfair', 'bcn', 'fitnessaddict', 'barbarians', 'micropoetry', 'pandya', 'apt', 'iftikharahmed', 'malaria', 'aerial', 'railway', 'defunding', 'stewartby', 'question', 'lifelesson', 'orbitexch', 'goooooooals', 'multilateral', 'sun', 'cio', 'contamination', 'honolulu', 'jorge', 'shannon', 'naralokesh', 'endrickfelipe', 'lively', 'st', 'greenpeace', 'exploration', 'clarencethomas', 'acwua', 'onehealth', 'lukas', 'abdevilliers', 'snub', 'fishinglife', 'drawer', 'unpleasant', 'vocalforlocal', 'diode', 'apec', 'publicgood', 'modism', 'lehmann', 'kinta', 'renner', 'instructor', 'detainees', 'kylianmbappé', 'brits', 'randomize', 'dcab', 'suicides', 'inferiors', 'batieufaye', 'digest', 'dia', 'ontheward', 'shaq', 'syntheticturf', 'dante', 'stroll', 'decision', 'memesdaily', 'nomination', 'htn', 'ocs', 'spo', 'neurosurgeon', 'prudent', 'akula', 'sharifbashir', 'hypocritical', 'remain', 'ancelotti', 'ajax', 'periprosthetic', 'ratnapathakshah', 'keir', 'palazzo', 'bp', 'besafe', 'dioxins', 'super', 'presidentbiden', 'lipid', 'besides', 'coca', 'heallthcare', 'ahaic', 'aos', 'iflindoor', 'followayurved', 'dfb', 'ill', 'hobart', 'macintosh', 'psychiatric', 'africateengeeks', 'yo', 'umagine', 'egdc', 'mohsina', 'tot', 'weapon', 'backers', 'desantis', 'hundred', 'sugar', 'solution', 'gooseberry', 'maharastra', 'rival', 'haytham', 'newsfeed', 'leverage', 'mvt', 'everthing', 'oukili', 'mh', 'sportstech', 'clickchemistry', 'lsgvssrh', 'psychedelics', 'blockhain', 'drip', 'ads', 'biswabangla', 'lie', 'bommai', 'oled', 'statmandave', 'ochoa', 'empirestate', 'ksl', 'shortage', 'lucienne', 'boilers', 'inhabit', 'degrave', 'literary', 'rupee', 'pol', 'organiser', 'multivitamins', 'brewverie', 'clearly', 'paracelsus', 'ginnithomas', 'karenbass', 'independents', 'ransomware', 'ane', 'happy', 'night', 'governorgeneral', 'controversies', 'alertness', 'ivd', 'ziwa', 'documentation', 'pam', 'timer', 'sky', 'idp', 'tk', 'bromigos', 'tuesdayfeeling', 'toriesoutnow', 'funnyvideos', 'fedbank', 'homescreen', 'omshanti', 'mechanism', 'gade', 'females', 'jamaica', 'descriptions', 'crackdown', 'tumor', 'پرڈٹ', 'homegrown', 'clínica', 'transit', 'five', 'sendha', 'btcc', 'scommess', 'calculator', 'aha', 'comedyroast', 'analytics', 'territory', 'chiefminister', 'felines', 'incarceration', 'titansnation', 'halloffame', 'headcoach', 'mogg', 'traumatize', 'neetpg', 'sheela', 'buttler', 'duarte', 'tributes', 'gnpcoin', 'wireless', 'sardines', 'telco', 'bib', 'bloat', 'scientist', 'triennial', 'shaastra', 'sportsbetting', 'anagram', 'numpy', 'depot', 'worldchanger', 'spacetravel', 'tek', 'digitaltwin', 'chowk', 'treatyourmental', 'hegel', 'jumlas', 'ldcs', 'pta', 'superbly', 'warangal', 'lowest', 'pembrokeshire', 'bursa', 'gafin', 'vans', 'moses', 'mooreslaw', 'artsandcrafts', 'unlucky', 'undo', 'friendship', 'rehabilitation', 'offspring', 'knifecrime', 'emp', 'ux', 'subversive', 'bow', 'desert', 'sobanattari', 'unexplained', 'aamaadmiparty', 'mmj', 'landback', 'koreans', 'blxm', 'ndc', 'httc', 'cults', 'incentives', 'fahrenheit', 'franceatlanta', 'sambhar', 'sanskrit', 'charaka', 'club', 'thursdays', 'troubleshoot', 'shameonbjp', 'principals', 'najadi', 'psvexc', 'ip', 'organisms', 'terrorists', 'stat', 'jagmeet', 'prayut', 'jesters', 'relevancy', 'chipdesign', 'ukpress', 'pasoori', 'fav', 'storytellers', 'parlements', 'giggle', 'autorickshaw', 'severely', 'inrecruitment', 'cosmos', 'reelmindlove', 'mytip', 'medhayoga', 'smoker', 'mu', 'rugbyunion', 'university', 'adsk', 'bankers', 'prostitute', 'strenuous', 'omega', 'escort', 'livewebinar', 'mizzica', 'english', 'vitalikbuterin', 'midstream', 'centralvista', 'epidemic', 'sunny', 'minneapolis', 'arithmetic', 'etal', 'edcfree', 'kindleunlimited', 'leet', 'columbia', 'yell', 'rice', 'blunt', 'jacinda', 'tvpresenter', 'cec', 'terrymcdonough', 'legged', 'hollingsworth', 'lai', 'kipkorir', 'silent', 'description', 'maguire', 'acceptance', 'crt', 'take', 'bipashabasu', 'essentials', 'carsonpalmer', 'amplify', 'ravindrajadeja', 'jalsa', 'jugglers', 'fertilise', 'austin', 'cyberthreat', 'thehivesummit', 'seasonal', 'mhe', 'tirelessly', 'selflessly', 'organictea', 'selflove', 'frida', 'officials', 'door', 'brazilelections', 'liberals', 'superconducting', 'hack', 'scramble', 'sanitation', 'maroof', 'resolve', 'tomhanks', 'freeshipping', 'jdt', 'cfbplayoff', 'facebooklive', 'النساء', 'month', 'turnbull', 'penalties', 'sgt', 'elaborate', 'cupid', 'gamemode', 'fantastical', 'digitisation', 'examine', 'securitybreach', 'keralasports', 'mel', 'invade', 'inclusion', 'elderberries', 'oneamericanews', 'pissarides', 'healthiswealth', 'seriousness', 'pharr', 'coo', 'bile', 'others', 'sell', 'eot', 'altcoin', 'hoist', 'isnyoung', 'realignment', 'thepathless', 'eight', 'rmcf', 'bonhomie', 'sudhirnaik', 'tominey', 'yorkshire', 'masker', 'getoutside', 'rendezverse', 'agni', 'americandream', 'buildingonsnet', 'species', 'gestapo', 'rumour', 'british', 'toothache', 'tdee', 'mobileapp', 'mohenjodaro', 'latinx', 'josbuttler', 'audiobooks', 'tapeballcricket', 'happybirthday', 'primeos', 'janith', 'gupta', 'heritagestudy', 'perk', 'unbeaten', 'mems', 'piłkanożna', 'canopy', 'layouts', 'idtwitter', 'teacher', 'hur', 'hazardous', 'flexible', 'wring', 'tra', 'earholes', 'laughable', 'gitcoinalpha', 'activists', 'hsp', 'adstack', 'bezborodko', 'versatility', 'castlebar', 'daaz', 'douglasemhoff', 'cower', 'dumpsites', 'wildness', 'uncertainties', 'selfdefense', 'esteem', 'gameconnect', 'asst', 'scar', 'longlisted', 'buybritish', 'axxa', 'dmkfailstn', 'manipulation', 'munipo', 'felipe', 'vulnerable', 'awardees', 'logodesign', 'gta', 'tencent', 'brim', 'tv', 'bender', 'qpr', 'eyetwitching', 'colombo', 'assassinations', 'nerfs', 'warn', 'aiapplications', 'darkjazz', 'onlinebusiness', 'lambeaufield', 'harassment', 'amygdala', 'sweep', 'junk', 'lehi', 'techvision', 'gaelicfootball', 'fragrance', 'regions', 'able', 'movie', 'fear', 'hiit', 'jeeshan', 'strasbourg', 'premint', 'bird', 'tourist', 'gunny', 'curtorim', 'overpower', 'vandalization', 'trailblazers', 'audacity', 'purplecap', 'heatwaves', 'الكلاسيكو', 'distraction', 'comh', 'samsung', 'smartwath', 'unwell', 'wateraction', 'vietnam', 'hara', 'videostrategy', 'despite', 'magellan', 'nonalcoholic', 'sportscommunity', 'hippocrates', 'unveil', 'allison', 'collegerecruit', 'lynx', 'blackcaps', 'staceyabrams', 'aider', 'heatpumps', 'trial', 'rosehips', 'dolphins', 'missour', 'safebanking', 'tail', 'foxsports', 'upsurge', 'idealabs', 'fulwhu', 'fertilizer', 'icanchange', 'curtain', 'wedamobb', 'generational', 'mindwars', 'residency', 'marenostrum', 'paint', 'health', 'thewing', 'randomthoughts', 'increasingly', 'polarbears', 'mannur', 'newblackstar', 'crictracker', 'apathetic', 'contemporaryart', 'neurons', 'scrooge', 'illegaldrugs', 'byrne', 'nfllegend', 'dost', 'juda', 'pareidolia', 'multipolarity', '𝒃𝒂𝒄𝒌', 'narcissism', 'mikelarteta', 'reconnect', 'maniac', 'bowlingball', 'homeless', 'custodian', 'payouts', 'hights', 'moreover', 'onlineabuse', 'kiwis', 'sportssy', 'mistreatment', 'injur', 'near', 'megafile', 'pique', 'liberal', 'gap', 'resinart', 'certifications', 'bumpy', 'mentalillness', 'mariana', 'youthservices', 'bjpvscongress', 'saudiarabia', 'lotr', 'classify', 'subpoena', 'zanzibari', 'digitalworld', 'yall', 'unavailability', 'dgbdomains', 'specific', 'gonefishing', 'mechanisms', 'organism', 'retd', 'vacancy', 'generations', 'thalat', 'england', 'althea', 'knowledgeup', 'myrtle', 'straight', 'frenchmastiff', 'hq', 'watchuswork', 'prohibition', 'jacqueline', 'yvonne', 'potently', 'archieve', 'departure', 'hightech', 'amplifiers', 'thinsurrection', 'generationx', 'grv', 'hendra', 'combine', 'nobel', 'advance', 'stockroom', 'streamer', 'documentary', 'tisdwegotthis', 'abrahamic', 'inflame', 'thegambia', 'livestream', 'carabao', 'nudge', 'nashri', 'congrats', 'endccstigma', 'tradition', 'dale', 'agrifac', 'municipal', 'castiglioni', 'advancement', 'pediatric', 'patidar', 'icn', 'hex', 'weakness', 'anneruston', 'holographic', 'nervousness', 'gooooooooals', 'quadruped', 'domainbroker', 'footballbetting', 'recoveries', 'lifelines', 'simultaneous', 'orcas', 'tahera', 'rasheed', 'gustation', 'meal', 'savva', 'commonsense', 'capsicum', 'glorious', 'gaurikhan', 'jueves', 'folks', 'adaptations', 'tether', 'snatch', 'columbus', 'revolutionise', 'christian', 'simmons', 'realms', 'along', 'blackexcellence', 'eggnog', 'wakanda', 'mya', 'captionthis', 'resus', 'tjward', 'nanobot', 'fruit', 'prowess', 'balgaddy', 'nachenge', 'keepers', 'islamists', 'peritoneum', 'bioengineering', 'gofree', 'borussia', 'migration', 'trey', 'sirikit', 'invertebrate', 'zksync', 'bidder', 'za', 'carolalt', 'cpl', 'btts', 'fawn', 'workoutmode', 'motivational', 'radioactive', 'insidesports', 'seamer', 'abakwaboys', 'driverless', 'flame', 'omicron', 'sebastian', 'underutilized', 'method', 'brandenburg', 'male', 'italianfood', 'rehana', 'tripathi', 'vacant', 'fulham', 'newsletters', 'runoff', 'allrounder', 'abortionrights', 'bobcatai', 'imbibe', 'honour', '𝗠𝗩𝗣', 'robust', 'manston', 'itsecurity', 'attain', 'jude', 'metoopolitics', 'womenseuros', 'sophy', 'lgbtqia', 'internships', 'dreamworks', 'derivatives', 'po', 'chatfi', 'mindwarsquiz', 'peer', 'secondly', 'hierarchical', 'rivershite', 'vhs', 'implementation', 'contoro', 'nastasi', 'rmps', 'illustration', 'apologies', 'eject', 'romans', 'srongpol', 'lfg', 'reece', 'firstminister', 'velvet', 'awscloud', 'alli', 'dougemhoff', 'indiandoctor', 'untrustworthy', 'pawar', 'dignity', 'nadav', 'winnie', 'additives', 'vetaran', 'adhdtwitter', 'villians', 'announcements', 'perez', 'hendon', 'geoeconomic', 'lagna', 'pdpinyobe', 'hmt', 'already', 'modon', 'wilberforce', 'dubai', 'downsides', 'wildflowerhour', 'overreach', 'mtbcalendar', 'sister', 'mehsana', 'cytometry', 'xencrypto', 'ideologue', 'bureau', 'dare', 'genderinag', 'analyse', 'acres', 'cityofchester', 'laravel', 'plainspeak', 'csg', 'dwaine', 'healthygut', 'nflfantasy', 'realist', 'faucongrats', 'jennifer', 'tess', 'seo', 'charge', 'originate', 'politicians', 'parrikar', 'womb', 'aggregators', 'age', 'vertigo', 'biswa', 'individual', 'politicsnews', 'coworkingspace', 'twg', 'thetroubles', 'affinity', 'angelina', 'nyse', 'groceries', 'dekalb', 'fhp', 'mikhail', 'monkeypox', 'pentesting', 'usnews', 'osinbajo', 'mediabias', 'nirvoya', 'rap', 'effortlessly', 'boundless', 'typically', 'honeymoon', 'cerro', 'levine', 'rto', 'chairman', 'bonnie', 'feeble', 'chimpstudio', 'establishments', 'nlproc', 'relinquish', 'hank', 'kjp', 'liverdisease', 'cornbread', 'rndr', 'sunderland', 'joho', 'singola', 'bhatt', 'videogame', 'imo', 'newmoon', 'iranrevolution', 'nanisca', 'irresponsible', 'pakistani', 'rcbrcb', 'executive', 'fifteen', 'brandedlinks', 'endrick', 'okay', 'eventprofs', 'terengganu', 'ngeni', 'institute', 'tenth', 'nagelsmann', 'newsbreak', 'move', 'rican', 'xai', 'ask', 'leadingsdg', 'digitalid', 'sacrosanct', 'candidature', 'criticalhope', 'sportstiger', 'soccerlife', 'mmatwitter', '𝗣𝗼𝘀𝗶𝘁𝗶𝗼𝗻', 'indefatigable', 'bioinformatics', 'needle', 'heritagematters', 'pbbm', 'polycam', 'alkmaar', 'landian', 'outdoorworkout', 'skåre', 'aditi', 'ce', 'trainer', 'eujobs', 'casper', 'barcelona', 'pallet', 'safeguard', 'potential', 'aadmi', 'footballmemes', 'auditory', 'mvp', 'नफरत', 'auction', 'kobe', 'firstsportz', 'superbikes', 'wokmasgoyet', 'rajivdparikhesq', 'pcb', 'codinglife', 'delegation', 'dishonesty', 'psi', 'deflationary', 'blancos', 'ogs', 'fau', 'ram', 'gunners', 'saudcricket', 'sincity', 'scroll', 'scole', 'yogamudra', 'shale', 'nadine', 'lag', 'treasury', 'maga', 'messiout', 'librarian', 'ceos', 'stream', 'covidvaccine', 'shorter', '𝗦𝗼𝗳𝘁𝘄𝗮𝗿𝗲', 'pyramid', 'annihilate', 'rejuvenate', 'medically', 'griner', 'dannyamendola', 'neoliberal', 'charleston', 'yt', 'footballpassion', 'rivet', 'pnw', 'apparel', 'healthandsafety', 'selfdrivingcars', 'cto', 'psychosocial', 'jetpack', 'milan', 'physi', 'layover', 'malnutrition', 'eddycurrent', 'yep', 'meddle', 'bcubeians', 'spokenword', 'circuit', 'healthylif', 'beginners', 'cardanonft', 'catalyse', 'unbox', 'shoehorn', 'efficiencies', 'complain', 'lismore', 'wicketkeeper', 'fate', 'amos', 'digitaltw', 'syhunt', 'migraine', 'sweetness', 'lwkb', 'nehru', 'effect', 'satoshiai', 'liveblog', 'obj', 'jamaat', 'producer', 'histrionics', 'protector', 'nextgen', 'vibes', 'haapajärvi', 'bananas', 'guillory', 'heaven', 'subsidiaries', 'assisteddying', 'pdaag', 'tedx', 'rabbul', 'demonise', 'expectations', 'wow', 'agrigoi', 'gresham', 'rosehip', 'karizona', 'pdp', 'fetal', 'businesstravel', 'lockhimup', 'biotechnology', 'xite', 'prestige', 'nursinghome', 'stimulus', 'repetitive', 'ominous', 'sportspick', 'bbcnewscast', 'lackadaisical', 'kcdchennai', 'openaichatgpt', 'cape', 'sorry', 'nih', 'emotionalhealth', 'prioritise', 'strava', 'batson', 'themeforest', 'moseley', 'kota', 'ウィスキー', 'waldo', 'sbi', 'carol', 'nra', 'precession', 'chaisesport', 'nopills', 'floppydisk', 'psychoanalysis', 'distortions', 'shoutmgb', 'inclusivity', 'nodexl', 'johor', 'stigma', 'westafrica', 'zelensky', 'funky', 'mercola', 'hammond', 'geschichte', 'wbe', 'seau', 'benga', 'ives', 'newspapercup', 'kannadanews', 'years', 'richard', 'praise', 'timseirfert', 'springpractice', 'department', 'rollover', 'desktop', 'lunghealth', 'collins', 'thedemocrats', 'medications', 'ardella', 'mastercard', 'hac', 'womenarewome', 'researcher', 'rajashtan', 'cbdcop', 'caoa', 'biodegradable', 'assuranceheavy', 'trentino', 'jha', 'megachat', 'fuggwit', 'microbiology', 'haulers', 'dodge', 'reel', 'hertfordshire', 'distrust', 'sportmedicine', 'levate', 'imrankhan', 'aimar', 'dorking', 'blackagenda', 'righttoresearch', 'repetitions', 'backbenchers', 'woah', 'belrice', 'waitrose', 'silver', 'survive', 'kitaro', 'forecaster', 'stackgrow', 'dali', 'ash', 'calcutta', 'kamble', 'silica', 'cordella', 'gobucs', 'officiate', 'jazz', 'luisenrique', 'matthew', 'harmonise', 'ndindi', 'funnel', 'extremely', 'standout', 'sims', 'shameless', 'trailer', 'andrewneff', 'baggies', 'parcel', 'unfit', 'btwn', 'video', 'onlineafrica', 'benzophenone', 'irad', 'kampala', 'tabata', 'eyaparty', 'aura', 'superior', 'goodluck', 'combination', 'pa', 'loftus', 'deeva', 'frizz', 'votesydneybc', 'breaker', 'poonawalla', 'xx', 'lalit', 'bitbr', 'fibre', 'beginnig', 'madtwitter', 'urbanplanning', 'generationof', 'cautiously', 'rajasthansummit', 'emergencybudget', 'mahsaamini', 'techupdate', 'lauren', 'innovative', 'floppy', 'housingfirst', 'wannstedt', 'sharpest', 'glados', 'wiysonge', 'ofcom', 'theanine', 'deluge', 'jos', 'childsplay', 'bullish', 'spitz', 'barb', 'products', 'progun', 'kempegowda', 'mazda', 'primitives', 'meadowmemories', 'maalaus', 'phd', 'likely', 'soulmaster', 'runrunning', 'flyingtaxi', 'fellows', 'herbs', 'iylp', 'eiirinteresting', 'ebay', 'pastor', 'bhasker', 'ramamposa', 'amari', 'cricketindia', '𝗮𝗹𝗹', 'iplonjiocinema', 'krishi', 'alvi', 'spectacles', 'wladimiro', 'goodlife', 'riseandthrive', 'bomb', 'sterling', 'areasabha', 'brasilia', 'elicit', 'joshhawley', 'evcharging', 'clarkson', 'vandalize', 'ruturajgiakwad', 'corbyn', 'investigator', 'lse', 'sadak', 'dcm', 'siteprint', 'wizard', 'scam', 'nth', 'delpech', 'elf', 'peter', 'filter', 'parliaments', 'roxannemeadows', 'seva', 'harghartiranga', 'excellondon', 'plasticstreaty', 'vieira', 'gaelic', 'camfest', 'lrdgs', 'preceeding', 'scienceresearch', 'graficreation', 'iplonstar', 'pp', 'somebody', 'beyourownhero', 'düzce', 'pharmacy', 'intrinsically', 'tombrady', 'villarreal', 'araw', 'makine', 'neuroticism', 'beneficiaries', 'ndtvexclusive', 'lionceo', 'wale', 'indoorbatting', 'sportsbar', 'kabc', 'paramedics', 'pwud', 'eagle', 'ivf', 'information', 'cemetery', 'dravida', 'despair', 'verticalfarming', 'banvsire', 'happily', 'modimustresign', 'pushup', 'horizons', 'millennial', 'reformers', 'contemptuous', 'avoid', 'kenneth', 'bula', 'ccbp', 'vol', 'thismorninggp', 'cannabis', 'gym', 'dfsprimelineups', 'site', 'videography', 'decimate', 'thereby', 'pitfalls', 'ሀሳብ', 'losangeles', 'humanoid', 'substrate', 'broadway', 'ventura', 'neonites', 'dice', 'basant', 'fundrill', 'oneplatform', 'dehumanise', 'carter', 'closeagape', 'idol', 'unbreakable', 'annals', 'switchsports', 'finall', 'navy', 'nftgiveaways', 'nd', 'eastside', 'ophthalmology', 'attribute', 'stanleycupfinal', 'embracingequity', 'nbafinals', 'communicator', 'huff', 'wcc', 'compositions', 'dallastx', 'elgie', 'welcomebonus', 'pleasant', 'experience', 'introductory', 'louisiana', 'patriarchal', 'fllwng', 'caller', 'indvsaus', 'conviction', 'baidoa', 'peaceoneday', 'voters', 'andrewjohnson', 'challengers', '𝗙𝗢𝗢𝗧𝗕𝗔𝗟𝗟', 'yava', 'endorsement', 'struss', 'foundational', 'processor', 'academicjobs', 'casual', 'bhaijaan', 'almeida', 'coco', 'prouldly', 'morris', 'ieee', 'short', 'loomis', 'note', 'mycarebuddy', 'fernandes', 'magnificent', 'paralympic', 'mnths', 'cricketdirect', 'speak', 'regenerative', 'blmokc', 'digitalisation', 'respectful', 'jersey', 'dribble', 'blossom', 'fornature', 'witu', 'msft', 'googlyeyes', 'gratitude', 'mira', 'impeach', 'applewatch', 'lapid', 'autismawarness', 'mods', 'cryptocafe', 'skit', 'socialjustice', 'etf', 'lore', 'afghans', 'stockmarketnews', 'venkatesh', 'fremont', 'sarovar', 'gelpolsee', 'bsuofficial', 'cricketlover', 'mutter', 'roberto', '国葬反対', 'uofa', 'prediabetes', 'pochettino', 'djokovic', 'thorns', 'memecam', 'googlebrain', 'cnr', 'hepple', 'mahanama', 'esadeemba', 'hopper', 'occurrence', 'usless', 'relapse', 'african', 'lates', 'beworthy', 'lymphatic', 'hancock', 'judgments', 'terriss', 'pettherapy', 'strategically', 'gomavs', 'attendees', 'malampati', 'ic', 'term', 'lasvegasnews', 'pave', 'sportsclub', 'baltic', 'isqed', 'chitral', 'indescribable', 'stepson', 'commentary', 'nawazsharif', 'dkg', 'sioux', 'leedsunited', 'specifically', 'sou', 'sportpsychology', 'rupeefall', 'rasamanickam', 'felicidades', 'masterful', 'exposure', 'efc', 'criticalcare', 'trikoncf', 'goodwill', 'moin', 'validation', 'teklesundberg', 'contradictions', 'uneasy', 'waye', 'aboanor', 'development', 'odds', 'charith', 'wearables', 'environnement', 'epidemiological', 'hcc', 'awesomeness', 'stamouli', 'unityxr', 'bone', 'gigabits', 'intubation', 'journeycheers', 'guard', 'sffrockstars', 'northfleet', 'becase', 'attendee', 'metallica', 'smallwins', 'craziest', 'manoeuvre', 'magacult', 'consent', 'rajawat', 'louise', 'pulsr', 'walkingfootball', 'loveyou', 'bollywood', 'badenoch', 'wearabletech', 'bless', 'symptomspeak', 'deepsea', 'mun', 'marmot', 'playable', 'citizens', 'ntytr', 'planetaryhealth', 'downloadnow', 'basicdudestuff', 'prayer', 'madmen', 'perera', 'valentineprlm', 'frustration', 'evolve', 'trick', 'frances', 'healthyaging', 'mosammaparast', 'jalen', 'onlinelearning', 'geographer', 'bme', 'vtuber', 'augusta', 'shastri', 'spaday', 'aztlan', 'softball', 'vyshak', 'garner', 'ward', 'coach', 'wriddhiman', 'legalizeit', 'wtpblue', 'listen', 'muni', 'reram', 'hinterland', 'citadel', 'pfister', 'harrison', 'tailgategames', 'conman', 'socialmobility', 'goforhoh', 'happyday', 'meatheals', 'iwi', 'perjury', 'risetothetop', 'donation', 'reawakenamerica', 'kamran', 'perioperative', 'mitrović', 'cohosted', 'appropriate', 'cluster', 'nitingadkari', 'epidemiology', 'deflate', 'rife', 'toyota', 'bioviva', 'execute', 'moreshwar', 'digispeed', 'lds', 'tossupdate', 'ictp', 'kgb', 'kvksystem', 'infosec', 'billcosby', 'transcriptome', 'lose', 'spsb', 'dappradar', 'incriminate', 'contemporary', 'udatkat', 'uaptwitter', 'unmaps', 'weekender', 'gaze', 'knft', 'therapist', 'snoopy', 'monica', 'lancaster', 'instruct', 'remember', 'rayner', 'dumbbell', 'globalcommunity', 'snesports', 'paulinehanson', 'performance', 'kbfc', 'insects', 'testbed', 'hydrolysate', 'dentists', 'comfort', 'unrestrained', 'triangles', 'ethnicity', 'fanshawe', 'lecco', 'stunningly', 'swimmers', 'historic', 'bigtech', 'pvf', 'rejoice', 'sociedad', 'mentallyawareng', 'willowbat', 'digitalngo', 'latam', 'stone', 'blueskies', 'teas', 'viognier', 'lips', 'startupbihar', 'soundscape', 'psychotherapist', 'ipr', 'saintdrmsg', 'orangecounty', 'plandemic', 'convention', 'genocide', 'juggle', 'lindasteele', 'taiwanforher', 'venturo', 'kavach', 'fobi', 'nader', 'publicsafety', 'jv', 'wahl', 'sarcopenia', 'vz', 'मह', 'undisputed', 'conceptart', 'mist', 'jelly', 'teamworktag', 'pacific', 'intimate', 'techcompany', 'luckiest', 'jog', 'pregrading', 'hoot', 'oak', 'substitute', 'redmaga', 'sportscontent', 'everyones', 'rohingya', 'korbo', 'france', 'gonads', 'fanclub', 'three', 'reduce', 'greentransition', 'playerammo', 'crown', 'ntchallenge', 'indirect', 'truss', 'bringthefunk', 'jadonsancho', 'cornejo', 'sneak', 'robin', 'indicate', 'man', 'shubamangill', 'onlineshopping', 'bolt', 'sunflowers', 'brainwaves', 'formulation', 'luther', 'sas', 'nia', 'regulate', 'nyth', 'petraeus', 'maxwell', 'shop', 'hepa', 'broadcasters', 'enricomolinari', 'colab', 'ssd', 'hsuite', 'brooke', 'shout', 'ia', 'ethically', 'nubia', 'specialty', 'claimants', 'punters', 'dayot', 'lafazan', 'third', 'dillon', 'influencer', 'cerebralpalsy', 'progressivsm', 'quantity', 'sme', 'bye', 'nocturnal', 'omena', 'الهلال', 'gbetsrocks', 'footballupdates', 'ooze', 'citi', 'actresses', 'epis', 'patriotic', 'birminghamcity', 'twit', 'shannonsharpe', 'manifest', 'mirrorsports', 'hellwig', 'ayurvedic', 'einstein', 'bigbreaking', 'emegha', 'isp', 'currently', 'hahahaha', 'warmup', 'alynsmith', 'micromation', 'newteam', 'phillemon', 'winitwednesday', 'suhail', 'moisture', 'utrustxmoney', 'ntlf', 'measurable', 'houtx', 'peggys', 'cbdoil', 'cronos', 'jiachang', 'symbolise', 'crucial', 'klara', 'tarheels', 'tsunami', 'carson', 'chidambaram', 'richly', 'organisations', 'existential', 'persona', 'tigraygenocide', 'leagy', 'barriers', 'spoil', 'consocsci', 'hafizul', 'interestingly', 'pickaxe', 'sourcetosea', 'betphoenix', 'tipstofollow', 'gunviolence', 'coton', 'praiseworthy', 'vend', 'disqualify', 'hefei', 'gtrailblazers', 'emblem', 'newsom', 'confrontation', 'petition', 'nflfootball', 'wisdomoftheday', 'bizenjo', 'gans', 'embody', 'discredit', 'gabbarspace', 'repurposing', 'letsdomore', 'drrwg', 'georgiy', 'pbksvrr', 'attachment', 'blair', 'miroki', 'sportstar', 'samhsa', 'suntherapy', 'greer', '漢字', 'energyx', 'farce', 'devil', 'වරණය', 'genuine', 'realization', 'inthethickofit', 'spainwomen', 'healthynation', 'semitism', 'healey', 'kherson', 'alkalineliving', 'कर', 'heatwave', 'mast', 'overrule', 'anxieties', 'legislative', 'aussierules', 'womeninscience', 'montero', 'dispensary', 'histamines', 'datastrategy', 'pandemic', 'آئین', 'active', 'dave', 'pmolnar', 'rcbvmi', 'predictive', 'artwork', 'nhsstrikes', 'policymakers', 'gloss', 'sha', 'teamsyntax', 'affordability', 'volumes', 'medialiteracy', 'alhilal', 'pressure', 'gbp', 'auscultate', 'programme', 'magameltdown', 'villa', 'managers', 'bivalent', 'soccerandchill', 'ottcity', 'schemers', 'qualifications', 'vanniyar', 'corp', 'bimbipop', 'anantapur', 'camila', 'mens', 'pnac', 'opec', '𝗙𝘂𝗮𝗱', 'compartments', 'imperial', 'acolytes', 'gpcc', 'gallic', 'downtime', 'mathura', 'nitinmenon', 'gocanes', '那須川天心', 'dockertv', 'machineleaning', 'freelancers', 'fjaka', 'chessboard', 'ticket', 'syslabs', 'leadinnovation', 'relation', 'soyabeans', 'song', 'stardomain', 'alluri', 'greatgreenwall', 'bolsonaristas', 'latelateshow', 'multidrug', 'ecce', 'munichmassacre', 'teraops', 'youthtalks', 'hashgraph', 'honesty', 'murdr', 'split', 'precipice', 'presidency', 'arrival', 'dictators', 'pratap', 'deeplearning', 'denver', 'fan', 'resilience', 'kolos', 'businessday', 'responders', 'armoury', 'sulfur', 'northampton', 'aggrandize', 'generationz', 'shaffer', 'bandi', 'farewell', 'constituent', 'ice', 'aggressively', 'dawgs', 'exams', 'tackers', 'candidate', 'convertible', 'endotwitter', 'myalgic', 'adamlambert', 'cadres', 'pepper', 'dharna', 'starzplay', 'fructose', 'tribal', 'gernge', 'haldi', 'prince', 'renew', 'initial', 'dfi', 'civicskills', 'pentagon', 'parksharks', 'libertarians', 'nikeairmax', 'bayernmunichfc', 'west', 'mrbaron', 'behappy', 'admkfails', 'desai', 'unashamed', 'legislate', 'msphd', 'shadab', 'yuhua', 'stoptheshots', 'scienced', 'hny', 'preoccupation', 'theworldgame', 'tb', 'sarscov', 'specially', 'passwords', 'animeart', 'deconstruct', 'tattooink', 'reduvo', 'nevadanews', '𝐄𝐚𝐬𝐭', 'conclusion', 'unseen', 'keenly', 'rpg', 'trunk', 'surgeons', 'neerajchopra', 'delhimetrogirl', 'جسٹس', 'pittsboronc', 'rahul', 'excellence', 'craiyon', 'winfromwithin', 'jokers', 'jurisdiction', 'publichealth', 'techconsulting', 'transwomen', 'mediastudies', 'garros', 'altrader', 'tempt', 'journos', 'gamespad', 'smile', 'filipinoart', 'posthumanism', 'evtol', 'expedite', 'ug', 'volleyball', 'dial', 'politics', 'regulators', 'topui', 'himachal', 'zc', 'diabetic', 'retour', 'walletpass', 'barbie', 'citrus', 'wsds', 'fcm', 'wcl', 'routinely', 'oh', 'lip', 'mns', 'profession', 'outstrip', 'sliders', 'stamford', 'smartprisons', 'imbalance', 'tartisha', 'edih', 'turkish', 'june', 'chesterfc', 'tumour', 'getclimateready', 'dda', 'ahpra', 'linda', 'cable', 'vaccinate', 'bhuottos', 'healthit', 'ppi', 'smbb', 'historicstate', 'mcfarland', 'indi', 'brothers', 'grandrounds', 'mondli', 'rudd', 'diels', 'nakedly', 'vikes', 'booksigning', 'cigarette', 'ambatirayudu', 'pic', 'doug', 'lacayo', 'dragonfruit', 'ne', 'bimal', 'particles', 'magistrate', 'crusty', 'delahunty', 'durban', 'dc', 'royal', 'nutshell', 'yourright', 'relic', 'shelve', 'icelandic', 'numb', 'arrancamos', 'kb', 'accurately', 'bootle', 'icsol', 'bray', 'bewareofdoggz', 'surya', 'jury', 'utensils', 'skate', 'daos', 'footballer', '護身術', 'lethal', 'aperture', 'acutely', 'howto', 'string', 'hill', 'ciasxsw', 'wheat', 'insha', 'lallantop', 'silico', 'akhs', 'fidel', 'रत', 'adultscardioed', 'decolonization', 'batu', 'junctions', 'renewables', 'frank', 'host', 'ocpd', 'messi', 'supriyabhardwaj', 'chamchagiri', 'jesko', 'kirkcousins', 'deepfakes', 'policereform', 'pharmacists', 'vitaesports', 'hydration', 'loudly', '𝗚𝗼𝗶𝗻𝗴', 'baus', 'partisan', 'meghanmarkle', 'lester', 'territories', 'adulthood', 'bcis', 'vicksburg', 'exhaust', 'scoccer', 'cammack', 'robotech', 'separatist', 'cry', 'shamelessness', 'hula', 'stanely', 'amoral', 'harold', 'ncp', 'lebedev', 'spondylolysis', 'hoverboard', 'dogsofinstagram', 'cpfc', 'karanataka', 'celebrities', 'veteransday', 'rcnnrn', 'chipko', 'epluribusunum', 'periyar', 'attractive', 'suppression', 'peacock', 'complicit', 'athleticbilbao', 'monger', 'accurate', 'regimechange', 'vinicius', 'rodgers', 'bjpvsaap', 'countryside', 'oral', 'childhealthcare', 'mydream', 'ovation', 'taylor', 'fabric', 'badgam', 'friar', 'uiux', 'cassy', 'itsale', 'drinkchamps', 'seafood', 'delia', 'weavers', 'mccullum', '𝗗𝗵𝗮𝗮𝗻𝗶𝘀𝗵', 'gmrgroup', 'foodies', 'longevity', 'dprintbunny', 'thetwitterfiles', 'continuously', 'wildnairobi', 'sportsblog', '𝗠𝗮𝘁𝗰𝗵', 'alip', 'woman', 'satiety', 'verma', 'til', 'olympus', 'defensive', 'plainlanguage', 'awaken', 'tighter', 'abraham', 'dakshina', 'gabby', 'zicta', 'bartending', 'paulschrader', 'localderby', 'blendedlearning', 'afriqair', 'lung', 'hungrier', 'trumper', 'bonniehenry', 'uecosystem', 'igaming', 'stunner', 'maybe', 'herbert', 'aiprogress', 'spar', 'commandant', 'bonnyriggrose', 'disable', 'nearest', 'believers', 'andrew', 'afd', 'blogpost', 'golo', 'luxembourgian', 'hassan', 'golapbagh', 'theunit', 'graphic', 'downgrade', 'paella', 'patriarchs', 'talkingpictures', 'irishpolitics', 'cds', 'sunilshetty', 'francesca', 'abramovich', 'evercore', 'satirical', 'reassignments', 'sotiriadis', 'jay', 'irrespective', 'rubbin', 'talus', 'educationists', 'alison', 'moma', 'geoff', 'bowlingfun', 'earthscience', 'toh', 'aibias', 'outofourminds', '𝓓𝓪𝔂', 'stoddart', 'yanneck', 'deception', 'millions', 'eduk', 'intramuscular', 'idconsult', 'flores', 'ethernet', 'pistol', 'kahani', 'waigers', 'tradefinancegap', 'eisamay', 'usmnt', 'listeners', 'sportshoes', 'sciencereview', 'decommunity', 'irfan', 'benzodiazepines', 'smoothies', 'momentous', 'crystaljohn', 'medium', 'robotik', 'dmkfails', 'nnl', 'chickenpox', 'otjiwarongo', 'readingskills', 'cricketpavilion', 'lifeisgood', 'bachchan', 'amrabat', 'electionjeevi', 'hochul', 'artefacts', 'decouple', 'scene', 'adorable', 'inspissate', 'agitation', 'eager', 'heathcare', 'sc', 'narendra', 'trentboult', 'javed', 'chan', 'lattices', 'flannel', 'dailypost', 'congratulation', 'ubi', 'nathanial', 'superpowers', 'partial', 'elon', 'regularly', 'techlife', 'viva', 'barron', 'commercial', 'rhythm', 'momento', 'byebyemodi', 'astringent', 'librarytwitter', 'maschines', 'naijamen', 'amazonuk', 'telanganamodel', 'popular', 'dynamic', 'exponential', 'tonbridge', 'epaphotos', 'fruition', '𝔾𝕀𝕃𝕃', 'tribute', 'attacker', 'weinberger', 'horseracing', 'garder', 'amazingly', 'ftm', 'hus', 'fairness', 'canonmirrorless', 'osteoporosis', 'governance', 'threaten', 'здоровье', 'vss', 'nftcommmunity', 'villareal', 'acresfarms', 'simracing', 'amalaki', 'unpredictable', 'nag', 'laureates', 'navigation', 'daffy', 'smartfarming', 'dashboard', 'smarwatch', 'graphcore', 'erick', 'potion', 'southboyz', 'brahmastra', 'politiciansyou', 'khabarhub', 'headinjuries', 'baseball', 'iberdrola', 'giornatta', 'sovietunion', 'ecd', 'test', 'armedforces', 'nay', 'mondayblogs', 'alevel', 'printer', 'tennessee', 'grocery', 'office', 'charity', 'slgr', 'argcro', 'roundglass', 'currentaffairs', 'confidential', 'admirable', 'menadoc', 'takeaways', 'sanction', 'rebranding', 'karoshi', 'selfdesign', 'raisina', 'freshresists', 'varachhia', 'stormy', 'imaginative', 'rubik', 'statesmanship', 'kamnachhibber', 'cavelossim', 'chapters', 'jerusalem', 'schizophrenic', 'arsy', 'raggie', 'allegory', 'judgemental', 'nonleague', 'jp', 'engineer', 'educacion', 'foods', 'das', 'boat', 'ramadanmubarak', 'anna', 'chris', 'monounsaturated', 'nps', 'nepalvsvietnam', 'footballshorts', 'bbcsport', 'lightpaper', 'aiedu', 'wicked', 'stall', 'abbott', 'voyce', 'lettermark', 'netscoutpartner', 'indiedev', 'placebo', 'flush', 'envoy', 'visitscotland', 'torino', 'utis', 'stagnant', 'cyberspace', 'grassrootssport', 'conclaveeast', 'prakashambedkar', 'devout', 'quetta', 'playinggames', 'abc', 'real', 'starhealth', 'barnsleyfc', 'hopelessness', 'smallstreamer', 'duty', 'tailgate', 'tollywoodactor', 'tayyab', 'obonu', 'detention', 'optional', 'jaipur', 'bctigers', 'algo', 'aaprising', 'namedhosts', 'characterize', 'khoosal', 'architect', 'aroma', 'publiceducation', 'ticketmaster', 'pavement', 'pacha', 'pinkday', 'tvs', 'settlements', 'capita', 'divine', 'bighit', 'maundy', 'staticmotionnft', 'lot', 'busquets', 'ed', 'menstrualhealth', 'telegram', 'darbari', 'joeroot', 'foundation', 'preventative', 'circularity', 'lgbtq', 'uefapresident', 'cureaging', 'faizhameed', 'tagline', 'socalme', 'britcliffe', 'laurels', 'boycottpathaan', 'parliamenthouse', 'denise', 'eddie', 'indianeconomy', 'drc', 'lok', 'sportendorse', 'जनस', 'cloudflare', 'nfltiktok', 'ebooks', 'exception', 'versatile', 'judasaca', 'shac', 'thegong', 'familial', 'laxmikant', 'gambingtwitter', 'fintechtrends', 'revolutionize', 'lotuss', 'mudawi', 'flw', 'abhealth', 'pressconference', 'valuation', 'bbcpolitics', 'systematic', 'blockage', 'turin', 'smartlab', 'paratime', 'slowdown', 'alisonatlarge', 'himalayas', 'sportmemories', 'ouster', 'sportsreport', 'dubaimall', 'darrenstanton', 'dream', 'reordersof', 'irrepressible', 'postgraduate', 'drab', 'hoodmf', 'height', 'artcommunity', 'mumbairoads', 'cyberwarning', 'niche', 'estatefi', 'gou', 'wuerffel', 'amdf', 'wider', 'everywhere', 'puskás', 'hammer', 'stressfree', 'fetus', 'version', 'imminently', 'attd', 'chias', 'tradewar', 'tumultuous', 'previously', 'kcse', 'paswan', 'coexistence', 'nuvem', 'spatio', 'kylie', 'spurious', 'duration', 'safecity', 'huracan', 'microbit', 'bargain', 'sasta', 'flowcytometry', 'stpicoes', 'harbour', 'drugtreatment', 'tornado', 'sum', 'farthing', 'apac', 'absolute', 'testautomation', 'marin', 'detain', 'blackstar', 'sequence', 'apni', 'trickery', 'armenia', 'wiegman', 'mueller', 'cropprotection', 'swaziland', 'respond', 'enrico', 'australias', 'cissé', 'mvacollapses', 'last', 'cyprus', 'totalitarian', 'insidecarolina', 'ppt', 'excesses', 'qualityboot', 'closer', 'childcustody', 'lowdown', 'arep', 'epa', 'ehic', 'sccatch', 'neurochemical', 'meltio', 'storey', 'kennys', 'costly', 'helmets', 'monetize', 'consideration', 'adhc', 'millenic', 'covidvaccines', 'desg', 'youareenergy', 'uscp', 'frantically', 'carehome', 'dobbs', 'fccu', 'chatter', 'sabc', 'podernfamily', 'costume', 'existence', 'richvspoor', 'neom', 'ignore', 'pingpong', 'vajpayee', 'tutor', 'appetite', 'dadhi', 'pndhour', 'asseturbanism', 'petgo', 'org', 'feminism', 'તન', 'panelists', 'wishfulthinking', 'rcdespanhyol', 'maria', 'wintery', 'sos', 'varicoseveins', 'jansangh', 'delfin', 'crowley', 'fbpe', 'earliest', 'sportsindia', 'paaji', 'conflict', 'requirement', 'odyek', 'grittynurses', 'drag', 'signature', 'ghurar', 'overs', 'drywall', 'rrvdc', 'trendinghot', 'britishmedia', 'normalcy', 'foodscarcity', 'timber', 'hashtag', 'mcwindia', 'voo', 'bucket', 'ligue', 'bangmos', 'lottery', 'newportbeach', 'mobil', 'aam', 'medicalcenter', 'statehouse', 'hsdr', 'poorest', 'adequately', 'criticise', 'footballsafety', 'sdgs', 'pauldurai', 'julia', 'cal', 'establish', 'dewa', 'lane', 'warcraft', 'mckennie', 'boommmm', 'youthwithab', 'newzealandvspak', 'delightful', 'aggressive', 'ebonyi', 'repower', 'adherent', 'compilation', 'trainhard', 'behonest', 'unfurl', 'sleek', 'maliana', 'hikam', 'threejs', 'ayo', 'roystontownfc', 'arena', 'inaki', 'contagion', 'nutrición', 'sunaks', 'vickidillard', 'szysz', 'zidane', 'healthyeatint', 'samad', 'betrayal', 'baxter', 'penarol', 'mirror', 'moderna', 'keystone', 'preselection', '𝗩𝗶𝘀𝘂𝗮𝗹𝗶𝘇𝗲', 'olympic', 'climatespiral', 'nzvspak', 'alphie', 'etsyseller', 'blackpool', 'cii', 'theatre', 'admire', 'readyland', 'biscuit', 'terrorist', 'ligo', 'triage', 'stokel', 'historico', 'red', 'iiot', 'fullkrug', 'shivshakti', 'headphone', 'sunak', 'bias', 'dacha', 'fillet', 'sociology', 'doyens', 'ruffalo', 'voicemail', 'turbo', 'highland', 'taj', 'midtown', 'libre', 'tmt', 'endure', 'liluzivert', 'modk', 'peasy', 'regulatn', 'diu', 'poonam', 'cooltech', 'kenya', 'football', 'athletics', 'unleash', 'flippers', 'preselections', 'kioni', 'pdra', 'vibrant', 'sportsgeneral', 'esadex', 'buccaneer', 'win', 'hta', 'memorycare', 'jaouen', 'ricky', 'gautamadani', 'raj', 'panelist', 'suffrage', 'counsel', 'vitruvian', 'elixir', 'usgl', 'gamingnews', 'aaronramsey', 'springst', 'republikkkans', 'rarediseases', 'multiple', 'neighborhoods', 'un', 'disney', 'riders', 'xv', 'herd', 'theqoute', 'hydrangea', 'ounce', 'stopthehate', 'chatty', 'prachanda', 'affair', 'neuralnetworks', 'manufacturer', 'infographic', 'provincial', 'robotaxi', 'monologue', 'dismissals', 'upper', 'obvs', 'expendable', 'valedictory', 'spacehealth', 'polyester', 'agtech', 'middaysports', 'lionel', 'sail', 'natalie', 'iatrogenic', 'stamp', 'carpe', 'quantumleap', 'phillips', 'noconfidence', 'venezuela', 'rebecca', 'rhoa', 'rahman', 'mapulane', 'gymgirl', 'floki', 'fullyfunded', 'cosplay', 'bhasin', 'clown', 'rift', 'bookchin', 'pathanmovie', 'londen', 'sanwo', 'infinity', 'meetinginsights', 'dailyui', 'urgency', 'representatine', 'gqp', 'incase', 'futurenation', 'frankfurt', 'murgatroyd', 'defenses', 'haider', 'economic', 'martinelli', 'abilities', 'careful', 'password', 'textual', 'decentralise', 'dijk', 'vitaminc', 'seasonoflove', 'ecology', 'harmanpreet', 'smartpatch', 'train', 'roe', 'benarmstrong', 'ccht', 'ganana', 'marjorie', 'historically', 'cskfans', 'ownpace', 'urvashirautela', 'mask', 'database', 'hetmyer', 'draupadimurmu', 'presley', 'mushfiqur', 'zanzibar', 'clue', 'launder', 'polytricks', 'ansu', 'dcvdgt', 'particle', 'mubeen', 'humanities', 'productively', 'foes', 'jobopportunity', 'utpol', 'suyyashsharma', 'charter', 'mehta', 'iotpl', 'abpn', 'perect', 'kdhs', 'impromptu', 'cheek', 'mute', 'ops', 'elliptical', 'policy', 'cricketleague', 'khalifa', 'athulathmudali', 'desolation', 'nationalist', 'cisgender', 'antar', 'livepics', 'clearspacejunk', 'lancs', 'mahadeo', 'fiorentina', 'roommates', 'philippines', 'intracranial', 'sewage', 'cochrane', 'purport', 'insaniyat', 'bware', 'nada', 'zionists', 'vasantkunj', 'yash', 'brightup', 'parsley', 'karthik', 'redhair', 'botanical', 'mîssionary', 'scape', 'deextinction', 'sportinggoods', 'circulation', 'newsanchorwomen', 'mohalla', 'ogc', 'happybdaymodiji', 'cbg', 'dunno', 'phil', 'mechanicus', 'ago', 'enoughlsenough', 'incidences', 'netanyahu', 'yanomami', 'nowww', 'odisha', 'cricketmania', 'gvs', 'godawgs', 'hhs', 'nandhakumar', 'oil', 'expo', 'gentlemen', 'autoimmunepaleo', 'holidayshopping', 'plsx', 'modigovernment', 'coverup', 'root', 'vaccinedeath', 'scubameditation', 'mci', 'paidpartnership', 'successful', 'mindest', 'besee', 'momtech', 'comforable', 'id', 'innovationtion', 'nanyaro', 'crumb', 'amarindersingh', 'radtwitter', 'messengers', 'airtime', 'dinos', 'label', 'bryce', 'nios', 'hart', 'bin', 'celticfc', 'inventive', 'nm', 'quokka', 'adventure', 'yak', 'imbue', 'maglev', 'behavioral', 'neonate', 'unsportsmanlike', 'paixao', 'cheekier', 'shocker', 'cricovers', 'anatomic', 'dividedwefall', 'prajashanti', 'advisors', 'skipper', '松濤館', 'upstox', 'restrictive', 'natix', 'cove', 'nursepower', 'discriminatory', 'newton', 'esport', 'unit', 'disinterest', 'liverpool', 'bhi', 'mainnet', 'huntingdon', 'revolt', 'hbot', 'suckitup', 'discrimination', 'mahidol', 'qom', 'depths', 'enrage', 'tukole', 'myths', 'firearms', 'glue', 'governancenow', 'livelihoods', 'iplbonus', 'nyt', 'manship', 'npa', 'bau', 'stockmarket', 'rueden', 'sportnews', 'righteous', 'avid', 'ecofriendly', 'fanbase', 'gallery', 'deepak', 'eua', 'fsf', 'oasisnetwor', 'flipkart', 'mumtazpatel', 'efficiency', 'aseu', 'pmmodibirthday', 'sanfrancisco', 'algorithms', 'khalid', 'roadways', 'mtl', 'omenya', 'roadshow', 'hof', 'realistic', 'boodogbandanas', 'norwich', 'philosophers', 'soccerjobs', 'somehow', 'palette', 'testicular', 'são', 'gruenberg', 'intercollegiate', 'poco', 'unexpected', 'filipinos', 'avispafukuoka', 'indiansports', 'shutter', 'earlymuslims', 'wb', 'absurdity', 'addams', 'bernhardt', 'markande', 'afc', 'matter', 'viratkohli𓃵', 'nanojclean', 'studentloans', 'saliva', 'highways', 'gluteal', 'aurelius', 'jalapeños', 'sonamwangchuk', 'insta', 'vitaesaya', 'brisk', 'eric', 'idiocracy', 'mercies', 'dronedelivery', 'cuttingedge', 'vinia', 'ukcomedy', 'instability', 'correctness', 'choline', 'irishlandscape', 'polio', 'hundreds', 'cricketupdates', 'humanstomars', 'bullyboy', 'overlook', 'cu', 'memphis', 'har', 'accommodate', 'sur', 'zamale', 'antidiuretic', 'shilajit', 'tejashwiyadav', 'nautanki', 'sedentary', 'latinosforlake', 'arta', 'narrow', 'tvhost', 'ians', 'karl', 'moderate', 'peterborough', 'itsector', 'bankroll', 'apolitical', 'thearchers', 'nhlmemes', 'king', 'deshpande', 'noballs', 'afternoon', 'religiousagenda', 'crowdsourcing', 'dele', 'madness', 'sana', 'agencies', 'harness', 'essay', 'bakunawa', 'baliyonepal', 'incharge', 'colette', 'laraconin', 'pathologically', 'around', 'initialize', 'disparate', 'doc', 'argue', 'microbiome', 'forusbyus', 'dmrv', 'pina', 'somethings', 'creamy', 'collectively', 'clinch', 'becoz', 'indiannavy', 'warmongers', 'cet', 'debate', 'planets', 'movable', 'saracens', 'gruesome', 'عوام', 'naturebeauty', 'dendro', '来自', 'ham', 'paydirt', 'docly', 'templates', 'nettaru', 'nitiaayog', 'micro', 'savarkar', 'mulaka', 'brute', 'document', 'instagood', 'bollywoodnews', 'snap', 'sufyan', 'teamsisd', 'sportsbiz', 'spray', 'stigmatise', 'nupursharama', 'perpetuity', 'sdr', 'electronicskin', 'henry', 'lucasherbert', 'twitch', 'canterbury', 'doctorare', 'bluff', 'riyanparag', 'two', 'mianwali', 'mccoist', 'vaat', 'backbone', 'sportcomplex', 'eurovision', 'pushyourlimits', 'incumbents', 'innumerable', 'board', 'sinüsmakine', 'pogba', 'significantly', 'intolerant', 'foodchain', 'louis', 'mal', 'ind', 'radio', 'colorize', 'betbarter', 'florence', 'digitalfashion', 'anuj', 'forearm', 'replicate', 'fixture', 'roche', 'burner', 'alkhidmat', 'avocados', 'prepping', 'kid', 'sie', 'lynfield', 'cloak', 'modulators', '𝒕𝒉𝒆𝒊𝒓', 'healthforall', 'personally', 'jeddah', 'pouch', 'falter', 'mcdonagh', 'nyttekyorretoy', 'deloitte', 'wilderness', 'cultists', 'kansas', 'brisbane', 'wrcbtv', 'contenders', 'republicans', 'makers', 'combustion', 'transcend', 'cyberabad', 'psychologically', 'conclusions', 'stave', 'spranger', 'sheffield', 'poorly', 'asl', 'dasharath', 'nerfwars', 'wiroj', 'societies', 'rupani', 'vacate', 'agape', 'carlow', 'enoughisenough', 'fortalezaec', 'suggestions', 'jnr', 'redlight', 'metaverses', 'stlll', 'dappx', 'onpassive', 'futureisnow', 'kieronpollard', 'aapyuvaaaghadi', 'though', 'travelapp', 'zazzle', 'enact', 'niamey', 'gamefi', 'tammes', 'bondarenko', 'displacement', 'winner', 'horgan', 'dominant', 'logodesinger', 'bantikto', 'tablets', 'गज', 'obesidad', 'appliances', 'lintab', 'eventuality', 'itsoktonotbeok', 'kremlin', 'visionary', 'hooray', 'lwblog', 'brainhealth', 'stink', 'bharartbiotech', 'seguin', 'therapies', 'mmemberville', 'windeurope', 'loan', 'bangbang', 'entangle', 'jl', 'klopp', 'dub', 'vechaintech', 'higgins', 'sportz', 'abubakar', 'evan', 'newbehaviours', 'sustainably', 'funtimes', 'ihrec', 'biharhaitaiyar', 'enter', 'sauerbrunn', 'kagiso', 'healthtech', 'pracademics', 'taiwan', 'regulatio', 'bharatjodoyarta', 'elky', 'macjones', 'dariyapur', 'pir', 'ajitdadapawar', 'mappipng', 'zain', 'arrears', 'northafrica', '𝗧𝗮𝗻𝘁𝗮𝗹𝘂𝗺', 'extreme', 'sportsman', 'roughly', 'provision', 'xc', 'pharmaceuticals', 'versions', 'smartwatch', 'microglia', 'offensive', 'naidra', 'insatiable', 'parameters', 'rukh', 'systolic', 'peel', 'daycare', 'vaibhav', 'sfufootball', 'yolo', 'mis', 'behind', 'maximize', 'gogoro', 'bigbonus', 'sidewalks', 'heal', 'bogachenko', 'classist', 'advani', 'youngest', 'chai', 'neta', 'ferdinand', 'excercise', 'ventricular', 'saitamawolfpack', 'garyneville', 'laziojuventus', 'novisad', 'lindsay', 'abhishek', 'payers', 'muslim', 'mizoram', 'vocabulary', 'sackstarmer', 'ordeal', 'masterstroke', 'whils', 'consolidate', 'slovenia', 'landcapedesign', '𝐑𝐢𝐧𝐤𝐮', 'colonial', 'athlete', 'wray', 'softlab', 'prowein', 'lizwheeler', 'skeletal', 'marina', 'contentious', 'kitchens', 'webapps', 'reason', 'cottages', 'reqalandar', 'wolche', 'bhanuka', 'itvideo', 'newkit', 'improper', 'ryantannehill', 'uncoocked', 'yongshun', 'stigne', 'cloudsecurity', 'insightful', 'johannesburg', 'scienceinside', 'worstly', 'agitprop', 'uturn', 'princes', 'sustenance', 'reseller', 'mayura', 'defy', 'techinnigeria', 'housemusic', 'tirana', 'journal', 'econtwitter', 'mma', 'interact', 'syazwana', 'wfa', 'notoriously', 'equalrights', 'rubric', 'microcredit', 'dogtwitter', 'blink', 'basketballcards', 'coti', 'orengo', 'mgs', 'intel', 'stroi', 'victim', 'wed', 'gras', 'four', 'dec', 'cse', 'avi', 'nadhim', 'seoni', 'menshealth', 'arab', 'spoof', 'movements', 'pupilpremium', 'agree', 'olfactory', 'justus', 'disruptor', 'jnu', 'verb', 'mohenjo', 'newportcounty', 'businessai', 'senseofwonder', 'nainsafee', 'rrvspk', 'dindigul', 'sanjayraut', 'arbitrium', 'carl', 'sportifs', 'idiotic', 'correa', 'gdynia', 'basotho', 'ukedchat', 'insensitivity', '𝐀𝐊𝐀𝐖', 'portrait', 'indvspakt', 'column', 'desi', 'vaccinedeaths', 'nigeriadecides', 'choice', 'leonardo', 'biopsy', 'pry', '민족주의', 'sanmarino', 'obscure', 'thease', 'axelrod', 'nintendo', 'illiberalism', 'refutal', 'haritaki', 'selfesteem', 'anywhere', 'departments', 'happynewyear', 'nftcollector', 'indianapolis', 'quarterback', 'enormous', 'moderators', 'acehack', 'iii', 'redseer', 'whitehall', 'invoke', 'designercakes', 'altar', 'tchnology', 'starchy', 'letsplay', 'getthatmoney', 'steam', 'pandemicaccord', 'penicillin', 'archery', 'gina', 'stun', 'askquestions', 'rangel', 'pdm', 'panjab', 'foxbusiness', 'bypoll', 'tomatoes', 'gratefully', 'kyiv', 'intiative', 'datatalks', 'scuttle', 'kalyana', 'ig', 'abatwip', 'engagement', 'vulture', 'congressmlas', 'worthless', 'peppermint', 'termlimits', 'forthefifth', 'goreduxnow', 'ayearforart', 'bauhaus', 'nbl', 'tyreek', 'fetterman', 'japon', 'telegramchannel', 'ltd', 'brandidentity', 'mbe', 'bolic', 'present', 'immense', 'mcelhenney', 'responsibility', 'dahal', 'matrixainetwor', 'aleemdar', 'big', 'arudha', 'pres', 'leiavl', 'burriro', 'coronation', 'constantly', 'chelseafc', 'homicide', 'away', 'eufunding', 'eco', 'तरकश', 'worldhistory', 'stjulians', 'settle', 'bjsports', 'africa', 'narcissitic', 'almalinux', 'responsible', 'slit', 'insots', 'contrary', 'medicareforall', 'livewithgreg', 'pauline', 'gripsocks', 'yearsofpmmy', 'highstakesclash', 'suit', 'ℂ𝕊𝕂', 'jaiswal', 'shoron', 'ksed', 'rhider', 'things', 'surg', 'automatio', 'surround', 'stevemarshall', 'postdocjobs', 'joker', 'msmdistribution', 'residue', 'hook', 'fla', 'altitudes', 'bhutto', 'steelers', 'firstamendment', 'sauber', 'mioir', 'yechury', 'ranga', 'flexibility', 'trikoncbg', 'constant', 'lakshadweep', 'alleyne', 'syntropy', 'air', 'lits', 'mistake', 'informative', 'definitive', 'torymeltdown', 'intheloop', 'soulcycle', 'baloneysandwich', 'algokit', 'iotslam', 'spiritual', 'medicalcamp', 'roshan', 'heartbeats', 'thrust', 'vivera', 'shotley', 'water', 'hibernianfc', 'decrim', 'relate', 'american', 'concentrate', 'wiki', 'double', 'painkiller', 'rpm', 'germination', 'colbert', 'isles', 'hansard', 'nursetweet', 'defectors', 'guptill', 'jharkhand', 'length', 'assumption', 'suggest', 'milletrecipe', 'fridman', 'customtrophies', 'yemencantwait', 'qbtraining', 'codenewbies', 'firstlady', 'syrup', 'edwardian', 'colu', 'mlk', 'intention', 'pamphlets', 'vaishkumar', 'happiesthealth', 'rape', 'potter', 'thinkers', 'matrixanetwork', 'optimisim', 'professionalism', 'unrecognisable', 'investigations', 'discipline', 'michaelbidwill', 'merger', 'battle', 'skycorp', 'visselkobe', 'runday', 'getactive', 'otc', 'variables', 'oldgames', 'visuality', 'wjwire', 'fbi', 'decade', 'dementia', 'chandigarh', 'staysafe', 'malinga', 'taxjustice', 'anitha', 'saturn', 'receiver', 'indiawomen', 'markwood', 'wto', 'conundrum', 'propensity', 'russow', 'ive', 'walkers', '𝘮𝘪𝘯𝘥𝘴', 'cartoony', 'theory', 'taser', 'southcarolina', 'tectonians', 'probiotic', 'fibers', 'ecprgc', 'zürich', 'grass', 'endeavour', 'abort', 'rugbygirls', 'becauz', 'refractor', 'functionality', 'instill', 'changemakers', 'unambiguous', 'sharjah', 'absent', 'stache', 'stem', 'chimneys', 'magatears', 'damby', 'hjt', 'organization', 'sportzvip', 'exhibition', 'apartheid', 'prism', 'footballmatch', 'settings', 'techfest', 'behaviorchange', 'mahakumbh', 'eli', 'lupus', 'bollingerb', 'tam', 'shvisena', 'atrium', 'conjunction', 'graphene', 'stx', 'mossy', 'powerofsport', 'publisher', 'walmart', 'anemai', 'groupies', 'galatasaray', 'unconfirmed', 'powerup', 'jio', 'bluesky', 'peczwolle', 'nodal', 'osteo', 'burnstar', 'neonatal', 'hrh', 'benjaminwatson', 'utpo', 'transplant', 'samson', 'reelection', 'gleam', 'fitnessgirl', 'improvements', 'supremecourt', 'consistency', 'craftbeer', 'datacenters', 'bankman', 'sportsphoto', 'knit', 'high', 'stronger', 'andric', 'cnn', 'brainyquote', 'disciplinary', 'hillsong', 'soros', 'reluctantly', 'harass', 'garrison', 'hitchintownfc', 'arenaplusph', 'contai', 'dartmoor', 'skyplug', 'railstrikes', 'lifeline', 'acording', 'excess', 'electrify', 'garhikhudabaksh', 'delbruk', 'siddharthaulia', 'gdr', 'chiplets', 'cyclones', 'vineyard', 'challenge', 'caterer', 'hispaniccaucus', 'andrerussel', '𝗔𝗿𝗰𝗵𝗶𝘁𝗲𝗰𝘁𝘂𝗿𝗲', 'thermostat', 'vishnudarbar', 'extra', 'lou', 'drunkenly', 'celebrations', 'yellow', 'sleepmatters', 'procedure', 'erisa', 'suffer', 'plunder', 'trinamool', 'backwards', 'yarbo', 'pre', 'ownyourdata', 'solo', 'anymore', 'paglica', 'handball', 'unsecured', 'stadiums', 'coin', 'unintended', 'sunday', 'prank', 'mep', 'starcitizen', 'azgop', 'antifa', 'pawn', 'refuse', 'boc', 'hindustan', 'gonzalez', 'cradle', 'compain', 'canal', 'historian', 'elderly', 'holt', 'brozlex', '武道館', 'acumen', 'rugbylove', 'misspeak', 'heartwarming', 'senator', 'winemaking', 'amb', 'executives', 'statehood', 'aloevera', 'felt', 'cermony', 'threshold', 'firsthand', 'fba', 'questiontime', 'wessex', 'bnnus', 'exclusively', 'statins', 'visitors', 'jameshopes', 'andhra', 'turtlestitch', 'lawenforcement', 'lockerroom', 'nagoyagrampus', 'meltdown', 'proprietary', 'restock', 'extravasate', '𝗮𝗻𝗱', 'vlga', 'scatter', 'utt', 'ottomanempire', 'bcoz', 'cossack', 'schoolsports', 'properly', 'schedina', 'avesh', 'havanasyndrome', 'sne', 'jco', 'brickhouse', 'npu', 'newdata', 'modernlogo', 'niger', 'austellga', 'partyleaders', 'wayne', 'pdca', 'biomass', 'fitspiration', 'yakka', 'innomed', 'streak', 'cian', 'lucidair', 'dkshivakumar', 'nmaist', 'saga', 'vsspoem', 'alphafold', 'veraviews', 'bettingodds', 'mobilization', 'cd', 'ksleg', 'psychiatry', 'wordoftheday', 'perp', 'goldenhearts', 'defi', 'kamalhaasan𓃵', 'japanfair', 'convert', 'additional', 'mechanosensor', 'dzenana', 'willian', 'identify', 'blogupdate', 'fruitful', 'liftware', 'colour', 'alameincounting', 'rourke', 'creeper', 'weekes', 'fit', 'humanlabor', 'thisdayinstem', 'nordregio', 'decidetogether', 'transmit', 'tbpmf', 'powerbank', 'gummy', 'destinations', 'cain', 'tuesdays', 'behaviour', 'musclebabe', 'alone', 'cliff', 'rookiescup', 'separation', 'alzarri', 'juliana', 'drugdevelopment', 'wild', 'eachother', 'bapco', 'childrens', 'icon', 'risk', 'gohomera', 'scotus', 'jesusisking', 'workout', 'foster', 'authoritarians', 'unruly', 'abundance', 'dentistry', 'pramod', 'traore', 'wastemanagement', 'athena', 'addict', 'bilkis', 'burgeon', 'cloths', 'sophia', 'generationjones', 'seventeen', 'dilemma', 'freethecheese', 'groupthink', 'zte', 'evertonfc', 'thalaivar', 'ibwnews', 'pulmonary', 'jbya', 'tentacles', 'stacy', 'historical', 'rahulvaidya', 'infra', 'creatives', 'skylines', 'asphalt', 'petrochemical', 'moneylaundering', 'standbyyourpost', 'motiondesigners', 'dhingra', 'shock', 'solve', 'longmarch', 'makeithappen', 'strain', 'nuggetz', 'crusade', 'smores', 'leslyn', 'beforeandafter', 'abortion', 'thanksdarwin', 'bracewell', 'mudras', 'torybritain', 'ufology', 'harrell', 'rumor', 'countries', 'junctures', 'easd', 'climatescam', 'ottplatforms', 'cushy', 'sliver', 'leigh', 'proportion', 'ottobock', 'sciencefiction', 'fascist', 'convene', 'appease', 'tome', 'patreon', 'gene', 'owaisihospital', 'bard', 'etutor', 'winnipesaukee', 'random', 'kvk', 'uuefa', 'generalelectio', 'hate', 'controlnet', 'condemn', 'bum', 'diversity', 'critter', 'pacemaker', 'chemokine', 'keep', 'belgiumguy', 'cricketlive', 'sick', 'oceans', 'chamber', 'cauliflower', 'yuvrajsingh', 'sushi', 'blitz', 'determination', 'energy', 'gauntlet', 'illinois', 'playandwin', 'shiny', 'millenson', 'digitalization', 'megastar', 'srso', 'kostas', 'theedgeabove', 'relationships', 'lori', 'euro', 'dailylife', 'footballshirt', 'laborcaucus', 'metamaterials', 'diagram', 'oiltheft', 'liters', 'shakibulhasan', 'starve', 'morphologies', 'shahmission', 'dace', 'aimifm', 'calendar', 'blx', 'policies', 'blackmoney', 'oliviawilde', 'revenues', 'pathological', 'cpac', 'globalgoals', 'neon', 'makeawish', 'lake', 'bhakti', 'zakopane', 'animallover', 'vidt', 'daystar', 'keith', 'pgce', 'politicaltheory', 'foodjustice', 'mobilepayments', 'bestofpreps', 'rabbit', 'gbo', 'irishpoetry', 'fet', 'ketapi', 'chag', 'dormady', 'corneal', 'sigint', 'kate', 'diseases', 'assimilation', 'vince', 'space', 'dkvalg', 'freshness', 'vindictiveness', 'behm', 'hubris', 'agronomy', 'ጽንሰ', 'roger', 'dxcc', 'taghavi', 'independent', 'bruh', 'vapelife', 'vehicles', 'printers', 'decrepit', 'breakthroughs', 'psb', 'mcweekendreads', 'handbooks', 'defensivetackle', 'kambuwe', 'foreign', 'challakere', 'nftmusic', 'treadmill', 'fifa', 'ct', 'assad', 'dragonflies', 'sake', 'rajangadbawa', 'benevolent', 'saliba', 'syringe', 'impeachbiden', 'puntreturn', 'unsung', 'veganism', 'youthact', 'republicofcongo', 'bowl', 'perpetuals', 'history', 'biosensor', 'woodwork', 'texttoimage', 'newsroom', 'wilpfatcsw', 'rishisuna', 'rudeness', 'drbeen', 'predictable', 'fractal', 'fa', 'rescuers', 'medschools', 'worldkidneyday', 'holdouts', 'gamingchannel', 'cafemocharadio', 'svenskamarinen', 'either', 'rn', 'latino', 'aimedia', 'giugni', 'enclave', 'indelible', 'youtubeshorts', 'beginner', 'arvr', 'justification', 'ramzan', 'chad', 'reevana', 'llap', 'whiz', 'chilean', 'maryamnawaz', 'save', 'ingenious', 'target', 'onlinebetting', 'jkap', 'erasure', 'playfulness', 'onefuture', 'ashokchavan', 'monarchies', 'pteg', 'pleasures', 'rct', 'blur', 'rayudu', 'jerseynumber', 'bharatjodayatra', 'bst', 'dialog', 'cabinetmeeting', 'ukpolitics', 'msk', 'differentbreed', 'freebie', 'कपड', 'tasmania', 'lunchtime', 'dortmundvsunion', 'stalin', 'personalize', 'aphorisms', 'coz', 'voluntary', 'mifepristone', 'siii', 'sportybet', 'displace', 'blackandwhite', 'sharmila', 'padikkal', 'goalkeeper', 'dodgers', 'dharwad', 'dayspa', 'fumiokishida', 'prospective', 'jamaal', 'rugbyteam', 'coman', 'robotnurse', 'bil', 'ganguly', 'magnetize', 'skilledtrades', 'nwsl', 'smsports', 'bjj', 'structural', 'raphaelwarnock', 'pathless', 'esb', 'hangover', 'requestabet', 'unopposed', 'yn', 'colgate', 'primehealth', 'antiterrorism', 'mosaic', 'humanitarian', 'sunsets', 'paternal', 'voteyeson', 'macronutrients', 'skyatlantic', 'handlers', 'ping', 'hurricane', 'nyoro', 'monorail', 'statistic', 'ummah', 'cpg', 'creative', 'although', 'bloodclots', 'customizable', 'womenfootball', 'balasaheb', 'donald', 'crawsec', 'franco', 'positives', 'bluetooth', 'imperative', 'oscarwilde', 'sexy', 'voy', 'risingstar', 'uproar', 'painful', 'greet', 'marketwarrior', 'muay', 'cookie', 'accord', 'addtf', 'oye', 'resurrect', 'card', 'thala', 'decisively', 'montreal', 'ana', 'රන', 'gentrification', 'storzandbickel', 'elpais', 'fritsch', 'bout', 'diary', 'hospice', 'mow', 'cardiotwitter', 'wpt', 'irena', 'enhance', 'relative', 'gulp', 'huh', 'papakantivlog', 'pier', 'hrd', 'astrologer', 'seasickness', 'buddies', 'howareyoudad', 'unused', 'crass', 'icebath', 'relevance', 'thanthaiperiyar', 'rvsp', 'cancerbackoff', 'mysonhunter', 'arcticcouncil', 'compile', 'markmadden', 'bookreview', 'talktothebees', '𝗟𝗲𝗮𝗴𝘂𝗲', 'cedar', 'incompetency', 'muttreja', 'novelty', 'photosynthesis', 'toughmudder', 'chisholm', 'tendulkar', 'yeddyurappa', 'sprawl', 'regressive', 'railstrike', 'tschudin', 'reach', 'ఎవరక', 'homer', 'startupindia', 'oktonotbeok', 'mwth', 'nadal', 'greenscreen', 'cricketnets', 'seniors', 'devolution', 'genetic', 'aspecta', 'boehly', 'everytime', 'sportsmen', 'natarajan', 'easteregg', 'satanists', 'valuebets', 'hot', 'olympics', 'ttv', 'cpus', 'techhealth', 'vijayshankar', 'satsportnews', 'lmic', 'sever', 'ralphsteadman', 'britain', 'interestrates', 'retrogress', 'aiwrite', 'salix', 'probability', 'modemrf', 'ahare', 'perfromaceboost', 'khulafah', 'repost', 'winebusiness', 'whizzer', 'pushaw', 'indispensable', 'cheddar', 'rayovallecano', 'mason', 'blockchainbased', 'earthquake', 'largely', 'accomplish', 'pathum', 'pravin', 'forestwitch', 'jodo', 'computationally', 'workinprogress', 'flats', 'stoke', 'jhtforcongress', 'fauprof', 'electorally', 'africans', 'baldwin', 'elam', 'aava', 'fred', 'cervical', 'torylies', 'medstudent', 'rassegnastampa', 'liachatbot', 'tru', 'gophers', 'hofmann', 'hardball', 'bettingpicks', 'accelerator', 'rebar', 'multichain', 'stpiindia', 'replication', '𝐌𝐀𝐓𝐂𝐇𝐃𝐀𝐘', 'stillbirth', 'ofounders', 'experiential', 'ranilists', 'newdelhi', 'snuggies', 'quotestoliveby', 'outdoor', 'itox', 'economy', 'indirahinduja', 'marsadvawp', 'melt', 'opportunity', 'formula', 'ericssonmwc', 'baksh', 'radiodignosis', 'elenie', 'mvpharris', 'supps', 'glubish', 'immigrants', 'odagiri', 'haley', 'iit', 'derbygame', 'atheist', 'pistols', 'appointments', 'braverman', 'swallow', 'tmcs', 'gamebredboxing', 'lakenona', 'budo', 'extremist', 'razor', 'globalgateway', 'portal', 'postdoc', 'lolo', 'cricketbat', 'draftsnowden', 'ibdlive', 'nafld', 'snapdragon', 'saudis', 'onslaught', 'locker', 'offic', 'wearebosem', 'mumbaicityfc', 'keough', 'brag', 'garcia', 'xenith', 'peymon', 'digiall', 'thai', 'bob', 'couchparty', 'batch', 'youths', 'psaki', 'happe', 'anarchy', 'link', 'winelover', 'nevergiveup', 'gingermilk', 'qanoncult', 'romanians', 'bonus', 'sentient', 'centrist', 'bull', 'widen', 'sachs', 'rscposter', 'udaipurhorror', 'κεβε', 'ipltickets', 'standstill', 'premature', 'thedailyedge', 'stateless', 'sign', 'statista', 'deport', 'partially', 'let', 'vladimirputin', 'jesty', 'driller', 'womeninsport', 'outside', 'mit', 'republic', 'kunonationalpar', 'experimental', 'accept', 'tax', 'stiegler', 'dolan', 'foodpackaging', 'ptsd', 'visualarts', 'dosomething', 'nutty', 'parish', 'anomaly', 'bel', 'metpolice', 'halsey', 'extremity', 'seminar', 'malignancies', 'steve', 'scooby', 'vanessa', 'headphones', 'herb', 'desatanist', 'crickettogether', 'trope', 'deadly', 'panagarh', 'bangalore', 'bingo', 'coalesce', 'mukeshambani', 'therose', 'pixels', 'dystopia', 'amputate', 'fauciforprison', 'sudharshan', 'crossfit', 'dissociate', 'alito', 'cfosb', 'domesticabuse', 'dotmoovs', 'sally', 'harder', 'pincher', 'fashionweek', 'agidigbo', 'gsmafoundry', 'region', 'standard', 'strong', 'feralpisalò', 'aleph', 'waalwijk', 'plebs', 'recruit', 'arshad', 'squatters', 'damarhamlin', 'futureofwork', 'pathologist', 'gloom', 'fantasysports', 'arrivals', 'okx', 'gtc', 'actuarial', 'thehobby', 'legos', 'corrosion', 'pollicis', '𝗙𝗜𝗫𝗧𝗨𝗥𝗘', 'ramifications', 'pas', 'devtech', 'fridayfeelings', 'mumbaimaidan', 'wallet', 'recco', 'lefty', 'lemongrass', 'stid', 'bègs', 'msp', 'credentials', 'healnaturally', 'retwit', 'bruyne', 'probable', 'fali', 'lakes', 'undefeated', 'mashreq', 'firefighters', 'spreadsheet', 'politicical', 'maxinewaters', 'shrewd', 'xnext', 'productions', 'hackathon', 'cbc', 'mon', 'मम', 'advacned', 'aeds', 'jeffery', 'risingstars', 'saim', 'antoine', 'attention', 'cre', 'rip', 'cuz', 'patron', 'dumitru', 'cic', 'buzzword', 'sik', 'foodwaste', 'exclusive', 'honda', 'lifeguards', 'unusual', 'faithfulness', 'hey', 'blevins', 'pump', 'trend', 'uchsboyssoccer', 'evol', 'stankovics', 'stockmarkets', 'scent', 'sumo', 'seamoss', 'collard', 'populism', 'nanorobots', 'impairmnt', 'wajamama', 'headaches', 'heroic', 'stir', 'saimayub', 'reset', 'variation', 'retrofootball', 'days', 'ideals', 'subarachnoid', 'kinder', 'fantokens', 'democratic', 'ico', 'spectacle', 'foundry', 'medal', 'cvo', 'referrals', 'deteriorate', 'belive', 'loreto', 'uluru', 'productdesign', 'asics', 'revealstthe', 'irish', 'expresso', 'frequent', 'analytical', 'dias', 'great', 'hodgson', 'lge', 'judebellingham', 'dnipro', 'navalnews', 'lismdigitech', 'motm', 'booth', 'notorious', 'leuva', 'multiplayer', 'underserved', 'harshadeep', 'vindictive', 'citizenkane', 'jila', 'newyearsday', 'atmospheric', 'healthunabashed', 'honeybee', 'bonkers', 'redemption', 'scamalert', 'newwest', 'healthchecks', 'pore', 'wrawesome', 'electrical', 'glial', 'telangana', 'dialoguejournal', 'cryptogame', 'rescsue', 'tcells', 'oliver', 'fuse', 'wrist', 'wearevisible', 'cakedecorations', 'flesh', 'ufodisclosure', 'isnt', 'genève', 'ashraf', 'scotrail', 'prescription', 'ramakanta', 'investment', 'dreamwalker', 'chriskirk', 'uptheworkers', 'benzinga', 'energize', 'forcabarça', 'run', 'ole', 'breanna', 'oklahomacity', 'echo', 'niketraining', 'pivotal', 'medicalschool', 'knob', 'beep', 'fatality', 'fairer', 'evokeenquiry', 'usfl', 'hansen', 'craziness', 'municipality', 'bfsi', 'hopefuls', 'sumthin', 'postcode', 'rocnation', 'wisconsin', 'pssssst', 'stopagrotoxics', 'mwangi', 'gravytrain', 'boygeorge', 'hibernation', 'councilmembers', 'darthvader', 'coygig', 'pranayam', 'macroncheese', '𝗕𝗼𝘆', 'harsha', 'christina', 'nahi', 'soft', 'miracle', 'trendforce', 'mauricio', 'inery', '𝘁𝗵𝗲', 'gripas', 'chrisgeldart', 'endingplague', 'wheel', 'jahils', 'goolsby', 'smallcap', 'wcw', 'cybersecuriy', 'anarchist', 'lp', 'dailybangladesh', 'seal', 'reggie', 'bowee', 'illtakenoname', 'crispr', 'socrates', 'minecraftedu', 'belgium', 'jpeg', 'maqbool', 'enhanceyourlife', 'cw', 'fenugreekfibre', 'hibernate', 'seri', 'gjr', 'statement', 'customercare', 'hfcs', 'hourglass', 'dfbpokal', 'antiaging', 'palaniswamy', 'artsandhealth', 'aslam', 'greene', 'walkable', 'aueuyouth', 'cx', 'reusable', 'restroom', 'reconcile', 'academicchat', 'cover', 'condemnable', 'deeptech', 'sangster', 'solastalgia', 'digitalcoupons', 'heirs', 'asians', 'galore', 'andrzej', 'chukwueze', 'salassie', 'aseefabibi', 'degani', 'cruz', 'blackwomen', 'willie', 'diagnose', 'kda', 'sindh', 'bizboost', 'familiarity', 'whilst', 'silk', 'michigan', 'locals', 'tuesdayvibe', 'healthspan', 'tuesday', 'impair', 'panther', 'allocate', 'bipolar', 'historymatters', 'saturdayss', 'npfltnff', 'centuries', 'orchestrate', 'prosecutors', 'simplysport', 'wethoffer', '𝐌𝐢𝐝𝐝𝐥𝐞', 'bodan', 'gooooo', 'kathmandu', 'stringer', 'uhc', 'sin', 'ela', 'call', 'git', 'puskas', 'agency', 'procedures', 'fanboism', 'doored', 'bangladeshi', 'nillion', 'vocational', 'rebelhq', 'reminisce', 'developments', 'cleantech', 'እንደ', 'coarse', 'lowcarb', 'gotland', 'exec', 'anocracy', 'uncover', 'rovers', 'infodays', 'front', 'deportation', 'saturdaymorning', 'riyadh', 'accordingly', 'earl', 'kevin', 'installment', 'karyakartas', 'swat', 'kyrie', 'saskpo', 'jatin', 'face', 'thx', 'philosophical', '𝒇𝒐𝒓', 'orbitxch', 'communitydata', 'extort', 'chahar', 'philip', 'kyrgyzstan', 'physically', 'nachos', 'immortality', 'everton', 'kismayo', 'juridical', 'irritable', 'tiaty', 'flask', 'first', 'ew', 'hv', 'scommesse', 'watercolor', 'iphones', 'sorrow', 'ukgifthour', 'resort', 'weekly', 'hockeylife', 'ಐಟ', 'microcredential', 'fallsafety', 'colabkd', 'gabler', 'weareone', 'wreck', 'govt', 'haldirams', 'wembley', 'dailyfact', 'hardworking', 'unnoticed', 'opioids', 'robeyns', 'localcommunity', 'trailblazer', 'cookvscrook', 'gigantic', 'filmtwitter', 'setumo', 'aescripts', '𝘉𝘦𝘭𝘪𝘦𝘷𝘦', 'greenfield', 'oldest', 'shamitastribe', 'westernbalkans', 'japanesekanji', 'ranjit', 'eurasianism', 'rigourous', 'liars', 'fixtures', 'wear', 'lasers', 'prepare', 'hpe', 'ashokgehlot', 'financials', 'virendrasehwag', 'alleyway', 'empower', 'safflower', 'confederate', 'newseason', 'drego', 'soe', '𝐖𝐄', 'eisenhower', 'coppa', 'native', 'srihari', 'ajit', 'dynasts', 'smokescreen', 'derek', 'onshore', 'genes', 'wilfred', 'nefarious', 'ono', 'virendersehwag', 'campfire', 'americafirst', 'navyo', 'retrogame', 'free', 'healthunion', 'aman', 'responder', 'harbhajansingh', 'im', 'chiropractor', 'venues', 'pbksvsgt', 'hugolloris', 'acceptable', 'mts', 'rettsyndrome', 'console', 'fourteen', 'commerzbank', 'obviously', 'hostels', 'indecorous', 'minute', 'kilos', 'idhu', 'leith', 'christiansen', 'townhall', 'sear', 'benefica', 'macron', 'disegno', 'bid', 'stemactivity', 'hanger', 'femtechproduct', 'sheep', 'stuff', 'bacardi', 'ekana', 'harrod', 'proxy', 'llc', 'teamrr', 'cskvlsg', 'coles', 'nsf', 'image', 'gameplay', 'ardwick', 'donations', 'swift', 'stabilitygpt', 'dee', 'dcvsgt', 'sarah', 'हस', 'raavan', 'rajan', 'brussels', 'logos', 'klever', 'alresford', 'impress', 'testcricket', 'tremendous', 'studentathlete', 'forte', 'middleclass', 'narayana', 'luminance', 'khamboj', 'embed', 'diabolical', 'sportsightnews', 'luckyday', '𝗗𝗮𝘆', 'bcb', 'torychaos', 'misesmemes', 'cjstroud', 'mlb', 'wweraw', 'kirreonpollard', 'hummingbird', 'consciousness', 'xuv', 'roadside', 'marche', 'sketchnote', 'death', 'lacan', 'python', 'mexc', 'republican', 'roughriders', 'wrestle', 'scheduledpost', 'brooklyn', 'sectoral', 'actuators', 'marcelsabitzer', 'phenomena', 'jacktalks', 'newrelease', 'recallsantos', 'kadeneco', 'wreak', 'characterise', 'wolverines', 'nextjs', 'screen', 'reprap', 'epi', 'broadcast', 'nicita', 'growth', 'nikkinova', 'letsgo', 'capitalization', 'scratch', 'smurf', 'zambia', 'devise', 'grownups', 'unicorns', 'ldnont', 'aroleayo', 'backfire', 'moveforward', 'skysportslive', 'effort', 'defendants', 'pittura', 'webcomic', 'cocoatease', 'derange', 'pga', 'developer', 'puede', 'bhfyp', 'micropolitics', 'interviewer', 'deepfake', 'stew', 'clinton', 'gunsense', 'wks', 'mcd', 'beyourbest', 'heterogeneous', 'balm', 'exetercity', 'texas', 'kraft', 'sportstraining', 'chest', 'gatekeepers', 'pant', 'amusement', 'appt', 'tumbler', 'contain', 'maté', 'sleepyheads', 'letsgetmoving', 'entrance', 'altman', 'temp', 'legalise', 'alanalford', 'mustread', 'fame', 'bali', 'champasingh', 'cyberbullying', 'arnold', 'itec', 'midterm', 'lineups', 'appdomainname', 'boon', 'corridor', 'oran', 'inter', 'mindsetmatters', 'brenew', 'gartnerit', 'gr', 'shortages', 'precedence', 'webpages', 'secondary', 'itistime', 'britneygriner', 'socio', 'ventilation', 'transnational', 'authentic', 'pei', 'barabantseva', 'jaxx', 'coast', 'today', 'commonly', 'motw', 'patriarchy', 'bytes', '𝐅𝐚𝐥𝐥𝐚𝐜𝐲', 'smallstates', 'sportex', 'review', 'laws', 'pti', 'yegcc', 'yobenigeria', 'ikechukwu', 'transact', 'cricketnation', 'sortyourheadout', 'leagueofgarmin', 'tunisia', 'quatro', 'loon', 'heather', 'mikko', 'vitaminb', 'gravel', 'cdnmedia', 'yearinreview', 'myfeda', 'rasmussen', 'theguardian', 'uidai', 'dataprotection', 'plugin', 'catalytic', 'iyengar', 'gendered', 'modifailedindia', 'parade', 'yard', 'disinfo', 'cleveland', 'perezhilton', 'kassait', 'sadly', 'inflict', 'vdef', 'nwac', 'blueberries', 'heap', 'teamspirit', 'fortunes', 'nbamemes', 'tmkoc', 'longus', 'flaxseed', 'ophthalmologist', 'lalkrishnaadva', 'genxkidz', 'mcdonalds', 'blueinnovator', 'priya', 'vagabond', 'monagas', 'advertisements', 'jeet', 'sometime', 'sexism', 'cervussports', 'tt', 'njong', 'fati', 'wps', 'tap', 'illumina', 'orwell', 'influx', 'phrase', 'insecure', 'spend', 'gimmicks', 'inspire', 'ioeimpactfellow', 'bacteroidetes', 'unflavored', 'decolonize', 'prawit', 'give', 'daro', 'worklab', 'iccworldcup', 'ir', 'marketingsales', 'statewide', 'benefactors', 'tfi', 'cutbacks', 'pair', 'operation', 'votebluein', 'depend', 'saddle', 'acr', 'より', 'socialpolitics', 'throne', 'vishaalvirani', 'brilliant', 'patna', 'cagewalks', 'brentford', 'fantasypros', 'kishor', 'welsh', 'soota', '𝗶𝘀', 'clásico', 'press', 'presets', 'orientate', 'horrible', 'blocs', 'compost', 'investigate', 'usdc', 'osp', 'blogger', 'promote', 'abuzz', 'kubectl', 'carrow', 'gehlot', 'steppin', 'wednesdaywisdom', 'solanasummer', 'ubectl', 'nos', 'foliage', 'zk', 'griffiths', 'sham', 'màsters', 'longitudinal', 'problematic', 'currencies', 'portero', 'catheter', 'comfortcrisis', 'rasaratnam', 'sdg', 'tmm', 'restday', 'laypeople', 'activerole', 'afterschool', 'patists', 'strictlyrobots', 'fieldservice', 'treble', 'blasters', 'flimsy', 'untransmittable', 'fifth', 'bermudian', 'veggie', 'methozeene', 'sudan', 'nasty', 'cesspool', 'uthappa', 'jeez', 'shaukatali', 'flanders', 'petrolbomb', 'foo', 'fitmint', 'audition', 'pele', 'fierce', 'primer', 'mobilesecurity', 'xylene', 'halt', 'maleque', 'eucarestrategy', 'cheetah', 'goblue', 'pstientscare', 'mobvoi', 'markaram', 'letsgobrandon', 'owenjones', 'securedemails', 'lectureships', 'bullet', 'cette', 'democrats', 'bfcvsc', 'sikhs', 'powder', 'thrive', 'titansfootball', 'normalize', 'adtech', 'pebblepad', 'onceuponatime', 'cancerreduction', 'ornl', 'routine', 'rajasthan', 'politika', 'ukgiftam', 'mzansi', 'loooooong', 'nj', 'satisfaction', 'congenial', 'satyendarjain', 'stoic', 'rightwingmemes', 'baskets', 'sane', 'behance', 'piecoro', 'professor', 'quotesoftheday', 'dw', 'react', 'metamorphosis', 'transcripts', 'savant', 'madrid', 'cacao', 'campbell', 'sandyhook', 'typescript', 'happykwanzaa', 'politicos', 'nadhimzahawi', 'qiskit', 'boys', 'transformer', 'aamadmiparty', 'index', 'uditraj', 'essence', 'rem', 'strategists', 'cso', 'indocanadian', 'chrisgayle', 'curl', 'talos', 'tribelsocial', 'nchain', 'colleges', 'flashback', 'confusion', 'chimpzee', 'lunchbox', 'post', 'thani', 'commissioners', 'certain', 'physiological', 'praveen', 'pharmatwitter', 'vols', 'hemamalini', 'cardinal', 'newsupdates', 'fever', 'hype', 'goyal', 'hybridization', 'parivarpath', 'defect', 'unconditionally', 'nursetwitter', 'genderequal', 'endorphins', 'blackmen', 'wisdom', 'happyhanukkah', 'reprise', 'prbb', 'holditdown', 'rowan', 'elastos', 'brakingcopper', 'differently', 'tumors', 'rma', 'credit', 'congo', 'sendentary', 'nlp', 'falsecases', 'tacklefootball', 'db', 'dougedebordeaux', 'bret', 'fd', 'footballindia', 'truthandlove', 'nftcollectors', 'underestimate', 'immunity', 'citicbs', 'hindidiwas', 'offsiders', 'wearable', 'wonderboy', 'alexandria', 'tangerines', 'අන', 'proclaim', 'igad', 'ablaze', 'nftopensea', 'dex', 'nico', 'jonathancahn', 'aadharit', 'items', 'juanfoyth', 'prescribedharm', 'hectic', 'lindsey', 'meawarenesshour', 'tildenet', 'whyvote', 'gimnasia', 'clownworld', 'patricia', 'safemotherhood', 'ryanreynolds', 'bastards', 'nothing', 'champion', 'talens', 'sleepover', 'pattern', 'rileymeredith', 'swerve', 'matrixians', 'unwanted', 'dissolve', 'dundalkfc', 'beneath', 'toomuchdespair', 'trill', 'allegiances', 'eubiodiversity', 'price', 'hf', 'warmly', 'joyfulness', 'diaspora', 'choose', 'simple', 'css', 'spoiler', 'neither', 'tune', 'wanderers', 'florida', 'forsythcounty', 'hypertension', 'garethsouthgate', 'vrtx', 'fraud', 'integral', 'oldies', 'gunda', 'acmilan', 'operationalise', 'coffey', 'basicincome', 'bg', 'sadness', 'mechanical', 'keelin', 'aigf', 'game', '野田聖子', 'azharuddin', 'underlie', 'akshita', 'roads', 'senegambia', 'ade', 'dinowitz', 'valverde', 'milano', 'fleetleisure', 'plot', 'lab', 'jaychen', 'hypercars', 'bharosa', 'clondalkin', 'karate', 'riyan', 'refugee', 'mentorship', 'animalwealth', 'morikawa', 'anthrotwitter', 'unesco', 'labrinth', 'deji', 'zksvm', 'juv', 'tan', 'shivsenasymbol', 'countycup', 'yesterday', 'canvas', 'newestresearch', 'dnabiology', 'burn', 'craniofacial', 'currency', 'detach', 'gqsports', 'noodle', 'cleat', 'cyanotype', 'multitwist', 'guam', 'ratgpt', 'legalization', 'grady', 'exchequer', 'prognosis', 'yourbestaccs', 'kentlife', 'commoner', 'component', 'xave', 'podium', 'extinctanimals', 'ira', 'nrinder', 'cyclical', 'hegetsus', 'aiops', 'forefathers', 'gainers', 'adolescence', 'choke', 'israelites', 'teesta', 'fittech', 'valencian', 'surajkundmela', 'borisout', 'rehmanullah', 'smithy', 'terryhall', 'sightsee', 'admiral', 'inform', 'awareness', 'deplorable', 'foot', 'wander', 'tenyears', 'jfc', 'gunsafeamerica', 'rethink', 'preparations', 'kamna', 'corner', 'juuikosawa', 'intently', 'latetowork', 'credible', 'gddf', 'lesser', 'homemade', 'postage', 'oer', 'violations', 'scrap', 'parathyroid', 'zweigenkanazawa', 'watchthisspace', 'vein', 'chronicpain', 'chimayor', 'आण', 'bereavement', 'ethan', 'yashdayal', 'particpate', 'algae', 'iprrc', 'az', 'bryant', 'patmcafee', 'brightnews', 'franck', 'livehealthy', 'hadi', 'judo', 'boykesme', 'transform', 'forwardmichigan', 'fifarankings', 'cyclinglife', 'summit', 'janat', 'axxaers', 'winniethepooh', 'millstreet', 'far', 'hinduism', 'uswnt', 'comparable', 'specimens', 'visa', 'samaj', 'shawnmendes', 'biography', 'iamunbreakable', 'ones', 'fpj', 'usable', 'sandwich', 'businessnews', 'calcium', 'want', 'orthopaedics', 'goodpods', 'mukul', 'tar', 'flyingbikes', 'redundant', 'shanewatson', 'cont', 'zedek', 'tere', 'put', 'austria', 'vps', 'pbsk', 'pit', 'salmon', 'problem', 'phantasyonline', 'fault', 'shanaka', 'knock', 'irrelevant', 'windfarm', 'northern', 'hawk', 'recruitment', 'dimension', 'cote', 'intuitive', 'ngn', 'permanently', 'atp', 'softwaredesign', 'elias', 'fe', 'gorbachev', 'fulhamfc', 'playouts', 'vegs', 'renewals', 'batshit', 'prowl', 'adversity', 'teledriving', 'intersectorial', 'ehp', 'joerg', 'communityaction', 'onefamily', 'miklós', 'missionsoil', 'schirano', 'regens', 'gendergap', 'aeneas', 'henriquez', 'midsussex', 'iflxv', 'hahahahaha', 'namal', 'utilise', 'creation', 'impart', 'ocr', 'joe', 'tfbpartner', 'headhunter', 'religious', 'martens', 'anecdotes', 'heesoo', 'lebronjames', 'supervise', 'economist', 'stimulators', 'indianathlete', 'murjipate', 'raylon', 'edge', 'kirk', 'gist', 'epstein', 'rejuvenation', 'lighthouse', 'eatmorefruit', 'otago', 'signage', 'corai', 'pasture', 'chronic', 'thoughtful', 'newest', 'bolsonaro', 'bother', 'nodo', 'hike', 'aware', 'foundations', 'higheroptions', 'satara', 'bamenda', 'kalsoy', 'uol', 'skills', 'bo', 'mplrummy', 'pfp', 'groupm', 'lovescience', 'parent', 'انتخاباتت', 'cultivation', 'responsibleai', 'pundix', 'draftkings', 'baker', 'sdca', 'hussein', 'walter', 'outspoken', 'møllgård', 'narcissistic', 'promocode', 'dire', 'rivers', 'apparatus', 'terrify', 'citydiplomacy', 'cricketlove', 'disappointingly', 'pills', 'keeper', 'daughters', 'sharadpawar', 'langford', 'imagination', 'sprite', 'nanomembranes', 'suspicion', 'iadb', 'merch', 'sanath', 'gunnmoore', 'raman', 'hepatic', 'autumn', 'subtlety', 'winslow', 'parisian', 'sessions', 'kidsfun', 'lawler', 'pantry', 'mhot', 'rehman', 'sussex', 'sudamericana', 'khomas', 'explanation', 'offense', 'differentiate', 'blockchainexpo', 'cyberresilience', 'zeiss', 'mem', 'faiz', 'tysonfury', 'scilly', 'recycle', 'wireframe', 'seaairspace', 'الصحة', 'pro', 'shameful', 'stlouisnews', 'bud', 'medicaldevice', 'record', 'nbfc', 'vicious', 'unless', 'penalise', 'diabetes', 'bitsport', 'clinicians', 'privateschools', 'energycrisis', 'trafficsafety', 'expressions', 'detectors', 'rapprochement', 'gorbatschow', 'madridista', 'zhashui', 'outeredgela', 'betherealyou', 'korearepublic', 'hydrus', 'chit', 'cheat', 'technique', 'healthyislands', 'karhunen', 'modclub', 'dorie', 'veg', 'header', 'gameanalyst', 'censor', 'jamshedpur', 'massextinction', 'westbengal', 'handers', '𝘾𝙊𝙈𝙄𝙉𝙂', 'newparty', 'friedrich', 'chefs', 'schlafly', 'ghulamnabiazad', 'addison', 'livercancer', 'hag', 'bizmark', 'siwa', 'proper', 'mercerchats', 'girlfriend', 'intelligentedge', 'aidex', 'milanović', 'davidmoyes', 'inquiries', 'classmates', 'equivocation', 'franceksa', 'mondaymotivatio', 'lagalaxy', 'bano', 'vechainstats', 'bioavailable', 'bag', 'oftomorrow', 'protest', 'cereal', 'retention', 'abbey', 'peersupport', 'incomplete', 'vfxstudios', 'cook', 'remotely', 'victimisation', 'hearthealth', 'atsnbo', 'mulgrave', 'jafar', 'jeffries', 'dignify', 'conservative', 'twitternews', 'hygiene', 'pelosi', 'jump', 'drinkingwater', 'travel', 'arguments', 'gptkit', 'trumparrest', 'goldman', 'deadlines', 'sunexposure', 'interview', 'allocations', 'baio', 'keypopulations', 'pitchplease', 'bigger', 'callups', 'zeal', 'rspn', 'incomes', 'spot', 'refi', 'stallions', 'shopsmart', 'implicate', 'describe', 'laptop', 'llama', 'oath', 'msnbc', 'tripledemic', 'thankyounhs', 'advertise', 'isymfs', 'pudgypenguins', 'hockeyplayer', 'thing', 'adherence', 'student', 'leaderboard', 'heartpatient', 'tabletop', 'championships', 'hopeless', 'nareshbalyan', 'microchip', 'endoscopic', 'sgsportsagency', 'art', 'newsnight', 'plausibility', 'flccc', 'hallway', 'injunction', 'confirm', 'theft', 'hazard', 'lto', 'whoyc', 'claim', 'soy', 'biomassa', 'demographic', 'bombshell', 'psyhedelics', 'menu', 'tmc', 'sexton', 'efeso', 'fullydriverless', 'basedgpt', 'special', 'amitabh', 'pies', 'pullback', 'backpage', 'cohost', 'homecoming', 'dietz', 'firedepartments', 'sciencetwitter', 'fashionblogger', 'infringe', 'argentina', 'unsurprisingly', 'kaempferol', 'sportsbusiness', 'unhappygilmore', 'solstice', 'renal', 'bootcamp', 'electric', 'lampoon', 'paltuchacha', 'position', 'pm', 'memorize', 'widely', 'saver', 'apc', 'cushion', 'volcano', 'wksdelivery', 'brabners', 'silence', 'agnipath', 'familylove', 'towersx', 'cardiologist', 'antiwhitism', 'tpc', 'info', 'visual', 'insecticides', 'lifesciences', 'passive', 'oabc', 'nook', 'bishop', 'circumstance', 'carpfisherman', 'twenty', 'okocha', 'xspee', 'diploma', 'realamerica', 'broadest', 'incumbent', 'mediacomposer', 'casualties', 'mulbarton', 'andrapradesh', '𝒕𝒆𝒂𝒎', 'chatgptplus', 'issue', 'nz', 'acharyaatre', 'ffolkes', 'wewill', 'elland', 'souad', 'talk', 'wwjd', 'booknow', 'taaltech', 'numerous', 'populace', 'khan', 'crystalline', 'responsibly', 'teampennine', 'tejasvisurya', 'jekyll', 'truscale', 'governor', 'wane', 'mahuamoitra', 'limb', 'mindwell', 'campus', 'footballnews', 'outgo', 'droppingfacts', 'javelin', 'basement', 'citiesforwomen', 'clubdrama', 'december', 'spotifycorrupt', 'medicalstudent', 'roassokumamoto', 'wonderfull', 'courtingthelaw', 'rule', 'mentalhealthact', 'shadabkhan', 'strategized', 'madder', 'kulkarni', 'reporate', 'reclaim', 'incredibleindia', 'sweeney', 'doubt', 'relatively', 'seat', 'new', 'bigmemphis', 'bestmoments', 'meats', 'radhatmt', 'kitchener', 'palin', 'throw', 'maida', 'fivefactor', 'leicestercity', 'dishearten', 'torycorruption', 'battery', 'kaseyacenter', 'onwumere', 'rutte', 'harvest', 'arjun', 'adoption', 'weathercloud', 'drm', 'contempt', 'abuja', 'outfit', 'aao', 'newsong', 'heartburn', 'martytherobot', 'hydranet', 'paul', '𝗯𝗶𝗴', 'eyehealth', 'award', 'footballfacts', 'finn', 'farmersmarket', 'roguebogues', 'selfhelp', 'oap', 'continuity', 'tough', 'sportslife', 'torturd', 'astronomical', 'namo', 'sarumi', 'oldie', 'studyingermany', 'sustainbility', 'klein', 'samaltman', 'chipursan', 'rpggroup', 'lecture', 'által', 'vrchat', 'epilepticus', 'cardio', 'ntr𓃵', 'yuval', 'equities', 'airfryer', 'customer', 'azhar', 'complimentary', 'comment', 'acharya', 'publication', 'hemodialysis', 'cordani', 'pricecap', 'revient', 'inflatable', 'legacytech', 'mayank', 'dtv', 'plasticsurgery', 'livertwitter', 'faisal', 'itsokaytotalk', 'keylte', 'sameer', 'tbsnews', 'cowards', 'gtto', 'hair', 'fitafter', 'ophtalmology', 'statue', 'retaliation', 'healthleaders', 'beet', 'revival', 'vpns', 'scooters', 'geeq', 'geoai', 'inquiry', 'paradise', 'aalberts', 'black', 'dynaspro', 'mrbeast', 'besancon', 'transparency', 'nimble', 'reagan', 'billboard', 'findsfriday', 'xentoken', 'par', 'forexstrategy', 'prolong', 'قوم', 'ledgers', 'thuggery', 'graphicdesigner', 'jasperai', 'next', 'alliances', 'worshippers', 'lightfoot', 'mahmudur', 'frankyzapata', 'sl', 'aphis', 'testament', 'kleo', 'party', 'moreincommon', 'demand', 'watergate', 'mhin', 'community', 'directorships', 'édition', 'nitishji', 'god', 'paton', 'myfreetown', 'nodaysoff', 'masterfully', 'innvovation', 'jesuit', 'dsports', 'retouch', 'orangecap', 'btw', 'techhumour', 'polish', '新疆棉', 'xpolygon', 'register', 'pmqs', 'lesnar', 'sb', 'sydneylohmann', 'voteforkite', 'sambankmanfried', 'votethemallout', 'betsy', 'valibar', 'ics', 'vaxxers', 'cgpt', 'scholar', 'rutuja', 'hereforyou', 'couple', 'dancevideo', 'markwayne', 'starc', 'royalfamily', 'romp', 'harpreet', 'cookies', 'partisanship', 'topoli', 'uniswap', 'mgmt', 'beactiverw', 'appreciate', 'iccd', 'greater', 'improvise', 'caregivers', 'godhooma', 'scenes', 'muharram', 'cna', 'theindianunion', 'pakistancricket', 'dhealth', 'bullchit', 'stability', 'temperatures', 'fy', 'shawn', 'plodn', 'bradburn', 'johns', 'obesities', 'surgery', 'syria', 'dail', 'prosper', 'traveler', 'kwasisacked', 'lnif', 'sanitary', 'deinogon', 'babarazam𓃵', 'atheism', 'coimbatore', 'ortiz', 'tensorflow', 'yummy', 'giza', 'nle', 'foamcc', 'kneegrow', 'weekendreport', 'rbli', 'hakeemjeffries', 'musculoskeletal', 'plasma', 'zinc', 'moc', 'letsdothis', 'shortcut', 'bench', 'adityathackeray', 'phyllisschlafly', 'triple', 'streetstyle', 'costoverrun', 'writerslife', 'dinosaur', 'workaholics', 'colts', 'repercussions', 'cricinformer', 'ogoti', 'viable', 'mn', 'zlatan', 'marik', 'cannabisculture', 'pku', 'commodity', 'interferences', 'spiritua', 'jhb', 'traderjoes', 'dan', '𝐥𝐞𝐚𝐫𝐧𝐢𝐧𝐠𝐬', 'unaccountable', 'satshow', 'severity', 'greetersguild', 'lagosprotest', 'bethepeople', 'manganese', 'gardenersworld', 'fingerprint', 'discourse', 'insignificant', 'lsg', 'iplpointstable', 'crevice', 'cryptonews', 'wonky', 'tocopherol', 'whistleblowers', 'nations', 'presumably', 'prithvi', 'mypersonalbest', 'mordor', 'bandshahbook', 'paths', 'antidote', 'sgotus', 'counsellor', 'discussion', 'cdl', 'redjanuary', 'vegan', 'devs', 'yearold', 'micklylnch', 'palabek', 'goifl', 'majestic', 'trail', 'kelisa', 'tariff', 'bbc', 'telugupodcast', 'equation', 'passports', 'bizz', 'lookalike', 'iancook', 'balusays', 'getoneapparel', 'buko', 'copy', 'समस', 'cryptocurrecy', 'sotorasib', 'vala', 'eid', 'diana', 'claycasteart', 'theai', 'underdelivered', 'energigune', 'wokeup', 'unchecked', 'insulin', 'alpine', 'detachable', 'dhs', 'validate', 'korte', 'nda', 'roadtrip', 'heaviest', 'mcconaughey', 'openai', 'iplstats', 'baffle', 'congressional', 'southflorida', '𝙞𝙣', 'affirm', 'rabada', 'socialwork', 'apprenticeship', 'visionaries', '𝗭𝗶𝗴𝘇𝗮𝗴', 'cricketfixtures', 'app', 'bidi', 'humorous', 'madura', 'uconn', 'rotherham', 'corazonoutdoors', 'dillard', 'ssbn', 'veetla', 'goddesses', 'proposal', 'professionally', 'dinnerparty', 'heng', 'unfpa', 'rrvpk', 'honest', 'ho', 'bettingtwitter', 'paji', 'nanollose', 'mitochondria', 'keim', 'electionpakista', 'grayling', 'khaled', 'shettima', 'iuic', 'atl', 'mediatek', 'plead', 'warp', 'rashtriya', 'unitednations', 'ndx', 'hourofcode', 'reporters', 'pirate', 'thepioneer', 'vitgae', 'greensprings', 'ross', 'coincide', 'jarvis', 'incalculable', '𝘈𝘤𝘩𝘪𝘦𝘷𝘦', '𝗟𝗮𝗽𝘁𝗼𝗽', 'بےحس', 'assassination', 'jacobabad', 'alsina', 'russians', 'yuvraj', 'bengalrejectbjp', 'enginneering', 'anybody', 'fud', 'monbiot', 'outrageous', 'twitterdown', 'eviction', 'ramadanbenzema', 'alpaca', 'bsc', 'cytoskeleton', 'guardrails', 'nftutility', 'valves', 'sudarshan', 'prosecutions', '𝘀𝗮𝗺𝗲', 'googleai', 'safemoon', 'sfootball', 'vest', 'ethnically', 'liinason', 'youthwork', 'nbahighlights', 'liztrussout', 'coronary', 'trumptreason', 'pregnancy', 'marriage', 'storylines', 'admissions', 'teamlineup', 'setbacks', 'kwakwa', 'jofraarcher', 'icas', 'blackrock', 'worldhealthday', 'voter', 'bangers', 'mediamgmt', 'satvicfood', 'drama', 'refurbish', 'trendingnews', 'timetotalk', 'ground', 'hvfc', 'terrington', 'defend', 'additive', 'shib', 'oia', 'generalequality', 'inclusio', 'lame', 'climateaction', 'aaronson', 'keane', 'dalesteyn', 'flowframe', 'opioid', 'cuban', 'artgallery', 'kashmirica', 'abs', 'ispcc', 'cspr', 'appropriately', 'senior', 'group', 'kong', 'pmod', 'oceanhealth', 'rev', 'mechanization', 'wardboys', 'drift', 'houck', 'urology', 'supergiants', 'vector', 'cfb', 'together', 'tiredaf', 'miraj', 'congresscrisis', 'रतज', 'di', 'dilworth', 'wicks', 'bettsunami', 'rison', 'palladium', 'politica', 'reuters', 'fabio', 'grave', 'festoon', 'alexanderdugin', 'joaquin', 'legislation', 'finlandpm', 'ramzancricket', 'munch', 'charities', 'corporates', 'mcas', 'ogcnpsg', 'rino', 'blexit', 'justgoforit', 'guncontrol', 'apocalypse', 'cortex', 'licy', 'cum', 'hehe', 'philshagsgrass', 'endgame', 'bore', 'macau', 'failedcmysjagan', 'syrians', 'shapiro', 'remote', 'actorslife', 'fakenews', 'inheart', 'cytomics', 'sundaresan', 'teamgt', 'swindon', 'bunnygirl', 'personae', 'jurgenklopp', 'thingy', 'mumbaitrains', 'modigovt', 'malemodel', 'deepest', 'suna', 'makarios', 'thyroid', 'wannabe', 'kansans', 'totally', 'unprocessed', 'depressio', 'aapakistan', 'squander', 'nightowls', 'chainlink', 'cathedrals', 'everything', 'botch', 'ultimate', 'reliablesources', 'coinmarketcap', 'disregard', 'endabortion', 'writefull', 'nai', 'gunrights', 'avinash', 'brett', 'wymondham', 'fairly', 'deansays', 'jaspritbumrah', 'donnarumma', 'carty', 'favor', 'bookstore', 'retinopathy', 'ldnvotes', 'handful', 'coordinator', 'oleksandriya', 'chh', 'henryk', 'pittsburgh', 'ensure', 'rigorous', 'chz', 'adrien', 'rogergoodell', 'theyearthatwas', 'mdknowsbest', 'eygpt', 'agitate', 'cusp', 'uber', 'eugenia', 'innocent', 'weaken', 'jadesportsbetph', 'opendata', 'batsmen', 'variants', 'comparison', 'inalienable', 'alcc', 'ainews', 'unlimited', 'arendt', 'gul', 'usha', 'cris', 'might', 'napoli', 'sara', 'disinformation', 'corruption', 'brazil', 'writinglife', 'landslide', 'shake', 'swanky', 'marx', 'package', 'sindhfacts', 'geriatrics', 'rashid', 'gurumantra', 'bloodshed', 'quercetin', 'naturopathic', 'imbrahimovic', 'dangerous', 'mexicocity', 'farzana', 'thanksgiving', 'subsidiary', 'agnipathwapaslo', 'remainder', 'cater', 'pazzo', 'fool', 'virtualtryon', 'baena', 'bbk', 'greenagenda', 'mets', 'abel', 'pocket', 'interiordesign', 'afit', 'saeedanwar', 'bukele', 'leqembi', 'oust', 'humidity', 'meningitis', 'comorbidities', 'pathophysiology', 'valiant', 'honeydew', 'opps', 'cosy', 'dussehra', 'zuckerberg', 'foxify', 'healthworker', 'debunk', 'lankans', 'editions', 'lgbtiq', 'architechture', 'valuable', 'corporator', 'flightaware', 'idealabsdc', 'embound', 'whistlepodu', 'isolate', 'gregorian', 'zierlein', 'bach', 'finisher', 'naturepositive', 'innovator', 'laughton', 'unionberlin', 'cleanser', 'cricketball', 'harvick', 'clear', 'fellowships', 'tmw', 'simon', 'ss', 'timcook', 'asklepion', 'warhol', 'flowerstoo', 'businesses', 'ra', 'flavour', 'workingonmyself', 'bodyshaming', 'africaarena', 'mutualfunds', 'restaurants', 'magicman', 'artcollector', 'mm', 'languages', 'étudiant', '𝐒𝐮𝐩𝐩𝐨𝐫𝐭𝐞𝐫𝐬', 'teamwsb', 'clamp', 'herbalife', 'quiz', 'humangenome', 'clearer', 'mwf', 'elliott', 'vardy', 'endgunviolence', 'kkriders', 'yuvalnoahharari', 'gareth', 'ccp', 'ctra', 'nodejs', 'chanakya', 'pythonapi', 'murphy', '𝐏𝐋𝐀𝐘𝐄𝐑𝐒', 'giveawayalert', 'pstnews', 'tanzania', 'cbse', 'suhanakhan', 'leonard', 'extensors', 'rioter', 'entail', 'ibbetson', 'youbeyou', 'karnatakanews', 'liluzi', 'thiel', 'delhiliquorscam', 'tomballmath', 'dustproof', '𝑷𝒍𝒂𝒚𝒆𝒓𝒔', 'annamalai', 'dindaacademy', 'sandy', 'cartography', 'bcndp', 'tiaglin', 'twat', 'pathya', 'fiqre', 'streetwear', 'bnw', 'lifeofpets', 'sher', 'ticwatche', 'ronin', 'gia', 'daughter', 'stenger', 'tamarashealey', 'knowledge', 'temps', 'ligoai', 'via', 'specialstatus', 'hoffenheim', 'karak', 'mtfks', 'corporations', 'del', 'babyboomers', 'mislead', 'ingrid', 'mythvsreality', 'definitions', 'addijibday', 'hemingway', 'psychedelic', 'laurent', 'resilient', 'da', 'techjobs', 'tombowerrevenge', 'hallo', 'biometric', 'absci', 'demo', 'fill', 'trustworthy', 'amish', 'reconstruction', 'transgender', 'iems', 'chemtwitter', 'shortlink', 'gladstone', 'cornell', 'disturb', 'hemp', 'coybig', 'methodological', 'aon', 'travelers', 'newstrack', 'syphilis', 'britney', 'wearamask', 'fcb', 'low', 'bertrand', 'celebrity', 'cod', 'hm', 'medford', 'fsa', 'cerebrospinal', 'dilutive', 'togetherall', 'militaryfamily', 'essex', 'anemia', 'dilipvengsarkar', 'wad', 'decency', 'poilievre', 'checker', 'administrate', 'kickass', 'megacity', 'será', 'prateek', 'biologically', 'transaction', 'breakthecycle', 'kochi', 'collumns', 'garethbale', 'nope', 'chasers', 'rookies', 'horseshoe', 'nf', 'clint', 'urbanhealth', 'mcwpakistan', 'dutch', 'observer', 'liverpoo', 'kl', 'jamboree', 'allu', 'genderpolitics', 'argentinian', 'betfair', 'swissalps', 'modalities', 'sian', 'secure', 'nevertrump', 'vaccination', 'naroda', 'harshly', 'lydd', 'saytuga', 'physicians', 'pin', 'beasts', 'rever', 'gmm', 'newweek', 'disrupt', '成为微博热门话题', 'paramedic', 'locality', 'ob', 'abkhazia', 'fresno', 'wildearth', 'supersonic', 'unworthy', 'slang', 'ftw', 'nelsonbc', 'cheetahs', 'timesradio', 'music', 'blow', 'hungercrisis', 'salesforce', 'sylvester', 'hernandez', 'serie', 'lmantra', 'cleanse', 'boil', 'aalameen', 'infillion', 'dallascowboys', 'serum', 'unification', 'outfall', 'sensibilities', 'edwardabbey', 'punishable', 'fog', 'longhaulers', 'powerless', 'generous', 'vendetta', 'azimio', 'teameva', 'propel', 'bowlerhat', 'herosupercupq', 'bpm', 'instal', 'ugmc', 'slaughter', 'compose', 'excluzeev', 'pineapple', 'gallinews', 'technologists', 'grudge', 'videoediting', 'unencumbered', 'dear', 'dal', 'smartschool', 'mandaviya', 'antibiotic', 'hargobind', 'thermocouple', 'smartglasses', 'aesthetics', 'csf', 'battlesports', 'pakistanhistory', 'canvass', 'predictions', 'khalistan', 'mandate', 'batterymarket', 'plate', 'zealy', 'baroudi', 'sheepfarming', 'hatefull', 'literally', 'dancehealth', 'swear', 'healthecon', 'semifinals', 'kiptoo', 'myoc', 'atlanta', 'skeletor', 'effusion', 'pimpri', 'nail', 'apollo', 'pachumandas', 'aistrategy', 'pseudo', 'hashtags', 'healthsystem', 'sargodah', 'lonavla', 'dysphoria', 'videoconference', 'pathankot', 'bloodstream', 'highereducation', 'unverified', 'amidst', 'virnetx', 'wigs', '𝐅𝐫𝐚𝐧𝐤', 'disruptions', 'revelation', 'srkian', 'michele', 'venkat', 'turkey', 'northeastlive', 'roboticsurgery', 'metallurgy', 'hospitalise', 'nationals', 'intersection', 'matthancok', 'shraddhawalkar', 'clean', 'agritech', 'danish', 'thdistrict', 'hasta', 'nut', 'eriksen', 'futurelearning', 'mohamed', 'hindutva', 'educomonline', '𝐆𝐞𝐚𝐫𝐲', 'laser', 'justsaying', 'prior', 'fathiah', 'collegesport', 'ambulancestrike', 'exacerbate', 'recoveryposse', 'schilderij', 'aisa', 'auchincloss', 'comicart', 'model', 'inextricably', 'zombification', 'immunotherapy', 'entertainment', 'sa', 'rewilding', 'zambezi', 'mashable', 'youve', 'bodmas', 'guardia', 'schizophrenia', 'windsorelection', 'chilliwack', 'soldier', 'terroristbjp', 'soviet', 'paraverse', 'postponement', 'promoters', 'pb', 'youthinpolitics', 'openschool', 'mechanics', 'pebble', 'aquired', 'rasu', 'psa', 'ist', 'urawa', 'alnasr', 'tunnel', 'photogrammetry', 'teach', 'quick', 'likeabosch', '𝗆𝖺𝗋𝗏𝗂𝗇𝗋𝗈𝖼𝗁', 'michaelfanone', 'literate', 'trojans', 'assosiated', 'päivi', 'incl', 'slotreciever', 'topless', 'realise', 'televise', 'pe', 'brachial', 'edelrodriguez', 'emilyfox', 'punishment', 'collaborators', 'token', 'onlinegaming', 'terrybradshaw', 'volkswagen', 'hodlers', 'theend', 'kanimozhi', 'contract', 'nmnp', 'strike', 'lonely', 'cabernet', 'dao', 'flight', 'crash', 'simtech', 'footballquotes', 'owaisispeech', 'bellletstalkday', 'psychologists', 'sunno', 'shred', 'bedard', 'attorney', 'streets', 'wingbuilder', 'oscar', 'contentment', 'dunn', 'frisbee', 'raul', 'preference', 'acc', 'holders', 'celebrate', 'spontasy', 'nfltwitter', 'nourishnetwork', 'somnifera', 'kamala', 'ignorance', 'politricks', 'flank', 'holyweek', 'adidas', 'hazlitt', 'considerations', 'scarf', 'cricketseason', 'ionq', 'consumer', 'kolkata', 'digambar', 'vonnegut', 'tiktokviral', 'dcvsrr', 'toxins', 'womenshealth', 'hasten', 'boss', 'condoms', 'muck', 'transphobes', 'pick', 'original', 'talent', 'unioulu', 'andrews', 'covidisntover', 'paleocon', 'ngo', 'umpire', 'dynastyfootball', 'relativity', 'touch', 'mundane', 'alqaeda', 'immersive', 'gramasabha', 'holidaypay', 'winston', 'caveats', 'customization', 'providers', 'temperate', 'atlas', 'trueleader', 'michiganstate', 'folk', 'dxlab', 'revolve', 'healthworkforce', 'ironman', 'veganfood', 'pickd', 'th', '𝗠𝗼𝗻𝗶𝘁𝗼𝗿', 'nuclearenergy', 'presenters', 'equinox', 'prototype', 'avoidance', 'raleigh', 'shill', 'bettereveryday', 'hasan', 'aimusic', 'tareenacademy', 'transcript', 'toshihisa', 'reesmogg', 'primarily', 'rub', 'blockchainspace', 'require', 'golf', 'disestablish', 'normanlear', 'aphid', 'feg', 'friendlymatch', 'oversee', 'healthai', 'saab', 'ample', 'saint', 'onion', 'eucanbeatcancer', 'mhada', 'jakarta', 'stereotype', 'pericardial', 'frodo', 'denim', 'militarise', 'calcio', 'acclaim', 'cai', 'aan', 'sunni', 'ollie', 'grader', 'liga', 'newbeginnings', 'awamileague', 'microplastics', 'mcgarvey', 'mall', 'bigrigalert', 'viewpoints', 'ibxrunning', 'parrishfl', 'concomitant', 'anxietyrelief', 'minoritism', 'kent', 'ceilings', 'facilities', 'racialization', 'thatta', 'factoryfarming', 'allround', 'howblockchain', 'massachusetts', 'bhadada', 'marketplaces', 'multivitamin', 'telos', 'gayguy', 'fundraiser', 'kcm', 'secondamendment', 'vodcast', 'championscup', 'newsanchor', 'mcr', 'arguably', 'nofinadv', 'julian', 'pdl', 'mumba', 'mocha', 'pmmodi', 'traditions', 'maillard', 'paediatrics', 'creadorpeople', 'niacin', 'christophe', 'vikram', 'behrendorff', 'dorsett', 'sweets', 'receipes', 'oem', 'arson', 'mater', 'ruleoflaw', 'rmc', 'musiceducation', 'erenjam', 'kwarteng', 'customs', 'mental', 'sean', 'dey', 'ch', 'recurrent', 'classiccars', 'aprilfools', 'titansspace', 'kritisanonfc', 'teddybear', 'verge', 'vechainthor', 'sixty', 'narcissists', 'footballcamps', 'magnet', 'ukparliament', 'perikatan', 'prosthetic', 'unusable', 'antibody', 'excuse', 'pronouns', 'semieda', 'sunil', 'communicable', 'megaexclusive', 'rfl', 'cycle', 'pelicans', 'engage', 'instantaneous', 'sahm', 'collegiate', 'wage', 'crpd', 'authorize', 'freebet', 'nfts', 'tableau', 'aiofwealth', 'decrease', 'interferon', 'cryptotraders', 'julialopezmp', 'gymworkouts', 'urinalysis', 'anglers', 'stirling', 'menther', 'ehealth', 'kneeing', 'maken', 'morrison', 'renton', 'guidelines', 'breakfast', 'soze', 'deficiency', 'roughest', 'speed', 'early', 'hythe', 'citycouncil', 'ashwin', 'raw', 'mountaintops', 'oz', 'indogerman', 'lance', 'glance', 'zennie', 'artboxone', 'themario', 'richarlison', 'saturdaymood', 'fakharzaman', 'petrol', 'operational', 'communal', 'eyecandy', 'manga', 'moringa', 'magine', 'principles', 'catsenate', 'sunilchhetri', 'jama', 'chiefskigndom', 'qualitas', 'cmu', 'freezubair', 'mentalmirjafar', 'rulechanges', 'metric', 'infanticide', 'timemagazine', 'quarterly', 'odysee', 'hgtp', 'buffalobills', 'comprehensive', 'impanel', 'haigler', 'life', 'strategy', 'dawn', 'estrange', 'happyholi', 'lifesaver', 'metaphor', 'vodafone', 'standup', 'aesseal', 'cpm', 'weltraum', 'naik', 'bible', 'chip', 'ufc', 'hoga', 'elsevier', 'satirist', 'proact', 'cult', 'waita', 'firoozaaghan', 'vienna', 'vehicle', 'trickledown', 'enthusiasts', 'basis', 'toryfascists', 'concept', 'gilmore', 'emi', 'keqiang', 'spectrum', 'rampage', 'geopolitical', 'sectors', 'iaccp', 'nicmeity', 'hitter', 'exceptions', 'leed', 'libarels', 'bruges', 'bilateral', 'glossop', 'identity', 'bjptamilnadu', 'obvious', 'improveng', 'databreach', 'posschain', 'pulborough', 'hercareer', 'broadly', 'ynwa', 'stanley', 'ashish', 'notable', 'embark', 'pritchard', 'autonomously', 'thebigguy', 'obsolete', 'fridges', 'nanobots', 'tabletopgames', 'wager', 'babydogeceo', 'celine', 'flynn', 'attachments', 'itvnews', 'monkeypoxvirus', 'dome', 'sarahkallayblog', 'opendataday', 'evolutionary', 'nottinghamshire', 'globalization', 'codenamed', 'gunreformnow', 'clydebank', 'lelantus', 'spite', 'emissaries', 'stuttgart', 'effectively', 'promptai', 'feminist', 'minors', 'journo', 'gree', '𝑭𝒐𝒐𝒕𝒃𝒂𝒍𝒍', 'dancereminder', 'sisterhood', 'tbuck', 'saravanan', 'buxton', 'biological', 'apln', 'losalamitos', 'dracup', 'agegap', 'msg', 'snet', 'stammer', 'womensfootball', 'aiims', 'iss', 'equaliser', 'viralhog', 'solomon', 'sfa', 'hypocrisy', 'woo', 'warfighting', 'psychotic', 'distract', 'supermarket', 'lamar', 'bereave', 'adamas', 'ronald', 'animism', 'restriction', 'smartnews', 'sight', 'sunset', 'bluebird', 'bmw', 'lotus', 'oxidation', 'spirulina', 'dctitans', 'brn', 'nil', '𝐲𝐨𝐮𝐫', 'beyou', 'monoclonal', 'spaghetti', 'leadingideas', 'dissatisfy', 'sportstrendscan', 'moral', 'glare', 'exclusions', 'locomotion', 'sportsupdate', '𝗣𝗿𝗼𝗷𝗲𝗰𝘁', 'computervision', 'pagano', 'volume', 'emeritus', 'stack', 'vitamin', 'amend', 'acm', 'festivals', 'ukrunchat', 'sentence', 'subsidise', 'astrazeneca', 'nagaland', 'gamechanger', 'antarctica', 'mammograms', 'pgts', 'usage', 'nocontact', 'hunger', 'groundhopping', 'uncertainty', 'caso', 'worldseries', 'wire', 'supermarkets', 'confederation', 'comfortable', 'update', 'constitutional', 'educoach', 'agrivoltaic', 'speakupmen', 'ashur', 'cardiologists', 'shelton', 'australians', 'possess', 'carloancelotti', 'fxing', 'thepractice', 'equipment', 'dysfunction', 'afterwards', 'whipthemout', 'nasa', 'devgn', 'sciku', 'rhodeisland', 'latham', 'bewundere', 'tarragon', 'jesuschrist', 'solitude', 'unscrupulous', 'barrage', 'europaleague', 'citidotio', 'heart', 'downward', 'diedsuddenly', 'parivaaar', 'uta', 'tombower', 'tip', 'dermatology', 'nutrients', 'asroma', 'xeon', 'reggae', 'andh', 'delusional', 'harisrauf', 'psychotherapy', 'size', 'techs', 'batteriesnews', 'russianarmy', 'sidus', 'russian', 'determinants', 'birdtail', 'de', 'mudra', 'orlandobloom', 'rituals', 'nottingham', 'reversible', 'trivia', 'submit', 'discountedbooks', 'frontpage', 'congressprotest', 'freind', 'georges', 'yal', 'massage', 'bazuka', 'dumber', 'unrivaled', 'jaggery', 'espscout', 'acent', 'dvcax', 'branko', 'belt', 'scrotus', 'advent', 'anchor', 'hackers', 'spirituality', 'greenwitch', 'doj', 'chatgtp', 'nzlsri', 'cricketclub', 'beisbol', 'ineffective', 'bidenspeech', 'duk', 'innsbruck', 'katsina', 'embraceequity', 'efficient', 'ecgs', 'mohammadnawaz', 'amclub', 'pericles', 'uselections', 'bazaar', 'youtubers', 'xpr', 'aventador', 'aol', 'crist', 'roulette', 'stress', 'uncontrolled', 'webinars', 'yat', 'egbeda', 'حقوق', 'anwaribrahim', 'firstinindia', 'sportsdaily', 'attractiveness', 'borah', 'healthyrecipes', 'competitiveness', 'gosbts', 'bmj', 'worldwide', 'genovationgxe', 'crush', 'mahany', 'cst', 'csection', 'assortment', 'dg', 'brexiters', 'magazines', 'quan', 'masterpiece', 'walo', 'notion', 'preventive', 'bing', 'rectification', 'respectable', 'juliette', 'datascientists', 'victoria', 'weareuow', 'hasaranga', 'latest', 'lancashire', 'hometownheroes', 'merchants', 'northwest', 'scary', 'patriots', 'हट', 'burnin', 'polyphenols', 'perform', 'wink', 'resolute', 'whammy', 'swiftly', 'wa', 'socialcare', 'colorectal', 'xdcnetwork', 'mojito', 'splv', 'bloomington', 'sachin', 'neodymium', 'diehl', 'shrine', 'brrrr', 'puja', 'rushden', 'illegally', 'sdsports', 'leadership', 'dradetountanni', 'iaio', 'authorities', 'rinku', 'supermodel', 'bala', 'lula', 'aussie', 'pcc', 'nhk', 'mohammadsalah', 'sehwag', 'clandestine', 'sns', 'counselors', 'render', 'cinnamon', 'lakhimpurkheri', 'joke', 'dispatch', 'pinarayivijayan', 'clone', 'campaigner', 'divisions', 'ofilam', 'suryakumar', 'erich', 'rehabilitative', 'cis', 'commercialize', 'mlbtwitter', 'homelessness', 'nominations', 'critical', 'danny', 'varavara', 'heartbeat', 'wagner', 'terracasino', 'frameworks', 'murrell', 'mirsj', 'leh', 'mile', 'virgin', 'snow', 'realmuto', 'hemisphere', 'edappadiyar', 'aquatic', 'residents', 'mk', 'coffers', 'collegium', 'skyx', 'digitalassets', 'metalist', 'powys', 'sdglive', 'oshoala', 'submersible', 'jamal', 'andrewcuomo', 'miriam', 'fortress', 'skybluearmy', 'portray', 'cstd', 'sanjeevkaushik', 'solvers', 'criminology', 'assess', 'elephant', 'manti', 'aldosteronism', 'usk', 'augmentation', 'comedyvideos', 'corbynwasright', 'crete', 'almonds', 'virgil', 'themasters', 'warmer', 'lucrative', 'latvia', 'dumpster', 'lower', 'notification', 'psychiatrist', 'dino', 'formers', 'worldchampions', 'blackfounders', 'burjkhalifa', 'drinkers', '圣诞快乐', 'tipwin', 'limit', 'orient', 'magic', 'saintsfc', 'bgs', 'shortlist', 'dolomites', 'zionism', 'jabari', 'omled', 'trendtechai', 'foul', 'overtake', 'electionheroes', 'outfield', 'flotus', 'vic', 'defenders', 'narendramodi', 'gratification', 'preston', 'engine', 'griezmann', 'tear', 'mohd', 'chakaravarthy', 'kaun', 'dramatically', 'feyenoord', 'copenhagen', 'abdominals', 'futebol', 'primeries', 'tacos', 'shed', 'bluewave', 'fatboy', 'dynastyrule', 'supervisors', 'digitalasset', 'sugarcane', 'equalsport', 'boxingday', 'max', 'ragtag', 'stv', 'classism', 'cuba', 'trigger', 'ante', 'microorganisms', 'eq', 'pale', 'kickreturm', 'pyth', 'blgc', 'wazobia', 'lefties', 'barnet', 'gerda', 'fom', 'baltimoreravens', 'fijifootball', 'pngtech', 'montrezl', 'brainwave', 'tva', 'jhatke', 'pregnancyloss', 'sussexcricket', 'realtime', 'votingreform', 'yemen', 'ambition', 'within', 'jacksonville', 'kloppout', 'degradation', 'girlsfootball', 'orate', 'gippsland', 'barista', 'des', 'nearby', 'agricultural', 'karma', 'mitigate', 'desalination', 'toughest', 'reactions', 'cctv', 'polarise', 'prashant', 'terminal', 'khaldon', 'redraft', 'bwtm', 'gtvkkr', 'islamabad', 'carpediem', 'ramp', 'الشباب', 'asylum', 'conceptual', 'byelections', 'jaxon', 'informer', 'den', 'tedlieu', 'gong', 'zeldin', 'decentwork', 'romcom', 'fellas', 'faculty', 'rapist', 'inspiration', 'firta', 'descend', 'sriharikota', 'redcross', 'feiha', 'scandalous', 'constraint', 'udemy', 'lenses', 'fermentation', 'close', 'leisurewear', 'climatestrike', 'conor', 'karachiunited', 'dissect', 'roundup', 'methodologies', 'arabian', 'blasphemy', 'govts', 'parivrtta', 'dpworld', 'pul', 'localhistory', 'kryos', 'pod', 'confident', 'podesta', 'fukuma', 'durgapuja', 'bipap', 'downtownlondon', 'meloni', 'aprgrip', 'oven', 'billingham', 'swindle', 'cryptotrails', 'nextlevel', 'yi', 'lancet', 'mentalwellness', 'riturajgaikwad', 'ipf', 'minaj', 'ncbs', 'oxide', 'somewhat', 'visualart', 'hazratali', 'hih', 'fail', 'maneuver', 'donegym', 'hergametoo', 'quest', 'dunk', 'offload', 'cyrilramaphosa', 'sovereign', 'blind', 'albert', 'savarde', 'context', 'uniform', 'tissue', 'aipredictions', 'sp', 'stickers', 'skeptical', 'knarly', 'ever', 'patchwork', 'testimonial', 'cmhemantsoren', 'possessions', 'حکمران', 'selfcareday', 'grime', 'armytech', 'gallardo', 'geni', 'intl', 'neocolonial', 'kinetic', 'lundkvist', 'stubbleburning', 'visioners', 'larkfield', 'sportsbet', 'presidents', 'saludcontech', 'esar', '𝙅𝙊𝘽', 'villain', 'automaker', 'flier', 'sherin', 'siddiqui', 'plump', 'lineman', 'grove', 'zainab', 'infiltrate', 'crickenews', 'stadium', 'kiwi', 'varun', 'piano', 'tnpolitics', 'highcoon', 'midlife', 'unfamiliar', 'hood', 'gasprices', 'spadays', 'brainresearch', 'kikerlearning', 'bf', 'stalwarts', 'prosperity', 'iym', 'usc', 'questio', 'assist', 'analyst', 'scfas', 'dharma', 'gentleness', 'quran', 'neuroniai', 'theologists', 'mountains', 'ixr', 'anger', 'conspiracies', 'connectivity', 'minecraft', 'worker', 'pleaser', 'icu', 'sabir', 'corrupt', 'electrostatic', 'child', 'transpose', 'curtail', 'thirupathy', 'intellectual', 'surpass', 'ringthebell', 'airborne', 'communalism', 'gujratis', 'ummm', 'fumio', 'vto', 'diagen', 'firstview', 'cpcldr', 'depwd', 'magnetically', 'footrax', 'speakup', 'speedster', 'beaware', 'alphagen', 'bewhere', 'unrwaworks', 'kagisorabada', 'atal', 'vacay', 'hoffer', 'treason', 'vacancies', 'murshid', 'gag', 'shotokan', 'sink', 'semua', 'sharktankindia', 'counselor', 'lkr', 'jamesvgingerich', 'sportzi', 'thailand', 'preservation', 'esp', 'روز', 'glamorgan', 'jawaharlalnehru', 'xrtechtalks', 'stressless', 'azad', 'laoisgaa', 'usability', 'rds', 'quay', 'composer', 'kasa', 'malawi', 'layla', 'cbnsays', 'arsenalfc', 'majboori', 'vr', 'nima', 'scholarsunday', 'cesspit', 'undergo', 'reside', 'beatfantasy', 'calorific', 'uproot', 'rufina', 'von', 'azelton', 'glulam', 'pregnant', 'persuing', 'mnf', 'fountains', 'hurdle', 'compo', 'civilwar', 'bluespace', 'emergintech', 'boardexam', 'radiographic', 'capt', 'tonsil', 'sportsindi', 'hameed', 'among', 'detaind', 'chadwickboseman', 'hipaa', 'umesh', 'lisa', 'density', 'thankfully', 'pricehike', 'hispanicvoters', 'mitchels', 'sath', 'onboarding', 'rohitranjan', 'joni', 'wwdc', 'van', 'nagoya', 'lawtech', 'plod', 'grantee', 'lunar', 'crickettwitter', 'maamaatimanush', 'error', 'crsp', 'relieve', 'ciberseguridad', 'simplicity', 'array', 'essentially', 'commodoretoken', 'liberty', 'saveourschools', 'mobilemarketing', 'detection', 'multicropping', 'tamale', 'intergrating', 'sakaja', 'cat', 'footballtickets', 'mobilehealth', 'sam', 'bellletsta', 'pig', 'afy', 'uebertangel', 'rodriguez', 'educatio', 'gaikwad', 'turbine', 'pedagogical', 'barrow', 'acceptability', 'raise', 'dast', 'automate', 'sciences', 'deceive', 'dead', 'litho', 'ahprocafe', 'pahunch', 'digitalcareers', 'phoenix', 'smart', 'legitimate', 'slovakia', 'zonal', 'tagore', 'sekharkammula', 'trusstax', 'extensor', 'losc', 'bioethics', 'aaronfinch', 'phc', 'newport', 'millwall', 'inequality', 'biomimicry', 'gheaus', 'stressful', 'chiranjeevi', 'suggestive', 'malley', 'laligasantander', 'villarrad', 'lizcheney', 'trainingkit', 'mormonism', 'pfas', 'theapplications', 'healthnews', 'vapor', 'badrinath', 'asiwaju', 'security', 'indonesia', 'logodesigner', 'openaccessweek', 'rrvsdc', 'berniesanders', 'paulforall', 'latch', 'crave', 'unmatched', 'seamless', 'baseballgame', 'brexitcast', 'stevebarclay', 'suboptimal', 'radiculopathy', 'microbiota', 'preparer', 'khashman', 'robotdebtrc', 'capacity', 'croatian', 'decorate', 'progressives', 'vra', 'safest', 'osasuna', 'safely', 'alio', 'electic', 'onlineaccount', 'providence', 'berkeley', 'animoca', 'nickel', 'bikinigirl', 'gloves', 'boseogulu', 'dak', 'childabuse', 'mehmet', 'breakdown', 'objectionable', 'manikins', 'ur', 'usdt', 'presspack', 'wheee', 'feinstein', 'pribula', 'untruths', 'atleast', 'mkhwebane', 'rrvpkbs', 'meanwhile', 'brittanyhiggins', 'collablorations', 'german', 'newell', 'cannelés', 'adaption', 'vpn', 'burden', 'dahani', 'parktraining', 'epsilon', 'sq', 'nzpo', 'repurposed', 'briefcases', 'gameoftheashes', 'ledama', 'gymtime', 'graft', 'bbcbangla', 'newsmo', 'hilarious', 'inculcation', 'foreseeable', 'tribalindia', 'sunrun', 'maidstone', 'photronics', 'iwanski', 'divest', 'bakwaas', 'slope', 'arbitrary', 'hapsport', 'wms', 'sinnfeinn', 'commercialise', 'bind', 'myindmakers', 'twinkly', 'hacker', 'grizzlies', 'qualifiers', 'busloads', 'whereisliztruss', 'rabona', 'sportsnesupdate', 'workpieces', 'computation', 'twenties', 'stroud', 'palmerstown', 'womentalking', 'homicides', 'könig', 'strikeoutbeer', 'sisanda', 'tradingstrategy', 'braz', 'sevapakhwada', 'waterproof', 'algalonai', 'publish', 'pitchfest', 'greenenergy', 'nxs', 'mahuta', 'wonderful', 'karen', 'achievable', 'rajghat', 'imprint', 'thatcher', 'fyi', 'vihta', 'rebellion', 'narendramod', 'esec', 'disrepute', 'ibmpartner', 'dravid', 'factually', 'abysmal', 'mitoresearch', 'richmond', 'middle', 'impression', 'digitalstrategy', 'rebuild', 'generic', 'striker', 'breeders', 'phenomenon', 'visible', 'golfgate', 'elasticity', 'impersonal', 'otg', 'inconsiderate', 'damn', 'solananft', 'meetup', 'gujaratmodel', 'potency', 'aide', 'warrior', 'mentality', 'christmastime', 'nissanka', 'ik', 'minicure', 'calmn', 'vamos', 'situation', 'spew', 'pahnwaro', 'hytro', 'chrisphilps', 'atimpact', 'wife', 'minton', 'gadgets', 'himachalpradesh', 'thesun', 'teammate', 'priest', 'carlisle', 'krichmar', 'choy', 'schedule', 'unlearn', 'aryan', 'wellnesstips', 'weston', 'nawaz', 'prescriptions', 'wallets', 'jaylen', 'nwl', 'person', 'hakim', 'canhão', 'wnssports', 'lipstick', 'beeah', 'feel', 'usecases', 'diligently', 'alfa', 'karadottir', 'dwarf', 'tucker', 'disrespect', 'deventer', 'solarize', 'sarabjit', 'carboncredits', 'paralysis', 'acrimonious', 'diversityinstem', 'parimal', 'knox', 'niki', 'carers', 'inactive', 'ratbaggery', 'conversion', 'eos', 'deshaunwatson', 'waterfall', 'moderation', 'snooze', 'singh', 'destroy', 'que', 'risewithus', 'virtues', 'stories', 'shukriya', 'lstwitter', 'easterweekend', 'willfully', 'prebiotics', 'pma', 'contaminant', 'newexperience', 'writeup', 'covid', 'chemist', 'intolorance', 'ridepennine', 'highlandhome', 'wasnt', 'allnatural', 'cantona', 'sitter', 'emojis', 'baggage', 'laptops', 'dtes', 'shipbuilding', 'localcontent', 'euthanasia', 'playstaion', 'ordinary', 'nexstem', 'thenetherlands', 'neill', 'lilbaby', 'consumerism', 'noor', 'shrink', 'mcfadden', 'fulfill', 'rama', 'illumination', 'humiliate', 'heavily', 'pbkvsrh', 'pixia', 'satyendrajain', 'avaxnft', 'leach', 'darryl', 'superbowl', 'prison', 'pantos', 'synapse', 'chrome', 'shubhmangill', 'cinema', 'arise', 'helmetsensor', 'alumni', 'indians', 'patrickmahomes', 'yann', 'lifeskills', 'lankan', 'clubshop', 'uttarpradesh', 'tlf', 'mwsn', 'shankaracharya', 'firmino', 'bscgem', 'tmobile', 'zigzag', 'classicfootball', 'phyllis', 'gods', 'instigate', 'strategies', 'carney', 'depress', 'politician', 'dairy', 'diplo', 'adage', 'imelda', 'kabaddi', 'trias', 'microbiomes', 'adler', 'kelantan', 'audit', 'fleet', 'aama', 'polity', 'shapeshifting', 'thje', 'mph', 'rheumtwitter', 'demographics', 'gaymer', 'ishankishan', 'pranayama', 'xfltwitter', 'mkveterans', 'nationalfront', 'simplify', 'isoveda', 'globonews', 'smh', 'tenderness', 'deep', 'kishida', 'kilometers', 'inhulets', 'khairpur', 'defiant', 'hail', 'bersatu', 'chorley', 'arch', 'itvsport', 'globallogic', 'smartnft', 'birmingham', 'cart', 'habitats', 'racket', 'edresearch', 'gndl', 'playoff', 'vaxxed', 'wowlotto', 'gaud', 'boosters', 'skybluetavern', 'reactor', 'catalogue', 'goodie', 'forum', 'humility', 'californians', 'gs', 'wintertesting', 'tamang', 'patient', 'nasal', 'mabs', 'colinkaepernick', 'operatives', 'pkrcongress', 'soccerleague', 'distinct', 'lmk', 'burj', 'asta', 'climatejustice', 'decoration', 'footballshow', 'crg', 'controllable', 'gurnoor', 'adeelrizki', 'certify', 'failure', 'agye', 'integrations', 'votearama', 'enshrine', 'rubendias', 'headline', 'shimla', 'oahu', 'josemourinho', 'grampus', 'allot', 'kam', 'part', 'hydrate', 'associations', 'dems', 'herby', 'virtually', 'sample', 'rajahmundry', 'welcome', 'metabolism', 'biomarkers', 'affect', 'sahyadri', 'gutter', 'jiaye', 'stoptheshotsnow', 'town', 'barisannasional', 'nurturingcare', 'toilette', 'storyboard', 'jadefrench', 'portion', 'himachalcm', 'thapa', 'ntrgoesglobal', 'cricketfans', 'creatine', 'plantasia', 'teammates', 'practically', 'founditonamazon', 'connection', 'mct', 'punk', 'electionswithht', 'bloody', 'ungrateful', 'legally', 'uknz', 'wieser', 'choq', 'hattricks', 'nurse', 'fonda', 'critics', 'pmmudrayojana', 'ymca', 'southeast', 'heights', 'kingmaker', 'techprogram', 'azaz', 'bethedifference', 'rubio', 'mountainview', 'covi', 'jamorant', 'inclusions', 'jaden', 'dam', 'menmodel', 'brandon', 'veu', 'terran', 'trendsonfire', 'steinar', 'churchandstate', 'fryer', 'stormont', 'heidegger', 'kkrvspbks', 'cepa', 'sunlight', 'torysewageparty', 'hybridwork', 'broker', 'mint', 'derangement', 'sketchy', 'cofounder', 'spokespersons', 'csir', 'modularer', 'ethnography', 'autismmhschools', 'redefine', 'captaincy', 'xlm', 'vídeo', 'emery', 'llewellyn', 'exuberance', 'caturday', 'skillfully', 'station', 'andrenaline', 'suspect', 'peterson', 'anthony', 'teamwear', 'pedopeter', 'bett', 'harapan', 'مهندس', 'shark', 'lorbo', 'glutamate', 'jadams', 'rugbytraining', 'muth', 'ucp', 'weevil', 'depart', 'fieldtrip', 'thoracic', 'prowrestling', 'horrific', 'apathy', 'faster', 'holidaycheer', 'seriously', 'isedcoach', 'kagmi', 'pantothenic', 'howz', 'fisher', 'shalinbhanot𓃵', 'brežice', 'hustings', 'yaakob', 'reimagining', 'optimist', 'sarangi', 'defenseindustry', 'coy', 'oi', 'investigation', 'upwork', 'hydrokinetic', 'robertkraft', 'haveri', 'juventus', 'sixes', 'newborn', 'adanian', 'spencer', 'panghal', 'trajectory', 'malini', 'bosnia', 'ciscomwc', 'showoff', 'campaign', 'topaz', 'sci', 'second', 'mihealthsummit', 'nights', 'birdwatch', 'crunch', 'sofread', 'postdocposition', 'lanark', 'innervation', 'bend', 'sony', 'nazi', 'saffron', 'greenai', 'brigade', 'grammy', 'hockeyfamily', 'err', 'dougcasey', 'deepender', 'chaise', 'statesrights', 'බඳ', 'quit', 'quack', 'mahalla', 'butt', 'lewa', 'neelam', 'provocation', 'connector', 'dollarization', 'anne', 'masculinities', 'mixedreality', 'worldkidney', 'subsidy', 'succumb', 'motivatio', 'applewatchultra', 'privacylaw', 'message', 'coalitions', 'monaco', 'iretweetart', 'pesticides', 'ultima', 'proactive', 'drought', 'healthblog', 'tourists', 'tharparkar', 'teestasetalvad', 'stamina', 'gb', 'inconvenience', 'tswoll', 'afghan', 'thjuly', 'delve', 'panthfans', 'dessert', 'penile', 'skypath', 'willaimson', 'enrichment', 'harvester', 'catholics', 'deforestation', 'goldblum', 'sprter', 'radix', 'axar', 'pha', 'entrants', 'brotherbenx', 'isil', 'catgirl', 'seriea', 'ua', 'nominate', 'arizona', 'wrinkle', 'endabuse', 'footballkit', 'teamindia', 'selfless', 'makov', 'sincerely', 'nftvalue', 'fundraise', 'icwabook', 'scheme', 'grant', '𝙋𝙖𝙘𝙞𝙛𝙞𝙘', 'madeformore', 'ol', 'scientifically', 'genovaburns', 'hydroponics', 'federer', 'snippet', 'reform', 'entella', 'naturalhealth', 'factory', 'brandontsay', 'chatsonic', 'digitaleconomy', 'laing', 'predict', 'sama', 'biochemical', 'hunza', 'goodnight', 'middaynews', 'name', 'boastfulness', 'wsj', 'tout', 'taiwanmainstage', 'ranchi', 'click', 'emcr', '𝑮𝒂𝒃𝒃𝒂𝒓', 'melanesia', 'loser', 'snowboarder', 'mainnetlaunch', 'lbw', 'inc', 'robot', 'swcricket', 'gme', 'dphil', 'tree', 'specifications', 'raiser', 'residential', 'pacmanjones', 'deficiencies', 'saxena', 'urbandesign', 'unpublished', 'cruelty', 'shoppers', 'hoyle', 'cash', 'contractors', 'clarification', 'intelligently', 'erzhuo', 'roxanne', 'rhoades', 'jacob', 'curricula', 'simulate', 'pujara', 'politik', 'chhibber', 'stomach', 'frost', 'lobbyist', 'podu', 'lionelmessi', 'aidan', 'tomorrow', 'cbssports', 'sleep', 'yougotthis', 'honorary', 'neg', 'labratory', 'linkmetrics', 'neurology', 'packhouse', 'particlephysics', 'wnug', 'socialpolicy', 'batteries', 'urvashi', 'darcy', 'vincentkompany', 'bekind', 'raja', 'coyb', 'breeze', 'thurston', 'neuro', 'afrobeat', 'consist', 'ee', 'rosenhaussports', 'brownback', 'keralites', 'analyticsgpt', 'jisl', 'modifications', 'pledge', 'nffc', 'phlcouncil', 'isis', 'byebyeboris', 'sunilnarine', 'tell', 'freebets', 'scotpapers', 'cereals', 'privatise', 'internally', 'unspeakable', 'socially', 'hugh', 'grope', 'diabetics', 'romero', 'greatly', 'newer', 'azuresecurity', 'orgs', 'roast', 'prompt', 'mafia', 'techade', 'assr', 'intense', 'excruciate', 'hint', 'pepsi', 'exchmarket', 'bignews', 'metformin', 'bonjour', 'mahi', 'triplethreat', 'qin', 'shotoniphone', 'bloemfontein', 'wellbeing', 'bern', 'unite', 'serviramazonia', '𝘼𝙍𝙀', 'activities', 'shibarium', 'uffindell', 'movies', 'prashantkishor', 'neutral', 'lousy', 'familiaadams', 'advancednuclear', 'broad', 'tmforum', 'rhythms', 'metcalfe', 'bumper', 'timesnowmarathi', 'pitsunda', 'shield', 'appear', 'fastcharging', 'greenspaces', 'ironic', 'protectyourtech', 'bloodsugar', 'binasi', 'workshop', 'fitcouple', 'socialnetwork', 'seeman', 'cgtnonsite', 'automotive', 'munbre', 'bobdole', 'panic', 'youthleaders', 'transitory', 'gge', 'strongest', 'sarcasm', 'sense', 'bitx', 'kidneyhealth', 'interpret', 'jadesportsbet', 'hypoimmune', 'stemforkids', 'acquisition', 'mmt', 'sultan', 'billion', 'talents', 'healer', 'onlinemeetings', 'startupfunding', 'marylanders', 'lordz', 'chattlf', 'weipeng', 'vibe', 'contention', 'hearty', 'dids', 'packabs', 'wemeanbusiness', 'palestine', 'bulldoze', 'yougotnext', 'clarity', 'latinas', 'cease', 'plug', 'wwenxt', 'nirvana', 'firefighter', 'order', 'santner', 'gamers', 'meditation', 'significant', 'thewomanking', 'maskup', 'smallfish', 'bodyfirst', 'heck', 'searchengine', 'shape', 'germain', 'wethepeople', 'abrahamism', 'poach', 'microbes', 'sujata', 'greenheart', 'brokoliai', 'curcumin', 'hug', 'evtravelhacking', 'makeup', 'bilawalbhutto', 'weekendvibes', '高速铁路', 'mfdp', 'lpl', 'bioprinting', 'peakdistrict', 'headacheblog', 'casualty', 'subnet', 'kasianov', 'banningbooks', 'ootd', 'hantscricket', 'paia', 'apple', 'spotless', 'ilorin', 'exploratory', 'irecover', 'top', 'distant', 'gir', 'noonan', 'insensible', 'poultry', 'appics', 'elifootball', 'vedhika', 'tight', 'cute', 'albo', 'runneth', 'sewagescandal', 'winnerr', 'discourage', 'shatter', 'humanartists', 'casteism', 'holstein', 'shud', 'mercury', 'preschool', 'irina', 'megacorps', 'hotel', 'travellerhealth', 'sportscar', 'enormously', 'yuma', 'ofc', 'javid', 'earsham', 'hotstar', 'chinyong', 'cityscape', 'bacterial', 'rcv', 'morals', 'photonics', 'stent', 'softcover', 'outperform', 'siblings', 'eti', 'ignite', 'spotify', 'seamlessly', 'firaudio', 'nike', 'commitment', 'bestairport', 'saynor', 'foolproof', 'huraimel', 'venmo', 'sportfotografie', 'tl', 'lora', 'cryptography', 'nftsale', 'spectral', 'aerosystems', 'organizer', 'oncepro', 'reestablish', 'eliyan', 'italy', 'dragon', 'phosphorus', 'resistant', 'fridaythoughts', 'topicpulse', 'boltup', 'tract', 'nyc', 'keeperbatsman', 'unnecessarily', 'schreck', 'highly', 'arid', 'livingstone', 'fast', 'xbet', 'kokotv', 'immerse', 'pointcloud', 'thots', 'publictheology', 'graze', 'omygod', 'lenae', '𝐍𝐄𝐖', 'uncommitted', '𝐒𝐓𝐀𝐑𝐓𝐈𝐍𝐆', 'sportforall', 'nocode', 'tate', 'scanner', 'hometown', 'uofregina', 'different', 'ragi', 'iithyderabad', '𝑫𝒆𝒅𝒊𝒄𝒂𝒕𝒊𝒐𝒏', 'ventilators', 'linesman', 'longcovid', 'xrp', 'bolex', 'bawa', 'elect', 'savepakistan', 'persistently', 'fcg', 'concussion', 'optimise', 'sportsnextindia', 'cybersecurity', 'epigenetics', 'ipllive', 'sunscreens', 'burnley', 'jdbook', 'koretbet', 'ontheclock', 'wealthiest', 'propagate', 'libya', 'freshnews', 'bi', 'bleed', 'bighitsportz', 'advocacy', 'keepintouch', 'induct', 'axial', 'tシャツ', 'sure', 'substrates', 'noth', 'moths', 'support', 'warzone', 'mitoma', 'kay', 'coffeesuppliers', 'shein', 'lazio', 'hulton', 'disagree', 'postdoctoral', 'carbonate', 'maran', 'kemi', 'indiancricketer', 'vivad', 'tomochain', 'dover', 'cryptocurency', 'doubters', 'patientsafety', 'collagen', 'dade', 'blackbusiness', 'unaware', 'traumarecovery', 'meticulously', 'viraldance', 'dhahalreeb', 'lighthouses', 'communityshop', 'collapse', 'priyankagndhi', 'dickens', 'mx', 'canaveral', 'galloway', 'contributors', 'cliffs', 'cy', 'blockchaingame', 'disadvantage', 'setup', 'pbksvssrh', 'astound', 'reykjavik', 'mince', 'nesc', 'gibraltar', 'villiers', 'albion', 'pritzker', 'registernow', 'dataprivacy', 'forwardparty', '𝘖𝘶𝘳', 'bitcointalk', 'nootropics', 'glamorisation', 'keratin', 'famous', 'populatio', 'carbonaceous', 'bursitis', 'albanese', 'technologist', 'friction', 'dailyword', 'carotene', 'thesouthspeaks', 'omarabdullah', 'glyphosate', 'candlestick', 'chugsfc', 'powell', 'korero', 'gotcha', 'ssegirinya', 'ccarm', 'ohioriver', 'koin', 'leaker', 'barbaric', 'comedian', 'oval', 'prix', 'iranianwomen', 'janitor', 'consitution', 'hockeyfan', 'explode', 'maori', 'kovač', 'abigailadams', 'fests', 'chromium', 'behold', 'actor', 'thru', 'rilee', 'aiden', 'conventions', 'signatories', 'youtubelive', 'manjeri', 'victorious', 'hottest', 'fighter', 'hobbs', 'caucasus', 'tau', 'linguistically', 'sufi', 'acidic', 'uncrc', 'survivorship', 'manheim', 'margaret', 'rember', 'whdawards', 'hoax', 'spikeprotein', 'pending', 'antikythera', 'seclusion', 'micfootball', 'odunola', 'betjee', 'cwm', 'perlis', 'woodward', 'inali', 'accrue', 'steele', 'nice', 'mohammadrizwan', 'thurrock', 'rudden', 'derby', 'greed', 'og', 'inx', 'endthefed', 'heatingof', 'скорода', 'thedrew', 'superuser', 'wwiii', 'dupe', 'antioxidants', 'peoole', 'downloadable', 'iplkkr', 'shoaibakhtar', 'lsgbrigade', 'hegerberg', 'darkness', 'gnacta', 'jews', 'sm', 'addamsfamily', 'verdict', 'hard', 'creditas', 'sealofapproval', 'antivaxxing', 'badshah', 'forget', 'volunteer', 'collaborate', 'picu', 'childlike', 'oct', 'alastaircook', 'dad', 'finger', 'cells', 'coventry', 'boxsport', 'tracklinkclicks', 'sabha', 'faucifiles', 'subfriday', 'grandeur', 'initially', 'flower', 'memorabilia', 'inscribe', 'defence', 'deadwood', 'eastersunday', 'rogd', 'soniagandh', 'cobi', 'shirt', 'harmnone', 'scottishgreens', 'ranchers', 'gbdoc', 'qfs', 'ourkidshealth', 'qbsim', 'stilllife', 'mhf', 'hicks', 'weave', 'superstars', 'agrawal', 'airlines', 'veggies', 'onthisdate', 'digitalskills', 'mncdf', 'landscape', 'homosexual', 'procuratorial', 'foriegn', 'aleksander', 'smilesfromear', 'undergrad', 'bcw', 'scalp', 'rajaneesh', 'rajapateria', 'reformuk', 'temporality', 'pajamas', 'eidmubarak', 'punjabnewsdaily', 'familyfun', 'cardiovascular', 'faetano', 'paprika', 'lucky', 'oott', 'plc', 'gtvsdc', 'akt', 'hentenryck', 'ramadoss', 'richroll', 'disastrous', 'introspection', 'barrister', 'backingbadenoch', 'blackpeople', 'mrsmensah', 'quito', 'tread', 'traditionalist', 'westhamunited', 'semester', 'soooo', 'rishisunak', 'cerebration', 'alexstein', 'parentalleave', 'ttai', 'kashmir', 'sworldcup', 'bolivia', 'strawberry', 'lately', 'macos', 'investments', 'southindia', 'replsports', 'keen', 'subwednesday', 'sweeper', 'components', 'vivrichards', 'seag', 'ongc', 'neutralise', 'pmln', 'mission', 'wolfson', 'forums', 'koor', 'kritisanon', 'shaktipat', 'tushar', 'founditonamazo', 'thambi', 'standpoint', 'toss', 'mango', 'renounce', 'wart', 'expertrequest', 'bbq', 'positivemindset', 'ers', 'pmcardio', 'row', 'antipoaching', 'rlc', 'spur', 'flashy', 'talisca', 'preoccupy', 'spinners', 'marksutcliffe', 'ehds', 'yourvotematters', 'abonsamcartoons', 'agent', 'jew', 'airdrops', 'contact', 'oxymorons', 'daley', 'stalemate', 'dsync', 'tenhag', 'ton', 'ulyssessgrant', 'parklife', 'roadrage', 'lugano', 'corgis', 'youngs', 'aajkal', 'reflex', 'rain', 'కర', 'mirpur', 'midwayai', 'shithole', 'uphigh', 'ttrpg', 'loci', 'rpgaierc', 'togetherwegofar', 'vicenza', 'bhagat', 'nul', 'cardiff', 'guimarães', 'singularly', 'ancient', 'visiondocument', 'happyweekend', 'blackdentists', 'triglycerides', 'stubbs', 'indiainunsc', 'sushant', 'panchayiti', 'automation', 'buyer', 'traumatic', 'consultation', 'garland', 'reparations', 'recent', 'urbanization', 'slower', 'nanox', 'samuel', 'mumbestjob', 'immigration', 'immediacy', 'biodiversty', 'novelist', 'greenhouse', 'summarise', 'shoulder', 'jules', 'aimlessly', 'pew', 'aiartist', 'certik', 'amika', 'blu', 'entrepreneurs', 'inventions', 'publicinterest', 'forthcoming', 'combinations', 'timetotalkday', 'predecessors', 'seize', '𝑯𝑶𝑳𝑳𝒀𝑾𝑶𝑶𝑫', 'consumers', 'odirankings', 'compliant', 'primeminister', 'theprintopinion', 'irani', 'agrifood', 'happyholidays', 'abstractart', 'collections', 'savarna', 'primrose', 'momentmarketing', 'nutrelaisoveda', 'blackjesus', 'specialties', 'malady', 'pss', 'uncommon', 'ludicrous', 'yusuf', 'driver', 'folate', 'mcwbangladesh', 'zahid', 'unconscionable', 'foldable', 'leningrad', 'neuroprotective', 'indoctrination', 'wyomingprimary', 'longer', 'filmmaker', 'uipath', 'empire', 'airdrop', '𝙄𝙣𝙙𝙞𝙖', 'easily', 'fallprevention', 'digita', 'wib', 'bumrah', 'healthcamp', 'lionelmess', 'aiinstallation', 'beer', 'carbs', 'cricketlife', 'warrencounty', 'nat', 'wasp', 'milligrams', 'mahendru', 'weatherbomb', 'prizepicksnba', 'indvpak', 'predicate', 'bodiedbylexx', 'normalpeople', 'ntla', 'apply', 'jpm', 'voterid', 'indiana', 'mere', 'bogota', 'modification', 'yobepolitics', 'escalators', 'rayo', '𝗨𝗿𝗴𝗲𝗻𝘁', 'multi', 'rank', 'compatible', 'rolodex', 'conceptually', 'hypothalamic', 'inefficient', 'tampabaybowl', 'debts', 'machale', 'vilgs', 'devpt', 'argument', 'perspective', 'promisetotalk', 'coverstory', 'thunderous', 'teachers', 'europeanunion', 'editorspick', 'valenciacf', 'lone', 'taesung', 'alphasportstech', 'explanations', 'kcr', 'mergulhao', 'agribusiness', 'campaigners', 'selfcarethreads', 'whats', 'topprogs', 'automato', 'abstract', 'iceberg', 'dengue', 'ptbo', 'creativeeconomy', 'brandonpotter', 'globalism', 'saelem', 'lbc', '国葬ではなく国会を開け', 'shd', 'rovman', 'passionate', 'vietnamwins', 'azero', 'stabilize', 'whenever', 'sai', 'criminalization', 'automatic', 'voicesofculture', 'errybody', 'techforgood', 'quieter', 'unsuited', 'engvaus', 'spouter', 'gntm', 'freedelivery', 'rappers', 'plant', 'bahrain', 'bbcbreakfast', 'favourites', 'delta', 'holder', 'beachvibes', 'awami', 'watchable', 'જર', 'becerra', 'josep', 'arcblock', 'hypothetically', 'fabrics', 'gubbio', 'drdo', 'subtitle', 'marsrovers', 'antisemitic', 'cuomo', 'uniqlo', 'bigtree', 'sergioramos', 'regrettably', 'algorithm', 'transferable', 'arent', 'brighten', 'bah', 'facilitator', 'aagey', 'weekahead', 'disappointment', 'pushpa', 'erosion', 'wknd', 'see', 'sinisterra', 'equally', 'fauci', 'hokianga', 'dms', 'gump', 'clinicaltips', 'ghulam', 'hui', 'doha', 'bellbuzzergong', 'ankle', 'natgas', 'natal', 'onpassivetoday', 'gary', 'barr', 'honourable', 'infts', 'pmresigns', 'scenic', 'ruckus', 'eps', 'salernitana', 'ourocean', 'techniques', 'realestate', 'shillong', 'behalf', 'credgenics', 'generativemusic', 'pdqex', 'usps', '𝙒𝙖𝙩𝙘𝙝', 'neqsupdate', 'regionalsports', 'asifkhan', 'induce', 'grassroots', 'khadijashaw', 'frontal', 'profile', 'ease', 'incredibly', 'newman', 'warnock', 'millennia', 'agyeya', 'bigsamallardyce', 'awb', 'sportsmedia', 'canoncameras', 'gmh', 'actuality', 'deme', 'silos', 'illusion', 'thirds', 'curation', 'gohard', 'piyush', 'east', 'ul', 'kiss', 'swasthyam', 'lodge', 'irt', 'newpi', 'shaikh', 'hunt', 'zinn', 'soil', 'meditate', 'marsha', 'globalbritain', 'mississauga', 'snuggle', 'mali', 'terranorbital', 'genderidentity', 'cooperate', 'phygital', 'philatelie', 'carlingford', 'nuclearfamily', 'rooftop', 'overturn', 'fortknox', 'lions', 'metabolic', 'indoorfl', 'waxp', 'week', 'confirmation', 'warrenbuffett', 'power', 'maradona', 'famer', 'avatar', 'nigerian', 'exploit', 'bjpfailsindia', 'iron', 'sdsportsacademy', 'applesizing', 'encryption', 'doterra', 'official', 'feedly', 'ducci', 'commercially', 'swoop', 'hostage', 'mg', 'clarify', 'tactic', 'rightfully', 'computer', 'nt', 'proliferate', 'iraq', 'orbital', 'legendary', 'motherfuckers', 'wtcfinal', 'deal', 'volatile', '空手', 'glute', 'nioslife', 'leaguefirst', 'sharding', 'humourist', 'shortly', 'nortje', 'naveed', 'maker', 'philly', 'anniversary', 'insist', 'jot', 'cripple', 'goat𓃵', 'pharmdlife', 'supercharge', 'signal', 'backday', 'beautifully', 'suga', 'warner', 'dentalhealth', 'versarien', 'inspector', 'auspsa', 'cochlear', 'resin', 'moderator', 'smithsonian', 'risc', 'stine', 'whowillwin', 'rotate', 'cremonese', 'futurism', 'ongoing', 'gigwork', 'dailywins', 'tradeable', 'cmv', 'gotabaya', 'teeth', 'fatehpursikri', 'cihr', 'interventions', 'showbusiness', 'viralpost', 'abandonment', 'radiogpt', 'entities', 'nevertheless', 'bagnis', 'offside', 'sven', 'goundamani', 'pround', 'aggressors', 'fallenleaves', 'niagara', 'webdev', 'klem', 'biodiversity', 'consumption', 'kkshailaja', 'aira', 'inec', 'iplmatch', 'monthly', 'windenergy', 'mascot', 'cyberactivism', 'craft', 'herereminds', 'grade', 'nazis', 'intersectional', 'urea', 'rocketlaunch', 'spaceplane', 'marine', 'limp', 'replay', 'zoox', 'techdiversity', 'vlogger', 'monetary', 'megaprojects', 'nimblepolls', 'bookmarkawards', 'poche', 'kenyans', 'breathable', 'orleansmasters', 'grandmothers', 'iwillvote', 'excitedly', 'warners', 'cadiz', 'cognitive', 'ekbom', 'cte', 'weird', 'acrylicpainting', 'export', 'colebrooke', 'prestigious', 'lehrmann', 'wooded', 'boult', 'rvdagon', 'lipoproteins', 'kilogram', 'ranaut', 'mouth', 'hindrance', 'pmslive', 'nassr', 'thescottishplay', 'rohitsharma', 'prizm', 'dp', 'liwc', 'maternal', 'oakland', 'homedecor', 'involve', 'study', 'mctominay', 'jaffer', 'joytrain', 'bjpleaks', 'morphic', 'tradfi', 'meta', 'goog', 'constituents', 'homeoffootball', 'idaho', 'mercy', 'kers', 'phenotypes', 'ka', 'epididymis', 'scarcity', 'moring', 'nss', 'declanrice', 'bengal', 'cohen', 'beverage', 'cyril', 'result', 'milanempoli', 'nnpp', 'drop', 'zurita', 'tenure', 'châteauroux', 'portfolios', 'carlos', 'intrigue', 'tit', 'elves', 'eligible', 'bat', 'biosphere', 'cricketfixture', 'cybercrime', 'futuretech', 'ddr', 'rajanala', 'wingstop', 'demolish', 'khyalrakhna', 'rawfoods', 'rp', 'lasanta', 'player', 'khorana', 'compartment', 'oregonians', 'symptom', 'sportstudio', 'hella', 'kashimaantlers', 'jawahar', 'vijana', 'dna', 'sixonsaturday', 'geneediting', 'illnesses', 'understandstudy', 'themintisnigh', 'throwers', 'drippdoggz', 'nervesofsteele', 'sml', 'dummy', 'landdegradation', 'ado', 'excludeduk', 'pitta', 'coors', 'swap', 'iceland', 'navigate', 'process', 'embarrasment', 'idleg', 'strict', 'busters', 'moglix', 'colder', 'sportswash', 'loadzz', 'wearexdc', 'kindhearted', 'bhagatsingh', 'rinchen', 'turksandcaicos', 'nxtwave', 'ethic', 'excessdeaths', 'interspecies', 'munro', 'cessation', 'wintertime', 'badimnton', 'grit', 'ilaiyaraaja', 'stephens', 'schmitt', 'revolution', 'aspiengirl', 'indulge', 'definite', 'helt', 'furry', 'sportedgift', 'steep', 'maharashtranews', 'preacutions', 'draintheswamp', 'wordle', 'sportscenter', 'overuse', 'insane', 'reconfigured', 'uiuxcasestudy', 'vera', 'martialarts', 'scorecard', 'never', 'ushouse', 'accessories', 'diamond', 'nashville', 'upyourgreens', 'islay', 'yeah', 'tennesseevalley', 'twitterbias', 'mmmkay', 'furchguitars', 'drivesafe', 'iitm', 'workingfromhome', 'havi', 'scuba', '𝗬𝗮𝘀𝗵𝗮𝘀𝘄𝗶', 'tribunal', 'youthfootball', 'reckless', 'enchant', 'powergrab', 'apr', 'extract', 'shayne', 'bearmarket', 'hdl', 'donwload', 'genetics', 'pay', 'vulnerability', 'buck', 'reaffirm', 'footballretro', 'eci', 'subsequent', 'veva', 'sree', 'yao', 'pickup', 'chocolatecake', 'juncture', 'allardyce', 'squirrel', 'vocation', 'hwangheechan', 'curators', '旧統一教会', 'robcurrell', 'whine', 'rally', 'doubleup', 'afraid', 'kenyatta', 'worth', 'animals', 'sermons', 'abpolitics', 'poise', 'impactplayer', 'hormone', 'femalcricket', 'photoediting', 'retailtech', 'reformsrilanka', 'cysteine', 'godovermoney', 'wineindustry', 'footballlegends', 'gwent', 'thereisawayout', 'late', 'archipelago', 'assistive', 'freshman', 'azleg', 'menandwomen', 'contributor', 'foiaed', 'pelosiattack', 'lex', 'ferriss', 'cunningham', 'tradenation', 'bernabeu', 'bizarre', 'outlets', 'ray', 'zamalek', 'entertain', 'mccaffrey', 'hush', 'dl', 'marry', 'deportations', 'count', 'painless', 'kigen', 'jetson', 'lbe', 'oatmeal', 'fl', 'kshara', 'marketcap', 'anrich', 'du', 'unanticipated', 'superdapp', 'katy', 'juiced', 'ethicalai', 'insult', 'oc', 'harbor', 'arselectronica', 'saketgokhale', 'febrile', 'assurance', 'backstage', 'keralablasters', 'vase', 'whapshot', 'sturfee', 'harambeestars', 'nftfam', 'implement', 'anand', 'getty', 'insuljn', 'saintlucia', 'cracker', 'lokking', 'smug', 'arenas', 'edibles', 'hippocampus', 'flashsale', 'execution', 'civfund', 'kucoin', 'johndalysports', 'sportsinchennai', 'hereditary', 'timely', 'sjcvssas', 'childbirth', 'sleepers', 'tipoftheiceberg', 'fightnight', 'lapd', 'peggy', 'bikinibabes', 'precious', 'rugbygram', 'sankar', 'michelle', 'arbitrum', 'distillery', 'frankly', 'asian', 'videogaming', 'mealplanning', 'desk', 'madam', 'dcr', 'titanup', 'consistently', 'fluid', 'letstalkpodcast', 'telaviv', 'womenwhocode', 'anticorruption', 'disloyal', 'aj', 'schrödinger', 'landfill', 'impurities', 'cryptoai', 'empirical', 'misinformation', 'hale', 'wadzpay', 'firepower', 'attorneys', 'gtvscsk', 'artificial', 'blueteam', 'iphonesetup', 'investigative', 'gustavo', 'thunderbolt', 'instead', 'mutiny', 'tripleh', 'incident', 'newydd', 'greencities', 'carnitine', 'participant', 'delhigirl', 'dour', 'globalists', 'chowdhury', 'thousands', 'derive', 'multiverse', 'mdpolitics', 'ng', 'cairns', 'akmal', '𝗻𝗼𝘁', 'tahir', 'newchancellor', 'primark', 'pungency', 'segment', 'yerliüretim', 'afar', 'playerstats', 'cool', 'cas', 'deàths', 'arte', 'mortal', 'vcs', 'roc', 'digitalage', 'mss', 'worldview', 'yogiadityanath', 'shots', 'inyourcontrol', 'smartcities', 'civilians', 'tonga', 'suture', 'implant', 'electwomen', 'healthyhabits', 'peas', 'dsg', 'cartel', 'sedition', 'babyhealth', 'sprterapp', 'titan', 'torycriminals', 'foi', 'innovate', 'tz', 'ipllovers', 'aniecegermain', 'வரம', 'lanaya', 'antichoice', 'eruption', 'tibetan', 'street', 'crore', 'simms', 'xrphealthcare', 'provisional', 'canpol', 'bisexual', 'darwin', 'msdhoni𓃵', 'metafury', 'arrestfauci', 'aspirants', 'garnett', 'northtexas', 'jobsearch', 'pint', 'coperni', 'dogood', 'racist', 'midwives', 'bigdripboyz', 'bmvc', 'discomfort', 'hiccup', 'euroqualifying', 'oldmoney', 'emergencies', 'ironcurtain', 'jeremy', 'foodforall', 'scottybeam', 'boystime', 'need', 'grief', 'toryparty', 'techtalks', 'ethicist', 'sergio', 'killahealth', 'kast', 'stormtroopers', 'lakeland', 'medalist', 'rollerblade', 'staffer', 'europeans', 'commencement', 'subvert', 'para', 'fall', 'funfact', 'erc', 'gennex', 'growl', 'form', 'symbiosis', 'foveated', 'venkataraman', 'strikers', 'eton', 'litton', 'billie', 'filibuster', 'hobbies', 'void', 'yoy', 'whitmore', 'cohort', 'associate', 'nick', 'cough', 'eureka', 'apet', 'tokenisation', 'defiantly', 'rather', 'newbook', 'preservice', 'mustsee', 'persistence', 'default', 'sebi', 'winterweather', 'communifit', 'dock', 'jka', 'immune', 'dogsoftwitter', 'autonet', 'clark', 'carvativir', 'regulations', 'miners', 'cranstonri', 'metafest', 'fluff', 'animalrights', 'gopalitalia', 'transphobia', 'foreigner', 'stance', 'thisis', 'gbets', 'lakeshow', 'dim', 'overdose', 'mov', 'utilities', 'councils', 'articlev', 'digitise', 'slnews', 'seattle', 'folly', 'regressions', 'photographer', 'disgraceful', 'upright', 'bchs', 'carrots', 'godfather', 'tolulope', 'generally', 'aboubakar', 'शव', 'digi', 'ills', 'theislandonline', 'standford', 'amitmalviya', 'youthsports', 'gtfo', 'undertake', 'alsdeosl', 'propeller', 'zilliqa', 'participation', 'nieuwenhuijsen', 'deli', 'sharma', 'send', 'leto', 'constructive', 'papacy', 'astnfo', 'irishness', 'terraform', 'generativeart', 'calibrate', 'cuncolim', 'xl', 'polygonnft', 'shaun', 'home', 'adamschiff', 'marr', 'characteristics', 'periodic', 'axarpatel', 'refrain', 'wtpearth', 'blockade', 'eleven', 'spine', 'selectors', 'tekistars', 'selector', 'acolyte', 'bychbody', 'willock', 'gradschool', 'monopoly', 'presenter', 'updev', 'groupbreaks', 'riddell', 'crook', 'hurt', 'rinla', 'sadhguru', 'lakshit', 'neweconomyforum', 'mushroom', 'chote', 'mapusa', 'ericsson', 'demagoguery', 'newlook', 'playxible', 'interplay', 'horizonscan', 'tyrone', 'olimpico', 'garrett', 'mindless', 'darkside', 'wordedart', 'electio', 'albirexniigata', 'paulo', 'rink', 'laundry', 'stripe', 'hillsborough', 'vivo', 'homerun', 'crow', 'cubic', 'taxbenefits', 'sarcopenic', 'upi', 'blackjack', 'nlogo', 'layout', 'frontend', 'reiner', 'equate', 'dbmi', 'intags', 'srte', 'preferences', 'ypc', 'militaries', 'crickeynews', 'oppn', 'protectors', 'portsmouth', 'medicaltrauma', 'vancouver', 'agedcare', 'springiscoming', 'cricketer', 'perinatal', 'busiest', 'preventable', 'runnershigh', 'europe', 'sociopaths', 'peesl', 'discontent', 'inactivation', 'gians', 'cryptocasino', 'prizepickscsgo', 'southmids', 'civilservants', 'tejasviyadav', 'frens', 'pitch', 'winelovers', 'rockandroll', 'expressway', 'socialism', 'toe', 'humza', 'acetyl', 'rr', 'genedrives', 'eth', 'jaan', 'kanika', 'parachute', 'oneil', 'donate', 'soapa', 'varma', 'annually', 'hollywood', 'hamstring', 'yoga', 'breadline', 'weaker', 'shreyasiyer', 'goondiwindi', 'donors', 'bookerprize', 'patrickvieira', 'lock', 'jowilson', 'caterpillar', 'raven', 'viratkholi', 'cwstadium', 'foodsystems', 'extravaganza', 'aiio', 'animal', 'tahiti', 'ece', 'icj', 'bbcquestiontime', 'computational', 'gesture', 'breastcancer', 'eurekaprizes', 'resourceful', 'atul', 'industries', 'padi', 'evoke', 'scalar', 'raffle', 'hku', 'olfaction', 'collavortive', 'latin', 'affirmations', 'nehra', 'catsoftwitter', 'gut', 'launch', 'manchester', 'ctos', 'gianluigi', 'cybersafety', 'embassy', 'fiji', 'connect', 'kahn', 'bipartisanship', 'employees', 'kink', 'leaky', 'neeraj', 'holland', 'olayer', 'politicscanwait', 'impeachment', 'dadvertising', 'poet', 'afterwork', 'ani', 'ship', 'view', 'bcci', 'maastricht', 'pitamah', 'srinagar', 'proudblue', 'mansion', 'decline', 'irembo', 'shridevitalks', 'overwhelm', 'simulation', 'ballot', 'dally', 'integrity', 'mullin', 'hannahwilkinson', 'samoan', 'alanmoore', 'ropar', 'watchful', 'garycrowley', 'womenrights', 'maankibaat', 'beckenham', 'jsc', 'tbp', 'lmsforschool', 'heisman', 'distribute', 'thomastuchel', 'oooh', 'gal', 'livertransplant', 'surface', 'tycoon', 'bigsam', 'toi', 'altc', 'bettermedicines', 'arrhythmias', 'sewa', 'whether', 'onto', 'hypophyseal', 'مطالبہ', 'solarpower', 'kalpana', 'bgm', 'aerospacefocus', 'culturewar', 'schmitz', 'selfiesunday', 'windfall', 'salaar', 'cricketers', 'nation', 'sleepdisorder', 'odis', 'insights', 'peak', 'dprinted', 'cunhas', 'ipswich', 'firstnations', 'deaf', 'degrees', 'stukí', 'sourav', 'objective', 'decode', 'bergamot', 'ndamendment', 'savetheoof', 'gujratelections', 'potterout', 'symbolism', 'sales', 'aston', 'justices', 'deworming', 'impressions', 'mohanlal', 'mapoli', 'pathogenesis', 'neurodiverse', 'wickenburg', 'seekhe', 'overfishing', 'alert', 'mgkl', 'madrasa', 'counterbalance', 'margarine', 'dragshow', 'futureready', 'unprepared', 'ue', 'embarrassingly', 'gigs', 'stlouis', 'scindia', 'uaecricket', 'kharge', 'speculation', 'pharmaceutical', 'deleone', 'bignardi', 'premiere', 'bits', 'thackerays', 'wallpaper', 'commons', 'thames', 'ebm', 'billburr', 'harden', 'uhunye', 'restless', 'southeastasia', 'romano', 'martial', 'eventmanagement', 'hms', 'ud', 'sooooo', 'abdkids', 'hamidmir', 'web', 'kidney', 'imgnai', 'graph', 'ziakhan', 'terminate', 'lineage', 'evroadtrip', 'undeveloped', 'moon', 'gotv', 'saxo', 'mithila', 'nominee', 'venkateshiyer', 'conds', 'rent', 'evaluate', 'citations', 'kidneycare', 'sameen', 'passage', 'bodily', 'ensue', 'feline', 'crisissupport', 'cache', 'often', 'backup', 'joel', 'doxing', 'dronestagram', 'hollinger', 'pray', 'bina', 'saskatchewan', 'sensational', 'partyy', 'paripesa', 'adosaf', 'client', 'percy', 'kia', 'carpy', 'alzheimer', 'cicd', 'gpt', 'paddington', 'genome', 'healthyfood', 'gowalking', 'reveal', 'blade', 'expel', 'brighter', 'tween', 'closest', 'adopters', 'oculus', 'booklaunch', 'cuisines', 'gram', 'cancersucks', 'ellis', 'harry', 'essential', 'hershel', 'wealthsecrets', 'covercrops', 'bn', 'saddapunjab', 'tambe', 'platemethod', 'sundayleague', 'stefan', 'fairpay', 'joeys', 'kit', 'spainvsnorway', 'karan', 'brahminism', 'houstondynamo', 'kosovo', 'aramco', 'shrug', 'uselectio', 'putkids', 'thebppa', 'gutbacteria', 'envirotech', 'mercaz', 'coexist', 'tamper', 'olsen', 'stifle', 'onthisday', 'anationdivided', 'juan', 'ephemeral', 'propellers', 'bbrfwebinar', 'zeichnung', 'shaheenafridi', 'billable', 'reshoring', 'governmental', 'erupt', 'cocp', 'ekuru', 'blitzkrieg', 'flaw', 'detroit', 'importers', 'saas', 'dianeabbott', 'smartest', 'theragnosis', 'domainstore', 'cyberlete', 'lifeguard', 'ritual', 'procure', 'develoment', 'prague', 'meded', 'queenelizabeth', 'journalism', 'mpact', 'legalnews', 'tik', 'joshi', 'theweek', 'sweetdreams', 'cardinals', 'pk', 'artforsale', 'cern', 'unfortunately', 'thhearings', 'strep', 'scandal', 'heros', 'mnubre', 'arrow', 'haptics', 'abpoli', 'hellas', 'since', 'cf', 'legitimacy', 'misery', 'mediterranean', 'rakhisawant', 'westman', 'coolvideos', 'livedexperience', 'kenmustgo', 'youthinclusion', 'lithuania', 'calgary', 'casino', 'scidiplo', 'vaccineswork', 'estonia', 'teamusa', 'esripartner', 'paste', 'coleman', 'lebron', 'rebranded', 'norwaywomen', 'repairman', 'modern', 'sisi', 'nitin', 'restore', 'tractors', 'helpless', 'scholes', 'bhardwaj', 'fertigation', 'depriation', 'turgot', 'maireles', 'prepandemic', 'omg', 'hardy', 'cardgame', 'cryptocurator', 'molly', 'noon', '𝙊𝙪𝙧', 'flourish', 'southampton', 'cure', 'lmao', 'provinces', 'incidence', 'untapped', 'mindspace', 'nguyen', 'orpol', 'endzone', 'foriegnpolicy', 'hop', 'polytechnical', 'reena', 'iaf', '𝗚𝗲𝗼𝗿𝗴𝗲', 'micrmesh', 'clients', 'strait', 'gujrattitans', 'underscore', 'pancytopenia', 'thephotohour', 'myriad', 'engineersweek', 'impacttechtz', 'medicalvideo', 'praderwilli', 'aiinpr', 'cardifffc', 'apgrip', 'inflammation', 'icg', 'backbencher', 'footstep', 'anthropogenic', 'hbdamitshahji', 'dog', 'tyreekhill', 'internetsafety', 'teabags', 'candor', 'satellite', 'furch', 'mnrs', 'brooksosteo', 'hanga', 'past', 'mondayonthemend', 'jungle', 'shakibalhasan', 'chamath', 'bellletstalk', 'hardbat', 'reliance', 'guest', 'photochallenge', 'mcfc', 'cybernetic', 'shiv', 'guwahati', 'tee', 'reiterate', 'crystal', 'phaedrus', 'gilchrist', 'neutroon', 'demystify', 'edgea', 'webhosting', 'reliable', 'miss', 'margin', 'demote', 'ax', 'earlier', 'prithvishaw', 'sabri', 'junction', 'radhakrishnan', 'prrequest', 'threonate', 'bookie', 'clt', 'iplfacts', 'harper', 'faithandsports', 'priti', 'blokchain', 'juve', 'franklampard', 'poor', 'nausea', 'glenn', 'dore', 'lockieferguson', 'sisodia', 'general', 'mathoveremotion', 'accusations', 'onlinecasino', 'example', 'forever', 'renewal', 'moen', 'forestfires', 'mechanistic', 'periphery', 'dangle', 'healtcare', 'sneakerhead', 'zumba', 'steroid', 'acids', 'charo', 'arrogance', 'wax', 'gratzequipment', 'draper', 'patent', 'polityculturist', 'ecommerce', 'alluarjun', 'interschool', 'freedomfest', 'hesitation', 'finnbecker', 'yvette', 'boomers', 'timeforexo', 'fluids', 'jofra', 'equitably', 'iria', 'secondofread', 'holidayhurry', 'commit', 'ors', 'hybridcloud', 'csgo', 'soccerafrica', 'positiveculture', 'detoxification', 'divs', 'caution', 'modric', 'owl', 'bcflag', 'dramaalert', 'ststwitter', 'speechtotext', 'fusion', 'leak', 'behavioural', 'aspects', 'rstats', 'bunyan', 'turnbio', 'dapperlaughs', 'penetrate', 'umrahmubarak', 'matcday', 'arabidopsis', 'bisskey', 'mumbaiker', 'flute', 'forbid', 'tvr', 'musician', 'xmaseve', 'contestant', 'altitude', 'psychoanalytic', 'alike', 'mechanize', 'aiact', 'freshner', 'academiavcf', 'gel', 'raytheon', 'seth', 'vax', 'excise', 'extensively', 'federalicac', 'dostvaad', 'nstnation', 'markmoss', 'rolltide', 'indiragandhi', 'ipad', '𝒐𝒏', 'rakhi', 'hershelwalker', 'endoftheyear', 'notfunny', 'project', 'pointless', 'mein', 'germancup', 'royalty', 'lifehack', 'efootball', 'ms', 'schoolsafety', 'ima', 'globalize', 'vaping', 'confine', 'ghost', 'modes', 'geechee', 'iterate', 'luisa', 'pathan', 'smileygreen', 'jalao', 'wala', 'arrogant', 'caassembly', 'ha', 'analogous', 'cancelo', 'duxbury', 'sab', 'losses', 'américa', 'fong', 'reschedule', 'unhindered', 'translator', 'suppliers', 'mbcc', 'khaleel', 'muriel', 'kikproject', 'available', 'license', 'marquee', 'leftist', 'dadblog', 'strangers', 'fiber', 'unresolved', 'sportsrehab', 'retrospective', 'horseparks', 'salarycap', 'ashamed', 'medha', 'challeges', 'housingtrends', 'er', 'release', 'impeccably', 'chih', 'sip', 'recieved', 'abbformulae', 'domestically', 'uq', 'encouragement', 'adams', 'prototyping', 'facilityhire', 'coscofootball', 'icpd', 'namba', 'hip', 'sportsmcw', 'novi', 'reliaquestbowl', 'kavachhackathon', 'gea', 'tale', 'colleague', 'curricular', 'egyptian', 'presidentsaward', 'poel', 'museum', 'cellulariot', 'analyticsforall', 'yuzichahl', 'shariatpur', 'crowdstrike', 'exchmarketnet', 'reddit', 'harbhajan', 'less', 'pms', 'proaudio', 'rehab', 'brazen', 'thehundred', 'tatyana', 'arza', 'atleticomadrid', 'autogpts', 'lynn', 'disservice', 'resisters', 'neighborhood', 'fgd', 'vachaneshu', 'tower', 'hurricanes', 'undp', 'techtuesday', 'actively', 'fritter', 'safesoftware', 'sound', 'derrick', 'natural', 'sisd', 'poorcountry', 'riseley', 'sweaty', 'shoaib', 'marvin', 'persian', 'accordance', 'tnff', 'futurist', 'acrylic', 'globalsummit', 'unnecessary', 'milk', 'sheet', 'rogan', 'bapu', 'publicpolicy', 'shut', 'souravganguly', 'nfca', 'birthplace', 'rrvpbks', 'majesty', 'earthranger', 'multiplicity', 'nublense', 'yds', 'fernando', 'ns', 'runningmom', 'intervals', 'sportsfacts', 'bestof', 'espionageact', 'ultraprocessed', 'tcs', 'regeneration', 'loseweight', 'enjoyment', 'dortmund', 'vanuatu', 'globalleader', 'saisudharsan', 'booktwitter', 'offline', 'weekstogo', 'seforall', 'rogers', 'pics', 'haram', 'charisse', 'psy', 'suitcase', 'generalise', 'preparedness', 'parameter', 'manishsisodia', 'makefriends', 'drive', 'liveability', 'radiation', 'supernatural', 'plight', 'eternity', 'rotonya', 'massshootings', 'cardiology', 'leader', 'leanin', 'novo', 'conveniences', 'politicalhumor', 'trikonmaidan', 'thrower', 'artnewspaper', 'homebuying', 'evate', 'uranus', 'aeroht', 'swfc', 'eesalacupnamde', 'ridiculous', 'catalysehorizon', 'atg', 'sharp', 'nellie', 'eposter', 'blatant', 'fijicricket', 'dy', 'archive', 'reactionless', 'tymlez', 'mangalurublast', 'apologise', 'flowercrown', 'sunail', 'zerohunger', 'sancho', 'reconstructive', 'clubpride', 'blockmeme', 'alba', 'aidspan', 'herbsandspices', 'weekend', 'yearsoffreshrb', 'hugill', 'ucas', 'bitstamp', 'latinos', 'dryjanuary', 'bscgems', 'bruno', 'smash', 'argentine', 'dandan', 'rsvirus', 'quiet', 'compromise', 'zn', 'utmost', 'fidget', 'patrika', 'buzz', 'longjump', 'cookbook', 'llm', 'affraid', 'usq', 'saeler', 'askmeanything', 'chemical', 'mc', 'leece', 'iccodiworldcup', 'chores', 'actualplayuk', 'congressman', 'barton', 'canadians', 'riseeveryday', 'disciples', 'osun', 'tetiana', 'stampdaily', 'pen', 'khabristanpk', 'assure', 'interfaces', 'peddle', 'lokiefurgoson', 'trim', 'sedate', 'wevolver', 'physicslovers', 'sachsen', 'guitar', 'topgoal', 'worldscienceday', 'alaska', 'mess', 'graham', 'haf', 'correlation', 'narrators', 'navyday', 'impoverish', 'allogrooming', 'kndx', 'ptr', 'lunacy', 'pedopete', 'dab', 'jobfairy', 'shibarmy', 'pesticide', 'nanocarriers', 'obc', 'negate', 'curran', 'iplfever', 'finalists', 'graphite', 'trussspeech', 'newbies', 'medanta', 'sportsmarketing', 'slot', 'genderclinics', 'fitbit', 'devonshire', 'rica', 'femininity', 'eiduladha', 'juka', 'techquity', 'vehemently', 'lrf', 'ife', 'socialistsunday', 'ladakhfc', 'rehan', 'chamisa', 'umrah', 'legion', 'voiceovers', 'arnettgardensfc', 'ledger', 'fantasyfootball', 'efficiently', 'shehzad', 'typhoid', 'ailments', 'opt', 'usher', 'wish', 'wrath', 'mbccawards', 'mindlessly', 'logger', 'tejashwi', 'sarma', 'cranial', 'avg', 'deepakchahar', 'yesmin', 'frontline', 'problemsolving', 'گیا', 'noelia', 'amoeba', 'crises', 'bestinclass', 'nissan', 'superficially', 'gorgal', 'murde', 'panellist', 'freestyle', 'cocaine', 'mukeshkumar', 'cheapest', 'sportsvenue', 'totbri', 'despatch', 'agony', 'studios', 'bcuz', 'hummingbirds', 'systemic', 'bots', 'nikale', 'newsupdate', 'gdp', 'every', 'partner', 'slippers', 'tokenized', 'ambiguity', 'curatorial', 'onepagerpg', 'premium', 'company', 'galaxy', 'squeeze', 'futuristic', 'mam', 'nlu', 'destigmatizing', 'checkpoint', 'holter', 'fyc', 'woody', 'balkans', 'xray', 'redfort', 'highway', 'cji', 'ears', 'annuarmusa', 'ebola', 'obidients', 'dontlethatewin', 'bookboost', 'benfica', 'soccerpicks', 'cskvsmi', 'propulsion', 'wi', 'bangla', 'boot', 'cuppa', 'tamilnadu', 'anja', 'freetips', 'commentate', 'poetrylovers', 'dailyma', 'eosam', 'metamask', 'benazirbhutto', 'toll', 'studioreporting', 'uspo', 'alyn', 'khiladiofficial', 'enterprises', 'london', 'gartnerht', 'mps', 'salermitana', 'isha', 'jinnah', 'downingstreet', 'phalkey', 'tuchel', 'report', 'mla', 'amitshah', 'insurrectionist', 'atbh', 'britishcolumbia', 'forties', 'canonuk', 'cruciate', 'notably', 'farooq', 'jfk', 'duce', 'critique', 'kendrick', 'wealthier', 'pooran', 'homogenize', 'racer', 'squad', 'azelection', 'riversimple', 'peru', 'stakeholders', 'mentalcapacity', 'linkedin', 'convoco', 'bitflow', 'mayor', 'synch', 'seatcon', 'ralph', 'snlg', 'peinture', 'nflnetwork', 'yr', 'geneticcode', 'candle', 'kookaburra', 'gulfies', 'crr', 'anrichnortje', 'softrobot', 'squid', 'conservation', 'abject', 'sams', 'starsports', 'rbs', 'pokerrevolution', 'painkillers', 'dhruv', 'txhsfb', 'andria', 'counteract', 'vil', 'semifinal', 'mohali', 'suitable', 'bubblers', 'iplinbhojpuri', 'number', 'clarasbigride', 'hodges', 'nfltrade', 'restlessness', 'true', 'omen', 'ipadpro', 'patnerships', 'bettingtips', 'wakeup', 'deter', 'namaskar', 'tribel', 'bassa', 'rwas', 'learnmmt', 'conscience', 'newgames', 'unclenchthefist', 'abetz', 'combat', 'malware', 'pathaantrailer', 'human', 'damar', 'blackpoolfc', 'camel', 'twatter', 'tomminay', 'continent', 'offer', 'austrian', 'tak', 'ration', 'posters', 'atlantic', 'brighton', 'vitally', 'salealert', 'invotalks', 'rigid', 'notredame', 'supremo', 'innuendos', 'fxg', 'upset', 'integrative', 'prs', 'soon', 'prostate', 'mivsrr', 'illustrate', 'digitalart', 'juliani', 'nutrition', 'sycophant', 'baptism', 'pablo', 'reaction', 'caseworker', 'barcelonasc', 'allthegames', 'bimsara', 'facilitation', 'debs', 'mrs', 'ta₂o', 'turtle', 'dcvgt', 'partnership', 'boardgames', 'reproduction', 'jjaann', 'substanceuse', 'gttonow', 'whitford', 'itamar', 'redundancy', 'raphinha', 'affordable', 'smridhi', 'emca', 'sajidjavid', 'phenomenal', 'knight', 'vinay', 'nurture', 'kelvin', 'sidewalk', 'kina', 'moderately', 'knig', 'ruralareas', 'mwcbarcelona', 'bornalive', 'sportstak', 'lengthy', 'الأديان', 'sharedit', 'hong', 'nominees', 'makino', 'personality', 'premjerliha', 'invincible', 'xaied', 'porch', 'viraqlvideo', 'msrtcs', 'embeddedfinance', 'cscec', 'shotiz', 'opener', 'techdevelopment', 'unwise', 'july', 'concretely', 'babas', 'mindwarsapp', 'fenway', '𝑭𝑶𝑼𝑹', 'doorsteps', 'sharkara', 'missions', 'supervisor', 'starmer', 'amazfit', 'freddie', 'usa', 'blazers', 'janata', 'effective', 'emotive', 'suyash', 'abu', 'narmada', 'almareviews', 'inplay', 'character', 'zealots', 'webex', 'baton', 'hero', 'silly', 'toolkit', 'physicianhealth', 'shirtcolours', 'ratio', 'wool', 'powerhouses', 'zaccagni', 'exudate', 'dicks', 'basicneeds', 'makhaya', 'michael', 'colocolo', 'titans', 'iplnews', 'biharpolitics', 'stlamerican', 'embeddedsystems', 'disunite', 'girdusky', 'paqueta', 'loop', 'fillongley', 'cynosurefc', 'aipad', 'gsl', 'aggression', 'cricketlovers', 'nutricare', 'economically', 'cigars', 'vokkaliga', 'mikkelsen', 'foncha', 'theindustries', 'swara', 'qqq', 'suyashsingh', 'booksforxmas', 'museveni', 'psychologist', 'bsl', 'imho', 'express', 'plitics', 'proportional', 'accommodation', 'talented', 'edelman', 'carpenter', 'agsafe', 'paddy', 'rutgers', 'vaers', 'mayorscup', 'sturridge', 'sattar', 'legday', 'farage', 'midsize', 'zomato', 'disruption', 'amitava', 'cdn', 'ranilcant', 'irelancricket', 'nvplaycricket', 'ellenwhite', 'amithsha', 'lceo', 'factcheck', 'americas', 'pathaan', 'formerpresident', 'grievances', 'clan', 'itlivestream', 'aiadmk', 'zhe', 'felix', 'gameofskill', 'tamizh', 'eternally', 'digitalhuman', 'rack', 'aerones', 'dar', 'cleanwater', 'temper', 'garage', 'sneer', 'hull', 'marketyourself', 'remedy', 'teal', 'orf', 'factions', 'thompson', 'spokane', 'beltless', 'fyiplus', 'revdipolitics', 'rldoret', 'startup', 'fungible', 'gbetsbest', 'ritebite', 'cntient', 'pathogens', 'edm', 'shikhar', 'ecg', 'murray', 'amsterdam', 'orban', 'mix', 'heartattac', 'rig', 'ta', 'prolife', 'editors', 'espn', 'myrtlebeach', 'oregano', 'merrick', 'freshup', 'romanian', 'bloggerupdate', 'grandmoms', 'descent', 'dfs', 'deefakes', 'georgiarunoff', 'boisterous', 'avgeeks', 'abishek', 'kidsgrove', 'greatcommission', 'arkhangelsk', 'loveisland', 'lpwans', 'peaceofmind', 'yards', 'mahagathbandhan', 'nftnews', 'humans', 'midcourse', 'onevoice', 'humor', 'remotework', 'diuretics', 'dnns', 'gluten', 'futsal', 'inhumane', 'porpoising', 'decisionmaking', 'fur', 'teammassspec', 'andyporter', 'royalsfamily', 'jayasuriya', 'dronedaily', 'davidmiller', 'solanki', 'smashers', 'instance', 'utah', 'servo', 'lunatics', 'wetherspoons', 'isa', 'telomere', 'npp', 'radon', 'withhold', 'stl', 'polina', 'epigenetic', 'sarajevo', 'reformslk', 'fanon', 'genevajobs', 'stench', 'visualize', 'spree', 'riley', 'contender', 'melange', 'upfront', 'parle', 'photography', 'caregiving', 'rishabhpant', 'wont', 'spartans', 'ciupa', 'worldwar', 'mykolkata', 'boris', 'rita', 'duopoly', 'civilrights', 'panathinaikos', 'julie', 'redistribute', 'insidehealth', 'collectible', 'martha', 'hitler', 'assign', 'harveymilk', 'canonphoto', 'serotonin', 'allocation', 'nothofagin', 'zoom', 'activism', 'swisscognitive', 'sportsnet', 'radhika', 'spill', 'neworleans', 'prodigy', 'offgridevent', 'buhari', 'item', 'parti', 'wakf', 'statements', 'clockwork', 'stata', 'cricbuzz', 'soccerplayer', 'floodaffected', 'dependence', 'tokyo', 'shapr', 'fundamentals', 'gpl', 'surprise', 'aronipad', 'truman', 'theology', 'maharashtracm', 'envelope', 'poppy', 'aastha', 'platform', 'lawsuits', 'amoud', 'louder', 'babu', 'rigth', 'sensors', 'somewhere', 'ci', 'ambedkàrite', 'accessible', 'opinions', 'bladder', 'foodchoices', 'donoghue', 'landmark', 'tianjin', 'formerly', 'abortions', 'veni', 'hbar', 'datuk', 'diat', 'latency', 'sibling', 'iwilllisten', 'decoction', 'umar', 'pathogen', 'iotswc', 'theofficialbook', 'sefldesign', 'brainomix', 'newyearnewyou', 'natty', 'dea', 'goldie', 'defundthepolice', 'kathleen', 'ada', 'childhealth', 'ehr', 'healthydiet', 'uniformly', 'betheforce', 'sedgwick', 'butrus', 'archeology', 'gospel', 'subservient', 'boisestate', 'rahulchahar', 'inactivate', 'soberaf', 'whitty', 'participants', 'duelwithdalukwa', 'continents', 'iexec', 'bev', 'inclusión', 'query', 'ya', 'privilege', 'wbb', 'flyeaglesfly', 'umno', 'whatsapp', 'bernardica', 'portada', 'mises', 'delivery', 'buttigieg', 'mb', 'peters', 'gauteng', 'breakers', 'flutterdev', 'sxswpitch', 'conformal', 'wrigleyfield', 'humanitarianism', 'latests', 'computers', 'elements', 'slash', 'jordanpeterson', 'freedom', 'indianhitwicket', 'remsho', 'taoiseach', 'flyingfutures', 'multipurpose', 'thebest', 'gamedev', 'persuade', 'nflfootba', 'tactical', 'drinkstation', 'neymar', 'nswpol', 'highvibes', 'muazuafrica', 'intervene', 'gibbons', 'aied', 'xen', 'artify', 'expect', 'biofi', 'whodoyoucollect', 'prevent', 'aaroncarter', 'stephen', 'islamist', 'lamalines', 'job', 'shibaswap', 'evbus', 'crewe', 'bionics', 'hypebeast', 'whop', 'herbomineral', 'niagarafalls', 'aii', 'equalizer', 'rampant', 'blackburnian', 'loughrigg', 'venter', 'runchat', 'adityanath', 'timefreeze', 'fdr', 'itsgoodtotalk', 'fiona', 'enft', 'positive', 'alabama', 'tester', 'dorothea', 'aero', 'groundnut', 'ryse', 'lippens', 'beware', 'cider', 'reinoutwiers', 'fecafoot', 'nothings', 'bsty', 'techblogs', 'viratfan', 'piaic', 'faithful', 'ocean', 'ceferin', 'cemeteries', 'relish', 'edtechchat', 'tonight', 'referee', 'ionictech', 'kejriwalexposed', 'organisation', 'flinders', 'emerald', 'tire', 'futureofpost', 'khada', 'detractors', 'luis', 'freebees', 'idiopathic', 'margo', 'fulminate', 'foodpoisoning', 'srhvrr', 'expressyourself', 'polymer', 'unlawful', 'kirya', 'dose', 'brittney', 'manutd', 'referral', 'この人を国葬って正気ですか', 'figma', 'kemp', 'ccpssuccess', 'fridaymorning', 'mujje', 'rotten', 'rich', 'beat', 'mohammedan', 'curd', 'cattle', 'raiders', 'endanger', 'limo', 'avengers', 'synthesize', 'stace', 'eidulazha', 'michaelhussey', 'motiontoken', 'pronounce', 'nimh', 'goalkeepers', 'dscanning', 'newsport', 'csklover', 'checkin', 'guillermo', 'bigotry', 'acidity', 'shareforsuccess', 'bokoharam', 'movebetter', 'jadon', 'jacindaarden', 'bangladesh', 'devices', 'madeinindia', 'accumulate', 'holiday', 'psychosis', 'regret', 'gymnastics', 'sturdy', 'redpill', 'path', 'peaceandlove', 'bestselling', 'collective', 'tanja', 'humantouch', 'madmicrobe', 'interacademy', 'homesecretary', 'wanindu', 'resolution', 'memoir', 'cameras', 'miles', 'plain', 'mintengine', 'yuzvendra', 'gamble', 'outbreak', 'shikardhawan', 'vladimir', 'coffeelovers', 'commendable', 'narcissus', 'extinguisher', 'tank', 'sonia', 'castro', 'norgaard', 'therapy', 'viral', 'yong', 'zelenskyy', 'daysofwalking', 'kkrhaitaiyar', 'duck', 'bhiwandi', 'noura', 'nv', 'tezos', 'blockbench', 'screech', 'begin', 'mindfully', 'goodriddance', 'nyprimary', 'finite', 'klau', 'truely', 'giresunspor', 'familyplanning', 'head', 'variety', 'pact', 'manuel', 'ten', 'measurement', 'airline', 'raid', 'diapers', 'arkansportksa', 'wellcome', 'precisely', 'mockup', 'rinos', 'representation', 'sammie', 'blacktheology', 'ፖለቲካ', 'rahulgandh', 'ngolokante', 'grain', 'realign', 'seed', 'bitcoinnews', 'yellove', 'airquality', 'paris', 'middleweight', 'dossier', 'auai', 'visions', 'constipation', 'representatio', 'roadsafety', 'fashionmodel', 'pneumonia', 'vikrams', 'foward', 'semis', 'edpol', 'admkmeeting', 'anytimeanywhere', 'youngsters', 'manipulate', 'gandhis', 'nzvssl', 'unrestricted', 'formally', 'alt', 'hyperbole', 'converge', 'followback', 'nonagenarians', 'pilakavani', 'fsb', 'taxpayer', 'casinogames', 'iitbombay', 'clinical', 'yield', 'rake', 'equestrian', 'santander', 'ilrn', 'locations', 'pkbs', 'techwithmc', 'closely', 'demography', 'obama', 'wheeloffortune', 'programmers', '𝐅𝐫𝐢𝐝𝐚𝐲', 'frailties', 'brotherhood', 'chuck', 'teame', 'mpabulungi', 'sicklysweet', 'opera', 'dtechnology', 'dcvsft', 'retaliate', 'evaluation', 'ohioans', 'educational', 'exercise', 'messenger', 'rahultripathi', 'closet', 'hbarbarians', 'cities', 'digitaljournal', 'dockers', 'zhou', 'kapil', 'productleader', 'bang', 'simulator', 'shubman', 'fcbarcelona', 'ui', 'nip', 'polygraphs', 'liquids', 'astral', 'extraordinarily', 'cafe', 'fathersrights', 'mary', 'hyperrealism', 'kindness', 'shove', 'dragrace', 'mankind', 'lucia', 'politburo', 'mammography', 'kanu', 'organelles', 'reinvested', 'demetia', 'aitc', 'teaspoons', 'colinpowell', 'trait', 'ବପ', 'dislike', 'faqs', 'horseracingtips', 'artemis', 'overhear', 'strange', 'biology', 'skinner', 'shameonpolitics', 'grateful', 'cheema', 'value', 'tlotw', 'unc', 'monstrous', 'unsweetened', 'immediately', 'medicalised', 'moleg', 'ronaldo', 'brasilvota', 'psws', 'nineties', 'eighth', 'indianhockey', 'dopamine', 'plan', 'persecution', 'whm', 'hayride', 'offbroadway', 'ferrari', 'rogue', 'paediatric', 'bandcamp', 'footballplayers', 'boreham', 'arc', 'dandelion', 'zirin', 'appstore', 'optout', 'criminals', 'marsh', 'granddesigns', 'al', 'pennymordaunt', 'nitrate', 'wph', 'humanbiology', 'freesydney', 'alway', 'diligent', 'berlin', 'uth', 'gynocentrism', 'deeplink', 'ravibishnoi', 'derbiditalia', 'untouchable', 'say', 'scientific', 'nonlocality', 'streamline', 'doctorsorders', 'nightlife', 'shiver', 'morkel', 'ecological', 'uppercut', 'textural', 'asia', 'dontpunishpain', 'govegan', 'ados', 'jolt', 'traits', 'topgunmaverick', 'alejandro', 'verzuz', 'specialist', 'praiseorgrumble', 'rhony', 'coherent', 'fck', 'jira', 'influenza', 'lizzo', 'exchange', 'nypd', 'albionfamily', 'sh', 'klaasen', 'nans', 'cause', 'multiomics', 'dutton', 'restrictact', 'mother', 'blockchains', 'booster', 'trenchant', 'restrain', 'goats', '超导体', 'constituencies', 'datascience', 'judgmental', 'chalk', 'goooooooooo', 'aaronia', 'samarthguru', 'band', 'biotin', 'nowar', 'murderous', 'oxoncricket', 'frantz', 'declassify', 'statium', 'puckett', 'saveenergy', 'imager', 'nagarro', 'cdnpolitics', 'indirectly', 'raddison', 'robotic', 'demise', 'teamsnap', 'etc', 'morninglive', 'laleston', 'murang', 'univerza', 'feral', 'websites', 'vesicle', 'divider', 'wipe', 'econmy', 'hsmcentre', 'incovacc', 'kanewilliamson', 'violent', 'leggie', 'drax', 'insensitive', 'twittercricket', 'bathtub', 'recipients', 'gatorade', 'depression', 'larrythecat', 'year', 'morningjoe', 'would', 'filmmaking', 'healthcheckup', 'posušje', 'david', 'sand', 'cryptonewstoday', 'internal', 'brunofernandes', 'roadtopartner', 'hapevillecityfc', 'tynemouth', 'smelter', 'bankersbonuses', 'box', 'mountain', 'pollute', 'jessica', 'lupo', 'whelan', 'patientjourney', 'occur', 'apartments', 'klowns', 'religiously', 'damorants', 'ethical', 'cours', '𝐒𝐮𝐝𝐚𝐫𝐬𝐡𝐚𝐧', 'kyrgyz', 'masonmount', 'proofofstake', 'queen', 'robb', 'ancientegypt', 'askhertostand', 'fitdad', 'dysbiosis', 'powerhitting', 'nutmeg', 'sauna', 'debaters', 'kiddaan', 'theorists', 'forage', 'workatictp', 'chantastic', 'commanders', 'upward', 'delicate', 'batter', 'deadlift', 'borough', 'fortify', 'pip', 'karnakata', 'beryl', 'fascists', 'upscaling', 'motd', 'cheesehead', 'cyclist', 'miyawaki', 'lakkhanaadisorn', 'armchair', 'glasgow', 'cronyism', 'corgilovers', 'sofa', 'arrows', 'shilpa', 'smartcontracts', 'ehub', 'medbed', 'kp', 'boston', 'sickness', 'maesteghospital', 'everyday', 'relegate', 'matlab', 'goa', 'genre', 'paranoia', 'gmofree', 'sharply', 'southkorea', 'deity', 'democracyday', 'underweight', 'thornton', 'learningapp', 'webuyused', 'billc', 'access', 'thedigitaluk', 'quitsmoking', 'fellowship', 'rgv', 'smartmobility', 'shit', 'smelt', 'thebiglie', 'vandanaa', 'ware', 'irr', 'hatespeech', 'uranium', 'idiosyncrasies', 'toryimplosion', 'μg', 'edward', 'lara', 'borisjohnso', 'fitnessfriday', 'medcare', 'staff', 'sattology', 'hurl', 'ffebanno', 'noodleshop', 'mw', 'answerandwin', 'yormark', 'pretty', 'stillness', 'cup', 'decipher', 'sportwereld', 'shrinkage', 'glove', 'asset', 'gabor', 'flat', '内閣改造', 'layoff', 'carp', 'fireandrescue', 'ionic', 'iheartradio', 'bearswithjobs', 'lense', 'act', 'blessallppl', 'sarfaraznawaz', 'tirangapolitics', 'weeks', 'objectivity', 'docker', 'ismaly', 'radiology', 'leanne', 'gravest', 'session', 'oasis', 'alpha', 'libertarianism', 'investigación', 'pacers', 'wuhan', 'gwtd', 'respectability', 'argos', 'linolenic', 'npr', 'gg', 'coloradoriver', 'southafrica', 'getoutthere', 'gloriaslaw', 'kkrvsrcb', 'letsgohawks', 'questron', '𝘞𝘦', 'hoop', 'tryst', 'lifelessons', 'gadi', 'sunilgavaskar', 'seahawksnation', 'bullshit', 'vinegar', 'liverpools', 'socials', 'toffee', 'smoothie', 'pwd', 'aristocrat', 'mmhg', 'adversely', 'cleard', 'seek', 'quickly', 'knobgate', 'sportsinvest', 'healthyeating', 'room', 'dread', 'rittigers', 'taipei', 'tommorow', 'grc', 'yeats', 'illustrious', 'versa', 'asshole', 'middlesbrough', 'christmastree', 'qualityused', 'ubox', 'hainan', 'owaisi', 'gorgeous', 'livefootball', 'itsworthit', 'tongue', 'worldpolitics', 'phase', 'workplaces', 'heave', 'ppr', 'chive', 'time', 'askpanditkatt', 'yf', 'push', 'estimate', 'agewith', 'homescreensetup', 'carrie', 'arcia', 'derbyshire', 'buyers', '𝙉𝙀𝙒', 'hustle', 'jeuxdesocieté', 'softwaretesting', 'upsccse', 'yoweri', 'pietro', 'porn', 'seattleseahawks', 'shamitashetty', 'guarantee', 'conspire', 'saisudarshan', 'directors', 'clearest', 'futures', 'politicalmemes', 'vow', 'lurk', 'alvarez', 'smashwords', 'estate', 'skycalcio', 'eventhost', 'presently', 'strigil', 'duos', 'racists', 'medic', 'mir', 'larigauderie', 'stoves', 'salop', 'usd', 'kat', 'teamworking', 'uae', 'neisvoid', 'whunew', 'nnps', 'campground', 'noexcuse', 'neena', 'democracies', 'mec', 'bill', 'maunaloa', 'alex', 'chaingpt', 'arb', 'talkies', 'seven', 'atkinson', 'grafi', 'lovetoday', 'booths', 'luxurycars', 'upate', 'program', 'marvelous', 'massively', 'cysticfibrosis', 'jaishreeram', 'slogans', 'ctsy', 'cosco', 'unsolved', 'mukhtarov', 'operative', 'pubmedia', 'chng', 'rts', 'jetsonnano', 'physique', 'skincare', 'rrvspbks', 'mwc', 'blackish', 'baba', 'loyalties', 'corpses', 'pfizer', 'testnet', 'brake', 'designate', 'dataunion', 'absorbable', 'rectangular', 'mystory', 'mls', 'micheal', 'rainbowplatform', 'mediocrity', 'energetics', 'microcredsie', 'recipes', 'saveminecraft', 'aiartcommunity', 'dirt', 'bfc', 'selfie', 'kenyan', 'karthick', 'labourday', '𝗠𝗮𝗷𝗼𝗿', 'motivate', 'endoscopy', 'rao', 'sonic', 'thestv', 'happydiwali', 'larouche', 'achieve', 'binary', 'defender', 'floss', 'drippset', 'admiration', 'committee', 'shifa', 'banpfof', 'startle', 'unrecognizable', 'istanbul', 'parfait', 'yogapractice', 'weep', 'scholarly', 'mohit', 'kaneria', 'unilag', 'philosophy', 'malwa', 'hydride', 'curlingly', 'carla', 'specialtycourts', 'munugodubypoll', 'cloth', 'teamapple', 'distractibility', 'támez', 'forloop', 'product', 'apology', 'akedchat', 'elimination', 'vanpoli', 'deutschland', 'ktr', 'footprint', 'camogie', 'csw', 'mutombo', 'idiot', 'cyber', 'hoima', 'rebel', 'bankbalance', 'orthotwitter', 'decent', 'spike', 'snooker', 'musicgeneration', 'denmark', 'weaknesses', 'tackle', 'franklin', 'biochemistry', 'sisepuede', 'feat', 'featuredsporter', 'justify', 'varadoii', 'elevate', 'munnetra', 'sportwallpaper', 'jiujitsu', 'healthpromotion', 'withania', 'nicotine', 'bilkisbano', 'universal', 'dccomics', 'savy', 'groupe', 'kanganaranaut', 'news', 'kelly', 'duane', 'accolades', 'performative', 'gartner', 'jerseys', 'ainature', 'volos', 'surely', 'watkins', 'aspire', 'permacrisis', 'azharali', 'relief', 'pasmanda', 'chloe', 'fbiraid', 'gambhir', 'horribly', 'voteshare', 'rugbyworldcup', 'digitally', 'nimsa', 'natstrat', 'filevalidator', 'aiinsports', 'budget', 'gyms', 'facial', 'wsb', 'untold', 'cesarean', 'jhuapl', 'stoner', 'tinker', 'bump', 'chor', 'gess', 'cabinet', 'dapp', 'matchreaction', 'tasteofindia', 'state', 'category', 'scoreboard', 'dahi', 'soybean', 'asbiro', 'owen', 'ouroceanpanama', 'sensor', 'ica', 'jjp', 'haaaaaaaa', 'kim', 'pastime', 'misdiagnosis', 'norden', 'christen', 'amy', 'italian', 'guava', 'sow', 'epidemics', 'micronutrient', 'rashwin', 'rgp', 'snapshots', 'ewt', 'hardin', 'cowardly', 'convergence', 'aicinema', 'reinstate', 'futurehousing', 'stich', 'twentieth', 'asa', 'genius', 'colchester', 'germany', 'infectious', '古筝音乐', 'preview', 'avt', 'fitcoach', 'stoc', 'vanilla', 'leptin', 'miki', 'babachir', 'exporter', 'equality', 'recoveryjourney', 'aurus', 'steel', 'carrier', 'foreing', 'sukta', 'optics', 'selflessness', 'film', 'unopened', 'complement', 'chests', 'remind', 'inseparable', 'cuomocommunity', 'authority', 'colin', 'crypt', 'relive', 'instant', 'cliamte', 'res', 'speechlab', 'miscreants', 'usaf', '𝘼𝙆𝘼𝙒', 'endalz', 'pushupchallenge', 'emperor', 'shelter', 'independence', 'dollar', 'forecast', 'paleo', 'sundaygame', 'christia', 'flour', 'roscommon', 'chain', 'bunny', 'soreness', 'secondchances', 'etfs', 'blueteamfit', 'betadda', 'stemhistory', 'cochair', 'budapest', 'snare', 'softbat', 'substances', 'moglixhaina', 'cardioed', 'advise', 'ofifc', 'sic', 'tor', 'makeadifference', 'mentee', 'touchscreen', 'burnout', 'heartbreaking', 'chinacovidsurge', 'seavolt', 'chek', 'lufc', 'kick', 'suh', 'comprehend', 'digital', 'jhoomejopathaan', 'burgess', 'complexities', 'cumplirá', 'telugu', 'hobby', 'andor', 'cubans', 'storyboarding', 'mackerel', 'sector', 'scm', 'infusion', 'coffeesupplies', 'cheerfulness', 'mendis', 'altaf', 'seeforyourself', 'griot', 'sergeilavrov', 'militao', 'fede', 'manohar', 'lettuce', 'srh', 'fullpotential', 'blast', 'consultants', 'qr', 'opus', 'ridlan', 'campign', 'schoolhouserock', 'storrs', 'freeagentwatch', 'endntds', 'bonuses', 'geneva', 'gher', 'potassium', 'finalscore', 'wafc', 'famousrappers', 'lol', 'moveai', 'sectarianism', 'wrongdoing', 'thackeray', 'monterrey', 'puttick', 'validity', 'formal', 'everydaysexism', 'piss', 'genai', 'dietch', 'stiecosystems', 'drugsandalcohol', 'houseofcommons', 'navgujaratsamay', 'mum', 'refugees', 'kpr', 'youth', 'firstnation', 'persie', 'crisprcas', 'crimes', 'footballshoes', 'dxm', '𝐑𝐄𝐂𝐑𝐔𝐈𝐓𝐈𝐍𝐆', 'temporary', 'proteas', 'azamkhan', 'blackstudies', 'doublestandards', 'unwind', 'kennedy', 'flee', 'stanhope', 'psgtraining', 'aggregate', 'memes', 'ink', 'midterms', 'aidatatrends', 'protectlife', 'longest', 'synthetic', 'maeve', 'rupaulsdragrace', 'newyears', 'supreme', 'beefnetflix', 'stuffy', 'alma', 'widgy', 'playbook', 'rx', 'kakatiya', 'kracken', 'nina', 'diversion', 'tft', 'soapboxxnation', 'howard', 'inconsistencies', 'dallassports', 'maximise', 'stoinis', 'siu', 'whose', 'revenge', 'bajic', 'await', 'unsuccessful', 'jolly', 'cancerous', 'evidence', 'recipe', 'crystals', 'boko', 'disco', 'siddaramaiah', 'justice', 'sea', 'dallastexas', 'sorghum', 'cab', 'envsocsci', 'dai', 'historicsites', 'gayle', 'teamgoals', 'criminal', 'lamarjackson', 'kentucky', 'inverters', 'ainleeteem', 'grace', 'rabiot', 'pedo', 'subdue', 'infosecurity', 'emma', 'assume', 'cybersec', 'phytonutrients', 'laut', 'psl', 'coldwar', 'retentio', 'federations', 'verify', 'sars', 'fcbayern', 'mithaliraj', 'nationalawatds', 'kartel', 'aleister', 'inxd', 'bollywoodmovies', 'chop', 'gaagaeilge', 'hope', 'amref', 'revise', 'expectancy', 'candace', 'bailouts', 'roundtable', 'hadenough', 'farmsipresenta', 'sadist', 'success', 'devopsengineer', 'mgglycinate', 'dsyn', 'future', 'heady', 'fairbreak', 'alcoholfree', 'factual', 'desnews', 'adhan', 'veena', 'aortic', 'hua', 'gaborik', 'dormaa', 'vitals', 'management', 'insecurity', 'forty', 'circus', 'lament', 'whitegenocide', 'womenx', 'martinez', 'pandas', 'cpim', 'stillfriends', 'bagyaraj', 'rotary', 'शभक', 'spouse', 'cyberattacks', 'celltherapy', 'epub', 'nose', 'kabul', 'mordaunt', 'dottee', 'immunesystem', 'pharmallama', 'apollosports', 'mlkday', 'rte', 'inaugural', 'rwa', 'advisers', 'dataframe', 'activekids', 'plaza', 'jayz', 'brochure', 'harley', 'kylian', 'thankful', 'dailyfacts', 'mariolopez', 'tpfamily', 'indignation', 'skillzdr', 'participatory', 'objectives', 'saul', 'iccr', 'peta', 'papuanewguinea', 'subfields', 'islamophobia', 'ifit', 'raymond', 'hamalis', 'daskalakis', 'ammo', 'afrobeats', 'cataract', 'hk', 'panchagnula', 'vastly', 'confidence', 'voetbal', 'ethicalhacking', '闘球', 'flagshipfounded', 'reshape', 'taunt', 'ftc', 'fiscally', 'solihull', 'br', 'lalu', 'paltan', 'oxygen', 'backend', 'farther', 'vat', 'zeke', 'flc', 'tge', 'brunosaltor', 'makueni', 'mingyu', 'caerleon', 'walnuts', 'awt', 'sleepwake', 'tuvotocuenta', 'defective', 'coaster', 'mud', 'wealth', 'appalachian', 'dir', 'genocidaires', 'pctv', 'worship', 'reliancedigital', 'artistontwitter', 'amid', 'historylitfest', 'adrenal', 'sena', 'ds', 'tacticalpad', 'tallest', 'rudiger', 'camhsscandal', 'dataanalyst', 'misinform', 'youre', 'comingout', 'milestone', 'pfi', 'racial', 'brexitbenefits', 'cutout', 'suiecosystem', 'correspondent', 'opportunities', 'fawreferees', 'cpf', 'oecd', 'makeindiano', 'fakulteta', 'tapsell', 'attire', 'mentalelf', 'attend', 'paycheck', 'fuelpoverty', 'sticky', 'exposures', 'audiomoth', 'insanely', 'halo', 'madeira', 'wgc', 'ramnagar', 'pros', 'audacious', 'thieve', 'janasena', 'perovskite', 'clancy', 'superstar', 'consul', 'sexist', 'hopefully', 'threat', 'dls', 'mahesh', 'designjobs', 'myleader', 'globaltamilhp', 'cesena', 'gayfit', 'defuse', 'pmprime', 'brandvisibility', 'hai', 'nuremberg', 'frates', 'foodforthought', 'frm', 'societal', 'assam', 'guideline', 'paderborn', 'teabag', 'draft', 'perch', 'therefore', 'kris', 'olympicgames', 'brics', 'healthieryou', 'datafication', 'cricketfancy', 'transition', 'elate', 'rewrite', 'malina', '𝗦𝗸𝗲𝘁𝗰𝗵𝗲𝘀', 'condole', 'vengsarkar', 'jacket', 'koopverse', 'stats', 'datacollection', 'youthful', 'mansions', 'talktoday', 'prayerfully', 'ifb', 'virtualworld', 'khalsaaid', 'bayernmunchen', 'abruptly', 'megawealth', 'urbanleadership', 'shameonbjpgovt', 'ps', 'jenkins', 'fci', 'cia', 'interest', 'jhiss', 'toothbrush', 'browne', 'peoplefirst', 'guatemala', 'footwear', 'palihapitiya', 'khader', 'crumple', 'firefighting', 'coburn', 'valium', 'majid', 'furnace', 'compensation', 'aigenerated', 'nicolasturgeon', 'regimen', 'probe', 'hiv', 'oxalate', 'nanosensors', 'imp', 'nationalnews', 'czar', 'muaythai', 'autophagy', 'digitallshe', 'wahlstedt', 'politeness', 'petr', 'iam', 'braintumors', 'controllers', 'sportsgalli', 'scribble', 'handsnfeet', 'banvire', 'yacht', 'thanx', 'abortio', 'solace', 'galeon', 'wearesaitama', 'flexitarian', 'repeat', 'straw', 'aaaaand', 'publicservices', 'marketization', 'guinea', 'blackhumor', 'demolition', 'memo', 'bitcoinlive', 'tokenomics', 'nepal', 'invitations', 'segwit', 'addis', 'herogalaxy', 'poem', 'evgeni', 'latter', 'atre', 'lead', 'iberoamerica', 'beantocup', 'rajkot', 'ohtsuka', 'cusa', 'roadmaps', 'quickness', 'blockchain', 'kin', 'letsfaceit', 'comedienne', 'rodrygo', 'bury', 'safe', 'missourileaders', 'umoja', 'sowell', 'betbuilder', 'squish', 'uhl', 'efforts', 'homomorphic', 'govs', 'coa', 'sadat', 'wecare', 'banditry', 'orsastrong', 'boost', 'elite', 'warrenmoon', 'spread', 'motherhood', 'perfection', 'nationshistory', 'bec', 'rit', 'beti', 'canton', 'mabvuto', 'ferguson', 'violence', 'sachintendulkar', 'configure', 'doppler', 'halton', 'meyer', 'matrixnetwork', 'realsociedad', 'happycoimbatore', 'simulink', 'buidl', 'hockeymemes', 'takeover', 'live', 'urinary', 'videomail', 'unityinsports', 'porthole', 'lobby', 'luton', 'tonetalks', '武道', 'embolization', 'callum', 'unemployment', 'sympathies', 'thu', 'bowlingteam', 'pgaranking', 'ghulamgiri', 'ahmed', 'allstargame', 'pakistan', 'slave', 'startrektos', 'zinedine', 'extremists', 'equitable', 'leicesters', 'ravan', 'openaied', 'bukayosaka', 'demirspor', 'mammogram', 'wentz', 'tigerstrong', 'outpace', 'privacymatters', 'mnleg', 'explosive', 'rasool', 'halfmarathon', 'mfr', 'badjokethursday', 'dd', 'naturelover', '𝔾𝔸𝕄𝔼', 'nac', 'pandemics', 'disruptive', 'node', 'routers', 'supra', 'fenerbahce', 'combatcamera', 'stablecoin', 'rrvsrh', 'wonder', 'garmin', 'verticals', 'zulfiqar', 'outrage', 'sunaknotmypm', 'restaurant', 'creoennosotros', 'sharktank', 'leaderdebate', 'telly', 'jack', 'statefree', 'tst', 'mussolini', 'crickettraining', 'bfcitc', 'santafitness', 'nelson', 'douglas', 'etsyshop', 'timesonline', 'membrane', 'yourstory', 'cyberwednesday', 'halfway', 'trudeau', 'yakub', 'thul', 'competencies', 'bayernmunich', 'residual', 'monsterraving', 'stsohan', 'unsoaked', 'compare', 'repackaged', 'beatrice', 'sportsretronic', 'paypal', 'wajackoyah', 'certeau', 'salt', 'birthday', 'ambassadors', 'encircle', 'arrangements', 'sadiq', 'babydoge', 'parsekar', 'runner', 'jwn', 'pain', 'qb', 'renate', 'hadebe', 'indiv', 'lecturer', 'hospitalize', 'ys', 'ukraine', 'compulsive', 'pbks', 'bitpanda', 'volt', 'welfarereform', 'insidious', 'enenche', 'dynast', 'mehra', 'willingness', 'hexican', 'twitterlogo', 'mosalah', 'braintrauma', 'nano', 'geneticist', 'tawde', 'shapps', 'saw', 'terpenes', 'parnell', 'ozil', 'itrules', 'accelerate', 'justsayno', 'historicpools', 'childhoodtrauma', 'भग', 'fully', 'gandh', 'pujacarnival', 'precautions', 'mbs', 'journorequest', 'corporate', 'phunsukh', 'dailyspaces', 'carrousel', 'treatment', 'complex', 'fuckwits', 'coerce', 'turfcricket', 'transformative', 'ws', 'kravets', 'sinus', 'africanism', 'generate', 'brek', 'nowadays', 'darling', 'dribbblers', 'radcliffe', 'hamburg', 'productpass', 'successors', 'antagonisms', 'forge', 'oruro', 'introspect', 'banega', 'lasvegasraiders', 'culprit', 'districtheating', 'academictwitter', 'assistant', 'falcone', 'runningtwitter', 'footballfinance', 'hospitality', 'alive', 'watershed', 'unrealistic', 'santa', 'skincancer', 'womeninreligion', 'bureaucracy', 'biswanath', 'rollfrom', 'philanthropy', 'mallconomy', 'bed', 'anonymous', 'tripura', 'blacknews', 'laava', 'akash', 'handedly', 'january', 'qatarfootball', 'cooperatio', 'hang', 'nitrogen', 'crockwell', 'wary', 'teenagers', 'politicon', 'brutal', 'rekindle', 'possibility', 'indianboxing', 'varavararao', 'getbundi', 'association', 'googleedu', 'pusb', 'stake', 'courier', 'furious', 'shonanbellmare', 'modulation', 'mehrzweck', 'backdayworkout', 'sag', 'wonderdrug', 'hobnob', 'mindfulness', 'sdfc', 'quicker', 'resurrection', 'cut', 'reign', 'sola', 'climatecrisis', 'basket', 'jamessquire', 'strengh', 'tiranga', 'studentloan', 'bell', 'lusaka', 'bummer', 'worldsports', 'scorers', 'remarkable', 'switzeland', 'elliot', 'bollox', 'shey', 'bribe', 'developers', 'doa', 'pulsex', 'gin', 'haaland', 'srk', 'influence', 'cloneai', 'boy', 'statistical', 'susan', 'fury', 'streep', 'grand', 'pagers', 'edutech', 'baby', 'defendarlington', 'sikkim', 'care', 'taxcuts', 'squat', 'sportbusiness', 'ayurvedapragya', 'distributor', 'canons', 'calciomercato', 'exclusion', 'clock', 'morality', 'cr', 'khanyar', 'kkrhaitaiyaar', 'nonfungible', 'māori', 'reinvestment', 'nikewomen', 'truthbetold', 'flesserl', 'beacon', 'recount', 'blockcha', 'gerardrennic', 'arrange', 'delusions', 'reconnaissance', 'giveaway', 'munugodebypolls', 'nantes', 'wildlife', 'uncaring', 'wenotme', 'mydubai', 'dtw', 'dsd', 'paralyze', 'purpose', 'blindside', 'tvdrama', 'rollercoaster', 'alhamdulillah', 'shrum', 'nieman', 'کا', 'rollup', 'indictment', 'genderequity', 'creep', 'asleep', 'theworld', 'savealife', 'electricbus', 'opcomic', 'sing', 'ramshackle', 'backstabbed', 'divert', 'tide', 'ion', 'lauréate', 'newgoal', 'backthebeard', 'palantir', 'penzance', 'limbdifferences', 'num', 'viratkohli', 'savage', 'qoutes', 'brockpierce', 'canva', 'godsplan', 'etherum', 'rothschilds', 'oslo', 'canada', 'freerange', 'radu', 'mahomes', 'inclusive', 'candidatez', 'intertwine', 'sajak', 'pollutio', 'leek', 'staple', 'physicist', 'atiku', 'ona', 'arun', 'farmers', 'gtvcsk', 'yair', 'otford', 'mohlopi', 'blackness', 'sixsigmasports', 'zenadrone', 'vaxed', 'biggies', 'orlen', 'भरप', 'inability', 'votewisely', 'macro', 'add', 'tw', 'depressive', 'needforspeed', 'expertly', 'smokey', 'brockbank', 'ishayoga', 'breastcancers', 'tie', 'class', 'juror', 'motiondesign', 'vs', 'vg', 'route', 'thebestman', 'ah', 'surge', 'mismanagement', 'mentoo', 'iplayer', 'om', 'creativelogo', 'sec', 'hampshire', 'haxim', 'full', 'kashmiripandits', 'gorevinde', 'amikkr', 'poland', 'cgtnamerica', 'xbox', 'collaborative', 'gully', 'way', 'write', 'flint', 'ashwagandha', 'sandton', 'writingchat', 'monetization', 'bishwa', 'rahmat', 'cpec', 'plhalloffame', 'cord', 'muhammad', 'movement', 'teamgb', 'toriscum', 'mssrf', 'cargo', 'jeffersondavis', 'exile', 'nsa', 'paniniamerica', 'menopause', 'bharattodoyatra', 'livechat', 'boundary', 'hub', 'pmx', 'liztruss', 'enterpriseai', 'highschoo', 'frigid', 'fairfax', 'stare', 'transmitter', 'replacement', 'अपन', 'mulvaney', 'ksstatecapitol', 'amount', 'happychild', 'ebony', 'topical', 'gimenez', 'hilary', 'sawant', 'unr', 'rate', 'pretzels', 'degree', 'biophilia', 'osimhen', 'mrizwan', 'nightly', 'ksk', 'ownables', 'superpower', 'getafe', 'honestly', 'speedhumps', 'worldwaterday', 'earbuds', 'choiseul', 'evs', 'sonaliphogat', 'disgrace', 'teachermatic', 'defer', 'despicable', 'domainers', 'wsop', 'circa', 'ikokazike', 'boba', 'nazir', 'shawon', 'joshuametellus', 'farrakhan', 'brahmastracorps', 'spd', 'negotiate', 'careerplanning', 'discuss', 'kitchen', 'dapper', 'artistic', 'uncut', 'nfllegends', 'atanas', 'volumetrics', 'emtek', 'bhagwantmann', 'lawsoftanzania', 'ranil', 'フィットネス', 'tbi', 'chopra', 'singularitynet', 'eatglass', 'undeniable', 'fortunate', 'vitamine', 'domain', 'aert', 'nstatech', 'manspreading', 'ally', 'kumble', 'gerardrennick', 'acheived', 'delafuente', 'nftcommunitynfl', 'decaf', 'cox', 'twindemic', 'abhinav', 'ottoman', 'elangovan', 'visuals', 'mariboru', 'boca', 'caa', 'fatutoa', 'kava', 'celtics', 'hamad', 'girlseducation', 'rgb', 'oja', 'balochistan', 'rakesh', 'pichichi', 'symposium', 'dubious', 'counterparts', 'indvssl', 'arteries', 'antony', 'clinics', 'vallecano', 'streetfootball', 'dreamteam', 'nearly', 'baseballmom', 'orienteering', 'flounce', 'jainirrigation', 'novel', 'span', 'backdoor', 'chapati', 'daysofmlcode', 'bardai', 'asevaneeya', 'nh', 'endtasertorture', 'dodgeball', 'prioritize', 'sportscamp', 'dosha', 'meat', 'summer', 'twotone', 'ecosystem', 'bearsfamily', 'agarkar', 'cowboys', 'protein', 'ambitious', 'dreadful', 'sukkur', 'datastorage', 'areas', 'rumble', 'suspend', 'stacyabrams', 'minutes', 'harig', 'raza', 'womenday', 'regimens', 'diamonds', 'thrash', 'ibd', 'airplane', '𝐒𝐢𝐧𝐠𝐡', 'andheri', 'hopers', 'socialcircus', 'kavitha', 'buddhism', 'losethebooze', 'pcgaming', 'poopers', 'rollon', 'convince', 'bjpdruggate', 'kamall', 'ureteral', 'abhorrent', 'agustd', 'pergolettese', 'robinson', 'ellagitannins', 'backpain', 'itshappening', 'handover', 'imrannazir', 'insulate', 'sagantosu', 'arshdeepsingh', 'zoba', 'lebanon', 'girlswhorun', '磁浮列车', 'keralafootball', 'heartware', 'tourette', 'subscribers', 'regan', 'darkpoolabuse', 'breakthrough', 'herdsmen', 'thrissur', 'potus', 'gladiators', 'csk', 'absence', 'collusion', 'aggregator', 'carlsberg', 'anwarsadat', 'magnanimous', 'whn', 'cofounders', 'conquer', 'uddhavthackeray', 'jumlakingmodi', 'workplacemh', 'rohingyarefugee', 'circumstances', 'tiktok', 'daniela', 'heckle', 'rngs', 'foil', 'lillianfinance', 'medicalstudents', 'cruise', 'cdel', 'fulfil', 'average', 'selfdriving', 'bulldog', 'humaninterest', 'himmons', 'aihealthcare', 'priorities', 'dicaprio', 'tait', 'koruma', 'prime', 'paterson', 'dft', 'primeiraleague', 'brown', 'kwasho', 'skysports', 'shinealight', 'educate', 'guzheng', 'trivial', 'billy', 'abusers', 'kuzya', 'ok', 'please', 'geriatric', 'articulately', 'yashasvi', 'loss', 'lawyer', 'adoptdontshop', 'fitbod', 'jlas', 'northernireland', 'spay', 'schoolcricket', 'healthynupes', 'sikhardhawan', 'unreliable', 'sen', 'tbijuniors', 'australia', 'gamedesign', 'cbj', 'beverages', 'birthdays', 'intensity', 'martini', 'prelims', 'buttermilk', 'ghpw', 'tytlive', 'hyannis', 'saurav', 'stjude', 'sausage', 'revdi', 'mga', 'bartender', 'mornings', 'comp', 'liu', 'devoid', 'crack', 'iafc', 'villarrealcf', 'tulsehill', 'kort', 'stutter', 'govote', 'fafduplessis', 'rotation', 'implantable', 'cnc', 'discover', 'llms', 'renard', 'stepn', 'exit', 'emergingtech', 'junet', 'koop', 'humanresources', 'wbc', 'sfh', 'gujurat', 'trilobites', 'getready', 'irl', 'oems', 'stopalz', 'litter', 'wind', 'bok', 'wee', 'antagonists', 'police', 'sagar', 'walkongirl', 'wheelchair', 'kamalhasan', 'foxersports', 'pactforskills', 'muralidharan', 'ラグビー', 'yup', 'mumbaindians', 'kmd', 'betterment', 'kgfneelam', 'divyagokulnath', 'elegance', 'футбол', 'lifetimes', 'corn', 'embassies', 'northcott', 'jfhtf', 'kobebryant', 'tiruppur', 'leonal', 'iranian', 'jpl', 'danielsturridge', 'pertinent', 'loneliness', 'kayleigh', 'spinalcord', 'bfi', 'lcca', 'miotte', 'healthylife', 'slide', 'leather', 'ambulance', 'agreement', 'vikash', 'titlesequence', 'nfp', 'velasco', 'kumli', 'decisive', 'wttc', 'thecurrent', 'bookoftheday', 'lifeatgl', 'psychtwitter', 'midjourneyv', 'father', 'pillar', 'motobot', 'pizzas', 'vinod', 'var', 'xisumasays', 'ajinkya', 'nonfunai', 'appleeduchat', 'grill', 'pointstable', 'showmethemoney', 'esri', 'rugbylife', 'getstuckin', 'teamobm', 'fertiliser', 'completely', 'franchise', 'whipper', 'jadeja', 'nadavlapid', 'kissinger', 'bangabandhu', 'worldfootball', 'iitdelhi', 'udla', 'aleksandar', 'hear', 'apcc', 'marteloscope', 'fire', 'gubernatorial', 'bear', 'tuckercarlson', 'sfu', 'nuke', 'blood', 'stigmatize', 'maribor', 'drainages', 'sucess', 'skimmer', 'awol', 'adopter', 'oathkeepers', 'menuspecial', 'bibi', 'mandela', 'definitely', 'rjd', 'turbines', 'brion', 'transfer', 'roller', 'utter', 'indiegametrends', 'tzu', 'arrest', 'monogrammed', 'yogendra', 'jam', 'cocoa', 'milananagaraj', 'appointment', 'petitionhearing', 'nanotechnology', 'hbdmodiji', 'spacecake', 'compsci', 'wwf', 'swipe', 'iconic', 'shahbaz', 'rutujalatke', 'indiegames', 'median', 'friedman', 'overtly', 'vegalms', 'aed', 'soccerplayers', 'minorities', 'swissborg', 'omail', 'valentine', 'కడ', 'jasonroy', 'fun', 'warm', 'sinema', 'liberate', 'cartech', 'rave', 'greenchemistry', 'mojo', 'commodities', 'rahm', 'cbe', 'wen', 'fifties', 'ply', 'illustrators', 'colnevalley', 'september', 'westminser', 'mccabe', 'rss', 'aicrypto', 'arunachal', 'exploitation', 'genderbiaslaws', 'flexmeme', 'selfconfidence', '𝐓𝐇𝐄', 'payments', 'paok', 'climatemd', 'bernie', 'ramnathpuram', 'shuffle', 'bahubali', 'forth', 'secs', 'dmtr', 'soo', 'intelligent', 'hunters', 'paperlesstrade', 'destroyers', 'morecambe', 'swell', 'livcountychamp', 'zipoli', 'mcopinion', 'highcourts', 'eastleigh', 'pyne', 'lamp', 'bleiker', 'sit', 'spearhead', 'astros', 'dh', 'cheerleaders', 'hydroelectric', 'ais', 'letsdoit', 'anganwadis', 'hibiscus', 'nativeamerican', 'mold', 'valle', 'commitments', 'adenomas', 'sudhamurthy', 'footballers', 'xinjiang', 'digitalgold', 'yun', 'heighten', 'friday', 'disperse', 'trolleys', 'helabet', 'celebratory', 'biomedical', 'compete', 'eeaao', 'institutional', 'bronze', 'dronelightshow', 'remark', 'somaliaeconomy', 'abstractions', 'correspond', 'mcmahon', 'unattractive', 'jet', 'wsu', 'umargul', 'escape', 'expansive', 'fickle', 'grandazzi', 'trumprally', 'scalability', 'universities', 'cyborg', 'due', 'resumption', 'mainstream', 'nflfilter', 'motherf', 'michellemone', 'posterized', 'figueroa', 'lonelytogether', 'judicial', 'struggle', 'pbksvsrr', 'lowitja', 'transport', 'transboundary', 'memory', 'victor', 'geopolitics', 'victories', 'attinfluencer', 'jabudokan', 'quirk', 'santaiscoming', 'internet', 'vitreus', 'aligarh', 'turftown', 'good', 'xianyang', 'algalon', 'artist', 'thomassowell', 'nhscrisis', 'dreamy', 'middleman', 'ladapo', 'racetosurvive', 'lawlessness', 'prominent', 'observations', 'readers', 'thw', 'landslides', 'capitals', 'fite', 'narrative', 'manuscript', 'massey', 'secunderabad', 'audience', 'finalissima', 'ddgleague', 'equal', 'publicity', 'sortation', 'systems', 'philippinesart', 'sinnfein', 'cybernetics', 'young', 'fantasy', 'footballskills', 'winzir', 'workforce', 'eurocracy', 'scaleup', 'camex', 'yay', 'blister', 'ninth', 'barolo', 'mctoil', 'endofsemester', 'raith', 'searl', 'brainer', 'mourn', 'amitmishra', 'lynton', 'miranda', 'politicalleader', 'harmless', 'nationalists', 'cricketballs', 'catsontwitter', 'got', 'jeff', 'hblpsl', 'tournament', 'couplegoals', 'teamsports', 'fest', 'instatech', 'workflow', 'haters', 'bioeconomy', 'disorder', 'noncommunicable', 'reporterdiary', 'vadis', 'chidiodinkalu', 'undermine', 'entitle', 'specificity', 'australiangp', 'soapboxes', 'layton', 'onions', 'quietly', 'retrograde', 'jagdesh', 'cit', 'glenjohnson', 'wbnujs', 'ejection', 'cfo', 'electronically', 'radiologist', 'ailifeguard', 'kaiser', 'addiction', 'underage', 'fraudsters', 'safety', 'ujalltheway', 'foray', 'businessgrowth', 'checklist', 'scarborough', 'paharis', 'reynolds', 'perfect', 'tedlasso', 'rosenstein', 'matthewguy', 'ppl', 'bccipolitics', 'cherie', 'foryoupage', 'fermilab', 'bbs', 'abt', 'nadeem', 'sportnet', 'sinead', 'ant', 'surgical', 'october', 'survivors', 'glasner', 'xiaomi', 'develop', 'transactions', 'mena', 'tons', 'genders', 'youtuber', 'booklooks', 'touchdown', 'always', 'satvik', 'holistically', 'fuel', 'assets', 'khalil', 'thewhy', 'illness', 'lazier', 'podcaster', 'sportingcristal', 'pxlens', 'simplest', 'rowlett', 'lawn', 'heist', 'aidenmarkram', 'hypergraph', 'laleytrans', 'speaklife', 'glen', 'beast', 'canadapolitics', 'liztrussmemes', 'jure', 'ncties', 'sani', 'perfectbat', 'youngkin', 'rort', 'meity', 'footballcoaches', 'secular', 'weareinvictus', 'grind', 'militarychildre', 'illiberals', 'hanumanjayanti', 'status', 'bugbountytips', 'altcoins', 'lunch', 'dhi', 'eic', 'mahabharata', 'agedefying', 'nftfamily', 'brackobama', 'vacation', 'oxfordshire', 'dionte', 'continental', 'matchdays', 'lakers', 'continue', 'palaces', '日米武道館', 'intestinal', 'grt', 'screw', 'diminish', 'mallory', 'mishra', 'jeetbo', 'bdrm', 'prostatecancer', 'infertility', 'credentialed', 'terrific', 'pradesh', 'bionetwork', 'forward', 'harryandmeghan', 'suva', 'mangoes', 'kashiwareysol', 'marketfailures', 'teamgreen', 'pg', 'holloway', 'bakers', 'physicsiscool', 'correlate', 'nasdaq', 'usoecdamb', 'lao', 'division', 'sajeebwazed', 'postmenopausal', 'dotnet', 'dew', 'retro', 'cotton', 'arnett', 'successor', 'reunite', 'users', 'industrial', 'qpoker', 'playbold', 'india', 'discovery', 'bowlingnight', 'comics', 'doughnut', 'elvis', 'shri', 'ispp', 'newcastle', 'cardiacarrest', 'healthcoach', 'poetic', 'strength', 'travail', 'neuron', 'endless', 'peristyle', 'nairobians', 'digicel', 'conceptualise', 'emoji', 'idf', 'rsv', 'cumin', 'thesis', 'landmarks', 'oficially', 'ag', 'winetech', 'shaunmarsh', 'ornish', 'hilversum', 'dumb', 'leadright', 'baltimore', 'viaweb', 'adverse', 'reactionary', 'ozone', 'foundatio', 'brcc', 'networksecurity', 'dalitpanther', 'waterconvention', 'cbdc', 'wilson', 'erupee', 'ide', 'priyanshu', 'shenzhen', 'joerogan', 'winter', 'beethoven', 'ugly', 'muscle', 'scholars', 'prophetic', 'designers', 'fin', 'mantras', 'kidshealth', 'avante', 'debris', 'levateyourlife', 'ampas', 'zksyncera', 'lever', 'mim', 'fieldhockey', 'optical', 'alhamdulilah', 'belgrade', 'lnpfail', 'knee', 'kombouare', 'exoskeleton', 'elders', 'filament', 'newchapter', 'el', 'southaustralia', 'muhangi', 'blocker', 'sexual', 'plessis', 'dow', 'pricneton', 'rattle', 'exxon', 'placequebec', 'dxn', 'stairs', 'hydroxyl', 'tolerate', 'brighto', 'donut', 'horizoneu', 'quotesdaily', 'yuri', 'chance', 'clevelandavenue', 'practical', 'saskatoon', 'mohamaddin', 'occupy', 'imressive', 'payer', 'needlessly', 'antiwar', 'sdoh', 'nightingales', 'certainty', 'tadipaar', 'followthemoney', 'administrators', 'tete', 'darren', 'ntd', 'bein', 'etiquette', 'gcoti', 'mos', 'elbow', 'gracia', 'qcom', 'cvs', 'surplus', 'system', 'fullspeech', 'olbg', 'ilogitron', 'doglife', 'bj', 'decentalized', 'renegade', 'neuronal', 'starsportshindi', 'baccarat', 'beach', 'onwards', 'sportslaw', 'setups', 'sensible', 'invasion', 'ballast', 'prominently', 'help', 'domaining', 'biometrics', 'kinship', 'emergingmarkets', 'safeschools', 'whereby', 'bloodpressure', 'checkout', 'owners', 'unforgettable', 'gdc', 'independenceday', 'isea', 'avec', 'outpost', 'diagnostics', 'rath', 'undercover', 'explorar', 'veeambackup', 'ipprotection', 'wba', 'repatriation', 'subthursday', 'barbieri', 'encode', 'hockeyplayers', 'traffic', 'diplomacy', 'cope', 'theocracy', 'multilingual', 'taxation', 'garritzmannj', 'cameron', 'drawmoa', 'edible', 'sewak', 'shrimp', 'tanya', 'upcoming', 'typhoon', 'kawira', 'legalisation', 'ssot', 'eeg', 'posture', 'aarondonald', 'hpm', 'ketchup', 'manuscripts', 'referendum', 'sprout', 'bryntirion', 'mill', 'happywomensday', 'oursport', 'salami', 'pce', 'answer', 'headset', 'secede', 'accross', 'visitkent', 'urawareds', 'eddy', 'irelandnews', 'avarage', 'psychological', 'qtum', 'renewedhope', 'catslover', 'hinge', 'pooh', 'windsor', 'usb', 'everymovecounts', 'aip', 'istana', '𝐁𝐈𝐋𝐋𝐈𝐎𝐍', 'jacobreesmogg', 'rb', 'erode', 'whatsappitis', 'mozzart', 'yen', 'heartless', 'lagos', 'ranomafana', 'mayo', 'stratify', 'lordthakur', 'westbrom', 'emotions', 'jeffglodblum', 'marginalize', 'keepsmiling', 'playmaker', 'stand', 'nupursharma', 'asalanka', 'employee', 'keelers', 'filipinas', 'cardbreaks', 'gen', 'sculpt', 'chattukar', 'addition', 'durham', 'die', 'algofam', 'whosdevinarcher', 'banal', 'sneakymove', 'traffickers', 'hunch', 'aya', 'pple', 'substack', 'goatfarming', 'nablus', 'pence', 'pubtalk', 'bapuji', 'gujaratlions', 'mlops', 'nyevibes', 'career', 'biznews', 'tatertown', 'moments', 'steak', 'odi', 'overly', 'march', 'another', 'forzzaontop', 'sukhu', 'boosterdose', 'juliever', 'rome', 'highschoolat', 'creoengine', 'drinker', 'refocus', 'stock', 'ire', 'sociologists', 'suddendeath', 'impatient', 'storycreation', 'conceive', 'leipzig', 'stardom', 'stevenson', 'borkum', 'rizvi', 'srilanka', 'liability', 'birla', 'femalesports', 'spaulding', 'bitter', 'greenparty', 'thesouth', 'pickle', 'narcoterror', 'yuanyuan', 'trans', 'ekta', 'footballskill', 'stalwart', 'suicide', 'bowlingballs', 'monohydrate', 'uttarakhand', 'alberta', 'cohesion', 'hoda', 'unsdg', 'lakshya', 'graphics', 'neglect', 'geoportal', 'scorer', 'babyboom', 'arvindkejriwa', 'dexsport', 'range', 'smallsat', 'ausscience', 'primaried', 'additionally', 'visioncare', 'cbf', 'rupture', 'tetanus', 'scots', 'yehhainayidilli', 'foodprinting', 'tonightvmtv', 'asist', 'dynastysports', 'artice', 'consortium', 'ufos', 'td', 'matchtips', 'avocado', 'truthmatters', 'dailyupdates', 'ivas', 'sportsupdates', 'greedy', 'biofabrication', 'sparrow', 'domainmarket', 'cahiye', 'ucdmicrocreds', 'exceed', 'aiwips', '𝙄𝙣𝙙𝙤', 'pulmonologist', 'womeninnfts', 'physics', 'teamsiemens', 'ussenate', 'balsamic', 'vata', 'trailblazing', 'careaboutcare', 'raisethebar', 'rubble', 'birx', 'mostly', 'guywiththehair', 'mic', 'unplanned', 'bobochicago', 'refrigerator', 'airlift', 'contaminate', 'deprioritize', 'localise', 'gambaosaka', 'pornographers', 'countermeasures', 'warfare', 'expertise', 'politigram', 'pbw', 'crazies', 'eredivisie', 'feast', 'navarro', 'krishivigyan', 'nist', 'mcricardo', 'riskperception', 'beampad', 'ti', 'reddick', 'pink', 'shanthi', 'katherine', 'maia', 'contreras', 'whufc', 'skyscrapers', 'lka', 'worlds', 'airisks', 'easter', 'day', 'gcc', 'nemai', 'nichephd', 'stagger', 'aio', 'realmedia', 'warondrugs', 'rwanda', 'graceful', 'pedos', 'zampa', 'scotlands', 'soccerball', 'highperformance', 'summon', 'davis', 'vodaspa', 'fkp', 'preliminary', 'wellnessadvisor', 'aaa', 'oncology', 'justin', 'changer', 'climates', 'gq', 'capitol', 'recasens', 'summary', 'tirunelveli', 'neatio', 'eknath', 'settlers', 'mcc', 'cyborgs', 'richter', 'cheese', 'commissioner', 'oldtech', 'miguel', 'talen', 'multisports', 'wooden', 'neuroimaging', 'sbf', 'yahoo', 'shawc', 'fando', 'celebritykids', 'noise', 'hcw', 'zanetti', 'chapgpt', 'norway', 'wildcamping', 'teem', 'chupa', 'musyoka', 'sharpend', 'uts', 'retire', 'duan', 'dhananjaya', 'telus', 'teamdc', 'starl', 'hanukkah', 'regulatory', 'rerun', 'occupation', 'entanglement', 'anterior', 'nftcollections', 'nettle', 'groundbreaking', 'saturdaykitchen', 'pols', 'ozzie', 'chouhan', 'topsia', 'pedophilia', 'usgovernment', 'borisjohnson', 'fullness', 'gxtworld', 'bankrupt', 'research', 'flux', 'happysolstice', 'retweets', 'probationers', 'claret', 'nutritionist', 'trevor', 'slookup', 'cricplayers', 'stainless', 'reposting', '𝑾𝑬𝑬𝑲', 'lite', 'strikingdesign', 'xrc', 'abha', 'inkling', 'osteopath', 'butter', 'biopics', 'backseat', 'teamtri', 'secretservice', 'keio', 'citizenscience', 'ainew', 'cameroon', 'greatreset', 'breakingbrown', 'argentinean', 'kobach', 'stomatology', 'gender', 'facui', 'decarbonisation', 'nvplay', 'postproduction', 'whatsnext', 'foggy', 'tamiflu', 'perfectspeechs', 'binaries', 'maziya', 'burrow', 'laliga', '𝗪𝗵𝗼', 'youthvoice', 'horsetrading', 'curley', 'vba', 'workspace', 'taxila', 'haute', 'müller', 'allegedly', 'hotter', 'ewg', 'widow', 'yeager', 'marinelitter', 'jealousy', 'estonian', 'animalfarm', 'chemicalfree', 'peacegratitude', 'undiagnosed', 'orchids', 'sma', 'ohmybhaskar', 'unionstrong', 'markram', 'unaiemery', 'histories', 'roose', 'manchin', 'timbres', 'mean', 'service', 'doesnt', 'bergama', 'matthias', 'turismo', 'field', 'unity', 'exhilarate', 'domenico', 'matchbooks', 'tosspot', 'rrbc', 'healthy', 'niprotocol', 'freedomiscoming', 'classof', 'claudia', 'convo', 'cloudcomputing', 'newsanalysis', 'kaul', 'antiallergenic', 'bowlingtime', 'wan', 'coupons', 'majeed', 'moneyline', 'mesh', 'multiplication', 'hamilton', 'irritate', 'campnou', 'leograndefilm', 'dr', 'vive', 'voicetech', 'sensei', 'bengalururains', 'amino', 'testmatch', 'goal', 'ris', 'newdesign', 'chew', 'markzuckerberg', 'tucson', 'goblins', 'jamalkhashoggi', 'cotw', 'atma', 'diaries', 'controversy', 'extraordinary', 'pundits', 'dmiller', 'superb', 'axisworks', 'explicitly', 'lightbulbs', 'merit', 'valley', 'bmc', 'dugin', 'begood', 'advocate', 'lasithmalinga', 'repress', 'injuries', 'expediency', 'ntfc', 'javi', 'optichads', 'kamat', 'antioxidant', 'supercomputing', 'cdnmuni', 'tempusfugid', 'empty', 'plato', 'srhr', 'papyraceus', 'colonization', 'greenday', 'ramnath', 'shikhardhawan', 'sportsbettor', 'alp', 'rockyiv', 'supercup', 'jennie', 'wkend', 'largecaps', 'epos', 'optic', 'hypothermia', 'content', 'teatro', '𝙩𝙝𝙚', 'maninfluencer', 'derrickhenry', 'tampa', 'miracles', 'في', 'thanku', 'digiassets', 'ips', 'blackamerican', 'applepodcasts', 'npore', 'holocaust', 'gartside', 'coddle', 'iop', 'nally', 'align', 'blackme', 'enable', 'technicals', 'neigh', 'bryceyoung', 'luxembourg', 'imadwasim', 'proverbs', 'nihilists', 'adaptive', 'allaf', 'truth', 'foreword', 'immensely', 'unions', 'georgesantos', 'telcos', 'votech', 'import', 'underfunded', 'unsavoury', 'plantscience', 'sword', 'onof', 'login', 'insurrection', 'slpp', 'sandbyyourpost', 'bukhari', 'aniece', 'qrcodes', 'mpofu', 'ombirla', 'cfins', 'wvdp', 'intersect', 'shahrukh', 'gotyoursix', 'trybe', 'bogey', 'siuuu', 'yogi', 'pop', 'tamworth', 'installationart', 'difference', 'dene', 'foreignaid', 'beginnings', 'pt', 'estrogen', 'jks', 'orbit', 'akita', 'theoretical', 'abusefree', 'irrigate', 'sensation', 'rouge', 'fijians', 'thetakeover', 'ubs', 'poweredbyorigyn', 'onwhatmatters', 'monogram', 'epyx', 'secretaries', 'gamejams', 'inteiligence', 'modules', 'khajur', 'resonate', 'dedicate', 'talentpipeline', 'baramulla', 'crickte', 'stellar', 'sportswear', 'bhagavad', 'blame', 'worksonpaper', 'illustrations', 'snowflake', 'tharoor', 'groan', 'timeseries', 'aparajit', 'pure', 'purushottam', 'muralitharan', 'tocho', 'dnc', 'deposit', 'wny', 'panda', 'yatin', 'exhibitions', 'camrose', 'duchess', 'aishoes', 'representatives', 'progression', 'reprenstatives', 'elites', 'shortcuts', 'taste', 'joinpst', 'iccl', 'mumbai', 'sanjaybangar', 'petty', 'soccerislife', 'gh', 'multicultural', 'become', 'historians', 'bhashan', 'johari', 'milagros', 'writeclick', 'miniminibudget', 'spaceindustry', 'kubernetes', 'antonioconte', 'defeat', 'soldierwarrior', 'simultaneously', 'frenchie', 'lkadvani', 'rhetoric', 'murtaza', 'partake', 'sikar', 'chestnuts', 'dilate', 'ciboulette', 'object', 'darwinnunez', 'véliz', 'msdians', 'excitement', 'debit', 'pontius', 'hiller', 'hypocrites', 'sporstsupdates', 'nandagopal', 'kalyan', 'wordcampasia', 'varundhawanfc', 'videos', 'separate', 'outskirts', 'breathhe', 'pocox', 'multiversx', 'dcamera', 'linsoul', '𝑭𝒖𝒍𝒍𝒆𝒓𝒕𝒐𝒏', 'kidlit', 'childpoverty', 'wehead', 'academies', 'iplfans', 'cardano', 'morpheus', 'uncle', 'bankholiday', 'caravan', 'didcomm', '𝘢𝘯𝘥', 'baray', 'fruitsbasket', 'risingtalent', 'ɪᴘʟ', 'healthyteam', 'confrontational', 'legitimately', 'exhibitors', 'newdataeconomy', 'modify', 'mahood', 'graveyard', 'flagfootball', 'fleer', 'ridicule', 'sherif', 'srilankacrisis', 'comprise', 'vegetables', 'unai', 'paedophiles', 'bettingshop', 'tkts', 'eliteserien', 'mnw', 'leaguer', 'bairstow', 'nektaria', 'nhmrc', 'gujarattitan', 'karne', 'baseless', 'collectables', 'educom', 'however', 'hooda', 'divisiveness', 'cskvmi', 'huawei', 'perspectives', 'markle', 'accelerations', 'lolz', 'kock', 'shinde', 'crumble', 'jhye', 'vaxinjured', 'campaignpromise', 'inpst', 'linemayr', 'hijab', 'actonclimate', 'deper', 'dissent', 'personal', 'thparade', 'dara', 'lsemediafutures', 'wwe', 'camavinga', 'sundar', 'differ', 'applaud', 'pushupseveryday', 'wrestelmania', 'psychiatrists', 'npsl', 'scenarios', 'norms', 'collaborations', 'rcb', 'dev', 'awhile', 'drone', 'yousuf', 'ronaldo𓃵', 'fino', 'altsim', 'dca', 'afn', 'abcde', 'interiors', 'hire', 'properties', 'tractebel', 'kavanagh', 'sway', 'cudos', 'devi', 'geraldmarks', 'pathogenetic', 'evidencebased', 'westham', 'heavy', 'toiyo', 'superfans', 'recognise', 'cricket', 'instantaneously', 'preslands', 'baig', 'globalwarming', 'halls', 'errors', 'exotic', 'sapru', 'safeshop', 'sovreignty', 'contraception', 'differentials', 'catalina', 'lobsters', 'takeoff', 'bestfootball', 'optimal', 'terahertz', 'lillian', 'submissions', 'zoe', 'payloads', 'apg', 'seventh', 'trilateral', 'mahallesi', 'utility', 'pity', 'jason', 'scmp', 'caribbean', 'footballisback', 'instagramreels', 'keyworker', 'dikembe', 'funday', 'lg', 'total', 'uefaeuro', 'lemoine', 'wecandothis', 'potty', 'lightning', 'privacy', 'smita', 'agility', 'therese', 'nursinggrifter', 'chargesheet', 'adana', 'incubation', 'fashionstore', 'chasethelion', 'lalchowk', 'catapultnetwork', 'gather', 'fitnessover', 'uppal', 'yar', 'nuttiness', 'owner', 'bahis', 'williams', 'northvan', 'rs', 'cot', 'valentinesday', 'azure', 'enlightenment', 'betoftheday', 'unsuccessfully', 'callofduty', 'wegotthis', 'aadhaar', 'thy', 'jasper', 'prakash', 'voiceassistants', 'hybrid', 'bemoan', 'isro', 'afl', 'heartdisease', 'youthday', 'curating', 'funeral', 'detrimental', 'aitech', 'වතක', 'multifacetedly', 'edi', 'silicon', 'inflection', 'verona', 'stayfit', 'domainshop', 'twain', '𝖳𝖤𝖭𝖭𝖨𝖲', 'mama', 'keanu', 'childcare', 'occupational', 'livestock', 'defunct', 'neonicotinoid', 'chuff', 'bettingid', 'auspo', '𝕋𝕠𝕡𝔾𝕠𝕒𝕝', 'youngboy', 'stimulants', 'allegations', 'undeliverable', 'municipalities', 'children', 'bordnanog', 'arpx', 'sportswriting', 'satymevajayate', 'airpods', 'robots', 'misrepresenters', 'relentlessly', 'mubarak', 'extensive', 'sportsworldwide', 'nadegs', 'junkie', 'revenue', 'hornets', 'ferns', 'carbohydrates', 'foodfriday', 'brush', 'plutonium', 'honory', 'preferential', 'misuse', 'gymmotivation', 'unscripted', 'rounders', 'naysayers', 'tlchainnetwork', 'progs', 'pakistaneconomy', 'neet', 'energydrink', 'rahmanullah', 'openstreetmap', 'irfanpathan', 'walkability', 'peerreview', 'possibly', 'nftsales', 'accuracy', 'impairment', '𝗔𝘇𝗲𝗿𝗯𝗮𝗶𝗷𝗮𝗻', 'pagal', 'muchelule', 'snakeoil', 'midnight', 'texttospeech', 'kuviraa', 'arx', 'artlovers', 'airmax', 'dvt', 'pennsylvania', 'jht', 'gee', 'neurones', 'viz', 'hannah', 'kamalhassan', 'emailsecurity', 'bath', 'hindsight', 'telemedicine', 'market', 'birth', 'thncsc', 'disparity', 'manunited', 'awesome', 'display', 'arjunkaoor', 'whoa', 'sihatmand', 'nhrc', 'kacha', 'lavish', 'liztrussresign', 'melbourne', 'sutch', 'battlestrike', 'failures', 'pause', 'machinlearning', 'aspergers', 'ave', 'gachagua', 'oxidative', 'soun', 'renowned', 'microblog', 'hash', 'almond', '𝐒𝐨𝐮𝐭𝐡', 'murderers', 'invozone', 'command', 'upon', 'migrate', 'dataset', 'oakwood', 'hsflagfootball', 'candleforcare', 'resiliency', 'skynews', 'performances', 'healthcheck', 'draconic', 'brandcampaign', 'lluís', 'coolio', 'rcpsych', 'thebeatles', 'romelu', 'automobile', 'tulse', 'plcs', 'demir', 'forgetfulness', 'amendment', 'mosenate', 'museumwork', 'newly', 'aisimulation', 'dietapp', 'jackson', 'churchill', 'mazaplay', 'jyc', 'droppingbombs', 'اذ', 'counties', 'spa', 'senile', 'segmentation', 'lads', 'handouts', 'abide', 'olekina', 'sponsorship', 'pov', 'gaurav', 'tuberculosis', 'grinder', 'virtualfashion', 'asap', 'rizki', 'edutwitter', 'laoepard', 'cosmetic', 'footballclub', 'dodginess', 'peaceful', 'mufc', 'precondition', 'euros', 'livability', 'mgripai', 'fantheflames', 'vote', 'legume', 'berate', 'civilisation', 'wrongful', 'acquit', 'mole', 'kshs', 'trove', 'fetterneck', 'vin', 'publishers', 'checkyourself', 'tuesdaythoughts', 'rocket', 'twitterverse', 'nash', 'dont', 'aiforgood', 'likelihood', 'alien', 'cholesterol', 'dividends', 'sympathizers', 'sybil', 'scifaiku', 'labourfiles', 'jumpingrobot', 'jointhealth', 'varadoli', 'plentiful', 'chilly', 'mindfulmoment', 'imine', 'natures', 'mature', 'piceid', 'hangapitchfest', 'bsy', 'certificate', 'aoc', 'discharge', 'motionapp', 'aubingwa', 'snapshot', 'errin', 'ceek', 'sixthform', 'ski', 'menfolk', 'ohio', 'facebook', 'cluck', 'accountable', 'khetrapal', 'bobcat', 'venue', 'votingintention', 'ahrc', 'aye', 'bibleprophecy', 'ccar', 'kidneys', 'starkstrong', 'sickdays', 'energybills', 'aspnr', 'barry', 'futureofbanking', 'msc', 'rady', 'tyrmand', 'equalpay', 'appreciation', 'somali', 'sheesh', 'tuna', 'pompey', 'illogically', 'copa', 'dk', 'carbonmarkets', 'tipsfornewdocs', 'वक', 'dapps', 'tweeps', 'brokerage', 'srhvpbks', 'sakal', 'albeit', 'palpitations', 'spare', 'mak', 'darrengrimes', 'smiley', 'janaury', 'gangrape', 'haldiramsnagpur', 'strategic', 'decay', 'infamous', 'yale', 'ocpolitics', 'climbers', 'shecanlead', 'lord', 'countycricket', 'unredacted', 'wc', 'tutoria', 'capitaltv', 'sylvan', 'dennis', 'rajapaksha', 'yepp', 'disagreement', 'abdullahi', 'registrations', 'disrupteuc', 'undeniably', 'evolution', 'sufc', 'frimpong', 'member', 'bowlingalley', 'pkperspective', 'ambiance', 'anode', 'kari', 'coat', 'lift', 'doingcxright', 'bettingtipster', 'demoncracy', 'unacceptable', 'uncapped', 'foreignpolicy', 'repeatedly', 'lianne', 'crickettours', 'dynamo', 'gautam', 'indianbadminton', 'whiskey', 'urgently', 'worldrecord', 'chandrachud', 'mostducks', 'bond', 'bhavananagaiah', 'masterdegree', 'overhyped', 'rememberthename', 'ghazl', 'shadow', 'angela', 'doctoral', 'roosevelt', 'gecko', 'telecast', 'qs', 'stlleaders', 'uidesign', 'munchen', 'pierskalla', 'paternalism', 'shsc', 'commentators', 'lieutenant', 'vrineducation', 'differentiation', 'garden', 'occupants', 'bros', 'weak', 'prevalence', 'donaldtrump', 'dembele', 'smartboard', 'trials', 'humankind', 'roswell', 'skelton', 'microsoft', 'hamburger', 'cryptokenikeni', 'devellopers', 'sarfaraz', 'arleg', 'tpo', 'scholarships', 'cherish', 'pocahontas', 'blockbuster', 'electronic', 'jaishriram', 'nursesstrike', 'disclose', 'achived', 'ltx', 'reflections', 'rigathi', 'fi', 'xiong', 'guilty', 'mockery', 'influencers', 'constitute', 'gay', 'councelor', 'futureoffinance', 'demetre', 'morgan', 'socialsecurity', 'vitor', 'dickock', 'methods', 'shreyas', 'swaz', 'benambra', 'interim', 'voteblue', 'revive', 'imperialism', 'donohoe', 'kingdom', 'ranjith', 'lso', 'mentallyaware', 'wilfordaugustus', 'bakrid', 'challenger', 'belmont', 'addumeedhoo', 'pr', 'unwelt', 'ipads', 'basil', 'robitics', 'strive', 'adress', 'usmle', 'comparisons', 'chlorine', 'regime', 'parental', 'cc', 'centenary', 'account', 'ljubljana', 'confess', 'hourly', 'devastation', 'dumbest', 'cityverse', 'mimic', 'motivations', 'innerpeace', 'remainer', 'newtechnology', 'compassion', 'amendments', 'utopia', 'healthawareness', 'prez', 'ajbrown', 'facilitate', 'anticipation', 'foetus', 'hadl', 'autistic', 'cozy', 'khajoor', 'barrio', 'majoritarianism', 'frenzy', 'iplhindi', 'reopen', 'alternative', 'nfrb', 'overlap', 'khedekar', 'quip', 'mohammed', 'سلام', 'tightly', 'foodcrisis', 'shell', 'somalia', 'fctokyo', 'podcast', 'katamare', 'hockeytwitter', 'jonas', 'mohames', 'oppress', 'kirklees', 'sonyphotography', 'riscv', 'levis', 'apsny', 'asif', 'tottenham', 'raspberries', 'beatles', 'doncasterelite', 'runway', 'femaleumpire', 'eca', 'sirens', 'hafeez', 'riser', 'vicepresident', 'sportswriter', 'timessports', 'attitude', 'raphael', 'humpday', 'allsport', 'ڈوبتی', 'obstruct', 'brit', 'fcfs', 'retreat', 'పక', 'oldschool', 'weary', 'rhode', 'xdc', 'iotcl', 'alisha', 'lovenairobi', 'thermal', 'cross', 'shivsena', 'conclavemumbai', 'icloud', 'colabfireside', 'cleancity', 'keeprighton', 'superfoods', 'looser', 'huang', 'koepka', 'weekendread', 'courage', 'wang', 'perak', 'picasso', 'familiarise', 'offshore', 'ring', 'mmiwg', 'lethargic', 'blackcommunity', 'petai', 'hughes', 'maincard', 'byjus', 'samba', 'lemons', 'lymph', 'libertadores', 'terrill', 'bennett', 'kg', 'creativeai', 'requirements', 'councilmember', 'microrobot', 'redwave', 'rrvskxip', 'aeration', 'cutdown', 'cos', 'trillion', 'shelf', 'administration', 'democratically', 'mcclellan', 'recite', 'anfa', 'superiorquality', 'stormers', 'uh', 'larsen', 'notch', 'anglophile', 'douvikas', 'fbr', 'manishpandey', 'rare', 'feature', 'asuustrike', 'reliever', 'island', 'kenyadecides', 'nicosia', 'toryconference', 'slippery', 'lucid', 'maharashtrians', 'synergy', 'nabanna', 'footballplayer', 'paranormal', 'lightly', 'bachenge', 'smitaprakash', 'meetthecluster', 'district', 'travis', 'eastereggs', 'nida', 'zeichnungen', 'taskforce', 'qhakaza', 'lloris', 'kras', 'markmoore', 'anyway', 'dig', 'bitmart', 'generative', 'toriesout', 'seminal', 'installation', 'luck', 'leedcfc', 'stanchartng', 'damo', 'bestinte', 'senate', 'gujaratgiants', 'hallucinate', 'excessive', 'swaths', 'mulayam', 'raiskhan', 'dataviz', 'roll', 'till', 'netas', 'outcomes', 'shivaji', 'solitary', 'pacfam', 'edinburgh', 'strawberries', 'wtk', 'faith', 'obsessives', 'ngong', 'dzaier', 'justforfun', 'mhealth', 'htown', 'adani', 'woot', 'singlemom', 'onlinestore', 'khaandaan', 'scant', 'salud', 'computergames', 'elegbete', 'publications', 'novascotia', 'eventplanner', 'collab', 'fazalhaq', 'skyblues', 'beckett', 'nanoparticle', 'conceptualize', 'million', 'proceed', 'ivelive', 'somethingnew', 'olderpeople', 'sturgeon', 'दल', 'likkle', 'didyouknow', 'बकव', 'addthe', 'refrigerate', 'cristiano', 'tonnes', 'averycarriere', 'futureverse', 'salient', 'africanpolitics', 'unpronounceable', 'devon', 'chalhoub', 'wcasia', 'amaze', 'cherry', 'xpos', 'healthsystems', 'investor', 'prepardness', 'jewelry', 'maher', 'evp', 'stoaevent', 'tyler', 'dimensional', 'samosarani', 'edithroosevelt', 'agrivoltaics', 'vfx', 'parx', 'joss', 'nur', 'readily', 'bdr', 'diagnosis', 'canyournft', 'seismoacoustic', 'gameresponsibly', 'mind', 'statelessness', 'carbondioxide', 'per', 'skrunkly', 'erlinghaaland', 'minonft', 'superfood', 'murmu', 'broccoli', 'scarce', 'localsports', 'investmentgpt', 'sistery', 'winterleague', 'genarativeai', 'healthhabits', 'maytour', 'sadden', 'cole', 'swo', 'mitochondrial', 'sougata', 'carrarese', 'logic', 'textbooks', 'rural', 'college', 'espionage', 'antidepressants', 'sensvspanthers', 'fitnessfreak', 'hazhaz', 'ladies', 'ghislaine', 'publictransport', 'juice', 'sgi', 'csos', 'kinnock', 'bbccricket', 'trafficker', 'refreshments', 'gungubele', 'belfast', 'indiapresidency', 'besos', 'vance', 'revenants', 'climb', 'américas', 'cornellbrsn', 'decentralize', 'લમ', 'deployment', 'nbabasketball', 'manneh', 'refusal', 'alice', 'psg', 'नर', 'radioactivity', 'removal', 'woodland', 'cnft', 'saludmental', 'course', 'hilal', 'dictionary', 'chokehold', 'com', 'eastwall', 'jumma', 'vida', 'eventually', 'determinant', 'powerbridge', 'glitchy', 'mowbray', 'chairmen', 'bakery', 'primetime', 'dbc', 'nduja', 'chubby', 'abd', 'ubt', 'columnist', 'algeria', 'lakedistrict', 'opposition', 'freakzone', 'penetration', 'frankenstein', 'dadbod', 'ssrcase', '新疆机械化收割棉花', 'apps', 'pitchside', 'vegetable', 'vidhan', 'pack', 'ido', 'hat', 'disneyplus', 'trikoncs', 'pass', 'socialise', 'cllr', 'cultivate', 'eat', 'stable', 'howzthat', 'ymedia', 'politas', 'jagaran', 'socialworker', 'replace', 'hzk', 'futbol', 'jewish', 'paedophilia', 'reflectormag', 'magmatic', 'hans', 'exoskeletons', 'desperate', 'pecfy', 'communists', 'therapeutic', 'meq', 'moisturise', 'bookrecs', 'politico', 'explorepage', 'ownership', 'teenage', 'policyissues', 'rapevictim', 'legend', 'dewiremaja', 'stabilization', 'camnewton', 'otherwise', 'ටබ', 'cultyourclub', 'wilty', 'extracellular', 'foodecon', 'cathedral', 'streamers', 'getsocial', 'mindful', 'wal', 'mailplus', 'kettleborough', 'banales', '𝙏𝙀𝘼𝙈', 'hue', 'chinarama', 'arabic', 'analysis', 'louisville', 'nftgiveaway', 'relational', 'hive', 'bjpmaharashtra', 'cramp', 'aboard', 'current', 'twitter', 'chutney', 'marijuana', 'alina', 'society', 'educator', 'toal', 'kuo', 'nitish', 'iptv', 'nathanellis', 'reincarnation', 'middleschool', 'kainai', 'notreadyforliz', 'christmascheer', 'motives', 'securely', 'river', 'orbitals', 'hockeydad', 'plomo', 'mcnamara', 'ministerial', 'nftcommunity', 'dmovies', 'cac', 'external', 'mwanyika', 'dadlife', 'dyk', 'unload', 'mccarthy', 'intheshed', 'ccsindia', 'divisive', 'marcelo', 'icar', 'firstclass', 'karim', 'onthis', 'trampoline', 'anise', 'miami', 'immigrant', 'fishermen', 'drown', 'zhōnghuá', 'immunologists', 'leisure', 'marginalise', 'coinplay', '𝗖𝗵𝗮𝗻𝗴𝗲𝘀', 'carlee', 'commune', 'hispano', 'recover', 'amitshahwithntr', 'blownglass', 'yrs', 'series', 'upland', 'franciliennes', 'mclean', 'perfectly', 'selfcustody', 'protocol', 'vegas', 'collabs', 'thick', 'dlc', 'noticeable', 'classification', 'amazingeggs', 'newbie', 'gitahi', 'basketball', 'ncovacc', 'huaxian', 'njiru', 'stealth', 'govtofpunjab', 'davanteadams', 'twilight', 'giannis', 'canadian', 'korea', 'generously', 'greentea', 'enroll', 'igelos', 'bitch', 'offginger', 'memberships', 'mount', 'dreamers', 'rai', 'voetball', 'manufacturded', 'rozkhaoande', 'vijaydiwas', 'geraldine', 'idk', 'barcode', 'ballislife', 'gunna', 'schwarzl', 'subjective', 'inherit', 'prisoners', 'sotmci', '𝗜𝘀𝗴𝗮𝗻𝗱𝗮𝗿𝗼𝘃', 'pierce', 'switchtogbets', 'gracehopper', 'aneurysm', 'dougford', 'recovery', 'herschelwalker', 'sangh', 'saka', '𝗢𝗥𝗜𝗚𝗜𝗡', 'intend', 'sleeplessness', 'tvshow', 'hockeyseason', 'rohitsharma𓃵', 'futbolfemenino', '𝗱𝗲𝘁𝗮𝗶𝗹𝘀', 'wingsxi', 'jurel', 'subsunday', 'కద', 'bettingexpert', 'payne', 'retain', 'bodybuilding', 'smoke', 'directorate', 'iverson', 'approx', 'mbbsinhindi', 'kara', 'futuri', 'unemployement', 'speach', 'wilsondisease', 'fountainhead', 'marco', 'xrph', 'stoxx', 'militarytech', 'iowa', 'cornforth', '𝘫𝘶𝘴𝘵', 'matchups', 'uto', 'bold', 'servants', 'poweron', 'pmhd', 'maltreatment', 'skkits', 'westbridgford', 'clarke', 'newyear', 'toreturn', 'shahrukhkhan𓀠', 'transhumanism', 'open', 'yashwantsinha', 'botveqg', 'extirpate', 'sle', 'rabbi', 'friend', 'sslazio', 'ingest', 'lafayette', 'pathology', 'süperlig', 'intentional', 'proudsurvivors', 'york', 'palm', 'phew', 'extension', 'shukran', 'wx', 'haseltine', 'nsaids', 'staffordshire', 'foodsecurity', 'combo', 'augment', 'nrk', 'grandchildren', 'bigpharma', 'hags', 'subbingsenator', 'uelfamily', 'prashad', 'kyhighered', 'ravi', 'fisports', 'championsgroup', 'statevisits', 'techstartup', 'mecca', '𝗣𝗿𝗲𝗺𝗶𝗲𝗿', 'positivity', 'themuckpodcast', 'selections', 'coldday', 'wiese', 'holywood', 'gun', 'bmhc', 'hopeful', 'murtough', 'miraculous', 'guthealth', 'sarawak', 'unwatchable', 'leftliberal', 'devdutt', 'orms', 'deficit', 'menace', 'blank', 'prefer', 'stayactive', 'insiders', 'lithium', 'sudharsan', 'know', 'tallaght', 'delgado', 'gymmotivatio', 'magnesium', 'skepticism', 'omit', 'kings', 'reguator', 'distinction', 'cerroporteño', 'lre', 'swasthya', 'weter', 'hse', 'malicious', 'fantasygaming', 'suppose', 'ballmastering', 'recipeoftheday', 'kosow', 'commetry', 'shaanshahid', 'smack', 'ids', 'cuchicuchi', 'pstg', 'cheteshwar', 'midjourney', 'ningli', 'lawsuit', 'zilfam', 'scheffler', 'epaz', 'glutenfree', 'pixie', 'khulna', 'julietants', 'lavan', 'supporter', 'buildtoearn', 'aiuk', 'corsu', 'flokiceo', 'virginian', 'ge', 'hoodwink', 'femalepower', 'memorandum', 'scwomenincyber', 'swashbuckling', 'seq', 'aiplatform', 'vainavites', 'sydnye', 'abccharter', 'alibaba', 'saam', 'imranism', 'sts', 'porel', 'accesshollywood', 'rapzilla', 'followme', 'histamine', 'provenance', 'delhicapitals', 'rookiecards', 'cz', 'atsnft', 'ceremonially', 'aerobic', 'sep', 'rajneeti', 'improvement', 'sevillacelta', '𝗗𝗘𝗡', 'unhappiness', 'herschel', 'bridge', 'pilger', 'morale', 'adam', 'blaster', 'trumploser', 'singhdeo', 'bicycle', 'mastermind', 'mondaymorning', 'downhill', 'emphasise', 'gordon', 'anita', 'nmacc', 'loudest', 'viacom', 'blueocea', 'charm', 'devilliers', 'conflate', 'mamatabanerjee', 'pawankalyan', 'sportsday', 'montgomery', 'dhawan', 'goodmorning', 'copper', 'diet', 'recognition', 'prospectus', 'adesanya', 'booktrailer', 'ಎಮ', 'hapless', 'activist', 'drs', 'dudes', 'nonconsecutive', 'lionvest', 'gran', 'kingkhan', 'aifacts', 'realvalue', 'fuan', 'neurodiversity', 'papaya', 'raila', 'ballroom', 'turnaround', 'luckily', 'skaven', 'coleg', 'hightidealert', 'soften', 'sigma', 'intramural', 'philipsmorris', 'jawadahmed', 'pitchingdrills', 'compel', 'cason', 'imad', 'temple', 'parnership', 'blwyddyn', 'biscuits', 'finalissma', 'thrsp', 'worldevents', 'mobilities', 'sportupdate', 'aivideos', 'khanjipeerwala', 'violently', 'cleanliness', 'cele', 'protections', 'mencricket', 'bikefriends', 'junglist', 'pep', 'erase', 'madaboutsports', 'politic', 'mestre', 'mytreeourforest', 'qualitatively', 'dunyatv', 'ncaa', 'chelsea', 'stacey', 'byjusjourney', 'hispanos', 'mcdelections', 'iplbhojpuri', 'buttar', 'aizaz', '𝐅𝐢𝐱', 'savour', 'doomsdayglacier', 'nuzly', 'trueblue', 'multimedia', 'teamfiji', 'prayers', 'bwc', 'cemetary', 'urine', 'european', '𝖢𝖱𝖨𝖢𝖪𝖤𝖳', '𝑪𝒐𝒍𝒍𝒆𝒈𝒆', 'peripheral', 'doncaster', 'lee', 'slap', 'matekane', 'fad', 'mvpbuzz', 'tent', 'coproduction', 'ulez', 'joseph', 'westcork', 'roadmap', 'ssuperleague', 'amazonus', 'lsgvsrh', 'lechaim', 'motor', 'graphical', 'confront', 'trumptower', 'arlenefoster', 'hump', 'nowhere', 'zindabad', 'sivasspor', 'atlanticocean', '𝐇𝐄𝐋𝐏', 'cleanenergy', 'shakespeare', 'entire', 'probit', 'white', 'icomm', 'neat', 'expert', 'finserv', 'americano', 'mouse', 'ljc', 'meritocracy', 'perceptions', 'thefuture', 'workers', 'adm', 'camouflage', 'sandeep', 'allege', 'goat', 'newyearnewme', 'abortionban', 'mulagada', 'stardate', 'gidi', 'destabilize', 'ahara', 'frontier', 'leggings', 'brar', 'capacities', 'openers', 'desig', 'mmg', 'mindsets', 'accumulators', 'oklaed', 'trillionaire', 'sesh', 'prizepicksnfl', 'evacuate', 'cancersurvivor', 'portraits', 'ad', 'illegals', 'qns', 'sanayi', 'wastewater', 'braintumour', 'terrible', 'long', 'select', 'dx', 'nflmemes', 'jci', 'homeofchampions', 'make', 'aaditya', 'relax', 'ohhethiccctour', 'inauguration', 'quantum', 'accuse', 'ronaldinho', 'mercedes', 'remembranceday', 'cynical', 'coffeetower', 'supply', 'akwesasne', 'onset', 'jetty', 'rossouw', 'gravity', 'overzealous', 'lautoka', 'huckster', 'lazjuv', 'caz', 'brink', 'lohardaga', 'kesar', 'summerfun', 'vocalise', 'farmland', 'groundscare', 'chore', 'cruela', 'fiction', 'शन', 'ranjitrophy', 'yadav', 'bgmi', 'gujarati', 'square', 'malkin', 'fiffam', 'tds', 'liquidity', 'srilankacricket', 'orikhovsky', 'look', 'rashidi', 'hlm', 'degrade', 'lan', 'maandamano', 'todo', 'sv', 'intimacy', 'childrights', 'nanoparticles', 'informatics', 'womensart', 'approval', 'duathlon', 'soundwedge', 'elections', 'tshibaka', 'deliveredbywing', 'throughout', 'wrcb', 'againstallodds', 'ing', 'miller', 'reducestigma', 'curse', 'easterbunny', 'nod', 'stayahead', 'minibus', 'pareras', 'uhuru', 'jovito', 'miguelherranz', 'hexmoon', 'streamlit', 'photograph', 'likud', 'blackbur', 'priyanka', 'elvishistory', 'sanna', 'todos', 'nisth', 'politicalcrime', 'neck', 'starsportsindia', 'marksteyn', 'ball', 'ability', 'borisjohnsonout', 'manhattan', 'edutainment', 'soberness', 'odellbeckhamjr', 'vitamins', 'maths', 'limitations', 'indigenous', 'southside', 'joewillock', 'tcot', 'crm', 'ecovillage', 'unga', 'qples', 'freespeech', 'global', 'anu', 'saivaties', 'frat', 'wtf', 'reappointed', 'insert', 'mq', 'powerstruggle', 'positivenews', 'mpp', 'radically', 'moro', 'intensify', 'salisbury', 'eubanks', 'nasdaqlisted', 'bethechange', 'mancity', 'ebail', 'ufevent', 'xzvo', 'favorite', 'gabi', 'plexus', 'staley', 'mone', 'itw', 'smartsensors', 'bamako', 'pak', 'kdh', 'cameraman', 'mobile', 'magnetic', 'naga', 'wawaw', 'shaymen', 'veres', 'mediablackout', 'tu', 'redo', 'barely', 'tulsi', 'sso', 'juniorknights', 'corruptio', 'education', 'amazingfacts', 'vanguard', 'crude', 'resound', 'formycountry', 'aek', 'hormonal', 'newmusic', 'dealers', 'lady', 'sufficiently', 'soniaji', 'jummah', 'insanity', 'onewheel', 'youarenotalone', 'application', 'westbrook', 'pomegranate', 'laura', 'blacktea', 'ayurveda', 'eib', 'suisse', 'reb', 'inaugration', 'refer', 'anyways', 'embrace', 'prc', 'perse', 'enthusiast', 'ore', 'ethos', 'shotput', 'maya', 'bound', 'oes', 'letsassemble', 'nfc', 'stage', 'workexperience', 'province', 'fitbitinspore', 'nowthis', 'criminallaw', 'trusteesweek', 'melbswest', 'mahrashtra', 'gingerly', 'napier', 'gaba', 'juggernaut', 'portugal', 'shokeen', 'spec', 'quince', 'kitarofam', 'gaurangadas', 'disappear', 'gurbas', 'advertisement', 'usnavy', 'nou', 'alaqsa', 'weeklyseries', 'safetyfirst', 'pascal', 'wes', 'bax', 'morriscounty', 'dmitri', 'ccm', 'proofread', 'interaction', 'bitpool', 'sheriff', 'motley', 'sharingiscaring', 'smriti', 'aml', 'rossiter', 'oregon', 'kiran', 'auspol', 'aiart', 'markhamill', 'hyperspectral', 'minutella', 'odinga', 'sportlightnews', 'sujatha', 'phdcci', 'ఒక', 'xr', 'inspirations', 'hospitals', 'belong', 'ishafoundation', 'cancerjourney', 'alistair', 'gear', 'slowly', 'mcg', 'marxist', 'nationstate', 'hoc', 'must', 'burnpits', 'microgravity', 'climber', 'smoothbreakfast', 'benzene', 'serena', '日本の漢字', 'shy', 'sportsmania', 'endprohibition', 'microbreaks', 'norfolk', 'overlords', 'obs', 'generation', 'chronicallyill', 'vision', 'alastair', 'mumpredict', 'chainsaw', 'magats', 'worldcup', 'tejas', 'objectively', 'ama', 'pos', 'abdullah', 'funny', 'stagnation', 'fightcancer', 'naturelovers', 'shivsainiks', 'colonialists', 'previous', 'sixthsense', 'heat', 'winer', 'venkateshwar', 'olympiacos', 'ilk', 'conventional', 'cleanup', 'theupsides', 'geeks', 'heroeslead', 'inhibitors', 'soluble', 'gilbert', 'stop', 'disconnect', 'boxeed', 'egg', 'livematch', 'raina', 'wholesale', 'teachout', 'hardly', 'kogi', 'smaller', 'charitable', 'fisheries', 'deeper', 'moonsama', 'sinai', 'dependent', 'sibtainkhan', 'blastsdk', 'postdocs', 'peep', 'oblige', 'macdonald', 'dismally', 'healthpolicy', 'backyard', 'recall', 'defense', 'outstanding', 'arshdeep', 'usmarshal', 'wilpf', 'aketi', 'accident', 'tks', 'awkward', 'liamlivingstone', 'sport', 'fiers', 'musicians', 'ornato', 'sundarpichai', 'goalie', 'cornblatt', 'technicians', 'achievement', 'cola', 'fullerton', 'nzvsl', 'mas', 'srb', 'belated', 'xgo', 'karla', 'indication', 'collider', 'indianrailways', 'nfa', 'carpfishing', 'emphasis', 'الرياضية', 'lmh', 'thankyou', 'central', 'cousin', 'exert', 'laferrari', 'hagia', 'polisciresearch', 'loose', 'obtain', 'cyprian', 'harbaugh', 'injections', 'boo', 'desertcorps', 'solananfts', 'hugo', 'quantumania', 'eb', 'hunterlaptop', 'verifiable', 'nuanced', 'blanket', 'timmins', 'flick', 'ingraham', 'calvinandhobbes', 'bilawalzardari', 'diane', 'majhi', 'jeannedielman', 'nevadavotes', 'keepfloridafree', 'machakos', 'singular', 'ingredients', 'conversations', 'mathematics', 'augustine', 'bdsfl', 'boebert', 'electricvehicle', 'cerezoosaka', 'ancap', 'hover', 'blip', 'romania', 'eda', 'destructive', 'akil', 'doctor', 'techfirst', 'closure', 'mondaymotivaton', 'smes', 'dangerously', 'selfharm', 'gracias', 'chemours', 'afford', 'unofficially', 'discount', 'metamusic', 'amie', 'mukesh', 'joy', 'chant', 'rout', 'cartoonoftheday', 'twist', 'iphone', 'levellingup', 'walsh', 'harm', 'nalli', 'microgreens', 'shani', 'union', 'datamanagement', 'mca', 'fragile', 'projectadvisers', 'heartattack', 'riaz', 'mumtaz', 'dyc', 'genomics', 'mahatma', 'wastefree', 'nostalgic', 'merrychristmas', 'northwestern', 'germans', 'dissemination', 'teel', 'abundant', 'obliterate', 'taker', 'suicidal', 'software', 'admin', 'スポーツ', 'ippa', 'triomphant', 'copilot', 'wound', 'gravesend', 'indian', 'avail', 'togetherness', 'felicitate', 'kiddo', 'ecosystems', 'consensus', 'angina', 'cryptoart', 'hit', 'urlshortener', 'orl', 'mushroomtwitter', '𝗴𝗼𝗹𝗱', 'enlighten', 'manish', 'watermarkets', 'reinvention', 'biglee', 'lovers', 'boom', 'ikorodu', 'treasure', 'custodians', 'loud', 'lifecycle', 'motogp', 'freebg', 'manager', 'complacency', 'ashramestore', 'curediabetes', 'bahamas', 'ferenc', 'bring', 'momlife', 'chart', 'thin', 'lightness', 'monitor', 'synth', 'cosmote', 'kuhar', 'gasoline', 'yerevan', 'montereypar', 'blackberry', 'youri', 'salvador', 'covaxin', 'leaderless', 'secret', 'ja', 'julliana', 'artificialskin', 'audios', 'ecstasy', 'christ', 'overview', 'zerocovidpolicy', 'reimburse', 'daly', 'mukt', 'videoed', 'att', 'blob', 'ahmedabad', 'conferences', 'lucknow', 'misconceptions', 'naresh', 'financial', 'dnd', 'flyboardair', 'rinkukumarsingh', 'opanneerselvam', 'pierluigi', 'pioneer', 'centraldekalb', 'dlconversations', 'emit', 'portfolio', 'sowingseeds', 'mds', 'indiaat', 'northeastern', 'floodinpakista', 'kinoti', 'coequal', 'soak', 'jamil', 'unwavering', 'fallforart', 'shiba', 'lisbon', 'personalities', 'wag', 'healthcare', 'janefonda', 'pae', 'rajasthancm', 'sportscards', 'chickpeas', 'lsgvdc', 'neighbor', 'positron', 'solely', 'frequency', 'indicators', 'prakashraj', 'mindset', 'juniors', 'pickpocket', 'adjustment', 'bigtisgoing', 'us', 'puppets', 'sthen', 'hispanics', 'sdao', 'www', 'swatimaliwal', 'poy', 'tremendously', 'glucans', 'madonna', 'coldweather', 'twelfth', 'skolechat', 'immediate', 'embodiment', 'min', 'suite', 'yisd', 'unmap', 'minimum', 'sausages', 'twilightzone', 'phonendo', 'dominika', 'empires', 'sanctity', 'score', 'microwave', 'valleyward', 'gabormaté', 'materials', 'ccwun', 'ramen', 'bhogle', 'enroute', 'pilates', 'chinese', 'pts', 'weapons', 'masaajid', 'coolgear', 'deploy', 'essexcounty', 'soberliving', 'bep', 'fers', 'shakti', 'coycoy', 'alexis', 'qld', 'lamborghini', 'trent', 'jensen', 'get', 'karura', 'cukes', 'pccs', 'newspoll', 'salute', 'orchard', 'source', 'sluggish', 'decarbonization', 'coconut', 'crisislk', 'jointdamage', 'jinping', 'ajith', 'na', 'kigali', 'unparalleled', 'biomarker', 'polar', 'episodes', 'mangol', 'litfest', 'dfa', 'largest', 'toilet', 'pii', 'frog', 'itcom', 'unbelievable', 'soybeans', 'experiment', 'particular', 'seizures', 'aitechnology', 'best', 'barbara', 'jayanti', 'network', 'msubs', 'impeachkrasner', 'dhaka', 'imagery', 'div', 'gautamgambhir', 'bulk', 'andymurray', 'fringe', 'sportsfan', 'cocohodo', 'billhewitt', 'ble', 'drr', 'livars', 'empress', 'ez', 'hyde', 'kanugolu', 'bestsellers', 'ceiling', 'potato', 'shady', 'cancer', 'unjustified', 'lay', 'unnamed', 'astute', 'charlesdegaulle', 'encounter', 'controversially', 'bridgewater', 'practitioners', 'fblive', 'theodoros', 'eye', 'noel', 'wmdemocracy', 'canazei', 'pandit', 'trikoncc', 'pizzeria', 'consultant', 'nwra', 'anime', 'healthyliving', 'hola', 'birthdaygirl', 'set', 'musical', 'gj', 'conservatism', 'equivalents', 'androidlaptop', 'rohit', 'brave', 'dadar', 'ars', 'diagnostic', 'widest', 'fossil', 'valet', 'shabby', 'libraryjournal', 'scenario', 'chillax', 'fantasycricket', 'roam', 'tricky', 'coal', 'thofjulyweekend', 'flag', 'chapter', 'kinda', 'chess', 'menstrual', 'ncpol', 'madras', 'pfizergate', 'suellabraverman', 'bangkokpost', 'スポーツカー', 'spoc', 'pubs', 'dewald', 'nftesports', 'memorable', 'modelmale', 'mins', 'startupsuccess', 'aaaaages', 'feliz', 'genuinely', 'enrique', 'amp', 'pytorch', 'xbb', 'bharatbananaha', 'betslip', 'quantitative', 'lokayukta', 'ugo', 'domainsforsale', 'bedfordshire', 'antiracism', 'moms', 'nfyl', 'berger', 'extrapolate', 'predictor', 'pill', 'planner', 'brien', 'sununu', 'headofstate', 'bristol', 'excellent', 'médicaments', 'ጨዋታ', 'neb', 'keepgoing', 'brexitreality', 'cricketbets', 'unanswered', 'tourney', 'pragyathakur', 'vectors', 'publicly', 'cnftcon', 'hyperborean', 'sportanic', 'nigerians', 'examination', 'handfuls', 'skyrocket', 'horror', 'hashimpura', 'punnamadalake', 'fouts', 'producers', 'aukot', 'lactobacillus', 'beirut', '𝗞𝗵𝗮𝗻', 'proteins', 'maryland', 'daysofgirlhood', 'sncc', 'cádiz', 'hemoglobin', 'resultant', 'assamcm', 'piperrayne', 'stemcells', 'eyewitness', 'svbank', 'paulkagame', 'ethicalhacker', 'unknown', 'smokefree', 'forestal', 'rag', 'bungee', 'internattional', 'lene', 'bidenfall', 'yyc', 'microvessels', 'remoteassist', 'shalinbhanot', 'jeans', 'ragazzi', 'meantime', 'moody', 'procrastination', 'usefulness', 'pasta', 'hadea', 'gala', 'internationally', 'rahane', 'parsaul', 'exclude', 'hp', 'worldclup', 'baiyo', 'nonwhites', 'la', 'siem', 'psychohōshi', 'bukayo', 'fnafmovie', 'americangirl', 'transmission', 'chainweb', 'morally', 'advert', 'smite', 'npcs', 'elizabeth', 'halifaxtown', 'woodresinart', 'mcdonald', 'billions', 'chemed', 'overemphasise', 'specialists', 'businesssuccess', 'calorie', 'dogelonwarriors', 'pharmakon', 'ooking', 'everydaylife', 'consistent', 'muzaffarnagar', 'minimumwage', 'sunrise', 'ancestors', 'tweet', 'lumen', 'fridge', 'yyj', 'waterloo', 'bigodds', 'build', 'shepparton', 'ipmpls', 'moratorium', 'herring', 'haq', 'prophesy', 'dialogues', 'carrera', 'carnival', 'consequential', 'eventschedule', 'civilsociety', 'vibez', 'aur', 'insurgency', 'heavenly', 'shameonthegop', 'haunt', 'rejoin', 'cetuximab', 'cfp', 'sexually', 'buolamwini', 'wagefreezes', 'digestion', 'aug', 'lastly', 'clutch', 'hsv', 'gaea', 'kumar', 'century', 'fabricate', 'brie', 'commute', 'tribesmen', 'latte', 'acca', 'aga', 'opay', 'labor', 'footballboard', 'punjabkings', 'vihanga', 'fluseason', 'premiership', 'footballfans', 'categories', 'visualization', 'graphicdesign', 'publicdealing', 'mairaj', 'healthiest', 'jerk', 'srinath', 'fastest', 'medication', 'whatever', 'ihuk', 'kidscantwait', 'gently', 'psykey', 'lb', 'upheaval', 'lingayat', 'behemoth', 'profess', 'companion', 'ibs', 'sportseconomy', 'glennmcgrath', 'pitchinginparis', 'betul', 'lewis', 'reactive', 'appg', 'lzylabs', 'roles', 'friendships', 'vawg', 'studyatul', 'angle', 'regress', 'rugby', 'digitalindia', 'collingwood', 'goldenboot', 'congenitally', 'corrective', 'marquette', 'girlhood', 'midst', 'footballfocus', 'malleable', 'compliance', 'dilemmas', 'bus', 'behavior', 'unhealthy', 'ian', 'languagemodels', 'mindspeakers', 'votezhadu', 'plaque', 'hbd', 'deagosto', 'samabula', 'doom', 'laughter', 'gowb', 'tbe', 'catastrophe', 'gopackgo', 'beautifulday', 'burnleyfc', 'inpatient', 'eja', 'syndromes', 'statelevel', 'irreversibly', 'mighty', 'savingkids', 'gsod', 'validator', 'mysteries', 'bankole', 'mulberry', 'hodl', 'ntini', 'carnivorediet', 'keto', 'learners', 'plasticwaste', 'tape', 'avenues', 'wantage', 'mdma', 'fishfarm', 'solarenergy', 'yokohamafc', 'cwtsh', 'xgem', 'uruguay', 'ringo', 'spin', 'bail', 'nepotism', 'leavenotrace', 'cristian', 'georg', 'komori', 'drink', 'rinkusingh', 'pmnpatralok', 'iamyogi', 'lifestyles', 'scriptures', 'chatterbots', 'km', 'randomly', 'unitedstates', 'dawg', 'saudi', 'roof', 'gabbard', 'whitepaper', 'moore', 'pragnews', 'seoul', 'miandad', 'knowledgeable', 'rocknroll', 'bbnaija', 'mfl', 'hatred', 'footie', 'oline', 'mar', 'supportive', 'transportation', 'daisy', 'perpetuation', 'phf', 'oppression', 'mes', 'anjanaomkashyap', 'papparazzi', 'cryptomarket', 'puertorico', 'mathmaticians', 'halfterm', 'thousand', 'instantly', 'weloveyoumeghan', 'greenberet', 'fcuks', 'os', 'arse', 'africanleaders', 'madurai', 'techworld', 'maitake', 'convenience', 'agri', 'opusai', 'twitchstream', 'uav', 'bharatsports', 'happyhour', 'namm', 'topicals', 'zero', 'era', 'nfldraft', 'politicalparty', 'coolgadgets', 'watch', 'youthcup', 'lawyers', 'leaders', 'cast', 'supercars', 'gruber', 'sukhum', 'inept', 'timberwolves', 'dup', 'vay', 'bane', 'chuds', 'breath', 'infants', 'leinster', 'widdicombe', '𝒟𝒾𝑒𝒷𝒪', 'softies', 'openbionics', 'communication', 'nuac', 'cabbage', 'whatsoever', 'hardest', 'faucilied', 'inception', 'nirmal', 'toast', 'flap', 'catherine', 'childhood', 'ketosis', 'adamskolnick', 'तर', 'snack', 'revolutions', 'posterwar', '𝗖𝗹𝘂𝗯', 'caregiver', 'testimony', 'kamerai', 'tendrils', 'cricketforall', 'uss', 'acaba', 'notions', 'scrub', 'neuramatrix', 'ફક', 'eun', 'chestworkout', 'cricketbook', 'doll', 'codesigned', 'dressingroom', 'wolrdkidneyday', 'emerge', 'ccfc', 'hindus', 'iplquiz', 'widereceiver', 'zedong', 'koroleva', 'landmine', 'fertilizers', 'terry', 'chws', 'thoughtoftheday', 'theres', 'upside', 'submarine', 'caucus', 'jangothang', 'skypapers', 'narayanan', 'janice', 'scottish', 'kneecap', 'ginger', 'loot', 'avenue', 'scrutinise', 'endemic', 'percent', 'runtherapy', 'bay', 'footballlovers', 'christine', 'gob', 'ponting', 'curtice', 'tejasnetworks', 'huntin', 'barricade', 'sudhir', 'ways', 'akku', 'cli', 'gmrsports', 'edcs', 'yukon', 'lawmakers', 'hawley', 'workwellhealth', 'accumulation', 'permeate', 'arctic', 'hhfom', 'authoritarian', 'snt', 'diffusion', 'srsc', 'shivpal', 'mucosal', 'hardilmumbai', 'proseedu', 'discoveries', 'narine', 'alfred', 'jun', 'superheroes', 'cfr', 'zia', 'lydia', 'africadialogues', 'invitation', 'galactic', 'dood', 'glory', 'womanpower', 'welp', 'better', 'grandheight', 'tga', 'persons', 'multiparty', 'rashidkhan', 'utilitynft', 'succeed', 'opd', 'naledi', 'liddle', 'ntds', 'deepgreen', 'pretend', 'maxell', 'cashlesschina', 'transfertalk', 'microphone', 'sw', 'dmvsports', 'buai', 'dress', 'patterson', 'shah', 'teamabrams', 'breach', 'aromatherapy', 'रव', 'faruqui', 'indianarmy', 'vidhaividhaipom', 'bourgeois', 'spirit', 'refine', 'worse', 'projection', 'symbolic', 'papua', 'hugely', 'jamaalbowman', 'shortcomings', 'सन', 'graduation', 'harsh', 'cheney', 'bayarea', 'huckabee', 'rahula', 'freedomofspeech', 'recapture', 'inbox', 'reuben', 'schmidt', 'bts', 'bigc', 'notebook', 'jurrasic', 'focal', 'suitors', 'decide', 'anthropocene', 'technews', 'diaz', 'strathbrock', 'womenscricket', 'menstruation', 'evacuations', 'freeenergy', 'sevenoaks', 'davos', 'supercomputer', 'rimet', 'nftb', '𝐤𝐞𝐲', 'kkrfans', 'evtols', 'youngpeople', 'feet', 'gbn', 'warthogs', 'js', 'tfbx', 'hasnain', 'jane', 'musclebeauties', 'aud', 'drawbacks', 'mbappe', 'entirety', 'iftikhar', 'astonish', 'indira', 'karilake', 'mastodon', 'tanea', 'shaky', 'focus', 'hillary', 'छत', 'underpin', 'director', 'behaviors', 'linearpark', '𝗯𝗹𝗼𝘄', 'earlybiz', 'adewolu', 'rishisunakpm', 'jassim', 'kellen', 'tim', 'scepticism', 'opportunism', 'exceptional', 'acrid', 'hamont', 'url', 'judgment', 'trot', 'hfl', 'mobilebanking', 'researchimpact', 'radikaal', 'notobacco', 'ottawa', 'ft', 'detransitioners', 'dosa', 'provoke', 'oxys', 'waterclinate', 'sscricket', 'obesity', 'aau', 'skillsets', 'unal', 'accélérateur', 'unsc', 'youngster', 'shub', 'shampoo', 'selfrespect', 'vijaynair', 'shivsenamla', 'startrek', 'srhvspbks', 'footballboots', 'netzero', 'briskwalk', 'tielemans', 'parler', 'persistent', 'stelly', 'coinbase', 'impairments', 'elmgrove', 'superfalcons', 'evra', 'farooqi', 'consciously', 'api', 'lobbyists', 'newday', 'mainstay', 'karachi', 'occulture', 'toriescostlives', 'poorer', 'globe', 'healthyplants', 'environments', 'chairperson', 'barcafans', 'approximately', 'womeninstem', 'heres', 'rajyasabha', 'geraldford', 'diversify', 'coauthor', 'shuttle', 'learner', 'stpi', 'neurologic', 'fiat', 'gohawks', 'banderougefc', 'newyorktough', 'environment', 'linkshortener', 'facundo', 'newyor', 'jeremie', 'bloodyhell', 'pappu', 'stringent', 'linux', 'gixel', 'gibratar', 'unconventional', 'permission', 'tsla', '정치', 'rashmi', 'casinos', 'carfreeday', 'lotto', 'intimidation', 'ftbl', 'cumbria', 'sabah', 'dineshkarthik', 'giftkindness', 'hbpsummit', 'impossible', 'rugbyplayers', 'flyingcar', 'ndtv', 'sqn', 'bookies', 'worldheartday', 'fatherhood', 'rbc', 'refill', 'shopnow', 'gymproblems', 'nba', 'megan', 'agnostic', 'githubcopilot', 'hwang', 'concessions', 'neural', 'nikeshoes', 'ufosightings', 'windows', 'cam', 'mobileye', 'hyderabadi', 'mickey', 'childrenshealth', 'rightwing', 'tasty', 'antibacterial', 'kartavyapath', 'jobupdates', 'lamalfa', 'unhinge', 'testcenter', 'beijing', 'mythology', 'linuxsoc', 'woes', 'lifetime', 'woodburning', 'kaust', 'glennmaxwell', 'afr', 'silently', 'matrice', 'bahria', 'hc', 'poetry', 'cbdcs', 'और', 'zapata', 'swarm', 'vigo', 'mlas', 'construct', 'ty', 'chaisesports', 'marshal', 'yd', 'earthmonth', 'disposal', 'ret', 'kingston', 'tamils', 'protect', 'amla', 'bruce', 'heavens', 'poignant', 'pluralism', 'basin', 'crofam', 'brainfood', 'blatantly', 'flawlessly', 'granular', 'kman', 'japanese', 'voterfraud', 'dunbeholden', 'cricketscandals', 'inning', 'donaldson', 'battleofjpura', 'upkeep', 'behest', 'steamroller', 'tariqjamil', 'joebiden', 'increase', 'sprinkle', 'verification', 'vendor', 'benign', 'loanee', 'demystification', 'startups', 'ricecryptoshow', 'hana', 'scorch', 'pakweather', 'gfa', 'sherborne', 'dismissal', 'johnhorgan', 'typify', 'talentpadi', 'medidata', 'rajiv', 'manant', 'revert', 'event', 'gambia', 'deidre', 'midwifery', 'vit', 'reliability', 'mandalorian', 'everybirdie', 'neuromorphic', 'mac', 'deepen', 'cryptosphere', 'britishherald', 'nodrugs', 'finance', 'bare', 'ghq', 'hsa', 'loyalty', 'piousness', 'strugglers', 'machinery', 'सत', 'sharia', 'mcap', 'feudal', 'eindhoven', 'babylon', 'drrobertmalone', 'amongst', 'iran', 'world', 'mhfa', 'disciple', 'thebetterindia', 'frenchiot', 'informal', 'sambo', 'individuality', 'moribund', 'respiratory', '区块链', 'bame', 'gwbush', 'kanyewest', '𝘿𝙖𝙮', 'bwf', 'techbharat', 'undervalue', 'gujaratfiles', 'midwest', 'mait', 'harmonious', 'poison', 'tobin', 'dartford', 'produce', 'seriousgames', 'jean', 'optimus', 'fuckthetories', 'mentionned', 'seiu', 'qualityoflife', 'anything', 'whisper', 'pakmedia', 'eradication', 'bengaluru', 'waugh', 'thinkpalm', 'colombian', 'blender', 'iso', 'mediarights', 'unfinished', 'aixray', 'phantasmachain', 'pipeline', 'withth', 'debilitate', 'lce', 'actifit', 'think', 'wg', 'contagious', 'explicit', 'fraternity', 'hankir', 'upskilling', 'bunk', 'swarabhasker', 'rema', 'caretaker', '𝐌𝐨𝐮𝐧𝐭', 'sobriety', 'foreigners', 'duke', 'presentations', 'habit', 'vvip', 'prohibit', 'channel', 'karine', 'humanity', 'mr', 'jeetbuzz', 'muki', 'strongly', 'farnham', 'suppress', 'nfl', 'typical', 'tipster', 'slightly', 'mascots', 'skollwf', 'helm', 'afecta', 'futureoflodging', 'retirement', 'tech', 'ljubica', 'nmsdean', 'ladoja', 'siexhm', 'signfromgod', 'homophobia', 'warpath', 'gobernador', 'smartmachines', 'vuitton', 'pile', 'treaty', 'dismiss', 'armour', 'plausible', 'archaeology', 'conciliation', 'baa', 'goals', 'islerinin', 'mihir', 'katmai', 'scissor', 'visualeffects', 'siang', 'historia', 'resources', 'getoutdoors', 'goldensports', 'betasia', 'nashik', 'cnnpolitics', 'extraction', 'algorithmic', 'bis', 'myth', 'qualcomm', 'billboards', 'newcastleunited', 'mohammadhasnain', 'saleto', 'trade', 'ciiblog', 'waah', 'tracey', 'linger', 'andyummylunch', 'goalazo', 'pacificism', 'westhamunitedfc', 'bachan', 'bmarketing', 'chinesenewyear', 'obasanjo', 'civil', 'legit', 'prim', 'ainlee', 'googlebard', 'intro', 'hpc', 'banter', 'shetty', 'bahati', 'cornerback', 'luggage', 'bvb', 'councillors', 'rojava', 'campuswhere', 'aals', 'chemputer', 'indyref', 'terrifictuesday', 'chia', 'deceptive', 'spokesperson', 'megadonors', 'emad', 'banana', 'casestudy', 'prijzen', 'velachery', 'drayya', 'pat', 'positivevibes', 'demon', 'winnings', 'pib', 'trophies', 'trialed', 'kkrvsgt', 'bicker', 'condition', 'playlists', 'fitnessage', 'votebigblue', 'everlasting', 'unitedshowbiz', 'bitoffun', 'tens', 'incluxion', 'conclude', 'gascón', 'qmulalumni', 'rrvspkbs', 'republicanparty', 'stabilisation', 'marxism', 'firstaid', 'twitchaffiliate', 'miler', 'horizon', 'neurotech', 'wedorecover', 'wehackhealth', 'italia', 'realm', 'gmhan', 'bachao', 'swarmcity', '𝘼𝙇𝙀𝙍𝙏', 'ebe', 'intoxication', 'championship', 'titanicmodel', 'metabourne', 'toilets', 'legaltech', 'nftdrop', 'akinyemi', 'citroen', 'stuey', 'aibc', 'medcraft', 'cech', 'banger', 'woeful', 'kingghezo', 'tunis', 'tatoo', 'parul', 'sahab', 'jamiecarragher', 'landfills', 'horn', 'council', 'eqxx', 'nfcnorth', 'footballtips', 'solidus', 'outdated', 'catlovers', 'zeropollution', 'epeeps', 'drugabuse', 'urological', 'chv', 'petrodollar', 'reminders', 'unify', 'saurabhbhardwaj', 'woefully', 'lingerie', 'relationship', 'tomlinson', 'devote', 'secetatry', 'thefrontline', 'rockon', 'freecoaching', 'lusk', 'bleedblue', 'millbrook', 'hsfootball', 'dorset', 'chatbots', 'bihar', 'nab', 'indvsire', 'lifeupdate', 'mobilewallpaper', 'crew', 'wowlottong', 'sydney', 'cgm', 'accessory', 'humanisticai', 'visakhapatnam', 'restrict', 'astavakrasana', 'aisha', 'immigratio', 'edchateu', 'unicef', 'meetandgreet', 'kneepain', 'fitover', 'amitpanghal', 'wildfires', 'mccormick', 'coward', 'taliban', 'tekistar', 'filthiest', 'whisk', 'nest', 'circumspect', 'torturous', 'guide', 'oxytocin', 'assemblies', 'exeter', 'phillipines', 'swiss', 'footballtoday', 'daam', 'nitric', 'multan', 'anderson', 'henson', 'sportbiz', 'scarecrow', 'maldives', 'necessary', 'puma', 'professionals', 'sym', 'betterhealth', '𝘄𝗶𝘁𝗵', 'predamnquick', 'namalrajapaksa', 'dramatic', 'impactprotocol', 'algotrading', 'household', 'master', 'nourish', 'truecrime', 'consider', 'altsimsports', 'jagadeesan', 'boucher', 'rangers', 'ifs', 'oats', 'rufc', 'railways', 'harshalpatel', '𝗺𝗼𝗱𝗲𝗹', 'reluctance', 'celebration', 'arthritis', 'djokovickyrgios', 'smartfarm', 'smallstreamers', 'beta', 'slgbtqi', 'mivscsk', 'behaviours', 'mvpinasia', 'keyser', 'paramilitary', 'jeannie', 'goldthorpe', 'pakistanis', 'berenguer', 'alignments', 'latestintech', 'switchmobility', 'leafy', 'entirely', 'amman', 'cerebral', 'use', 'surat', 'iplpoll', 'unhappy', 'divide', 'porteous', 'galau', 'advisor', 'maidens', 'बद', 'weareimago', 'enablers', 'owadally', 'liquor', 'ftx', 'newskipathshala', 'jhoome', 'hormones', 'moot', 'thor', 'ecologist', 'customers', 'sanghavi', 'comedygold', 'ultrasound', 'toptips', 'baghya', 'rammandir', 'realmadridcf', 'khoke', 'winger', 'isl', 'stockport', 'giorgiameloni', 'ghanamonth', 'discriminate', 'polarization', 'tittle', 'supremeshocker', 'ent', 'sonali', 'gymlifestyle', 'vitality', 'neuroscientists', 'millets', 'hageman', 'pompeo', 'muhyiddin', 'potent', 'romanabramovich', 'noodles', 'chair', 'bluecrew', 'assa', 'spectators', 'booty', 'hooliganism', 'yorker', 'thursday', 'nexus', 'donmashak', 'competently', 'molecule', 'moray', 'lucra', 'sri', 'clinicalpearl', 'chelseafans', 'katz', 'woods', 'robotgpt', 'escobar', 'setu', 'closedloops', 'abdm', 'breakthebias', 'beets', 'electro', 'extendedreality', 'leftwing', 'rosalind', 'graftmore', 'managerial', 'exploitative', 'beauty', 'mondays', 'grealish', 'sneakpeek', 'commoners', 'blockgop', 'msm', 'hacken', 'publicsector', 'rectal', 'restedfor', 'femalepodcast', 'arcgis', 'shenanigans', 'flyingfast', 'centre', 'hi', 'culture', 'perth', 'cream', 'safetalk', 'fox', 'crawacademy', 'wizards', 'thiru', 'onboard', 'undergrads', 'papazian', 'standouts', 'gujaratpolice', 'meghanmarkie', 'msd', 'videoanalysis', 'ajia', 'dah', 'engross', 'sifuna', 'leiden', 'applause', 'miserably', 'camera', 'scomo', 'autobiography', 'leery', 'aapkigandibaat', 'deficits', 'kayburlkey', 'renters', 'ninety', 'westbromwich', 'dhanashree', 'thrillers', 'kingsley', 'topper', 'philately', 'sandfordcricket', 'lmd', 'avery', 'nzvssri', 'sk', 'tinubu', 'pide', 'coyg', 'sainik', 'disguise', 'governors', 'compress', 'kennedys', 'hoffman', 'stockholm', 'oswald', 'oireachtas', 'abzu', 'nadu', 'genfinity', 'neha', 'uf', 'incorporate', 'southamptonfc', 'raga', 'opti', 'hind', 'ketogenic', 'bluelight', 'draconian', 'humanright', 'talentmari', 'gi', 'moonies', 'jahnavi', 'spectator', 'gorleston', 'climatechange', 'lacanian', 'lawstreetj', 'peshawar', 'oralmicrobiota', 'undetected', 'cooperation', 'gapo', 'fulltime', 'horrors', 'spartan', 'swsn', 'jointly', 'inf', 'savvy', 'se', 'potatoes', 'wtaf', 'tomlin', 'sauce', 'rajouri', 'udfam', 'jessie', 'labourers', 'restraint', 'goalkicksports', 'quo', 'nhsstrike', 'isjbook', 'runforsomething', 'handwara', 'deliveries', 'intuition', 'krainer', 'supplement', 'armb', 'joshhazlewood', 'juno', 'juicy', 'akshaykumar', 'wicnews', 'bengoa', 'imran', 'laud', 'infinitely', 'extend', 'sundayfunday', 'phonewallpaper', 'spiral', 'designmate', 'louvre', 'keepitfun', 'fpl', 'berry', 'removeron', 'nap', 'trust', 'various', 'fresh', 'resentment', 'hellofuture', 'alphahero', 'clotech', 'complexion', 'acle', 'instrumental', 'pjs', 'favourable', 'foodie', 'swimmer', 'tribe', 'copd', 'bologna', 'volitve', 'rideauhall', 'moyes', 'handshake', 'dettyrave', 'bhandari', 'detentions', 'bluemaga', 'fianna', 'gmd', 'loophole', 'bafc', 'paw', 'temporal', 'jaya', 'rishab', 'plantation', 'fam', 'spinout', 'reduction', 'prevalent', 'buyintoart', 'ipu', 'calicut', 'broadcaster', 'sportspoll', 'jagdeepdhankhar', 'solutions', 'respectively', 'waveform', 'watchsportslive', 'febookary', 'trafford', 'fat', 'africanist', 'ucsd', 'national', 'shivthakare', 'riverlite', 'tvworld', 'stimulation', 'vidablog', 'kindle', 'rebuilders', 'poker', 'regionalism', 'porsche', 'aiintentions', 'sperm', 'builders', 'repeal', 'conform', 'difficult', 'hilltoppers', 'expire', 'courtesy', 'voiceofgod', 'overflow', 'anuoluwapo', 'undoubtedly', 'doldrums', 'listener', 'footballeconomy', 'suffolk', 'hess', 'patriotism', 'algorand', 'judgement', 'biopharma', 'ontpoli', 'reshma', 'rapinoe', 'forbescouncil', 'holmes', 'paparazzi', 'agentverse', 'associatestimes', 'boht', 'kungfu', 'blackmagic', 'kro', 'cbi', 'slxthkween', 'copolitics', 'timeline', 'cavemen', 'spook', 'modi', 'bal', 'పర', 'nazariya', 'indo', 'kondux', 'ghulami', 'tellers', 'barca', 'shamble', 'academia', 'azharalicricket', 'achilles', 'mailinvotes', 'floral', 'klrahul𓃵', 'ias', 'binance', 'saha', 'proletariat', 'sajal', 'bully', 'taaltechnews', 'richer', 'discipling', 'unbroken', 'federate', 'zip', 'wolf', 'applicable', 'deborah', 'relentless', 'restructure', 'buidling', 'cabinetreshuffe', 'cartridge', 'mvps', 'sanju', 'burundi', 'addictive', 'nftart', 'bharatsingh', 'menta', 'angelou', 'dump', 'speakerassembly', 'vessels', 'gita', 'boyfriend', 'cleverly', 'royale', 'atmosphere', 'insider', 'obstacles', 'fanzone', 'artery', 'coordinate', 'cyanidestudios', 'difficulties', 'hrithikroshan', 'deenesh', 'obese', 'bot', 'katyperry', 'spell', 'students', 'covet', 'cco', 'emergent', 'billmaher', 'washington', 'whileblack', 'instagram', 'ça', 'plantbased', 'colloquium', 'freer', 'proabably', 'carragher', 'sangakkara', 'brokoli', 'teamcenter', 'nasreen', 'demarco', 'residence', 'gentleman', 'fucktheempire', 'relocation', 'pune', 'iftar', 'sianfkp', 'turbulent', 'helpline', 'redmond', 'wel', 'proof', 'turnover', 'sympathy', 'neurosurgery', 'overthinking', 'wolfshausen', 'beaconsfield', 'sheriffs', 'experts', 'marlboro', 'purifier', 'dupont', 'watt', 'nigel', 'formidable', 'leverkusen', 'eufunded', 'netball', 'kayburley', 'resister', 'leftists', 'sandbox', 'eugene', 'worldings', 'keynotespeaker', 'hardback', 'ghous', 'itsinthegame', 'roboweek', 'socceram', 'tweeters', 'encrypt', 'rapha', 'araujo', 'marathon', 'family', 'palliativecare', 'accredit', 'tataipl', 'kimberly', 'coffee', 'jamshedpurfc', 'airpollution', 'decathlon', 'bashir', 'karaka', 'forex', 'refute', 'fortlauderdale', 'variant', 'coworking', 'peanut', 'rh', 'line', 'magazine', 'cranston', 'core', 'hormonally', 'rasa', 'frederick', 'pagi', 'delight', 'mdac', 'factsdaily', 'aapes', 'hackney', 'jobcuts', 'dehydration', 'suhana', 'lyon', 'terminology', 'capitalists', 'steadman', 'kapilmishra', 'ballmer', 'narayan', 'paan', 'downside', 'mukamana', 'karpoukhina', 'dakota', 'eradicate', 'kprc', 'payday', 'sugaraddict', 'floosinsindh', 'ethiopians', 'theticket', 'jibe', 'tuesdaymorning', 'incompetent', 'dasun', 'realbusiness', 'apis', 'sris', 'unchanged', 'bystander', 'gxt', 'supersaturday', 'howl', 'follow', 'comply', 'collect', 'tulum', 'lehmanns', 'spalletti', 'px', '日本空手協会', 'georgia', 'trumandoctrine', 'photo', 'bridgegpt', 'lid', 'entice', 'petit', 'txlege', 'imply', 'crease', 'yusaku', 'shaunking', 'eppel', 'iplinhindi', 'pictureoftheday', 'rad', 'reputation', 'stoffel', 'infancy', 'recognize', 'adults', 'selves', 'eschew', 'expensive', 'flavonoid', 'redact', 'cock', 'acceleration', 'eyecare', 'constituency', 'ttradio', 'blackford', 'latestnews', 'mohammedzubair', 'wrestlemania', 'conceal', 'rugbyleague', 'carissa', 'dynastic', 'imrankhanpti', 'restoration', 'gaminglife', 'goalposts', 'kashmirwillow', 'economicgrowth', 'fsm', 'laziness', 'fullcoll', 'expenditure', 'mode', 'nowhiteguilt', 'bidault', 'jefferysimmons', 'ccbpian', 'hreo', 'tatters', 'considerably', 'rashtriyasahara', 'bc', 'prob', 'safa', 'vechain', 'attitudes', 'nvidia', 'yet', 'troyhawke', 'penguins', 'lner', 'sully', 'enzolytics', 'chuckle', 'playingarea', 'grandad', 'upbringing', 'scholarship', 'lestweforget', 'prolapse', 'hyfts', 'customizations', 'cocacola', 'medicalisation', 'neoplastic', 'apart', 'mpbsd', 'epistemology', 'barrel', 'jeter', 'tmvr', 'uanow', 'gyan', 'fab', 'frinkzintl', 'koppal', 'owino', 'armylife', 'wasim', 'hydropower', 'screenwriter', 'etsystore', 'wsisprize', 'diesegate', 'agi', 'usual', 'irelandisfu', 'okfn', 'kkr', 'outdoorfu', 'vadhras', 'takeaction', 'mayorjim', 'eden', 'private', 'los', 'aewdynamite', 'faction', 'admireyourself', 'ontology', 'attainable', 'fx', 'bebetter', 'arpitamukerjee', 'tracknation', 'iprevent', 'overnight', 'adviser', 'biogas', 'peace', 'psephologist', 'kilata', 'mindcontro', 'tehran', 'unio', 'deprogramming', 'groin', 'ipfs', 'javafx', 'dalit', 'potable', 'avion', 'textile', 'fossilfuels', 'teleporter', 'blend', 'amazonkindle', 'potm', 'qrmh', 'bbclaurak', 'kudalur', 'siex', 'shutup', 'innovation', 'pregnancies', 'dwayne', 'minus', 'wk', 'oyostate', 'xxl', 'vague', 'goodfriday', 'separ', 'gondesivani', 'openxr', 'limitless', 'mikel', 'glass', 'admit', 'nightmares', 'herewego', 'portable', 'salaries', 'thesims', 'hap', 'nigeria', 'centurion', 'construction', 'pmk', 'appropriation', 'deeds', 'saitarealty', 'sparkle', 'frontrunner', 'angels', 'presidentscup', 'calamity', 'cryptopiavc', 'cuckfield', 'النصر', 'anthocyanins', 'vk', 'steffen', 'fret', 'senedd', 'usdinr', 'saina', 'ashok', 'mandi', 'pcmag', 'ie', 'neurodivergent', 'supervision', 'raghavan', 'scaffold', 'pace', 'activetravel', 'hicham', 'deshkivardi', 'finnish', 'roland', 'apniparty', 'unbelievably', 'gadegts', 'newsbriefing', 'tortilla', 'azgov', 'shareholders', 'spinesurgery', 'cant', 'adeel', 'github', 'btsports', 'mottahedeh', 'votethemout', 'reservations', 'peds', 'bangladeshindia', 'flamesnation', 'naval', 'nongmo', 'ucd', 'vitriol', 'sweden', 'signum', 'tamar', 'attleborough', 'migrants', 'randomise', 'bgi', 'floriduh', 'mime', 'lithuanian', 'midlands', 'pharisees', 'ringers', 'bathroom', 'officer', 'truer', 'microlingual', 'riboflavin', 'hepatitis', 'arts', 'several', 'literal', 'troll', 'dailywire', 'shinzoabe', 'jkf', 'dyor', 'saddest', 'observe', 'mrqueen', 'ndayishimiye', 'picoftheday', 'cleanair', 'icc', 'leopold', 'fifacom', 'tamilnadutech', 'fifaranking', 'reunion', 'basemaps', 'borninthe', 'sheldrick', 'gamestop', 'serbia', 'christmas', 'identification', 'srilankan', 'pad', 'kidwai', 'ingredient', 'velmex', 'iplupdates', 'indvspak', 'goods', 'drill', 'toryscum', 'nvda', 'moonwalkers', 'ap', 'rediscover', 'upsell', 'thats', 'mumbaicity', 'disengage', 'bolton', 'lefkosa', 'mkononi', 'kismet', 'lakhs', 'ree', 'adenovirus', 'bbai', 'nutritious', 'instaviral', 'flhsfoootball', 'website', 'sanghis', 'holdsync', 'protestsinchina', 'curtinresearch', 'firmicutes', 'stricter', 'wright', 'rustenburg', 'funfacts', 'benjamin', 'sbir', 'indefensible', 'aircraft', 'rue', 'mitch', 'nevermind', 'relaunched', 'robins', 'translation', 'eumissions', 'furor', 'tattoo', 'doggwrld', 'yogis', 'thurs', 'wrap', 'panigrahi', 'prisons', 'ideology', 'changeagent', 'imprecise', 'iot', 'selenium', 'doxxed', 'hellesdon', 'kingcharles', 'balenciaga', 'sixthstreet', 'pretence', 'twitterfiles', 'fertilize', 'kite', 'sculpture', 'denervation', 'mia', 'missiles', 'odd', 'fabian', 'aris', 'bactive', 'wilt', 'lowcode', 'bandtwagon', 'jamesmadison', 'sil', 'kwai', 'dandapani', 'sportsmaxtv', 'psvr', 'nutri', 'disclosures', 'calm', 'addictions', 'raredisease', 'हर', 'genderequality', 'revelations', 'nordic', 'regrowth', 'vanish', 'glean', 'navyx', 'kbps', 'timestamping', 'invisible', 'harvard', 'thrill', 'uhcday', 'madeinbc', 'pritipatel', 'soapboxx', 'kwast', 'yousaf', 'subautoai', 'genny', 'fascism', 'envision', 'temporarily', 'सफ', 'microdose', 'yeat', 'sooner', 'rod', 'goalscorer', 'tonic', 'remove', 'celta', 'colo', '𝗟𝗜𝗦𝗧𝗘𝗡', 'yemi', 'asparagus', 'glycogen', 'deny', 'antoni', 'buybacks', 'wight', 'foolishness', 'frogwell', 'pmoindia', 'reqodiq', 'isudangadhvi', 'peñarol', 'primarycare', 'dysregulation', 'traditional', 'nanoseen', 'sgpt', 'cummins', 'trumpknew', 'imf', 'missurgery', 'අරගලයටජය', 'ቆሻሻ', 'dsm', 'medtech', 'cheesy', 'horticulture', 'log', 'dataanalysis', 'thistlethwaite', 'umbrella', 'gamefootball', 'holistichealth', 'teamfinland', 'gamergirl', 'niel', 'sphere', 'miscarriage', 'civilization', 'outdynasty', 'orientation', 'todays', 'cousins', 'resolutions', 'biventricular', 'permanent', 'ratifyc', 'nazrin', 'sportsbooks', 'mortaza', 'nacon', 'morbitragedy', 'indebted', 'safaricom', 'fanatsy', 'lahore', 'jeffrey', 'bannon', 'socceroos', 'westminster', 'mattoo', 'abortionpills', 'alongside', 'draw', 'qualification', 'caton', 'nanaia', 'remi', 'klrahul', 'physed', 'unfuck', 'testmatches', 'olin', 'okbye', 'arisi', 'sadiqkhan', 'reckon', 'dcw', 'syntropystack', 'truck', 'karenge', 'mutahi', 'meizu', 'witchcraft', 'bacik', 'headcount', 'zaini', 'texansfootball', 'famousquote', 'halve', 'programmer', 'allen', 'ban', 'amalgam', 'foolishly', 'rarely', 'could', 'brook', 'excite', 'mumbaiindians', 'poliscijobs', 'apprise', 'چیف', 'neuroscience', 'darwen', 'harvardhealth', 'wayfinding', 'masood', 'newpost', 'firm', 'funèbres', 'instructions', 'generalelection', 'royals', 'criminologist', 'kootenays', 'philadelphia', 'charisma', 'deeply', '𝙐𝙋', 'boast', 'wku', 'arduino', 'healthychoice', 'rosary', 'xavi', 'savethebees', 'hertha', 'fatima', 'capitalist', 'pipe', 'gc', 'spotifywrapped', 'vtosports', 'prisms', 'outdo', 'asyoulikeit', 'nftutilities', 'gianniinfantino', 'recreational', 'cooperations', 'element', 'hips', 'ayub', 'keraniganj', 'yearofmillets', 'practice', 'cocojournal', 'iitmadras', 'knownorigin', 'panama', 'dichotomies', 'professioanls', 'meil', 'nikki', 'mosarkar', 'francis', 'konyaspor', 'place', 'spaceforce', 'idlib', 'grumpysunshine', 'psychologica', 'wash', 'khidmat', 'xlk', 'stanford', 'nonprofits', 'maratha', 'consular', 'tall', 'wealthy', 'kamalhaasan', 'keepstrong', 'understaffing', 'rsaibis', 'xday', 'ref', 'claritycoach', 'meld', 'pakvnz', 'hadley', 'chicopee', 'wrongen', 'sms', 'survey', 'quicken', 'sustain', 'columns', 'plastic', 'motorbike', 'coyc', 'actual', 'cookers', 'kioko', 'multifunctional', 'durable', 'permiters', 'freedomconvoy', 'include', 'ebaystore', 'osmania', 'kerry', 'canucks', 'wilkinson', 'foodtech', 'fitnessfun', 'freebiefriday', 'nulink', 'outcry', 'smallholder', 'sajid', 'cyclists', 'joint', 'teamtomball', 'forgiveness', 'wabcradio', 'ausummit', 'coconutoil', 'inexplicable', 'letstalkaboutit', 'nicaragua', 'danielle', 'josh', 'gaslight', 'toulouse', 'surrey', 'unemployed', 'newworldorder', 'brexitdisaster', 'nutrela', 'bverfg', 'sufism', 'sarada', 'texture', 'austerity', 'iwpp', 'progressivism', 'bnni', 'inspection', 'local', 'foyth', 'kyotoswap', 'sethmagaziner', 'vishwakarma', 'tenniscricket', 'triumph', 'panoramic', 'atarist', 'fatboyslim', 'lifelong', 'logitech', 'losangelesrams', 'mp', 'greg', 'hashem', 'agriculture', 'aaron', 'viraleats', 'quarter', 'ideological', 'wppcommerce', 'reflux', 'arrive', 'wisely', 'slip', 'advantis', 'julialang', 'legbegbe', 'anarchism', 'minnows', 'ecostove', 'cuisine', 'tiniest', 'armies', 'incourage', 'shoe', 'oneinfive', 'witch', 'angelarayner', 'progressg', 'masha', 'text', 'adhere', 'lfc', 'response', 'snuggly', 'nimblesportpoll', 'snapsponsorship', 'idw', 'bbdfl', 'drylands', 'brexiter', 'somorjai', 'outcome', 'drug', 'untalented', 'freelance', 'biggest', 'organizational', 'cybernats', 'macy', 'headscarf', 'important', 'vernikov', 'curb', 'moss', 'riskiest', 'uc', 'hotline', 'conn', 'pharmacies', 'kalenjin', 'reactnative', 'medical', 'anwaribrahimpm', 'shaheens', 'directly', 'karuppu', 'mend', 'bola', 'rabwah', 'helicopters', 'consequence', 'broxburn', 'lockie', 'emmagee', 'reconstitute', 'endeavor', 'aitoken', 'fujifilm', 'pedal', 'pomeroy', 'pichai', 'aas', 'overload', 'productivity', 'sportslover', 'zealot', 'kinnow', 'biorobotics', 'practise', 'telehealth', 'sammy', 'medtwitter', 'ki', 'nehrufamily', 'cheaper', 'thug', 'afcasiancup', 'newsudpate', 'acquire', 'tube', 'attendance', 'lauterbach', 'sportsbook', 'aggrey', 'athletesfoot', 'grassvalley', 'dialectic', 'bug', 'kaur', 'souza', 'gamblers', 'huffington', 'kilometer', 'infect', 'pinnaicle', 'isaiasafwerki', 'chemistry', 'bespokesports', 'liztory', 'bioinspiration', 'arttech', 'whitewash', 'thirteen', 'gophypocrisy', 'aside', 'thereof', 'incredible', 'substantial', 'palti', 'museums', 'darkmoney', 'simper', 'brightest', 'गप', 'divorce', 'reluctant', 'liken', 'heartfailure', 'murtec', 'ancients', 'johannes', 'domainname', 'inkfish', 'indianfootball', 'machine', 'mao', 'heungminson', 'enzyme', 'buenosaires', 'barstool', 'aamchi', 'naba', 'singularity', 'pegg', 'pleasesubscribe', 'snake', 'ec', 'retrogames', 'visit', 'ceo', 'slym', 'hypnotize', 'corgicrew', 'collabration', 'glucose', 'aileen', 'audiophile', 'garima', 'itchy', 'prueba', 'oklahoma', 'keirstarmer', 'nfleurope', 'coauthored', 'sureshraina', 'nepf', 'maxine', 'rightwingwacko', 'plop', 'trinityhouse', 'dayschallenge', 'marceau', 'karunanidhi', 'cookreport', 'gpservices', 'boxoffice', 'shirtless', 'viability', 'आई', 'qualify', 'highspeedrail', 'instarugby', 'worldnews', 'nectar', 'refuel', 'cosmosecosystem', 'jawaharlal', 'macbeth', 'pmac', 'efficacy', 'yahapalana', 'reproducible', 'dun', 'arcade', 'brandmangement', 'single', 'bottle', 'yoola', 'esporte', 'theon', 'sohail', 'aidance', 'chaterium', 'toilsome', 'liisa', 'inyourskin', 'nebraska', 'forrest', 'renewableenergy', 'pillars', 'firefitz', 'greatness', 'internationa', 'garlic', 'topan', 'indiancricket', 'familiar', 'broth', 'halal', 'karnatakaa', 'negative', 'ac', 'sendingfor', 'ageism', 'fooddetective', 'foodpass', 'signlanguage', 'tribals', 'amanda', 'bureaucrats', 'buy', 'peterobi', 'retard', 'shahrukhkhan', 'mavcom', 'jitesh', 'congresswoman', 'enemies', 'isi', 'bccg', 'qualitative', 'kingsrk', 'debrief', 'te', 'ev', 'proudest', 'tehlikeli', 'boomerang', 'parlementaires', 'positivequotes', 'purifiers', 'pee', 'jaggesh', 'satviclife', 'speech', 'dipo', 'ananda', 'emory', 'keeppounding', 'understand', 'spout', 'inequities', 'marihuana', 'neurorights', 'tyranny', 'poweroftech', 'nonhealth', 'pietyclauses', 'sciencehaiku', 'nutritionists', 'shoplocal', 'herzegovina', 'ringsofpower', 'trumpisguilty', 'indianculture', 'jackpot', 'weed', 'ddos', 'sexwork', 'monhsr', 'obo', 'modem', 'smallboats', 'andherieast', 'lessen', 'allamericanhc', 'cskvslsg', 'pushups', 'congratulate', 'crop', 'civils', 'lunarnewyear', 'sukesh', 'defunded', 'verse', 'jonathan', 'fist', 'journals', 'fee', 'raidersfootball', 'chicken', 'republicday', 'individuals', 'architecture', 'lumepad', 'castriota', 'stroem', 'dailynews', 'medtwt', 'whiteculture', 'vertebrae', 'ecb', 'consequent', 'wbt', 'maritime', 'roadtovictory', 'killers', 'pytho', 'najam', 'thaladhoni', 'war', 'agendas', 'newstoday', 'tanvir', 'obsession', 'comedy', 'fiasco', 'humanrightsday', 'arjuntendulkar', 'predecessor', 'dharmic', 'aussieed', 'physicalhealth', 'hazlewood', 'paradiseresort', 'rectangle', 'grwm', 'desperately', 'uv', 'seedlings', 'dissidence', 'page', 'scicomm', 'joyous', 'varanasi', 'forexverse', 'accidents', 'ambati', 'awneilmitchell', 'hubs', 'visibility', 'juices', 'dearest', 'jasonkelce', 'medicate', 'senryu', 'wildanimals', 'ivana', 'surridge', 'intercom', 'reggiana', 'womeninpolitics', 'cleaners', 'biopsychosocial', 'hexabitz', 'fo', 'awake', 'womanday', 'kkrvmi', 'peasants', 'steeringwheel', 'cdnpoli', 'amethi', 'exemplify', 'nuclearwar', 'kayak', 'kendras', 'ahr', 'svb', 'palaniswami', 'mukhtar', 'academicchatter', 'bloom', 'drain', 'trademark', 'secrets', 'buildup', 'speakers', 'revivingspecies', 'christofascism', 'miltonkeynes', 'cynosure', 'tricep', 'kindnessmatters', 'offence', 'foxnews', 'sportsgambling', 'complete', 'ifarm', 'buckscounty', 'medicaid', 'whereas', 'forbrady', 'recipient', 'longisland', 'thurman', 'sponsor', 'injuryipl', 'digress', 'uphill', 'txleg', 'steal', 'enthusiasm', 'candid', 'footba', 'carne', 'trussonomics', 'twitterstorians', 'sbg', 'plunderers', 'kar', 'socal', 'mainly', 'quebec', 'athread', 'yankees', 'scare', 'premierleage', 'cornerstones', 'womenintech', 'koenigsegg', 'balcony', 'ange', 'metro', 'kabbadi', 'cernimpact', 'braddock', 'sarukhkhan', 'approve', 'stepgoal', 'crossbench', 'november', 'sportsgame', 'befit', 'chronological', 'cheteswar', 'icenetwork', 'murgor', 'raidernation', 'thorpe', 'hardware', 'ted', 'victimise', 'theafrican', 'delhipolice', 'kylianmbappe', 'acwx', 'stockleypark', 'kennethbranagh', 'workingclass', 'brutally', 'hallar', 'launchpad', 'sudi', 'merry', 'rental', 'elisforrachael', 'freedmenparty', 'ayesha', 'hbarnfts', 'recreation', 'meetingroom', 'denning', 'tanka', 'fbx', 'divergent', 'thecuratednews', 'sharktankindias', 'commentator', 'alcaraz', 'raadfest', 'gavin', 'integrate', 'communion', 'helpingothers', 'oregonstate', 'kongsberg', 'representative', 'deafinclusion', 'reflection', 'aiartwork', 'eh', 'treatmentgap', 'contentcreation', 'ಎಸ', 'responses', 'seema', 'surprisingly', 'sevenonsunday', 'tues', 'demonetisation', 'wrt', 'caledonia', 'opp', 'minerals', 'nflsunday', 'najamsethi', 'wellth', 'palestinian', 'romana', 'ass', 'pallavi', 'optimistic', 'blackinstemm', 'jul', 'logomaker', 'cardgames', 'tuesdayvibes', 'menancemovement', 'hubballi', 'invaluable', 'stim', 'achristmascarol', 'mahapursuh', 'inflammatory', 'websitemetrics', 'eurasian', 'ashishji', 'cbs', 'tutorial', 'bewilder', 'weaponize', 'fireinthesky', 'newsletter', 'huddle', 'tactics', 'utrecht', 'thoughts', 'jeremyvine', 'reo', 'circular', 'nairobi', 'scott', 'static', 'asiaonemagazine', 'humanityfirst', 'youthofindia', 'exhaustion', 'mystery', 'comers', 'blm', 'reception', 'deodorant', 'unlock', 'kum', 'slick', 'shopindie', 'nzioka', 'digitize', 'giants', 'chelation', 'ultramarathon', 'reich', 'sass', 'retrieve', 'playground', 'deduction', 'lifetyle', 'wrip', 'brentfordfc', 'cancellation', 'house', 'cafeteria', 'angiogram', 'labourwomen', 'switzerland', 'declare', 'amu', 'rupeevsdollar', 'amwriting', 'quality', 'raab', 'rxlife', 'bura', 'widerdevconf', 'necessarily', 'brin', 'fizzy', 'relations', 'contingency', 'summercamps', 'ufotwitter', 'taxis', 'occasion', 'bhai', 'ncrb', 'snp', 'phonecases', 'base', 'zekeelliott', 'washingtonpost', 'tadej', 'gogreen', 'coyr', 'gabbar', 'resveratrol', 'kfoamfest', 'capsule', 'multimodality', 'intermilan', 'champagne', 'marie', 'billwatterson', 'platforming', 'without', 'aicc', 'tata', 'lecun', 'pulsate', 'toil', 'ayne', 'assessments', 'muln', 'datamart', 'animation', 'cafod', 'newsworthy', 'electionnight', 'medakmp', 'thermopylae', 'pancakes', 'grid', 'antigovt', 'carolina', 'impactful', 'alabamafootball', 'coopted', 'carpaccio', 'fluxnodes', 'khul', 'mortality', 'hbsm', 'contest', 'roma', 'anatomy', 'metaverse', 'mood', 'ufoudation', 'niaz', 'rajat', 'mbbs', 'rashidoon', 'paddle', 'dobetter', 'diolch', 'popularity', 'dag', 'kmkc', 'cognizant', 'narsimha', 'forbes', 'cwana', 'purification', 'trines', 'prem', '𝙖𝙧𝙚', 'reno', 'blue', 'gujarattotans', 'mini', 'domestication', 'apa', 'steyn', 'unborn', 'disappoint', 'incidental', 'remission', 'growyourown', 'animedrawing', 'absorption', 'kingslynn', 'supplementation', 'turfcare', 'superapp', 'strongfamilies', 'iplt', 'gischat', 'geospatial', 'అర', 'memorial', 'santoshtrophy', 'unrivalled', 'insideilorin', 'kudos', 'iota', 'fitnessafter', 'sdk', 'hawke', 'glazemas', 'larry', 'les', 'regain', 'racism', 'winterdays', 'seekers', 'loi', 'chandrasekher', 'startpindianews', 'casteist', 'newsone', 'consultancy', 'vile', 'wardlaw', 'venturebuilder', 'spectrometry', 'bishnoi', 'healthtips', 'stiff', 'mono', 'वस', 'dundee', 'planet', 'optimism', 'newsfile', 'oficrete', 'piety', 'cappucci', 'ddj', 'rmafcb', 'formaldehyde', 'northeastindia', 'earlyvote', 'vale', 'fcbarcelonafans', 'costlycoalition', 'antman', 'glad', 'crickettalk', 'shih', 'sarcoma', 'libertarinism', 'lawfirm', 'clerk', 'bihari', 'venturetech', 'bagel', 'adapt', 'calf', 'upwards', 'velocity', 'hee', 'blooddonation', 'dandruff', 'letzplay', 'wymen', 'irelandvsfrance', 'renwick', 'cest', 'indwell', 'polemic', 'artmagazine', 'governments', 'definition', 'anc', 'webdesign', 'dealer', 'sahil', 'octav', 'caffeine', 'repair', 'gift', 'axis', 'shepard', 'income', 'rmt', 'decadent', 'brighterside', 'ache', 'friedma', 'rechargeable', 'figure', 'actup', 'nikola', 'theworldreviews', 'msdho', 'jaitley', 'ambulances', 'primeministers', 'suyyash', 'ros', 'guitarist', 'footballfever', 'twittershutdown', 'bestofbritish', 'endurance', 'uptake', 'upsc', 'lynch', 'magnets', 'hurst', 'topley', 'maan', 'threats', 'anuragthakur', 'sleephygiene', 'ajwain', 'asbestos', 'windermere', 'cashapp', 'succesful', 'varundhawan', 'sapphire', 'glucocorticoid', 'executioner', 'admission', 'mayors', 'thinkbig', 'turizem', 'wether', 'quant', 'negatively', 'malemodelling', 'leonalmessi', 'nielit', 'sod', 'rajashthan', 'footballkits', 'footballgame', 'lck', 'delegate', 'operations', 'comptes', 'extradite', 'cardiothoracic', 'wintervibes', 'harmful', 'forçabarça', 'embroil', 'paanlovers', 'ramsdale', 'carbon', 'halland', 'stemambassadors', 'agendaaajtak', 'kkrvrcb', 'digitalize', 'pratt', 'retailhistory', 'atishi', 'panthers', '𝐂𝐑𝐘𝐏𝐓𝐎', 'john', 'shredmas', 'dgb', 'ojistoh', 'freeplay', 'motorcycle', 'wreath', 'lutruwita', 'twitterspaces', 'interior', 'neuromarker', 'zerotolerance', 'ipe', 'launderers', 'heritance', 'takraw', 'akoka', 'rickyponting', 'hain', 'metal', 'btsport', 'milc', 'russellwilson', 'centenarians', 'monochrome', 'dept', 'thblog', 'vmwarecloud', 'candidates', 'felon', 'covcity', 'spinach', 'ipldata', 'iau', 'badly', 'wff', 'odinkalu', 'unputdownable', 'toddboehly', 'drugaddiction', 'criticalmetals', 'vary', 'airtel', 'mineral', 'housingcrisis', 'unlike', 'teamcsir', 'fernández', 'ptiofficial', 'tariq', 'indoor', 'tao', 'pixel', 'reeciecolbert', 'legends', 'frontseat', 'arigato', 'braininjury', 'jair', 'hetland', 'hillside', 'saveharry', 'onedayatatime', 'groomer', 'sr', 'jaati', 'fcking', 'secretly', 'rhinos', 'advice', 'indiacricket', 'probs', 'feminisms', 'protective', 'reproductive', 'richest', 'gulf', 'freedmen', 'abolish', 'cap', 'cmho', 'espanol', 'paraguay', 'itms', 'megarockstar', 'preseason', 'cisa', 'parata', 'askthechatgod', 'mbappé', 'happyacademic', 'cashless', 'cryptotrading', 'retrogaming', 'okra', 'jill', 'covenant', 'engineersday', 'adult', 'alamgir', 'creotizens', 'pints', 'population', 'corgi', 'davies', 'manickam', 'units', 'whale', 'direction', 'spacex', 'subscription', 'marsmission', 'hateful', 'cricketislife', 'incompetence', 'gov', 'visitportugal', 'bad', 'stevens', 'dolphin', 'oppose', 'igel', 'stne', 'gmo', 'drastic', 'anyday', 'bluebook', '𝗪𝗶𝗹𝗹𝗶𝗮𝗺𝘀𝗼𝗻', 'coastal', 'thinktank', 'elaw', 'localization', 'aca', 'kmeded', 'bastardisation', 'promotions', 'respect', 'buildproject', 'astronomy', 'realities', 'exponentialists', 'sampoorn', 'shockingly', 'satishjarkiholi', 'nostalgia', 'asaduddinowaisi', 'boycott', 'fraiday', 'rahulgandhi', 'reminiscence', 'sketchies', 'paperwork', 'tweak', 'ignition', 'arqx', 'youtubechannel', 'unrealengines', 'stemm', 'fry', 'ladder', 'tiago', 'happinessmantra', 'como', 'footballteam', 'cherera', 'duot', 'steerable', 'microservices', 'germanshepherd', 'bettoday', 'westpapua', 'kyodo', 'cannon', 'narrowthegap', 'reorder', 'subcommittee', 'sexisminsport', 'vincent', 'trs', 'arterial', 'egld', 'premise', 'ammendments', 'foreverychild', 'turmeric', 'magical', 'agarwal', 'cambridge', 'vohra', 'profiteer', 'orphan', 'despise', 'mat', 'coursepro', 'ffa', '𝐖𝐈𝐍', 'nc', 'uraniumsqueeze', 'fixer', 'rzp', 'crdt', 'billionaire', 'managestress', 'possibilities', 'bengali', 'hatch', 'mayfield', 'aapl', 'salcit', 'firstresponders', 'reserve', 'benghazi', 'jpnadda', 'similarity', 'nlb', 'xflguardians', 'rashtrapatni', 'men', 'undesirable', 'tame', 'hampden', 'paralytic', 'love', 'mpls', 'airbrush', 'frenzies', 'peloton', 'phk', 'romancedissents', 'darleane', 'electionworkers', 'useful', 'tecnología', 'powerlifting', 'inland', 'versus', 'operators', 'matrixgpt', 'arthur', 'stigmatization', 'thefba', 'atherosclerosis', 'tuscaloosa', 'vaccine', 'footballjersey', 'jeera', 'liquors', 'platformio', 'vinted', 'tugofwar', 'gurunanak', 'sublimate', 'media', 'bdays', 'cleatus', 'fascinate', 'subscribe', 'pereira', 'kanha', 'storage', 'aimbe', 'valorant', 'electrification', 'stitch', 'enzc', 'def', 'channe', 'amuse', 'okgovdebate', 'foremost', 'exact', 'lure', 'techies', 'rey', 'bowlingparty', 'otology', 'traders', 'tincture', 'ijtema', 'intermediaries', 'kickoff', 'typology', 'gld', 'liberalism', 'gohomeranil', 'cachevalley', 'winterhike', 'eet', 'zealand', 'meet', 'wasm', 'lack', 'meghan', 'dictatorship', 'ahly', 'idea', 'ojamu', 'gemtrading', 'apob', 'sca', 'optometry', 'hookstep', 'jaspur', 'mesutozil', 'conserve', 'modernize', 'worldmapper', 'matchsaver', 'russell', 'ausbiz', 'renovation', 'transhumancoin', 'womenpower', 'ergo', 'virtualassets', 'fathom', 'electricfoods', 'conbdebike', 'eban', 'creator', 'investors', 'nvidiapartner', 'circulareconomy', 'ri', 'yidinji', 'msw', 'lc', 'megatrends', 'acl', 'dexperiencelab', 'youthofpakistan', 'nyagit', 'tradeup', 'lothub', 'editor', 'wome', 'barrenknight', 'topps', 'caitlinclark', 'chronicle', 'nasik', 'capabilities', 'chard', 'pena', 'drivers', 'aussies', 'suella', 'landlords', 'xe', 'gymkit', 'store', 'format', 'immersion', 'headspace', 'ddimhmclubs', 'point', 'overrate', 'intolerance', 'presentation', 'rajbawa', 'cheer', 'weekendvibe', 'kalonzo', 'directions', '𝗙𝘂𝗿𝗶𝗼𝘂𝘀', 'read', 'leopard', 'albanians', 'rsi', 'kwarans', 'makerspace', 'condom', 'physio', 'glossary', 'iotcommunity', 'colby', 'pinksale', 'nagpurmetro', 'barça', 'demcast', 'recommendation', 'tushy', 'corporation', 'hobbybox', 'longstanding', 'biswaalart', 'fanone', 'livelihood', 'milder', 'oracles', 'firebirds', 'break', 'scientists', 'phenomenally', 'brighteon', 'smr', 'hesson', 'fence', 'isppacademy', 'fdbl', 'packersnation', 'happyfriday', 'ins', 'indict', 'gripper', 'boxsports', 'whosnext', 'input', 'feedback', 'winkler', 'thérèse', 'aera', 'accc', 'catoblepas', 'capixaba', 'buffet', 'cardiohealth', 'pouw', 'riga', 'energyprices', 'thriller', 'haywardsheath', 'hide', 'transparent', 'russiavsukraine', 'epkers', 'tennis', 'nlrb', 'rayees', 'normalisation', 'main', 'newzealand', 'lawal', 'personaltrainer', 'busy', 'erp', 'facto', 'maghreb', 'bionic', 'mark', 'ukprimeminister', 'ajayrai', 'brother', 'helpful', 'copadelrey', 'ascent', 'confuse', 'aid', 'sindhgovt', 'blake', 'byron', 'mst', 'circle', 'tavarius', 'aleem', 'teambiglee', 'vlog', 'cartoonify', 'ironically', 'indiewatch', 'มทว', 'axe', 'hallelujah', 'nootropic', 'censorship', 'appletv', 'conspiracy', 'sportlovers', 'civ', 'amd', 'taxpayers', 'assassin', 'edengardens', 'schoolnurses', 'cynicism', '𝗦𝗼𝗺𝗲', 'bigb', 'trikon', 'bide', 'engagements', 'mcpherson', 'infernos', 'doyourjob', 'wellbeingdebbie', 'hamontelection', 'uttapam', 'one', 'cesw', 'dozen', 'fwdtogether', 'pedsicu', 'rpa', 'evusheld', 'accountability', 'gross', 'susceptibility', 'sixteen', 'nationalities', 'lulapresidente', 'bayside', 'getafterit', 'upgrade', 'jdu', 'hay', 'teenager', 'tunishasharma', 'kind', 'simply', 'liberation', 'ina', 'comeonsaints', 'dcno', 'intern', 'sanders', 'jupyternotebook', 'stayhoops', 'diplomat', 'bpl', 'thevenusproject', 'kylermurray', 'espncaribbean', 'rakhmanov', 'neuroni', 'guerrero', 'organise', 'politicalbooks', 'enrollment', 'gfr', 'reinforcement', 'um', 'cairo', 'tharoortondtv', 'safebet', 'camino', 'alps', 'incidents', 'events', 'grylls', 'porbandar', 'horse', 'kuch', 'nar', 'bhatta', 'ribéry', 'kulr', 'rigor', 'reflecto', 'sar', 'uphold', 'immaculate', 'ponder', 'shoutouts', 'expression', 'kk', 'sportsfans', 'gse', 'metafi', 'ifas', 'semiconductor', 'bdata', 'esteban', 'packers', 'mamtor', 'weakest', 'crmsoftware', 'googlechrome', 'marseille', 'krista', 'lmics', 'jpegs', 'ffaweek', 'michels', 'vintagefootball', 'letsmove', 'festus', 'savinglives', 'neumann', 'theorist', 'virginiana', 'tweetoftheday', 'thew', 'curtsy', 'lockdown', 'pragmatic', 'carbohydrate', 'sizzle', 'sync', 'superconductor', 'consensual', 'worry', 'blindness', 'xxx', 'tsp', 'apsmarch', 'appeasement', 'vug', 'robo', 'paintbrush', 'islands', 'tobago', 'chen', 'severe', 'slay', 'jowar', 'brendon', 'clasico', 'watchface', 'helen', 'uplift', 'raadhe', 'apparently', 'cents', 'smo', 'towncentre', 'univ', 'unfortunate', 'rishiout', '𝘁𝗼', 'robber', 'port', 'brookfield', 'canpolitics', 'meals', 'gujaratriots', 'assassinate', 'fifty', 'feirandez', 'relegation', 'arsenal', 'utahpolitics', 'healthanxiety', 'turing', 'hackathons', 'premiumquality', 'lars', 'daka', 'lamda', 'hence', 'dental', 'aerospace', 'donruss', 'peek', 'historymaker', 'carefully', 'droupadi', 'phivpak', 'hermoso', 'scotland', 'ep', 'lunc', 'vital', 'bergoglio', 'unicorn', 'nutrient', 'ogwang', 'satenderjain', 'cricketfever', 'agreements', 'christopher', 'melatonin', 'climatescience', 'spartanj', 'tecs', 'kimcotton', 'operator', 'trailrunning', 'battchat', 'boe', 'athens', 'afriwatch', 'abraha', 'gofundme', 'datafestkampala', 'hannaharendt', 'highs', 'victims', 'hichilema', 'subscriber', 'probation', 'globaltrade', '𝐖𝐈𝐍𝐍𝐄𝐑', 'dji', 'cpap', 'parsa', 'romance', 'prnt', 'joiner', 'newarrival', 'android', 'interrupt', 'fluminense', 'morph', 'familymatters', 'data', 'saltbox', 'avs', 'congresschief', '𝘀𝗮𝗮𝗯', '𝐘𝐄𝐒', 'centric', 'wellnessjourney', 'mob', 'sharif', 'primeiraliga', 'qbs', 'srhvlsg', 'demonstrate', 'yea', 'grasp', 'academics', 'domains', 'stablecoins', 'abut', 'icebaths', 'verbal', 'techleadership', 'inside', 'somerset', 'punc', 'pba', 'vertically', 'erythematosus', 'nature', 'scanlan', 'djibouti', 'ecrchat', 'wheelbarrow', 'sovereignty', 'ery', 'storytelling', 'clae', 'consultative', 'literature', 'hyundai', 'gerrymander', 'grip', 'phone', 'stoicism', 'redteam', 'kohli', 'locate', 'tryna', 'scubadiving', 'joshallen', 'anaemia', 'amputation', 'filipino', 'ditch', 'harkness', 'clever', 'henri', 'workwell', 'initiation', 'structure', 'duplicate', 'savannah', 'makau', 'evelyn', 'electorates', 'maturity', 'bodytype', 'taaltechies', 'ahl', 'indicator', 'extremism', 'gamingevent', 'masonic', 'kehrer', 'atletico', 'diameter', 'bios', 'kgs', 'colabforall', 'contestindia', 'sour', 'couch', 'unprofessional', 'indianwomen', 'nouri', 'starship', 'betteroutcomes', 'ken', 'bushnell', 'hyderabad', 'center', 'antic', 'fitnessjourney', 'prize', 'urgent', 'balmahoon', 'glitz', 'familylaw', 'reskilling', 'hydronephrosis', 'loftlab', 'festival', 'gloucester', 'adore', 'kkk', 'roevswade', 'realfood', 'pck', 'singapore', 'zaida', 'veterans', 'kaphingst', 'ahirboxer', 'invention', 'infirmity', 'workplace', 'poke', 'reflective', 'infrastructures', 'jagdishthakor', 'lia', 'tsmc', 'mwangaza', 'lgfa', 'andy', 'superfit', 'rcbnews', 'kannada', 'aerosols', 'allergies', 'sportitalia', 'mmc', 'lindell', 'ivoted', 'safer', 'lieu', 'sexaul', 'copenhage', 'nightclub', 'sanjusamso', 'rawat', 'icare', 'ismail', 'profitability', 'stride', 'ciao', 'factsmatter', 'rope', 'enabler', 'solidarity', 'kane', 'carnivore', 'matchprediction', 'style', 'noninvasive', 'mtb', 'bacteria', 'kannur', 'pork', 'momentum', 'manta', 'saeed', 'beckham', 'moldova', 'complicate', 'subway', 'kyc', 'waxstat', 'unearth', 'intell', 'raphafestive', 'mahua', 'sudarshankriya', 'herald', 'lad', 'lgbtfit', 'philosophically', 'ibdpartner', 'pleasure', 'camhs', 'officially', 'goodbye', 'erdf', 'immunology', 'hr', 'bro', 'tapi', 'instrument', 'concours', 'mondaymood', 'technically', 'kagoshima', 'rougeway', 'announcement', 'downfall', 'oneof', 'wayn', 'commodore', 'jikwoyi', 'triathlon', 'design', 'unlikely', 'manitoba', 'chemists', 'aginnovation', 'polkcounty', 'braindamage', 'sedge', 'killer', 'kamomoe', 'oncesport', 'salesman', 'braid', 'code', 'shivraj', 'actress', 'rightly', 'ethicala', 'prizepickscfb', 'ethicscommittee', 'mutethemedia', 'cs', 'amreading', 'incentive', 'greatoffers', 'cricketbatglove', 'europa', 'spark', 'larger', 'armychief', 'reds', 'rohatgi', 'tradefinance', 'installations', 'smf', 'fieldwork', 'priyankagandhi', 'griglio', 'cfc', 'timelapse', 'liverpoolfc', 'havertz', 'twittespace', 'guyana', 'sneeze', 'abighealth', 'twice', 'revri', 'duffy', 'healthunio', 'engender', 'demelcrats', 'buffaloblizzard', 'princewilliam', 'priiiizze', 'hyderabag', 'openiftar', 'nuxtjs', 'sensitization', 'lo', 'significance', 'jeetnekamann', 'musk', 'ech', 'morley', 'technician', 'barclay', 'freepicks', 'munich', 'kleiny', 'wopsi', 'suffice', 'pkvsrr', 'flagship', 'sibtain', 'mustwatch', 'fancy', 'courageous', 'gms', 'fixity', 'flaxseeds', 'light', 'grifters', 'वभक', 'davidbeckham', 'surreycricket', 'ikoh', 'himchal', 'adventcalendar', 'avfc', 'danball', 'digitalpolitics', 'toluwalashe', 'paschal', 'declan', 'solubag', 'antifascist', 'myanime', 'odishafc', 'imap', 'houseofreps', 'sportslaws', 'unique', 'overabundant', 'modicum', 'manjrekar', 'supperdapps', 'finalize', 'voiceless', 'recession', 'rangadias', 'winery', 'kazhagam', 'uefa', 'enterprise', 'hobbystreak', 'shore', 'depose', 'wellnesscoach', 'analyze', 'dash', 'nhspay', 'delectable', 'california', 'wkt', '𝗦𝗛𝗢𝗪𝗖𝗔𝗦𝗘', 'skilled', 'acpc', 'lovewantage', 'learningjourney', 'tlchain', 'sanitise', 'reporter', 'undemocratic', 'geai', 'ekadashi', 'mamata', 'cárdenas', 'shashtika', 'origintrail', 'empowerment', 'gmt', 'standupcomedy', 'lectronz', 'lop', 'xflrenegades', 'standards', 'cars', 'checkmark', 'ares', 'bordeaux', 'iplupdate', 'battlefield', 'easports', 'entitlement', 'gradientlogo', 'oncologists', 'uske', 'naked', 'golfai', 'mariko', 'electorate', 'rosetta', 'hunter', 'chakraborty', 'col', 'healthbenefits', 'angel', 'marae', 'opponents', 'esports', 'valerian', 'pamplet', 'owe', 'vicente', 'uniparty', 'flipper', 'earn', 'nsmdistribution', 'elitist', 'pearce', 'zacharytaylor', 'bunch', 'inshallah', 'getemwetshaggi', 'losers', 'pli', 'eventmarketing', 'heartbreakingly', 'ces', 'clc', 'maternalhealth', 'minor', 'liviajulianna', 'asamoah', 'wwconverge', 'overhaul', 'trac', 'samtarry', 'siraj', 'induction', 'buildinpublic', 'colourful', 'physiotherapist', 'onejamat', 'selenagomez', 'olivia', 'subdivision', 'fig', 'mack', 'harvey', 'iuml', 'interndoctor', 'liaison', 'leaner', 'forestbathing', 'cultish', 'nordstrom', 'metavoice', 'benrendoorf', 'mitchell', 'palvidis', 'artifical', 'trip', 'pool', 'hoistable', 'metavision', 'qldpol', 'fraser', 'bravo', 'organisational', 'dcu', 'gasstove', 'bayer', 'epitwitter', 'gibts', 'immature', 'sidney', 'pedestrian', 'talia', 'amok', 'fatehabad', 'violentcrime', 'pem', 'fashiontech', 'ihsanullah', 'dastchain', 'vis', 'pi', 'fitur', 'souls', 'insomnia', 'cricbible', 'religio', 'steven', 'clothe', 'frenkie', 'purpleair', 'truly', 'papuan', 'exemplary', 'chemicals', 'bhawan', 'jumwa', 'edwardsnowden', 'alzheimers', 'shahidafridi', 'gabriel', 'quarantine', 'homo', 'freely', 'hardwork', 'professions', 'illegal', 'rehearse', 'elegant', 'ocd', 'racquet', 'lenovo', 'gop', 'neurological', 'voteearly', 'largeformat', 'least', 'openness', 'tirupati', 'ironmen', 'jplteif', 'socialseeding', 'tsungirirai', 'intrinsic', 'citadelscandal', 'podnation', 'ransom', 'premierleague', 'tal', 'manifesto', 'kanpur', 'poc', 'lovelovelove', 'rajanth', 'telecom', 'kindergarten', 'multimodal', 'unstoppable', 'tejran', 'peaceday', 'junaid', 'bowel', 'vidhansabha', 'incubate', 'unanimously', 'clump', 'nunn', 'endocrine', 'trauma', 'sahiba', 'italianfootball', 'dentist', 'dailymail', 'tinylinemarker', 'technologie', 'organ', 'vist', 'lease', 'outlet', 'pbksvskkr', 'tehdasforum', 'valerie', 'rnli', 'fallout', 'passiveincome', 'shashi', 'clearance', 'competition', 'workinglife', 'yeh', 'holistic', 'notice', 'trap', 'saturdayvibes', 'bibchat', 'kamket', 'barons', 'silhouette', 'keepupthegrind', 'vivid', 'convocopodcast', 'scopingreview', 'tho', 'wack', 'besotted', 'worklife', 'glimmer', 'son', 'iotdevices', 'fdic', 'instinct', 'hyperactivity', 'southasiandaily', 'idiots', 'employ', 'theepochtimes', 'rgsibg', 'krunalpandya', 'dentaleducation', 'ramsetu', 'wooohoooo', 'chronicmigraine', 'representations', 'idsdp', 'denistiaglin', 'television', 'ferry', 'kad', 'microplastic', 'inattention', 'macs', 'asx', 'afflictions', 'phishing', 'badjie', 'legalmo', 'garagegym', 'godhra', 'sometimes', 'whitehouse', 'hispanic', 'javier', 'cocktail', 'dissertation', 'fetchai', 'bhau', 'fondly', 'baji', 'bait', 'tease', 'nflstreet', 'baller', 'nationalcabinet', 'optimusai', 'esa', 'monsters', 'taijul', 'gujratelection', 'motivation', 'astoria', 'perpetration', 'envhist', 'mou', 'elclasico', 'wongsuwon', 'siri', 'brittneygriner', 'wicket', 'old', 'soch', 'plai', 'kwanza', 'ppc', 'bulletin', 'rightangle', 'nikon', 'murraybookchin', 'afghanistan', 'pandey', 'poverty', 'jealous', 'saheb', 'bsistandards', 'bioacoustics', 'shettleston', 'neurotwitter', 'reformation', 'freedomfighters', 'followers', 'cling', 'genz', 'sack', 'angus', 'bnwphotography', 'sabcnews', 'zil', 'datti', 'ipgp', 'esl', 'certainly', 'porteño', 'protonchain', 'trample', 'pakvsnz', 'testimonies', 'fg', 'politicize', 'examples', 'exempt', 'assumptions', 'charali', 'doorstep', 'mipaltan', 'cheque', 'humiliation', 'sept', 'shroom', 'prolific', 'aviationdaily', 'politicalquote', 'goptraitors', 'aspartame', 'leadfreeusa', 'oulu', 'maddow', 'croatia', 'asada', 'shld', 'cerebras', 'healthier', 'hello', 'productive', 'wunderkind', 'geostaresv', 'gloat', 'specialize', 'marshallplan', 'duct', 'urbanisation', 'sangrama', 'waxstatfootball', 'btc', 'handmade', 'srilankanow', 'prizepicksmlb', 'plasticfree', 'debt', 'elt', 'conclave', 'pac', 'establishment', 'capacitive', 'reddmatter', 'penn', 'introduce', 'zkrollup', 'grandkids', 'bioinspired', 'morbi', 'claire', 'pumas', 'unnatural', 'cnnireport', 'simontye', 'todaywishing', 'prescribe', 'hotepfit', 'work', 'nu', 'skew', 'generosity', 'rudhall', 'gale', 'bowman', 'automatically', 'bbv', 'igdreamsteam', 'fragmentation', 'underline', 'iccha', 'carcinogen', 'allah', 'pragatisheel', 'rutrajaikwad', 'phb', 'saitapro', 'captain', 'houseoflords', 'wedabrand', 'umaginechennai', 'depth', 'abnormal', 'minibudget', 'allin', 'stewardship', 'glutamine', 'impressive', 'techsummit', 'notre', 'moneyprinting', 'hoskinson', 'humour', 'ssr', 'epileptic', 'still', 'diarrhea', 'fanatics', 'tragedy', 'cooler', 'dynamics', 'sneakers', 'inspirational', 'moustache', 'armband', 'offensiveline', 'search', 'throughput', 'perpetuate', 'boubha', 'tennesseetitans', 'prop', 'sanjayrathod', 'backlog', 'prelim', 'mutate', 'jakin', 'gok', 'acmturingaward', '𝕤𝕦𝕣𝕡𝕣𝕚𝕤𝕖', 'nineeleven', 'sabga', 'cricketworld', 'nandy', 'disabilities', 'twitterupdates', 'lastminutegift', 'francois', 'medicare', 'libertarian', 'nuisance', 'reintroduce', 'colds', 'grievance', 'faux', 'mobilize', 'proximie', 'socioeconomic', 'mmanchester', 'aiforall', 'svetski', 'pricerise', '統一教会', 'sportphoto', 'ukrainewar', 'basaksehir', 'moonrise', 'topics', 'leaguetablebat', 'codesign', 'askpanditkatti', 'noia', 'crawsecurity', 'profit', 'gerardpique', 'arteta', 'seniorliving', 'kitbuilder', 'utdsports', 'panafricanism', 'plague', 'scoop', 'hobbyfam', 'kotacoaching', 'appwrite', 'daily', 'show', 'healthtalk', 'bloob', 'giveaways', 'hearted', 'extremes', 'indianteam', 'srl', 'epicenter', 'michalgula', 'worldcupsoccer', 'missile', 'improvinglives', 'restful', 'omnibus', 'pes', 'opensource', 'fitfam', 'առողջություն', 'shashitharoor', 'carr', 'unmuteindia', 'teddy', 'geography', 'mspresident', 'entrepreneur', 'hairloss', 'cohere', 'greatdeals', 'udal', 'sportarchives', 'newsepicentre', 'avl', 'proudagents', 'abplive', 'bnpmediacell', 'wandinha', 'importance', 'camp', 'cedis', 'precise', 'chingford', 'cellaresearch', 'artifact', 'kralyn', 'nazanin', 'levateyou', 'blackeyedpeas', 'catalonia', 'limestone', 'uiuxcamp', 'oraclepartner', 'earth', 'agfiber', 'iddaa', 'terminally', 'dark', 'coldstack', 'sierraleone', 'outplay', 'nbatwitter', 'mangla', 'bourne', 'conversational', 'insinuate', 'sakajachallenge', 'supernets', 'isaac', 'libraries', 'pakistansquad', 'footballtiktok', 'inner', 'ngs', 'shinzō', 'plz', 'olympicchampion', 'curator', 'fulfillment', 'blackouts', 'splinter', 'fauxy', 'gm', 'handbook', 'catechins', 'kaph', 'unlockthefuture', 'gambler', 'fußball', 'ideation', 'bday', 'dust', 'chirpley', 'polisci', 'wreckers', 'pseudoscience', 'rtd', 'ajitagarkar', 'proton', 'interventional', 'shastripuram', 'bahujan', 'lawtomation', 'turkishbaths', 'rejuvenator', 'benedictxvi', 'andrea', 'ingomag', 'leakage', 'veve', 'favorites', 'brittany', 'followersthank', 'femtech', 'bbelt', 'confinement', 'narco', 'eighteenth', 'workouts', 'epicardial', 'mosque', 'baptist', 'huan', 'joshua', 'fourthtrimester', 'attendence', 'pediatrics', 'bhakts', 'garagesales', 'zurich', 'designtwitter', 'twitchstreamer', 'orator', 'timeout', 'embarassing', 'wassan', 'crystalpalace', 'lawns', 'organista', 'nationality', 'bisphenols', 'icts', 'promed', 'zone', 'seemanchal', 'davidwilley', 'mari', 'alworth', 'profootball', 'ardern', 'giffords', 'millionaire', 'optimize', 'asto', 'ttu', 'benzoate', 'floor', 'completion', 'taher', 'partridge', 'baseballplayer', 'rush', 'oficretefc', 'pandhi', 'atsumi', 'keyboard', 'dynasties', 'periyaar', 'coalition', 'continuous', 'anwar', 'dynamism', 'hardik', 'rta', 'partha', 'zen', 'compute', 'commander', 'beautiful', 'cricketbetting', 'swiggy', 'cloves', 'sprint', 'nunez', 'imrankhanarrest', 'gridiron', 'kimchi', 'passaiccounty', 'ko', 'fortune', 'backlash', 'kelowna', 'cobalt', 'palghar', 'mindmap', 'nerf', 'wastage', 'localgovernment', 'snl', 'crooke', 'bleues', 'infinite', 'firmly', 'ornament', 'лук', 'gas', 'demons', '𝘂𝘀', 'scorpion', 'poster', 'whataboutry', 'whoever', 'concede', 'rebellions', 'bbcnews', 'eddieizzard', 'nyaka', 'dataprivacyday', 'ghosespot', 'shankar', 'yesteryear', 'unv', 'cleaneating', 'vawp', 'stefondiggs', 'playstation', 'window', 'ghuroorul', 'patriot', 'collaborator', 'nyanza', 'inventor', 'chuckyeager', 'misnomer', 'ghaili', 'chatterjee', 'astonishment', 'spfsport', 'pnc', 'unreal', 'openscience', 'murdoch', 'windward', 'manner', 'synthesis', 'fatigue', 'heydemann', 'mega', 'ssa', 'lackofexposure', 'priceless', 'samcurran', 'deafen', 'iccawards', 'veterinary', 'deniers', 'none', 'ideally', 'acoustic', 'washingtondc', 'pollard', 'villagecricket', 'academic', 'separator', 'grassland', 'retailfx', 'bask', 'fargo', 'haiku', 'satire', 'sicknotweak', 'bac', 'ehfg', 'regular', 'shrewsbury', 'strengthinunity', 'mentor', 'heisrisen', 'inevitable', 'title', 'foie', 'stupid', 'imam', 'enes', 'yolk', 'track', 'debut', 'gilgit', 'proliferation', 'bolster', 'greek', 'nationalbirdday', 'trinidad', 'subsaturday', 'fold', 'illustrator', 'vistegutten', 'slur', 'tudn', 'grainmate', 'val', 'nair', 'travellers', 'tandem', 'aom', 'explainer', 'restrictions', 'sainanehwal', 'jodi', 'digitalpound', 'thenewsinsight', 'shavkat', 'sportsvalley', 'maiden', 'uric', 'shirley', 'stephbeggs', 'convite', 'sudden', 'webinar', 'colne', 'anxie', 'fowards', 'murry', 'neighbour', 'ses', 'bottlebrush', 'scoliosis', 'judaism', 'yog', 'compass', 'saurabh', 'freeze', 'affleck', 'ceramics', '𝗏𝗂𝖺', 'hanuman', 'cherries', 'cholan', 'knowledgable', 'moosehide', 'thrall', 'sportcommunity', 'adivisionleague', 'reddy', 'businessman', 'kushner', 'gunn', 'kung', 'realism', 'gove', 'mcwvietnam', 'discus', 'timetrumpet', 'isle', 'pacho', 'scenery', 'mann', 'overall', 'themet', 'padmashree', 'erawan', 'magala', 'isothiocyanates', 'lamwo', 'happeningnow', 'timothée', 'jetsons', 'conway', 'trumpmemes', 'well', 'wdispain', 'boggle', 'picket', 'bjd', 'nolookshot', 'hamper', 'aishwarya', 'lineagematters', 'gaffer', 'parker', 'unpaid', 'onus', 'congressi', 'lesions', 'theme', 'seriec', 'cryptogem', 'shakhtar', 'benefique', 'foryourpage', 'iebc', 'stray', 'arbitrariness', 'ahps', 'filtration', 'jail', 'wealthtech', 'openly', 'stereoseq', 'grapes', 'nutricion', 'heavymetal', 'warinukraine', 'rajapakse', 'kashmiri', 'attackers', 'lime', 'fund', 'synergistic', 'controversial', 'energyforhealth', 'fossilfuel', 'feyaja', 'rosario', 'dangers', 'twitterworld', 'bipoc', 'saturntransit', 'corridors', 'newyearseve', 'nsw', 'hsr', 'basnyat', 'trustees', 'followus', 'imrankhwaja', 'cormick', 'espanyol', 'programmatic', 'clot', 'collision', 'edf', 'especially', 'urltrimmingtool', 'geomatics', 'newtothestreet', 'saveamerica', 'traceability', 'nourishments', 'eagerly', 'daimler', 'print', 'healers', 'vertebral', 'whack', 'can', 'fannypack', 'loksabha', 'coastpath', 'fitz', 'tomstoddart', 'ischemic', 'illicit', 'whisky', 'dana', 'pinkball', 'pv', 'village', 'mphasis', 'mid', 'essental', 'magnolia', 'vintage', 'guy', 'googl', 'sportsministry', 'matchmaking', 'ushistory', 'sportsromance', 'aueu', 'resignations', 'kangana', 'magaziner', 'metaversegame', 'initiative', 'draconianlaw', 'rollux', 'elie', 'clubshops', 'serverless', 'espouse', 'ld', 'sig', 'sportsfacility', 'platinum', 'dhakatribune', 'rapid', 'hallmarks', 'eldest', 'katwa', 'sportsteam', 'banah', 'fwd', 'meds', 'highcourt', 'thoroughly', 'hallabol', 'ethnic', 'motto', 'shivakumar', 'nerds', '𝐐𝐮𝐢𝐜𝐤', 'nb', 'innocence', 'stockley', 'baseba', 'mpc', 'scout', 'mojave', 'carbonfootprint', 'matildas', 'sesto', 'salads', 'obsidian', 'omelette', 'richo', 'kawempe', 'patist', 'latinamerica', 'der', 'freigburg', 'schalke', 'binge', 'losser', 'kieron', 'senca', 'country', 'pst', 'asisat', 'functional', 'goddess', 'manage', 'aruda', 'choudhury', 'trackpad', 'regulator', 'cookonabudget', 'sevillafc', 'sussexcounty', '𝘣𝘰𝘥𝘪𝘦𝘴', 'pradeep', 'byrd', 'cancers', 'ksa', 'unison', 'city', 'joelycett', 'nepvsbhu', 'tense', 'matheus', 'lactoferrin', 'eatrealfood', 'spitfires', 'samachaar', 'shami', 'rajput', 'meatless', 'thegas', 'declaration', 'ontario', 'galaxie', 'profound', 'palpable', 'fight', 'ngunjiri', 'richachadha', 'irregularities', 'tournaments', 'denmarkvssweden', 'makeinindia', 'verasity', 'outsource', 'iteration', 'convai', 'repay', 'vijay', 'finland', 'councilwoman', 'patientcare', 'krause', 'reecetopley', 'wilde', 'newamstar', 'gators', 'ghar', 'blasterbox', 'myers', 'pour', 'lego', 'recharge', 'salinity', 'jala', 'trustworthiness', 'postcard', 'epigrams', 'playlist', 'sambanova', 'granite', 'theisland', 'adolescents', 'motorsports', 'ocalan', 'christmasday', 'wezowski', 'dialoguespring', 'aifi', 'edgecomputing', 'louisvuitton', 'teamwork', 'warwickshire', 'insight', 'pathologies', 'dalot', 'imagenet', 'smuggle', 'habti', 'fitness', 'ntusg', 'deole', 'howitsdone', 'naija', 'medicalcare', 'echelon', 'cricketcoaching', 'nasscom', 'telephone', 'digitahealth', 'thearts', 'jocox', 'countless', 'veteran', 'engels', 'whip', 'glut', 'solarinnovation', 'uk', 'traveller', 'garbage', 'longhorns', 'notts', 'elahly', 'hoddle', 'mcgannon', 'valid', 'pn', 'williammckinley', 'aitrend', 'step', 'iplcontest', 'fcht', 'facets', 'pyridoxine', 'turnout', 'reasonable', 'savesoil', 'reflect', 'asuu', 'asi', 'normally', 'sex', 'antisemitism', 'sysadmin', 'apexlegends', 'foco', 'roethlisberger', 'por', 'gtvskkr', 'incapable', 'wherever', 'sambhajibrigade', 'manifestos', 'vini', 'dint', 'etax', 'sportsmanship', 'workspaces', 'libra', 'azur', 'pacer', 'blot', 'urge', 'ukrainevsrussia', 'inaugurate', 'wrists', 'chennaiweather', 'taint', 'cro', 'kumarawelgama', 'hologram', 'mixer', 'crime', 'arthurlegacy', 'thefuturesummit', 'deaths', 'custom', 'pharmd', 'perception', 'leo', 'malihub', 'daniel', 'rrp', 'verizon', 'feb', 'fertility', 'synonymous', 'freight', 'kanyakumari', 'fauziahibrahim', 'virus', 'faw', 'lockhart', 'guilt', 'consequences', 'degen', 'smoother', 'change', 'moods', 'pltr', 'mixture', 'degens', 'zemlya', 'anaytics', 'gunadi', 'massshooting', 'caputo', 'teens', 'rail', 'overcrowd', 'getfit', 'successtrain', 'ai', 'numpty', 'firetheucp', 'votingmatters', 'charger', 'edition', 'lt', 'emiratesstadium', 'indianpolitics', 'aragalaya', 'أركان', 'movetoearn', 'ebl', 'interpeace', 'shaft', 'diy', 'mouthpiece', 'breakingnews', 'pathetic', 'awaam', 'wip', 'ortjob', 'crosby', 'akshaykumar𓃵', 'kas', 'upload', 'stern', 'weather', 'miserable', 'esmh', 'charlie', 'dysfunctional', 'spectran', 'nautical', 'govern', 'javascript', 'cellular', 'govopenevent', 'layer', 'altsignals', 'inject', 'kaduna', 'junkfoods', 'indianyouth', 'abdul', 'healthsecurity', 'volumetric', 'xboxone', 'madden', 'unravel', 'growyiurownfood', 'comedians', 'budd', 'nssf', 'eastend', 'muneve', 'morant', 'сheck', 'agix', 'reflexes', 'inferences', 'fine', 'collin', 'rounder', 'flatbed', 'megyn', 'triathlete', 'vssut', 'forbiddengames', 'motrin', 'options', 'developent', 'liver', 'meningeal', 'eg', 'mediaeducation', 'laurenboebert', 'livstruss', 'intentionally', 'soar', 'oneseedgroup', 'conversation', 'lobotomy', 'predictipn', 'spain', 'wout', 'smarthome', 'berglund', 'cfi', 'newblog', 'legislature', 'wordpress', 'ananddighe', 'enjoythepresent', 'childrensbooks', 'diplomats', 'semi', 'childre', 'bodypositive', 'blueprint', 'artmatters', 'gadon', 'roundabout', 'user', 'pulmtwitter', 'buffoons', 'amritmahotsav', 'function', 'gambian', 'wallace', 'sportmanship', 'floppydisks', 'redux', 'econfest', 'harpreetbrar', 'thfc', 'kante', 'hadron', 'cjs', 'neverlosehope', 'hdruksciconf', 'solarpowerplant', 'expérience', 'onthewayup', 'safedriving', 'rough', 'micky', 'va', 'supremacy', 'grow', 'innovationnews', 'saturday', 'trinh', 'swadeshi', 'rheumatology', 'responsive', 'softly', 'hiho', 'hydro', 'bpa', 'livescoring', 'agetech', 'cricketnews', 'deap', 'polysilicon', 'leibou', 'navi', 'doubtful', 'bundesliga', 'tryptophan', 'bcube', 'slowest', 'baubles', 'fetu', 'punjabi', 'logical', 'summerschool', 'qbi', 'borealis', 'angry', 'benveniste', 'county', 'katrine', 'joeyporter', 'batonrouge', 'siemens', 'nflrookies', 'mainz', 'resource', 'administrative', 'influential', 'iccrankings', 'sachinpilot', 'vegans', 'cortez', 'rondesantis', 'presale', 'bidens', 'xxxtentaction', 'atatu', 'jubilee', 'topknocks', 'appledeveloper', 'gerontology', 'messi𓃵', 'nojuice', 'selfriding', 'tangible', 'જપ', 'paidtimeoff', 'shutdown', 'maximum', 'appreciative', 'microfinancing', 'olami', 'tana', 'angustaylor', 'xinjiangchina', 'parody', 'onpoli', 'norman', 'valentines', 'giuliani', 'communications', 'hopkins', 'marta', 'reactjs', 'espnor', 'jammukashmir', 'sto', 'innings', 'footballseason', 'ubikitan', 'lovely', 'badass', 'reliaquest', 'biovision', 'madeley', 'frosty', 'steadily', 'withdrawal', 'antonio', 'retail', 'profitable', 'primapagina', 'mainpuri', 'appal', 'prometheus', 'buyartnotcandy', 'procurement', 'opinion', 'beak', 'theories', 'giftsforhim', 'localisation', 'dud', 'monumental', 'epikprotocol', 'civic', 'governorlake', 'abapnibaarihai', 'shoulderpads', 'sportstoday', 'cick', 'anca', 'indie', 'cent', 'lifeblood', 'secretary', 'fair', 'escapism', 'ratcliffe', 'memon', 'implode', 'easton', 'replenish', 'lucan', 'softrobotics', 'sunrises', 'minister', 'racially', 'ibm', 'hotels', 'wagani', 'egyptology', 'sft', 'braun', 'edchat', 'brownn', 'trunks', 'dynasty', 'chinacovidcases', 'aminoacid', 'mick', 'veil', 'buynow', 'sociacare', 'knowthyself', 'goqii', 'aftereffects', 'auto', 'armani', 'prose', 'matchday', 'lgbtqi', 'cm', 'retainntrname', 'hussain', 'xp', 'watchalong', 'mayra', 'bemuse', 'webelong', 'transformers', 'stevano', 'ibstock', 'uspol', 'bottom', 'varadkar', 'bbcqt', 'betproexch', 'vardinogiannis', 'measles', 'treasurer', 'polarize', 'older', 'pneumonias', 'healthylifestle', 'lean', 'gahd', 'sircar', 'eyewear', 'webdevelopment', 'condolences', 'writerslift', 'tyrenichols', 'secondlady', 'sundaybrunch', 'nyckarate', 'rossana', 'purity', 'phdlife', 'endocrinology', 'jacindaardern', 'packets', 'passionately', 'amg', 'matrixainetwork', 'prema', 'ecpg', 'wednesdayvibe', 'birch', 'chd', 'coromandel', 'leagueleague', 'swirl', 'ot', 'girls', 'tolerance', 'chatlines', 'cjinvramana', 'pficrackdown', 'greenery', '雄安新区', 'openbanking', 'holy', 'afwafactcheck', 'prosecution', 'bassdaddy', 'iamintel', 'abbasi', 'breakingnow', 'fisherfolk', 'marc', 'edtech', 'bowaters', 'guess', 'suomi', 'tendinitis', 'sahri', 'readytorise', 'equalize', 'underdogs', 'narratives', 'nuno', 'tezosfilipinos', 'twitterati', 'xi', 'holidayseason', 'certification', 'absa', 'convocation', 'geoeconomics', 'saskpoli', 'seeker', 'coup', 'misunderstand', 'fasttrackcities', 'lagecy', 'kyedition', 'graynicolls', 'csr', 'aste', 'seagames', 'chap', 'spazio', 'fave', 'gabriela', 'mohammad', 'aberration', 'dodgy', 'fly', 'powerdao', 'ruledout', 'sqft', 'fabrication', 'apprenticeships', 'reject', 'icp', 'whey', 'suyassharma', 'nightcricket', 'stretch', 'newlistings', 'endofthemonth', 'try', 'anil', 'dwaynebravo', 'ahlconintl', 'church', 'chandrakant', 'suther', 'checkup', 'complications', 'mela', 'johnlegend', 'jst', 'clotshot', 'attack', 'kelantanfc', 'weber', 'dalton', 'opiodepidemic', '𝐃𝐚𝐲', 'gruel', 'clinician', 'towards', 'walthamforest', 'commandments', 'informations', 'gu', 'imageai', 'maekel', 'nycmartialarts', 'founder', 'caress', 'syscoin', 'faker', '狂飙钟阿四真的不是演的', 'secularism', 'milky', 'purse', 'ocasio', 'apples', 'criticize', 'dorsey', 'wehaveitcovered', 'plummet', 'newskills', 'edmonton', 'bloomberg', 'herosupercup', 'adeleke', 'scifi', 'tom', '𝘢𝘳𝘦', 'raiseyourvoice', 'notworkingforus', 'lira', 'rheum', 'teampbks', '𝐀𝐈', 'crisp', 'uwatwese', 'animate', 'danimation', 'covington', 'photograghy', 'orangearmy', 'suck', 'direct', 'quickest', 'disparagingly', 'thejungle', 'docs', 'japa', 'technoscience', 'balancedlife', 'nupur', 'uptick', 'permeable', 'designxpart', 'mondayfun', 'conservatoires', 'ltc', 'mocap', 'tochett', 'capture', 'portuguese', 'ahead', 'gohealthhero', 'webpage', 'rockville', 'interval', 'il', 'riskmanagement', 'tablet', 'hackernews', 'attagirl', 'dronesforgood', 'limerick', 'supercar', 'soxx', 'rancid', 'heterosexual', 'gaslighting', 'allagesautismmh', 'affidavit', 'catch', 'indepth', 'paulconstantine', 'roque', 'starwars', 'sportsjerseys', 'represent', 'newkitday', 'annuar', 'mtg', 'rajinikanth', 'aquaculture', 'zimbabwe', 'underdog', 'ricans', 'dogzen', 'aerialrobots', 'testify', 'clinicaldata', 'inheritance', 'hospitalization', 'le', 'tri', 'hurry', 'fkn', 'individually', 'ii', 'bassetlaw', 'dmk', 'economiccrisis', 'pharm', 'entries', 'food', 'nagar', 'smritiirani', 'shearer', 'uganda', 'customisable', 'except', 'silwan', 'lawntennis', 'mcwsports', 'april', 'excessively', 'ngunyi', 'grapple', 'fennel', 'paradox', 'activity', 'rcpsychwasp', 'tilt', 'heavier', 'daemmerich', 'runners', 'ish', 'overshadow', 'bjpdrugdealers', 'bwv', 'swisher', 'hsfb', 'richardson', 'christianity', 'stewpeters', 'vlsidesign', 'artcontemporain', 'savethepandas', 'culturewars', 'christiaan', 'slovenija', 'armstrong', 'slam', 'scandals', 'ph', 'flora', 'soccket', 'streettrees', 'niemanreports', 'mavericks', 'ripterryhall', 'shambroom', 'lakh', 'democratize', 'detector', 'masterclass', 'compact', 'fracking', 'deepfatfried', 'enrich', 'passion', 'sentiment', 'dugout', 'rhino', 'realtalk', 'miniature', 'fluoridation', 'similarities', 'selfawareness', 'betpro', 'immigrantcorner', 'occassion', 'celery', 'deliver', 'trainingwear', 'file', 'ewing', 'rochelle', 'jobvillage', 'algerian', 'rf', 'ethdomain', 'somervillema', 'schneider', 'geek', 'kyrstensinema', 'chorus', 'parma', 'organdonation', 'howthingswork', 'weigh', 'seas', 'finity', 'speechwriter', 'resign', 'watershortage', 'murraaaay', 'beto', 'organizations', 'outer', 'kejriwal', 'brainenergy', 'tipton', 'redline', 'muhammadu', 'theylied', 'mpnews', 'fertilization', 'everyone', 'gua', 'convenient', 'sharad', 'pope', 'thrombus', 'believer', 'baseballseason', 'shockwaves', 'savukkusankar', 'screenshot', 'teen', 'fanfest', 'brevis', 'macktrucks', 'fpjcartoon', 'mengroup', 'carolswain', 'universitario', 'polkadot', 'economics', 'maintenance', 'six', 'plea', 'fundamental', 'analysts', 'realitychec', 'odor', 'synchronization', 'saryu', 'tighten', 'magazinecover', 'marcusallen', 'vessel', 'itstimetotalk', 'marvellous', 'lgbt', 'cameo', 'jalgaon', 'punekar', 'oblivious', 'crokepark', 'thrawn', '𝘣𝘰𝘺𝘴', 'pretorius', 'ucns', 'dgir', 'khokhar', 'tcg', 'institution', 'sickular', 'announce', 'solidblock', 'midweek', 'adopt', 'enzo', '𝗙𝗮𝘀𝘁', 'ryu', 'wfas', 'shikimic', 'overreaction', 'not', 'cay', 'lighter', 'streetchild', 'laboratories', 'bespeak', 'naomi', 'lnp', 'algal', 'excavation', 'wacky', 'sevaneeya', 'dagbani', 'kwasi', 'babylonmovie', 'socialimpact', 'portals', 'amenorrhoea', 'bringbackmasks', 'iglive', 'pgatwitter', 'bulwark', 'anthropology', 'bharatbiotech', 'deferment', 'mobiles', 'oscp', 'snowy', 'highered', 'myanmar', 'keenan', 'midlifedancers', 'america', 'plantcity', 'prove', 'bettingbusiness', 'dsf', 'tibetanterrier', 'vitro', 'immunitydebt', 'burr', 'qatar', 'bridgend', 'mok', 'tender', 'inspite', 'alteryxpartner', 'classical', 'federalreserve', 'votingrights', 'datascientist', 'samvad', 'bet', 'poonawala', 'plow', 'astronauts', 'raine', 'wildflower𓆸', 'godisaweapon', 'classrooms', 'interlinkages', 'cajal', 'knowhow', 'dfir', 'weighlifting', 'akram', 'logue', 'trouble', 'cptsd', 'eyehospital', 'christians', 'manbaby', 'scl', 'kaushik', 'flowerreport', 'permit', 'dogecoin', 'icons', 'cacking', 'marxists', 'ibrahim', 'constructively', 'consternation', 'spl', 'moitra', 'bilkisbanocase', 'itwontwork', 'forefront', 'frighten', 'ghanacultureday', 'alltime', 'millicent', 'deliberately', 'dual', 'amputeestrong', 'emboss', 'protectn', 'parrot', 'mhhsbd', 'animations', 'gateshead', 'trumptantrum', 'taboo', 'module', 'tx', 'relatives', 'desire', 'tls', 'emr', 'parthiv', 'bnb', 'thread', 'hcfc', 'conduce', 'lowrider', 'abroad', 'midas', 'truths', 'aleistercrowley', 'mumbaimarathon', 'foreverlsu', 'ippatam', 'literacy', 'chainai', 'patience', 'addf', 'satishacharya', 'fielder', 'obcs', 'duo', 'kansascity', 'noble', 'breathtaking', 'ifanewengland', 'gymming', 'kno', 'wing', 'mediate', 'major', 'detox', 'pervasive', 'erling', 'factoftheday', 'goi', 'mayoral', 'alanandaaron', 'plyometrics', 'abdominal', 'imagegeneration', 'mosbank', 'notifications', 'suspicious', 'gracious', 'aslight', 'ministries', 'calabasas', 'phillies', 'fittertogether', 'brinkhoff', 'lsufootball', 'heroin', 'oily', 'vipers', 'gamingindustry', 'audioengineer', 'levy', 'proptech', 'roboticsweek', 'generaitivai', 'protesters', 'fare', 'judy', 'oppurtunity', 'cellphone', 'debtor', 'demings', 'burton', 'labourparty', 'stressrelief', 'braamfontein', 'creationnation', 'happier', 'fanaticism', 'jeremyhunt', 'gamma', 'peril', 'thank', 'womeninfocus', 'flop', 'gaddafi', 'mindbody', 'maoridom', 'injustices', 'payattention', 'graphicmedicine', 'shade', 'pressfreedom', 'glutesworkout', 'billofrights', 'mathieu', 'clout', 'maleinfluencers', 'wh', 'pharah', 'mattmilano', 'savukku', 'coas', 'outsiders', 'southamerica', 'cube', 'blogging', 'kcal', 'sprowston', 'cividuty', 'techgeek', 'effectiveness', 'econ', 'sportsbets', 'chemo', 'international', 'taka', 'electromagnetic', 'jis', 'footballjobs', 'ruthless', 'wise', 'implicit', 'hialeah', 'chandana', 'manufacturers', 'spring', 'drench', 'debutant', 'chakravarthy', 'wickets', 'pranjal', 'vertical', 'principle', 'ojp', 'anurag', 'egoistical', 'overcome', 'ukcyclechat', 'sporter', 'prosecute', 'provide', 'covidchina', 'rorystewart', 'sportsscience', 'gloucestershire', 'fifer', 'dye', 'satu', 'controller', 'betlfc', 'lesotho', 'infringement', 'mayhem', 'indeed', 'afoot', 'autonomous', 'kuro', 'pressers', 'kashmirfiles', 'githubgalaxy', 'afcon', 'caleb', 'haris', 'kkrvgt', 'vasculitis', 'aartsma', 'performer', 'homecare', 'adrian', 'dawgculture', 'broader', 'presidential', 'stampede', 'xmas', 'cop', 'astrology', 'primary', 'reciprocate', 'aim', 'beactive', 'credulous', 'oli', 'juvenile', 'strus', 'haryana', 'impulsivity', 'année', 'packersfootball', 'donkey', 'pension', 'proud', 'papajhons', 'hussey', 'parkinsons', 'lanes', 'bt', 'au', 'manchestercity', 'sherman', 'aap', 'monday', 'andhrapradesh', 'patio', 'akantony', 'colon', 'fjmorenofuentes', 'rivalry', 'possible', 'veritas', 'bullsh', 'ldreporter', 'massarrests', 'undergraduate', 'm²', 'gobert', 'proprioception', 'strongertogther', 'clubhouse', 'pauloxuries', 'plaques', 'browse', 'undermanned', 'techtuesdays', 'bike', 'officespaces', 'wednesday', 'loyal', 'newark', 'artisan', 'arvindkejriwal', 'parivarvaad', 'mambu', 'magma', 'rajnikanth', 'panasonic', 'tarnish', 'wargaming', 'sciflare', 'konami', 'tuah', 'weebit', 'casey', 'akin', 'mkstalin', 'nonstop', 'keynote', 'zombieart', 'habitual', 'strengths', 'droupadimurmu', 'tshirt', 'ut', 'nevadacity', 'bball', 'catholic', 'becker', 'gratzpilates', 'knees', 'denial', 'prospirity', 'tiktokライブ', 'equilibrium', 'foxchange', 'deplete', 'pawan', 'accessibility', 'pathak', 'arabi', 'herbal', 'marriott', 'csfleak', 'innovations', 'borderpoll', 'hoti', 'prick', 'derail', 'collegefootball', 'warren', 'offices', 'fridayvibes', 'burberry', 'makingmemories', 'negr', 'blockers', 'laadli', 'doms', 'hanbyul', 'steer', 'unitary', 'murad', 'tox', 'cad', 'rat', 'lanka', 'ololua', 'stresseddads', 'tin', 'korean', 'hotly', 'teamlogo', 'azurespace', 'actually', 'medicine', 'ferryland', 'may', 'mayne', 'finsevr', 'nabi', 'depict', 'takeawayfood', 'moce', 'parse', 'come', 'cleaner', 'borussaifc', 'fellow', 'yeduruvani', 'affective', 'japan', 'xportallaunch', 'advertisers', 'contro', 'viewers', 'artists', 'bravely', 'twitterspace', 'grasso', 'oa', 'biden', 'greener', 'confrence', 'nonetheless', 'jaimini', 'foresee', 'equip', 'luckyblock', 'mccain', 'mortals', 'projectsuccess', 'cow', 'jidion', 'humid', 'globalink', 'kiberal', 'cosmic', 'oration', 'ovaries', 'ptrtweet', 'gamblingtwitter', 'lightbar', 'vocal', 'landatu', 'surgeries', 'jess', 'holograms', 'axonaccelerate', 'tragic', 'optimization', 'balloon', 'fcbrma', 'foodsciencs', 'maize', 'demetrius', 'financially', 'animalcruelty', 'afganistan', 'arsvsliv', 'theatres', 'reductionists', 'ambassacat', 'facts', 'expenditures', 'judas', 'hami', 'coachvsplayer', 'disaster', 'publicplatforms', 'cprsaveslives', 'evm', 'lifechanging', 'mededtech', 'uhh', 'stankovic', 'reminder', 'ainu', 'word', 'creditors', 'helmet', 'strongwomen', 'symbiotic', 'nn', 'recipies', 'labs', 'heritage', 'makuutu', 'belagavi', 'trainees', 'kitsch', 'luo', 'mammals', 'barrier', 'parceptions', 'educators', '𝕊ℍ𝕌𝔹𝕄𝔸ℕ', 'nitishkumar', 'openaccess', 'curry', 'bbcfootball', 'theguardianng', 'ethnfts', 'wafer', 'rutocabinet', 'pollution', 'immutable', 'customize', 'diwali', 'partnerships', 'mountainkingdom', 'futurismo', 'rgl', 'pehchan', 'alinur', 'estimation', 'piepenburg', 'pull', 'wrong', 'outclass', 'questpro', 'bodyweight', 'satoshi', 'qtl', 'barse', 'printable', 'oneprompt', 'indies', 'haha', 'ihp', '𝐅𝐮𝐧', 'inventory', 'smartbangladesh', 'laza', 'priority', 'avalanche', 'letstalk', 'rigathigachagua', 'yashsavujaiswal', 'heroes', 'minster', 'falsely', 'trillions', 'shin', 'lifeatatt', 'runintherain', 'guardiola', 'sunrisers', 'cntm', 'moises', 'southspeaks', 'rainbow', 'kewdigiteam', '𝐻𝒶𝓅𝓅𝓎', 'famlyfun', 'cheap', 'hinduphobic', 'stephenasmith', 'intra', 'bekindalways', 'hockeygram', 'jeopardize', 'bedsfa', 'alcohol', 'sustainability', 'appleprocessing', 'examiner', 'fwa', 'anticheat', 'bank', 'confidently', 'dogeco', 'swampy', 'liv', 'enrichments', 'flutter', 'mentally', 'alhumdulillah', 'virginhyperloop', 'uebert', 'techfora', 'groomers', 'vaiot', 'crazyleft', 'ioccertificate', 'metabolically', 'mathew', 'hazm', 'artistry', 'clara', 'bigots', 'bradshaw', 'mariokart', 'arlington', 'nstagood', 'atom', 'kitconews', 'mi', 'thalaivan', 'dinners', 'coronae', 'brace', 'bangkok', 'disorientation', 'rory', 'ouch', 'aditya', 'martyrdom', 'pakatan', 'riana', 'musicnews', 'munugodebypoll', 'mombasa', 'microbial', 'brs', 'harrow', 'afp', 'pitt', 'viralpic', 'dishonestly', 'woodviewmhas', 'nuggets', 'betandwin', 'showdown', 'russiagate', 'grey', 'pff', 'ix', 'cholera', 'ugandan', 'manufacture', 'handsurgery', 'interrelate', 'subject', 'laborwomen', 'rawvegan', 'acute', 'dialysis', 'peipoli', 'nobody', 'reconsider', 'azam', 'shebyshereé', 'february', 'khoi', 'playtoearn', 'mom', 'magick', 'billmurray', 'masterclasses', 'khumaltar', 'wbyeats', 'highest', 'fridayfeeling', 'houseofcards', 'angad', 'dand', 'recessio', 'aws', 'murashov', 'sportlight', 'electoral', 'bm', 'thiamine', 'edinburghfringe', 'dribbble', 'start', 'cpc', 'ppe', 'digitaldivide', 'juniorknight', 'satya', 'lastsunset', 'willow', 'signitsacult', 'communities', 'helena', 'rafael', 'carroll', 'lesson', 'naseer', 'tokenize', 'isgmetaverse', 'hatepolitics', 'cndpoli', 'coincidentally', 'detachment', 'amorim', 'georgiagovernor', 'hoodolgy', 'type', 'technical', 'climatetech', 'purrfect', 'jhyerichardson', 'happyeverything', 'healthfact', 'unmissable', 'large', 'farmersprotest', 'conte', 'jleague', 'cacophony', 'meaningful', 'mckinsey', 'kyrsten', 'browsers', 'civically', 'agingbody', 'betray', 'bestow', 'lend', 'cultural', 'poolday', 'payment', 'bph', 'spfl', 'gaut', 'fluoride', 'broaden', 'jose', 'oped', 'reggaegirls', 'nflchallenge', 'kannamalai', 'jenifer', 'hardships', 'gem', 'urbangreening', 'cornea', 'culpo', 'broncos', 'deliberate', 'chester', 'indianfood', 'writer', 'kuldip', 'whatsappdown', 'hungover', 'golden', 'circadian', 'pistolshooting', 'therapeutics', 'hautala', 'delusion', 'sevilla', 'dermtwitter', 'lib', 'automous', 'ovary', 'cardiac', 'atc', 'getreal', 'eligibility', 'retweeet', 'turfix', 'shakeel', 'earlytreatment', 'sporttime', 'toxic', 'gooddeeds', '𝗧𝗢𝗗𝗔𝗬', 'gujranwala', 'ahmedabadmirror', 'midjourneyai', 'sannamarin', 'rotational', 'interpretation', 'ravichandran', 'nysc', 'mardan', 'oscillations', 'lionesses', 'et', 'ashour', 'soccerskills', 'fearless', 'collage', 'wood', 'qatari', 'backward', 'gyroscope', 'maketithappen', 'birders', 'colorado', 'alington', 'footsteps', 'earlybird', 'hideous', 'wicklow', 'historyrhymes', 'revolutionary', 'quainetwor', 'onwin', 'theater', 'mo', 'zebrafish', 'margins', 'something', 'fireside', 'wbacanada', 'ragchat', 'enttwitter', 'sexyrobot', 'busd', 'abderrahim', 'reindeerready', 'nottinghambars', 'legacy', 'burna', 'teaequipment', 'unvaccinated', 'macys', 'warmth', 'bulldozer', 'aimining', 'calebs', 'athletes', 'elway', 'coterra', 'comfortably', 'omics', 'ios', 'twitterkurds', 'dhankhar', 'nationalize', 'ftse', 'multipla', 'royston', 'meegan', 'nakagawa', 'shardul', 'asiancup', 'lae', 'antichrist', 'circulate', 'faculties', 'thinkpad', 'worst', 'privately', 'dialogue', 'chepauk', 'thatscarpy', 'dick', 'unfpayapke', 'milestones', 'accompany', 'getpaid', 'roevwade', 'riptwitch', 'americans', 'romeo', 'makeshift', 'yesterdays', 'milicaandric', 'womeninsports', 'kuchika', 'decorations', 'dawson', 'fermi', 'delicious', 'crue', 'ireland', 'boise', 'uj', 'road', 'ruid', 'dislocate', 'synbyss', 'abbas', 'cisco', 'infosys', 'kgf', 'kishore', 'shepinspires', 'basic', 'chapwell', 'cwc', 'karriere', 'mondaythoughts', 'squalor', 'ssl', 'flock', 'solana', 'gigadgets', 'mismatch', 'asitoken', 'hubbard', 'nagpur', 'improbable', 'wu', 'capability', 'kanyeisright', 'moment', 'foodstudies', 'jumaani', 'dsl', 'sue', 'novaya', 'ml', 'mri', 'llidiard', 'farnhamauthors', '𝗖𝗮𝘁𝗰𝗵', 'whynorelief', 'shane', 'pedagogy', 'quinton', 'magenta', 'marty', 'storyline', 'reinforce', 'radical', 'gold', 'bvbfcu', 'turn', 'sweat', 'subsidies', 'doge', 'theherleburly', 'chipsact', 'sachitheek', 'ramadan', 'chowkidaar', 'kanewillaimson', 'august', 'bobmarley', 'trophy', 'msume', 'ook', 'incometax', 'exist', 'sfv', 'auspoi', 'sultana', 'oo', 'chickens', 'zoholics', 'miamidolphins', 'upamecano', 'vaccinegenocide', 'patrick', 'herbicide', 'shooter', 'healingjourney', 'hawaii', 'duties', 'welfare', 'benchmark', 'playerprops', 'fuck', 'soniagandhi', 'lawofseas', 'jeru', 'gandhi', 'achievements', 'saddam', 'pet', 'maseru', 'ecbhfa', 'sinha', 'gps', 'deus', '𝗳𝗼𝗿', 'letter', 'kadivar', 'katiesteam', 'custompainted', 'plenary', 'melba', 'igu', 'bidders', 'compassionate', 'lungcancer', 'senators', 'bnppcresults', 'gvir', 'markaz', 'visleshakulu', 'probably', 'uva', 'footfall', 'lick', 'bambili', 'tally', 'sweeten', 'winyway', 'aabb', 'section', 'malnourish', 'ye', 'suresh', 'christmaseve', 'bloodbowl', 'killabears', 'twh', 'covidisnotover', 'later', 'shine', 'railroad', 'awful', 'jitter', 'bnp', 'dekock', 'nuneaton', 'lovewins', 'liquid', 'usfda', 'vusport', 'helpfulbears', 'curve', 'watchin', 'feelinggood', 'archdaily', 'sportsanalytics', 'tragically', 'motorsport', 'symbol', 'contexts', 'slts', 'halifax', 'mot', 'metary', 'pharmparrot', 'rachel', 'barnetfc', 'plenty', 'gena', 'offend', 'montague', 'highlight', 'contentcreator', 'suave', 'fitnes', 'mild', 'jong', 'bright', 'mowt', 'digitalidentity', 'saturdayread', 'curiosity', 'nitishrana', 'mallikarjun', 'democratise', 'npcchh', 'su', 'snapchat', 'scan', 'remo', 'nanomaterials', 'audio', 'survivalinunity', 'lover', 'nzvpak', 'thparliamentke', 'tier', 'irony', 'harrystruman', 'puritanism', 'speakeasy', 'freshinkgroup', 'waziri', 'common', 'goalalert', 'swcp', 'christianvote', 'billmafia', 'scitech', 'nuh', 'bar', 'studentsunion', 'zion', 'prevail', 'finch', 'veganuary', 'txact', 'fortis', 'digitalbanking', 'vrar', 'uniquely', 'sidsncdsbrb', 'energetic', 'wonderkid', 'squareinsurance', 'qunnipiac', 'breitbart', 'borrower', 'populations', 'tag', 'ferment', 'munawar', 'soccer', 'proponent', 'paperless', 'outeredge', 'pok', 'biliary', 'socialmedia', 'immutability', 'stroup', 'cost', 'newyearneme', 'futuresmart', 'fightback', 'robertson', 'ozonefriendly', 'waape', 'archer', 'cystic', 'vallejo', 'undergrowth', 'cake', 'farmer', 'sportsfestival', 'chacha', 'alwadaei', 'jake', 'competitors', 'technologies', 'bobblehead', 'robotics', 'harriscounty', 'abvp', 'utilize', 'privatesector', 'conmebol', 'incorrect', 'parliament', 'collide', 'chisel', 'hkh', 'purposely', 'tapscott', 'westyorkshire', 'bacon', 'armyrule', 'mitrovic', 'unequivocally', 'primaries', 'khodaldham', 'halftime', 'ect', 'terrier', 'cory', 'sportday', 'alexferguson', 'sawarkar', 'kaspa', 'abrams', 'mesmerize', 'plover', 'reference', 'thierryhenry', 'sharpen', 'pager', 'clarendon', 'collaboration', 'firstsportzwwe', 'andrerussell', 'wisdomfi', 'sixers', 'fatloss', 'dax', 'saitama', 'memories', 'fatratmafia', 'footballacademy', 'bain', 'moscow', 'boenig', 'pose', 'ballgame', 'healthdata', 'gundu', 'industry', 'inbuilt', 'blackingastro', 'menstruate', 'destiny', 'dairyindia', 'centrohistórico', 'yang', 'repository', 'metabolize', 'socialismo', 'sweetheart', 'watersecurity', 'ilpupdates', 'cricwick', 'skincareroutine', 'sugarfree', 'thcommittee', 'cny', 'apprentice', 'saindhava', 'iplfullwatch', 'ziyech', 'meshugaas', 'fijisports', 'compchem', 'cadbury', 'milwaukee', 'skarredghost', 'aqi', 'focking', 'asf', 'bylines', 'vitae', 'imoto', 'evecharlie', 'cottage', 'mnft', 'iiitb', 'explorers', 'localtvsport', 'sexuality', 'ittakesallofus', 'jameel', 'households', 'brass', 'stocktonontees', 'protester', 'hrc', 'punjab', 'interconnect', 'rc', 'rodney', 'translate', 'competent', 'airway', 'polcan', 'expansion', 'gaa', 'verbatim', 'destresser', 'metre', 'transdermal', 'serve', 'abnormalities', 'citinewsroom', 'aslo', 'arjeplog', 'goalkeeperlife', 'tend', 'serbian', 'ideologues', 'wine', 'kidd', 'maoist', 'metaverso', 'tony', 'chatbot', 'parag', 'fabrizio', 'ingrida', 'curate', '𝗞𝗮𝗻𝗲', 'lawful', 'supertall', 'pursuit', 'distribution', 'rationalism', 'kialla', 'neil', 'idpol', 'lessons', 'complaints', 'hypercar', 'njknights', 'mains', 'alcoholic', 'shoponline', 'menon', 'electronica', 'purify', 'cdc', 'itamaps', 'fanatikk', 'watrer', 'getter', 'zorya', 'forgive', 'indiegamedev', 'genesis', 'mommy', 'mba', 'dontjudgeme', 'dilatation', 'sed', 'creators', 'hrs', 'sheikhhasina', 'merchandisers', 'msdhoni', 'warehouse', 'influnencer', 'abstain', 'chief', 'spy', 'eriktenhag', 'tuhin', 'irving', 'veganrecipe', 'dominance', 'fowconference', 'delude', 'aivideo', 'tokens', 'selfdiscipline', 'presidentialbid', 'mine', 'bettingadvice', 'donnell', 'freshair', 'primebook', 'chsb', 'storiestoshare', 'aac', 'maple', 'saltor', 'cub', 'assessment', 'hapc', 'tzatziki', 'ashley', 'cutouts', 'belgiumtake', 'liechtenstein', 'dalits', 'lille', 'afloat', 'vers', 'ixllcbookings', 'sachiko', 'pup', 'luke', 'hindi', 'kerala', 'noextradition', 'humanism', 'rana', 'svp', 'atfarm', 'aaronrodgers', 'wildlings', 'glow', 'mascottes', 'randall', 'prochoice', 'powerful', 'strip', 'legislators', 'siliconvalley', 'rider', 'guidance', 'viralvideo', 'keckmedicine', 'hunawegamaza', 'techno', 'ableg', 'retropixel', 'gig', 'roar', 'bcfc', 'electricity', 'boristheliar', 'mahmood', 'nkemdiche', 'adolescent', 'singer', 'applicants', 'syrian', 'measure', 'ath', 'aieverywhere', 'allegation', 'ministry', 'salem', 'lobete', 'newsome', 'mongolia', 'nftmarketplace', 'julenlopetegui', 'hayler', 'immobility', 'dprinter', 'airpot', 'melanin', 'etgbs', 'humbl', 'cdnmediafailed', 'meyerburger', 'accomplishment', 'türkiye', 'finest', 'bgprize', 'placard', 'rebuke', 'ebook', 'employers', 'balthackeray', 'ranji', 'joma', 'buckley', 'sting', 'soul', 'promotion', 'throat', 'eleanor', 'gavi', 'chastity', 'ahimsa', 'odia', 'believe', 'months', 'bss', 'subreddit', 'adaptions', 'lakeside', 'honor', 'feds', 'battleground', 'kyei', 'tension', 'ovariancycle', 'digitech', 'genetictesting', 'atavirtualconf', 'fiinhrc', 'agra', 'intentions', '𝐀𝐍𝐒𝐖𝐄𝐑', 'thatbright', 'coachnesi', 'linkmetric', 'apropos', 'denses', 'eur', 'playful', 'daylight', 'luongo', 'zionist', 'reward', 'witness', 'singlemother', 'browser', 'swingball', 'ndgrade', 'clydebankfc', 'nuclear', 'colas', 'exponentia', 'boni', 'reshuffle', 'gawk', 'otoh', 'kamal', 'necropolis', 'lecturers', 'lighten', 'antimicrobial', 'costofliving', 'bombastic', 'fineart', 'craig', 'exemplar', 'agg', 'nasalvaccine', 'hannity', 'viagra', 'uti', 'damascus', 'wintersolstice', 'gurbaz', 'digitalsafety', 'vintagercb', 'shera', 'annnd', 'tector', 'classroom', 'chippers', 'ajitpawar', 'dada', 'firesidechat', 'celebs', 'force', 'pollutants', 'saunadiplomacy', 'agrimachinery', 'observability', 'lfaemcr', 'bananarepublic', 'boyi', 'classy', 'mexican', 'ldp', 'passengers', 'nana', 'brenden', 'militancy', 'bathrooms', 'undetectable', 'rus', 'nunes', 'shakib', 'political', 'hedge', 'mtng', 'ncd', 'ford', 'liow', 'camcorder', 'yum', 'opioidcrisis', 'fake', 'sunshine', 'slump', 'choosekindness', 'undead', 'chakan', 'electrolyte', 'greatest', 'orleans', 'dogelonmars', 'uap', 'deterioration', 'rosie', 'yearoftherabbit', 'tick', 'gang', 'mediafreedom', 'ruturajgaikwad', 'antiviral', 'email', 'quad', 'casehit', 'pwme', 'plunge', 'wisdomfiai', 'venky', 'xavihernandez', 'selective', 'religion', 'xfl', 'kithure', 'ron', 'privolnoye', 'mentorships', 'rude', 'betsydevos', 'robbie', 'logistics', 'retweeetplease', 'premier', 'rubbinminds', 'southasia', 'optionstrading', 'gymnasts', 'gibbs', 'iitdharwad', 'mdr', 'realitytv', 'triso', 'chisholmforpres', 'dayswild', 'bipartisan', 'jon', 'purposeful', 'bilişim', 'onmymind', 'realmadrid', 'austrailian', 'nutritional', 'choicers', 'go', 'conicet', 'dosage', 'indianews', 'mombasagirl', 'redistribution', 'ausnzrelations', 'shorten', 'harmanpreetkaur', 'comedyshow', 'rourou', 'spam', 'berryladies', 'charles', 'absorbers', 'prophet', 'cellulose', 'nft', 'petley', 'immunogenicity', 'bowlingleague', 'microtubules', 'peltier', 'ourcity', 'infighting', 'greenwitchtea', 'seem', 'unable', 'eabl', 'frequently', 'rt', 'mattgaetz', 'tigerwoods', 'carel', 'globaltekmd', 'reimagined', 'wave', 'ks', 'congress', 'offenses', 'alec', 'aicreativity', 'baseballlove', 'breakdowns', 'signatures', 'gujcost', 'lazy', 'factories', 'blackdollar', '𝗛𝗼𝘄', 'marylebone', 'shatkin', 'fetch', 'rbi', 'gmhpn', 'monarchy', 'happyeaster', 'alts', 'ca', 'watson', 'tas', 'katharina', 'matlabexpo', 'problems', 'artculture', 'jada', 'rainrunners', 'mcbrine', 'ibn', 'collate', 'chathura', 'amazonfind', 'frame', 'addu', 'hosp', 'biomedicine', 'sportsshoes', 'kingscross', 'caerulea', 'mandatory', 'wankhede', 'south', 'becky', 'lcsw', 'fiery', 'hippocratic', 'fiscal', 'gamer', 'luckycolors', 'odri', 'nevada', 'drsaravana', 'sidibari', 'devsecops', 'bauer', 'misbah', 'raspberrypi', 'jigneshmevani', 'mcgrath', 'genovation', 'badminton', 'operate', 'basically', 'watchmen', 'fb', 'quinten', 'additions', 'gujaratelection', 'marriagestrike', 'rebirth', 'chawla', 'ofwill', 'olabintan', 'innovatio', 'sadbhavna', 'tracheotomy', '𝗕𝗘𝗦𝗧', 'nigeriannews', 'maulana', 'prabhsimran', 'weightlosstips', 'sportcourt', 'austell', 'sarwatejazqadri', 'ankr', 'wyman', 'parrish', 'classics', 'conception', 'rivalries', 'panel', 'infarction', 'carjack', 'enhancements', 'fetchyourbody', 'shubmangill', 'aviation', 'chahal', 'shaheen', 'aaz', 'stud', 'con', 'endvawg', 'upto', 'quantities', 'appoint', 'slice', 'fastpolitics', 'tiny', 'shite', 'barnaby', 'grinders', 'mockdraft', 'crossroads', 'unsaturated', 'womenleaders', 'projections', 'sami', 'meadow', 'livelovelaugh', 'dropstudio', 'rugbymen', 'unprecedented', 'anfield', 'selfies', 'paniniauthentic', 'creations', 'harrybrook', 'nonfiction', 'fbcnews', 'oceanprotocol', 'pcgames', 'cadre', 'southee', 'hotyoga', 'regional', 'darkbrandon', 'ebike', 'housemaster', 'ఇట', 'pixeldust', 'cp', 'ssengooba', 'uncensored', 'heartbreak', 'armagh', 'possession', 'nadkarni', 'fisherman', 'richness', 'timelines', 'autonorms', 'eddiehowe', 'selfpv', 'originally', 'draadje', 'gameskraft', 'trackers', 'ugandans', 'easportsfc', 'instalike', 'conductive', 'tyde', 'resume', 'cymru', 'cingulate', 'furnituredesign', 'lasvegas', 'scope', 'satan', 'arellano', 'goreng', 'genomes', 'fabiocordella', 'onelife', 'scooter', 'aivisuals', 'teachertwitter', 'folhadesaopaulo', 'reliant', 'airdefense', 'darboe', 'bite', 'jones', 'wvpol', 'sammiches', 'twin', 'derogatory', 'fewdm', 'benz', 'lgm', 'bana', 'uneducated', 'matchrecap', 'renaissance', '𝐂𝐨𝐧𝐧𝐞𝐜𝐭𝐢𝐧𝐠', 'wsis', 'boylan', 'technnology', 'pakistansports', 'reinvent', 'gocart', 'durgapur', 'zelenov', '𝗥𝗘𝗦𝗨𝗟𝗧𝗦', 'karnataka', 'hardcover', 'emphasize', 'gawa', 'control', 'lifestyle', 'boundaries', 'preprint', 'action', 'skin', 'digitization', 'damage', 'starter', 'technological', 'tradeunions', 'ravensflock', 'saunf', 'anyone', 'wor', 'moran', 'denizlispor', 'gaga', 'eagleton', 'houlihan', 'veep', 'judith', 'porter', 'antenatal', 'penalty', 'aram', 'vuyyuru', 'chile', 'nyang', 'upskill', 'goalgetters', 'copaitalia', 'alexa', 'op', 'importation', 'willey', 'bharatjodo', 'chatsworth', 'myocardial', 'ifl', 'smt', 'closethegap', 'bama', 'ukrainian', 'hindu', 'rkvians', 'tongkat', 'kuria', 'uiuxdesigner', 'boro', 'qualitassport', 'colostomy', 'shivnaresh', 'computable', 'complexity', 'incur', 'dorris', 'vorskla', 'vidiac', 'imaceleb', 'ambani', 'smi', 'machinations', 'kudukalam', 'jagan', 'newhopes', 'consulate', 'hockeygame', 'inhuman', 'rram', 'avert', 'thrombectomy', 'saber', 'candy', 'supplant', 'andré', 'publicservice', 'masouras', 'grad', 'plasmonics', 'cardiometabolic', 'bhafc', 'carve', 'tgif', 'samajwadi', 'dietary', 'nato', 'electionday', 'globalsports', 'cork', 'drastically', 'inpics', 'emmerich', 'graz', 'vikings', 'girl', 'moisturize', 'socialist', 'refresh', 'conditioner', 'secrete', 'methalox', 'wantlists', 'techtrends', 'sore', 'bedtime', 'intelxeon', 'barky', 'avantgarde', 'intimidate', 'beloved', 'obligations', 'breed', 'thigh', 'extremly', 'suvenduadhikari', 'giftsforher', 'sir', 'villager', 'unmodified', 'oasisnetwork', 'happen', 'mitchelsabu', 'rm', 'ruicosta', 'small', 'idps', 'firmer', 'opine', 'expose', 'aazhi', 'multisectoral', 'sodium', 'downslide', 'techenabled', 'younger', 'nah', 'mutations', 'tweeter', 'owaisiingujarat', 'entrepreneurial', 'cornwall', 'ocsbats', 'mammo', 'srhvslsg', 'orthodox', 'bumiputera', 'lunaclassic', 'empoli', 'butler', 'avatars', 'absurdly', 'firsts', 'encourage', 'nanoplastics', 'goooooood', 'dem', 'graders', 'kevindebruyne', 'bissaka', 'nutters', 'moonshot', 'chocolates', 'ajay', 'tharoorline', 'ies', 'compulsivity', 'eve', 'topcity', 'like', 'domainer', 'metaversegym', 'mt', 'octane', 'akhilesh', 'introduction', 'miniatures', 'tillman', 'ammonia', 'yc', 'yuzvendrachahal', 'theobromine', 'forbetter', 'bazball', 'pasha', 'lust', 'denizkiziloz', 'sajalghosh', 'sehri', 'tory', 'youthpower', 'bridgedefi', 'pcos', 'synergies', 'chin', 'deprivation', 'mln', 'hillaryclinton', 'cmonthetown', 'usas', 'pennsportslive', 'allsolidtumors', 'pvc', 'capitalmarkets', 'honey', 'kinesin', 'allyn', 'ungovernable', 'comparative', 'injure', 'entryism', 'manch', 'sportspodcast', 'israelicrimes', 'crunchy', 'attendants', 'pressurize', 'populate', 'je', 'paolo', 'devt', 'pia', 'batley', 'biokey', 'optimally', 'hinterlands', 'belmarsh', 'waggle', 'polkadotinsider', 'postcolonial', 'meatlessmonday', 'portability', 'filthy', 'spoilsport', 'pandemia', 'cortege', 'gtsophy', 'execs', 'righteousness', 'dimaria', 'keyrings', 'matthancock', 'matchedbetting', 'dil', 'melbournegp', 'dns', 'rico', 'centralize', 'viraltweets', 'asymmetric', 'bateman', 'localnews', 'oleifera', 'brendan', 'prevention', 'annihilation', 'overwhelmingly', 'luriepedsneuro', 'comet', 'satiate', 'transversal', 'beset', 'iroh', 'keypad', 'patis', 'substance', 'groove', 'digit', 'trainee', 'savor', 'icewalking', 'footballs', 'andreajenkyns', 'eminent', 'nascent', 'rcbvkkr', 'gameon', 'aprokodoctor', 'parc', 'regurgitate', 'carnell', 'morelife', 'ishikawa', 'primitive', 'noshame', 'nasinu', 'che', 'hcd', 'airport', 'urself', 'eng', 'famine', 'rulers', 'junior', 'pollies', 'tarrasque', 'bestplayer', 'nomorepain', 'laughingcity', 'shersquad', 'ngos', 'nervous', 'neoliberalism', 'trumpsupporters', 'rtept', 'longcovidkids', 'angeline', 'brecon', 'beaver', 'maternityleave', 'vanninphotos', 'level', 'iga', 'equalsintech', 'ssn', 'jossbuttler', 'disgust', 'griffin', 'dull', 'cougars', 'ata', 'takashi', 'kirenrijiju', 'soniamma', 'juegosdemesa', 'tinfoil', 'kyotosangafc', 'astroturf', 'shew', 'psde', 'inappropriate', 'quintondekock', 'writers', 'worthy', 'unke', 'tram', 'putin', 'rapidly', 'usmayorsdc', 'hb', 'eu', 'día', 'brom', 'कबध', 'destruction', 'bestemm', 'kettlebell', 'preparation', 'foolish', 'strengthen', 'worthwhile', 'sdrc', 'curious', 'vatican', 'euparliament', 'abusive', 'sincerity', 'people', 'untreated', 'selamat', 'extinct', 'ithighlights', 'linear', 'fanart', 'elearning', 'html', 'nationwide', 'hysterical', 'gum', 'atlfalcons', 'moulana', 'multiplications', 'obi', 'carmakers', 'sportsapp', 'vetowned', 'keyworkers', 'oralhealth', 'propose', 'nathan', 'aaj', 'bearcats', 'overjoy', 'securethetribe', 'marketplace', 'ghanaian', 'crowd', 'steedz', 'merci', 'barilaro', 'czechia', 'efa', 'bestseller', 'morne', 'springer', 'jewel', 'bigthings', 'audiences', 'altright', 'ivermectin', 'horth', 'bannonswarroom', 'blunder', 'icb', 'tweetchat', 'ncfc', 'dprinting', 'hingham', 'spacelab', 'बच', 'retrofit', 'amazon', 'binanceelon', 'honecker', 'tukonews', 'platforms', 'inmate', 'nouwen', 'decatur', 'pergamon', 'hyperengine', 'mcdavid', 'dumbed', 'unbossed', 'dmitriy', 'cate', 'neem', 'abolition', 'chdgroup', 'marwari', 'brilliantly', 'laborgovt', 'cctvs', 'graduate', 'leon', 'nftproject', 'markers', 'cinematography', 'carcinogenic', 'calculative', 'interference', 'alignment', 'capitalcity', 'thrivetogether', 'degrowth', 'françois', 'patch', 'roskilde', 'bb', 'markwoodward', 'infrared', 'hatecrime', 'stephenkamos', 'gst', 'kaggwa', 'pada', 'devotee', 'strictly', 'hours', 'clip', 'stale', 'inequalities', 'militarist', 'herbalifecoach', 'mindblowing', 'mass', 'hoard', 'transatlantic', 'classico', 'conduct', 'cruciferous', 'artificialgrass', 'anxiety', 'bigdata', 'hblkahero', 'covidisairborne', 'shift', 'assamese', 'jenner', 'cmc', 'plata', 'michaeljordan', 'ralmadrid', 'activate', 'paulpelosi', 'rust', 'ike', 'mani', 'lcfc', 'respiration', 'extent', 'ort', 'lincoln', 'swt', '𝗜𝗺𝗽𝗼𝗿𝘁𝗮𝗻𝘁', 'migrantsday', 'canpoli', 'fairbrother', 'mitral', 'luisekoch', 'crypto', 'litigation', 'smell', 'punch', 'wpl', 'bight', 'adhd', 'blackflags', 'instated', 'foxconn', 'similar', 'registration', 'wiltshire', 'underwrite', 'musicindustry', 'mustknow', 'ghee', 'sober', 'fitter', 'smb', 'blog', 'keanin', 'relay', 'heidenheim', 'saturate', 'squash', 'yearending', 'isolation', 'jo', 'freeassange', 'selfcare', 'escalate', 'hole', 'sappada', 'sweeter', 'whoop', 'gate', 'mormonthought', 'disobedience', 'cong', 'lifex', 'violation', 'anuar', 'workoutgirl', 'hurray', 'output', 'mumbainews', 'viralnews', 'defundthefbi', 'roman', 'livgolf', 'matilda', 'congestion', 'xijinping', 'fade', 'maschinenbau', 'miseries', 'retrofutbol', 'sensitivity', '𝐓𝐇𝐈𝐍𝐊', 'speedy', 'polygon', 'spectacular', 'fraction', 'attraction', 'half', 'easiest', 'chairwoman', 'nbc', 'stupidity', 'tuesdaytreasure', 'sincere', 'embarrass', 'identical', 'breathe', 'dbt', 'fitbabes', 'baarish', 'bajra', 'lactate', 'lrc', 'logan', 'assemblyman', 'fitlife', 'tania', 'tuck', 'hervé', 'wef', 'discussions', 'burglary', 'proofi', 'surrender', 'organoid', 'disneyland', 'bbcradiolondon', 'weight', 'detail', 'hitmc', 'cancerfree', 'swamymandali', 'tories', 'anticipate', 'interwar', 'brew', 'intermediate', 'revisit', 'arcai', 'millionaires', 'tbthursday', 'mekong', 'platformization', 'aavade', 'gain', 'gari', 'citizenship', 'contend', 'rocha', 'deskflex', 'atlético', 'healthequity', 'lowland', 'php', 'bungalow', 'fr', 'cccugraduation', 'desalinate', 'workshops', 'mva', 'sustainable', 'athleticism', 'annarbor', 'kwara', 'frenchpresident', 'igathe', 'voicematters', 'bhuj', 'injustice', 'woxsen', 'ashlibabbitt', 'dod', 'onet', 'smallpox', 'kamara', 'cafc', 'nflnews', 'techdata', 'gurugram', 'antibiotics', 'khel', 'contributions', 'commerce', 'nervy', 'leaguecuefa', 'vouchers', 'hydrogen', 'mohiuddin', 'deepmind', 'savagely', 'condiments', 'diverse', 'resurgence', 'prostheses', 'directive', 'andolan', 'fawell', 'eritrea', 'baad', 'nawe', 'area', 'thr', 'monarch', 'theses', 'sébastien', 'redinkawards', 'dot', 'rookie', 'iplatbons', 'intermittent', 'wagestagnation', 'fm', 'narbal', 'cosendem', 'umbrellas', 'ba', 'kaviya', 'cv', 'madampresident', 'ucl', 'expense', 'ukhumour', 'unifiemember', 'innovators', 'dailyhabits', 'intelligence', 'savelives', 'delhimetro', 'spicy', 'fascination', 'demvoice', 'afcfta', 'attn', 'heinz', 'morbigujarat', 'shoutout', 'discord', 'rebellious', 'omelet', 'virginia', 'krunal', 'dollars', 'socialsupport', 'yqg', 'pantnagar', 'labyrinthus', 'privatization', 'relevant', 'chilwell', 'inhalation', 'difficulty', 'lacs', 'inaction', 'datafied', 'nevefr', 'wheelchairs', 'takehumanaction', 'smartdefi', 'johnsonout', 'smallcaps', 'digamberkamat', 'emu', 'uuu', 'octopus', 'lerner', 'cuties', 'distinctive', 'kapitein', 'bengals', 'cdnhealth', 'showbiz', 'electiontwitter', 'jaihind', 'gtechnology', 'nanazhang', 'tuftsnutrition', 'bettingsports', 'susceptible', 'fcbluestars', 'dizzy', 'bansidhar', 'ncds', 'vandoorne', 'alleviate', 'nutiriton', 'farmlife', 'adjudicatory', 'leave', 'dvision', 'manifestations', 'hardship', 'arm', 'obidient', 'thetexan', 'nftshill', 'hungary', 'hrt', 'waft', 'preach', 'lutyens', 'tecnhology', 'nicki', 'africanunion', 'roi', 'biter', 'healtheducatio', 'associative', 'greenkeeping', 'wye', 'lgbtguy', 'echr', 'even', 'diesel', 'honorable', 'rocky', 'nissen', 'emilio', 'latitude', 'ecr', 'speculations', 'sis', 'burkett', 'eucancerplan', 'bjp', 'stint', 'curriculums', 'devlin', 'ancgp', 'fitnessgoals', 'af', 'asiacup', 'chara', 'swinney', 'futsalmaldives', 'lsu', 'wuc', 'toryshambles', 'chargedarena', 'debrett', 'pushback', 'yuzichahal', 'progress', 'dcc', 'bale', 'lr', 'poetrycommunity', 'swing', 'incorrectly', 'twente', 'dli', 'thethickofit', 'hapeville', 'prajaporu', '𝐸𝒶𝓈𝓉𝑒𝓇', 'sigle', 'microscopy', 'anilkumble', 'dirtyplayers', 'temples', 'triton', 'themelf', 'masvidal', 'spinner', 'brasília', 'brian', 'erdogan', 'cricketmatch', 'geocore', 'invertebrates', 'container', 'murderer', 'theresamay', 'industrially', 'barsa', 'xs', 'reproduce', 'wapo', 'behave', 'muecke', 'gsm', 'ameen', 'ukgov', 'incoming', 'insoluble', 'middleton', 'endausterity', 'iba', 'nerve', 'overweight', 'favour', 'monteiro', 'parliamentary', 'sleeve', 'float', 'cfl', 'religiousfraud', 'breast', 'med', 'leg', 'wonderfully', 'waterways', 'key', 'neville', 'ravishastri', 'mexicanpride', 'outright', 'menmentalhealth', 'pralhad', 'bhediya', 'gainz', 'tg', 'hon', 'pacificstudies', 'businessgoals', 'freedoms', 'lightweight', 'visceral', 'nascar', 'olds', 'mhw', 'handicap', 'rugbyplayer', 'uaup', 'physical', 'gehl', 'friends', 'sippin', 'nygiants', 'hicommunity', 'finish', 'actors', 'donbradman', 'samd', 'uxdesign', 'unsafe', 'tarot', 'greenbay', 'peroxidation', 'brith', 'aficionados', 'paulwaring', 'elijahcummings', 'classifier', 'ragimalt', 'teambuilding', 'ww', 'poole', 'scale', 'newsalert', 'finups', 'tabletennis', 'coffees', 'oxford', 'therapydog', 'sugary', 'globalhealth', 'dancer', 'assignment', 'oan', 'shirleychisholm', 'sundpol', 'thumb', 'genx', 'malemodele', 'bikinimodel', 'crores', 'holyrood', 'nobeldreams', 'onpo', 'tobacco', 'fastfood', 'hmlj', 'fourth', 'sundaymorning', 'celtic', 'osteophytes', 'satyendar', 'secpol', 'inculcate', 'loadmanagement', 'spacetech', 'inr', 'vechainhasnfts', 'footage', 'hoover', 'loadedlions', 'consecutive', 'chrysanthemums', 'situations', 'sampath', 'nbanews', 'keepthemactive', 'integration', 'notjustcrime', 'kineticbass', 'posit', 'localtv', 'rooibos', 'infographics', 'interlock', 'pbts', 'cvpr', 'necessity', 'campusfront', 'runningman', 'patton', 'san', 'lekan', 'hamlin', 'gpu', 'creativesociety', 'cryptotwitter', 'preset', 'list', 'mozzartbetng', 'finals', 'pmmodimother', 'tfa', 'southerncooking', 'doors', 'gujrat', 'willpower', 'unbought', 'beckon', 'jim', 'gdpr', 'sarina', 'bicasso', 'gleefully', 'shaw', 'stylegan', 'leafsforever', 'pan', 'tribes', 'celtavigo', 'pufa', 'self', 'emissions', 'leaf', 'lacrosse', 'nicely', 'majority', 'secretariat', 'fc', 'stuart', 'reddevils', 'lycopene', 'batterymetals', 'bsnl', 'muse', 'sacred', 'syllabi', 'spotlight', 'govtech', 'wealdstone', 'analogy', '𝑻𝑾𝑶', 'gcpl', 'rabi', 'familyskills', 'cryptoassets', 'flashbackfriday', 'hongkong', 'nadi', 'chyawanprash', 'violate', 'monkey', 'generators', 'eilish', 'monster', 'decolonisation', 'spiritoftomball', 'aihardware', 'icphia', 'criminally', 'lpwan', 'infection', 'brillant', 'modems', 'pillow', 'communist', 'nytimes', 'cuchi', 'pbr', 'accusation', 'ideas', 'billsmafia', 'payaid', 'calculators', 'broadband', 'bifocals', 'britishpolitics', 'stenny', 'miguna', 'sooc', 'withdraw', 'nikhil', 'lovefootball', 'bari', 'round', 'anorexia', 'mansour', 'mcdpoll', 'kalinda', 'patiently', 'intersections', 'branch', 'shree', 'jenkyns', 'button', 'materialsnews', 'liztrusspm', 'supplementary', 'showcase', 'chase', 'jj', 'goodbytz', 'disasters', 'merseyside', 'arif', '𝖥𝖮𝖮𝖳𝖡𝖠𝖫𝖫', 'weekendsports', 'nanny', 'systemchange', 'twirl', 'expeditors', 'gooaall', 'benshapiro', 'advisory', 'satsport', 'shame', 'chargers', 'also', 'abandon', 'watery', 'relics', 'grate', 'rejection', 'theorize', 'spotifypodcast', 'headache', 'nanoscale', 'glimpse', 'toryleadership', 'fortifi', 'subtle', 'compendium', 'nikol', 'underfunding', 'delphi', 'hockeyislife', 'weddings', 'comptroller', 'santos', 'salad', 'customerservice', 'dontbackdown', 'stunt', 'dragqueen', 'harryreid', 'intelpartner', 'darmstadt', 'bap', 'mindofthematter', 'wahab', 'antalyaspor', 'cheliv', 'wallstreet', 'orin', 'nwo', 'diaphragm', 'सम', 'xmrvs', 'zombies', 'delay', 'atu', 'nanoavionics', 'marshall', 'anglo', 'michaelgove', 'logo', 'wisewords', 'beatrix', 'pedaction', 'impunity', 'ramadankareem', 'devastate', 'generativeai', 'shivrajpatil', 'cooker', 'drishtiias', 'sporar', 'muraleedharan', 'blackvote', 'xaveworld', 'footy', 'njigba', 'missouri', 'advisable', 'mitx', 'kingofscots', 'thinktanks', 'excel', 'asports', 'calculate', 'smp', 'nicest', 'dominion', 'location', 'rio', 'fomo', 'langoustines', 'itch', 'prophecy', 'tpi', 'accession', 'prisoner', 'squads', 'rangatahi', 'crap', 'euhpp', 'banquethall', 'nandodkar', 'noticias', 'ichoose', 'consciousplanet', 'clippers', 'hamiltonvotes', 'isabel', 'fridaythe', 'recap', 'precede', 'palace', 'thst', 'lizzylettuce', 'explore', 'punish', 'curie', 'lsutigers', 'jeremycorbyn', 'metfora', 'startuplife', 'patrice', 'comingsoon', 'refresher', 'tni', 'malign', 'datasets', 'arjunkapoor', 'mulchandani', 'himanta', 'typewriter', 'moorecounty', 'entrench', 'upa', 'wizkid', 'interface', 'fitindia', 'jagannath', 'mayoroflondon', 'tetley', 'catfish', 'ahmadzai', 'colorism', 'felony', 'noah', 'caicedo', 'skytoken', 'splurge', 'accidentally', 'president', 'intellectuals', 'unidentified', 'snetv', 'climate', 'google', 'shvpk', 'medicinal', 'knockout', 'coproduced', 'lunchtimeread', 'nationalise', 'gravitas', 'haikuchallenge', 'bacterium', 'marian', 'sef', 'spit', 'equivocatio', 'icwaissuebrief', 'promise', 'armers', 'vitamina', 'anxious', 'hartman', 'prostheticleg', 'bricks', 'pongal', 'raut', 'lovenduski', 'swag', 'mentalhealth', 'suburban', 'pitchcare', 'vista', 'merritt', 'antanddec', 'merdeka', 'uiuxdesign', 'hyper', 'hunterhack', 'dayal', 'runit', 'medellín', 'agenda', 'edgeai', 'viratvssrk', 'pegasus', 'inzaghi', 'boxbreaks', 'bailey', 'sekyo', 'forest', 'everybody', 'wahabriaz', 'medieval', 'sundarbans', 'alarm', 'theageofstupid', 'polarity', 'dha', 'hog', 'dist', 'charade', 'exellent', 'flawless', 'brazilians', 'zealanders', 'igscoresports', 'mindreading', 'collectibles', 'metoo', 'chartoftheweek', 'kerr', 'himss', 'emergency', 'canartheal', 'liam', 'mrna', 'tegisto', 'brock', 'leicester', 'islam', 'csc', 'mitigation', 'sage', 'cfli', 'rotations', 'dalle', 'perryman', 'acethegame', 'yegrealestate', 'oic', 'legalhistory', 'sepak', 'smokingkills', 'playeroftheweek', 'lakeba', 'chatline', 'footballhelmet', 'studio', 'defensiveline', 'vp', 'haidut', 'doomsday', 'science', 'task', 'outfielddrills', 'afridi', 'kart', 'highschool', 'netizens', 'lqd', 'biomaterials', 'statistics', 'rosereport', 'esleyther', 'li', 'kanye', 'custody', 'din', 'technologyweb', 'anonymity', 'george', 'shaheed', 'memelordz', 'las', 'sternum', 'aiethics', 'choubey', 'volcanomagic', 'avant', 'chhattisgarh', 'tone', 'speeches', 'rizzaislam', 'missionviejo', 'bhuvi', 'chewingthefat', 'almost', 'fink', 'geauxtigers', 'orlando', 'sofyan', 'dish', 'ganeshvisarjan', 'onpassiveblog', 'himalaya', 'av', 'cheesecake', 'autograph', 'biggboss', 'jetracer', 'availability', 'nomore', 'otherathletes', 'recommendations', 'psilocybin', 'rectitude', 'farm', 'suffocate', 'lava', 'ontime', 'lockscreen', 'cityha', 'metainpakistan', 'londontheatre', 'tridoshas', 'hs', 'motorcycletech', 'biginterview', 'vomit', 'giant', 'coimbatoreblast', 'baroness', 'vejle', 'instafit', 'lgbq', 'jawalakhel', 'doshas', 'spacey', 'vid', 'kavuni', 'tweeties', 'ecprjs', 'humble', 'welovebuild', 'ardent', 'islamic', 'footballcoach', 'bellylaughday', 'setback', 'antimajority', 'posers', 'strepa', 'waterwheel', 'oculusquest', 'llmchatbots', 'jalebi', 'rishabh', 'rsvp', 'quasi', 'sale', 'sportsplayer', 'virtualmeetings', 'olive', 'sanjay', 'womenengineer', 'legal', 'kapoor', 'raisinadialogue', 'gadget', 'cortisol', 'sonya', 'karn', 'cybertruck', 'egypt', 'roy', 'regulation', 'aasciences', 'inconceivable', 'citizensmith', 'brettlee', 'hanson', 'tiv', 'kill', 'gymbros', 'regimes', 'sodelpa', 'advokatfirman', 'xrd', 'aviationlovers', 'fcsouth', 'obiphilic', 'trc', 'correct', 'palestino', 'samoa', 'wgnelection', 'dogbe', 'urban', 'ly', 'livinglabs', 'oat', 'absorb', 'expectstions', 'rizwan', 'pedestal', 'metropolitan', 'precision', 'coppaitalia', 'panini', 'sporeslaunchpad', 'nicholas', 'wanda', 'affection', 'pacify', 'zzssports', 'intensive', 'batsman', 'heel', 'angeles', 'sethi', 'globally', 'selfkey', 'enlarge', 'johan', 'bowler', 'deathvalley', 'taiwancanhelp', 'tihar', 'dealoftheday', 'ellison', 'civicengagement', 'animalhealth', 'opensea', 'qualities', 'middleeast', 'footballleague', 'capefearcourage', 'bangar', 'wholly', 'lago', 'stlnews', 'thakur', 'morningnews', 'pascale', 'dprint', 'kinds', 'rehabilitate', 'waterfalls', 'teleoperating', 'emmh', 'brief', 'trendingnow', 'oops', 'floodgates', 'extinction', 'occasionally', 'bio', 'fitlab', 'karisimi', 'fer', 'distractions', 'mausmusings', 'transfernews', 'iyc', 'draymond', 'braver', 'bigbang', 'sportbetting', 'advantage', 'tooth', 'expand', 'impossibility', 'acid', 'didi', 'aaya', 'speechtherapy', 'fux', 'wicketz', 'elderberry', 'medals', 'ecig', 'smalltowns', 'dinner', 'hadjam', 'endthestigma', 'latinosintech', 'sg', 'flash', 'lookout', 'reproach', 'lory', 'presume', 'ramparts', 'dsfrance', 'testis', 'sukhbir', 'jou', 'kilukumi', 'bod', 'role', 'bettingonline', 'mandeep', 'universidad', 'qanon', 'luc', 'bake', 'herewestminster', 'therapeuticfarm', 'techwar', 'stephena', 'domestic', 'normal', 'prey', 'vegetarian', 'sd', 'sciencenews', 'mucus', 'trnsx', 'allowance', 'culinary', 'givingback', 'homeland', 'testosterone', 'enviormentalist', 'woodkirk', 'vue', 'phntx', 'beg', 'flyyyyyy', 'ballers', 'pharma', 'buckle', 'flow', 'recce', 'beyond', 'seasicksteve', 'nfai', 'businesslive', 'concert', 'digitalcurrency', 'cheeky', 'occasional', 'astonvilla', 'unavoidable', 'nftgames', 'pound', 'informa', 'babz', 'flu', 'defination', 'openmetaverse', 'pfizerfiles', 'analytic', 'mayers', 'orwellian', 'legalize', 'utsa', 'primeira', 'western', 'wrexham', 'adeloye', 'accesstotherapy', 'biharpolitcs', 'evgeniou', 'ethereum', 'map', 'season', 'maduro', 'folic', 'realme', 'rushhour', 'textbook', 'onlyfans', 'whichever', 'members', 'wii', 'kumala', 'recklessly', 'zkgpt', 'singsong', 'diff', 'adequate', 'jobalert', 'luxury', 'aisles', 'law', 'papules', 'technologynews', 'nftartist', 'gon', 'ketoacidosis', 'insulation', 'est', 'harriet', 'binny', 'impt', 'probiotics', 'morbibridge', 'tn', 'sco', 'jkpsi', 'ultimately', 'fentanyl', 'stoalecture', 'marsexploration', 'htr', 'goingpro', 'politicalcomedy', 'festiveseason', 'shardulthakur', 'mdvd', 'saccomanno', 'freeland', 'amc', 'adminstration', 'dissertation代写', 'pakista', 'exactly', 'bigben', 'samadhi', 'kaif', 'biz', 'lorient', 'radionow', 'kaburagi', 'troop', 'finale', 'teknoloji', 'rarible', 'huberman', 'mobiledefence', 'guardian', 'thisengland', 'lavote', 'photoshoot', 'norwalk', 'membership', 'bark', 'rsg', 'cell', 'bitcoinprice', 'pulmonology', 'hrtech', 'mcdaniels', 'admk', 'endorse', 'daddy', 'sensory', 'rauf', 'survival', 'paulina', 'tutorials', 'diego', 'griffey', 'buffalo', 'entertainers', 'sansad', 'liverymen', 'martorell', 'lackeys', 'maternity', 'gcare', 'qouting', 'skip', 'vidyapeeth', 'risky', 'counterweight', 'ioc', 'cropspraying', 'ethics', 'bribery', 'centrally', 'goodies', 'comps', 'ugh', 'tiger', 'mikovits', 'unprecedently', 'anglersunited', 'councillor', 'subfield', 'slayer', 'belgian', 'campusflix', 'bonnyrigg', 'merely', 'runningform', 'distortion', 'paramount', 'dall', 'rpl', 'customise', 'tradingcards', 'kmk', 'anthropologists', 'woww', 'visceralfat', 'aa', 'rumi', 'pc', 'edchatie', 'dumbbells', 'nutritio', 'gridlock', 'livebet', 'subsidize', 'zardari', 'disapprove', 'pl', 'plums', 'pompous', 'mujibur', 'otd', 'curtis', 'speaker', 'namitexas', 'dlt', 'mikepence', 'thinner', 'complementary', 'editorschoice', 'tyw', 'umranmalik', 'epl', 'stevejobs', 'abdomen', 'namkeen', 'iplmatchday', 'polkabridge', 'biofootprints', 'munawarfaruqui', 'paragraph', 'remotejob', 'naturally', 'davidwarner', 'reps', 'madhyapradesh', 'zed', 'onsite', 'luckynumbers', 'transformation', 'bowen', 'medicalresearch', 'scammers', 'unclassified', 'aigc', 'non', 'pandits', 'harrykane', 'grandparents', 'branddesign', 'adeptus', 'thierry', 'aimim', 'rajdeep', 'concern', 'mandazi', 'technology', 'politically', 'cofinas', 'ams', 'french', 'dejan', 'japanesestudies', 'ripple', 'stinelarsen', 'londonmayor', 'telemundo', 'chalta', 'thérèsecoffey', 'flocktogether', 'swim', 'rcvd', 'applepodcast', 'reverence', 'futurepolls', 'pancreatic', 'cue', 'akshay', 'etsy', 'polx', 'bowser', 'fortaleza', 'chplay', 'frampton', 'injury', 'tpp', 'lohmann', 'trump', 'thelancet', 'infotech', 'mayorswife', 'voice', 'syed', 'gallop', 'ruff', 'winners', 'nationalism', 'pupil', 'protocols', 'aristotle', 'visualisation', 'gavaskar', 'finalcall', 'chronicfatigue', 'paraathlete', 'ramaphosa', 'gamebreaker', 'norm', 'emotional', 'allegri', 'itv', 'ichaweri', 'unofficial', 'emerson', 'richrollpodcast', 'tradetechai', 'sino', 'venture', 'tightropes', 'maryam', 'cricketworldcup', 'goanews', 'apex', 'hall', 'angelo', 'grail', 'glioblastoma', 'progressive', 'darkest', 'agricutlture', 'trash', 'saynomore', 'grams', 'bidda', 'veda', 'quantify', 'finegael', 'sauerkraut', 'arkansas', 'buildingsoflo', 'sei', 'lungs', 'wikimedians', 'pierre', 'wakefield', 'ultrasonic', 'foodlover', 'ramjanambhoomi', 'superannuation', 'wanhiveimpacts', 'getmoovin', 'hurtful', 'judah', 'scoresports', 'validators', 'realalternative', 'election', 'particularly', 'hbl', 'smartered', 'soccergame', 'uninterrupted', 'uni', 'ucpleader', 'dioxide', 'benficaporto', 'jesus', 'affluent', 'stadio', 'cranberry', 'afribet', 'gespräch', 'rubbish', 'hysteria', 'sidslife', 'paper', 'deg', 'balram', 'hittingdrills', 'wimbledon', 'toon', 'thaw', 'replacements', 'joemyheck', 'bhimshakti', 'pumpkin', 'menorah', 'smallest', 'mediapipe', 'thewatercooler', 'blackleaders', 'khachariyawas', 'occupiers', 'malik', 'readselective', 'lukewarm', 'weekday', 'ego', 'fintech', 'oversight', 'democracy', 'canon', 'soapopera', 'gforeveryone', 'netflix', 'energies', 'brady', 'contestants', 'property', 'purple', 'workfromhome', 'dronfield', 'currie', 'ji', 'bipolardisorder', 'reupgraded', 'alarmingly', 'herbalmedicine', 'bounce', 'cringleford', 'perrottet', 'immoral', 'khera', 'parallel', 'capital', 'queue', 'wichet', 'petainft', 'victory', 'winterwatch', 'temperature', 'mangalore', 'timseifert', 'countdown', 'simpler', 'voltage', 'arunsinghdhumal', 'sophisticate', 'raded', 'initiatives', 'harrasment', 'bsw', 'truckers', 'microscope', 'epigenomics', 'peck', 'messier', 'ought', 'willy', 'bayerleverkusen', 'remund', 'uncontrollable', 'interviwer', 'underrate', 'observation', 'localize', 'numerology', 'hour', 'contrast', 'newsflash', 'supplychain', 'reeve', 'wait', 'pelt', 'qub', 'alkalies', 'pessimism', 'phosphoric', 'receive', 'linz', 'naqvi', 'beliefs', 'indopacific', 'gamesworkshop', 'justdoit', 'wordpuzzle', 'midfield', 'car', 'harris', 'kanhaiya', 'theresa', 'iighting', 'sociopathic', 'invest', 'geniuses', 'blizzard', 'manifestation', 'firewall', 'bci', 'beincrypto', 'warbler', 'communicate', 'maersk', 'litres', 'manzoor', 'freo', 'sharts', 'funrun', 'secrecy', 'showcasing', 'puerto', 'topfootball', '𝒊𝒔', 'bagai', 'virtual', 'humies', 'wagmi', 'nflfreeagency', 'usajobs', 'completeguide', 'sika', 'learn', 'parlay', 'relationshiip', 'kraken', 'peptide', 'lidar', 'fanatic', 'co₂', 'roevember', 'ipl', 'environmentally', 'thorough', 'festive', 'wangdu', 'wastepickers', 'revanthreddy', 'southoc', 'animallovers', 'truemedicine', 'imacelebrity', 'virender', 'microtubule', 'identities', 'knot', 'ceremonial', 'webster', 'eugenielesommer', 'goattraining', 'bean', 'onev', 'clauses', 'ndp', 'supplier', 'diablos', 'weareeca', 'jungkook', 'iwd', 'conveyor', 'brick', 'servant', 'analogue', 'ladakh', 'smith', 'cpr', 'ffs', 'zaghari', 'satanist', 'psv', '𝐌𝐚𝐤𝐤𝐚𝐥𝐞𝐲', 'coingabbar', 'birdart', 'avgeek', 'vefam', 'indoornets', 'bandits', 'wbbl', 'permanente', 'ghatak', 'resignation', 'nicola', 'scrabble', 'laika', 'bliss', 'powerplay', 'busisiwe', 'saastechnology', 'footballvideos', 'saltboxbar', 'fewer', 'ga', 'proudly', 'duncan', 'tirath', 'stroke', 'vice', 'koome', 'irs', 'icus', 'cvb', 'sfx', 'rishi', 'heinous', 'unfunny', 'seldom', 'concepts', 'pal', 'githinji', 'basestations', 'evmobility', 'todd', 'ssh', 'clash', 'dialogs', 'overhead', 'raju', 'deserve', 'sonam', 'meijer', 'jacksmith', 'noisepollution', 'politicstoday', 'hema', 'indianmuslim', 'lil', 'swri', 'pesquisa', 'crossquestion', 'hitman', 'slight', 'pedophiles', 'nathanyel', 'lachin', 'rodri', 'longreads', 'walensky', 'rnc', 'epilepsia', 'katharine', 'whoyouthcouncil', 'assemblyhousing', 'dehydrate', 'goalkeepersaves', 'blrschools', 'adagrasib', 'elephants', 'serieatim', 'aquarius', 'bharatjodoyatra', 'washim', 'fatou', 'anrealage', 'desertification', 'guise', 'complicity', 'vaccineinjuries', 'autos', 'newindia', 'pcast', 'kiya', 'nff', 'encompass', 'kinetix', 'realtv', 'murder', 'montpellier', 'employer', 'thirsty', 'mprotocol', 'transfusion', 'adamant', 'puzzle', 'hbo', 'wta', 'toronto', 'iai', 'girlchild', 'mediasector', 'alpp', 'deceptions', 'kaftrio', 'dallaspolitics', 'match', 'reparationsnow', 'correspondence', 'pharmacological', 'kuenssberg', 'octocrylene', 'ነው', 'glycoprotein', 'swedish', 'lhc', 'panchayat', 'autoimmune', 'tolerant', 'manoj', 'principal', 'retwett', 'jerome', 'barbados', 'obv', 'quote', 'bloodwork', 'attwitter', 'nazareth', 'discard', 'bowlinglife', 'scottie', 'stab', 'sql', 'dazzle', 'intotheverse', 'sanjusamson', 'plat', 'sole', 'itsgoodtota', 'nowai', 'measurements', 'leakygut', 'pneumatic', 'myant', 'paloceras', 'donor', 'nimsaites', 'interactions', 'awaydays', 'memristors', 'nasional', 'rna', 'sportsgames', 'online', 'stein', 'uspolitics', 'wesanderson', 'azerbaijan', 'haroon', 'morrocco', 'bregromm', 'pinch', 'rehmatullah', 'clubroom', 'critic', 'saudileague', 'parenthood', 'corgidog', 'goodreads', 'chienlit', 'kom', 'former', 'evils', 'excerpt', 'detect', 'cancel', 'tavistock', 'qotd', 'rajesh', 'learncpr', 'camaraderie', 'citizns', 'slack', 'fakenham', 'cristal', 'harmreductions', 'dejection', 'ppp', 'trussout', 'footwork', 'birthdaycake', 'besiktas', 'elbp', 'brendanrodgers', 'cary', 'bariatric', 'footballcards', 'collageart', 'terrapro', 'stoptheviolence', 'iridescence', 'edit', 'speedkills', 'mercilessly', 'marsyandgi', 'ptivspdm', 'youtube', 'insanitation', 'robosoft', 'sahib', 'flavonoids', 'airevolution', 'participate', 'ఇద', 'lws', 'sleeves', 'youthagency', 'guests', 'freiburg', 'wales', 'fcschalke', 'musicfestival', 'journalist', 'riddle', 'hospital', 'hoe', 'splendid', 'higher', 'asifalizardari', 'rajpath', 'robertdavi', 'ny', 'tensions', 'helpingkids', 'quoteoftheday', 'brainaging', 'skinny', 'majorly', 'military', 'warriors', 'technomics', 'gbnews', 'reversal', 'lemon', 'competitive', 'amharagenocide', 'pgi', 'skill', 'belarus', 'megadonor', 'grassley', 'zazzlemade', 'freshwater', 'stewart', 'editorial', 'warnockdelivers', 'vinci', 'dude', 'fcuked', 'sensations', 'wdata', 'dilip', 'detailsdeadline', 'borrow', 'patkar', 'underwater', 'exoatmospheric', 'amravatinews', 'merge', 'nawao', 'regle', 'seaview', 'tenfold', 'middleeat', 'isocaloric', 'sundriyal', 'cucumber', 'rage', 'evil', 'sap', 'astro', 'bellingham', 'helpinghand', 'captive', 'photovoltaic', 'offset', 'justforlaughs', 'acknowledge', 'pao', 'ipfimmune', 'ହଭ', 'fluffy', 'tps', 'ict', 'opposite', 'pdf', 'laois', 'jasonwitten', 'maharashtra', 'oakpark', 'voluntarily', 'joinus', 'vijat', 'assert', 'stanplus', 'cloudgaming', 'ethiopia', 'es', 'purchase', 'requisition', 'yip', 'milne', 'trace', 'join', 'psychology', 'socent', 'hcltechinsights', 'lnpcrooks', 'workoutselfie', 'dhw', 'baar', 'soltara', 'mambo', 'thesundaily', 'north', 'eclectic', 'techblog', 'everybuddy', 'socialsciences', 'drsebi', 'shanghai', 'exponentially', 'determine', 'wilhelm', 'economists', 'mindfullness', 'brazilian', 'monty', 'championsleague', 'cowin', 'newscasters', 'tapwater', 'stablemark', 'youridentity', 'defeatncds', 'footballmanager', 'co', 'rant', 'carlo', 'rob', 'warrington', 'antiwhite', 'youan', 'humancentric', 'lentils', 'prasad', 'criminality', 'outlookmagazine', 'stratification', 'fibrosis', 'jaibhim', 'yogurt', 'chick', 'cedric', 'semiconductors', 'properhumandiet', 'alimony', 'angerer', 'biblical', 'lfitwinlive', 'kta', 'tsn', 'medhums', 'nayan', 'gameday', 'sportsnfts', 'ifrc', 'passenger', 'guntur', 'digitisatio', 'salah', 'vip', 'lsh', 'hardikpandya', 'peacefully', 'enemy', 'gretzky', 'enclose', 'watchers', 'crossword', 'faint', 'projfec', 'mysuru', 'judiciary', 'wafl', 'ride', 'backcracking', 'cassiusturvey', 'shepherd', 'functionx', 'cumulative', 'sesn', 'bhatijavad', 'paximune', 'bleach', 'jinnàh', 'effin', 'outpatient', 'sportnft', 'houston', 'leecry', 'kurt', 'designer', 'matt', '𝐍𝐎𝐖', 'ems', 'overdo', 'evaporation', 'notocorruption', 'douglamalfa', 'surgeon', 'eadie', 'pegasusspyware', 'sweet', 'icccricket', 'milton', 'qswur', 'mod', 'en', 'emailmarketing', 'internship', 'offences', 'southgate', 'oracle', 'ayurved', 'yongwu', 'cricketbats', 'ultra', 'eimear', 'saa', 'huduni', 'wazzocks', 'wet', 'promax', 'viking', 'sheepish', 'biotech', 'giorgia', 'unionfc', 'gowher', 'assemblyprocess', 'cbd', 'outweigh', 'segregation', 'spinoff', 'dictator', 'thiaga', 'gameofthrones', 'unfold', 'seward', 'zoo', 'radcliff', 'relent', 'handy', 'bollocks', 'bostondynamics', 'metabolites', 'spinal', 'jrs', 'spoonie', 'nftarti', 'captivate', 'dearly', 'brilliance', 'trendingtopics', 'sadler', 'pecs', 'springgames', 'cliffhanger', 'solanaszn', 'tussle', 'faridabad', 'hungerindex', 'resistance', 'leech', 'iapc', 'beam', 'minority', 'semantically', 'crust', 'buchner', 'mrunalthakur', 'veeam', 'permissionless', 'tracksuit', 'hinder', 'balance', 'raulsotomlb', 'nscdc', 'utilization', 'ostranenie', 'nletterlogo', 'journalists', 'qatarworldcup', 'ghrita', 'goan', 'nepali', 'robbery', 'atchatasks', 'compiler', 'clippy', 'allow', '丝足', 'sandwichpanels', 'digihealthcare', 'aparajita', 'minnesota', 'havoc', 'unilend', 'shoyemi', 'cavatar', 'revolutionnow', 'projectveritas', 'islpublications', 'cricketfamily', 'freebies', 'essentialoils', 'script', 'convict', 'sophie', 'walkthrough', 'weyou', 'annual', 'madeingermany', 'mutual', 'sisters', 'australian', 'swm', 'sask', 'teals', 'breakingnorms', 'sturm', 'mensfashion', 'audioleaks', 'peytonmanning', 'palsy', 'screensaver', 'nicepsg', 'weightgain', 'tht', 'boxer', 'dominica', 'instamood', 'redactions', 'meredith', 'lu', 'assignments', 'jatinsapru', 'counter', 'spat', 'episode', 'mourinho', 'mhforall', 'galway', 'kusal', 'พร', 'newsmakers', 'sportswomen', 'joão', 'edwin', 'eyecheckup', 'lundahl', 'reelviral', 'disability', 'globalcrisis', 'laugh', 'juveinter', 'danceyourlife', 'azspa', 'sekar', 'jsos', 'fluent', 'operationlotus', 'jürgen', 'srhvspk', 'hyft', 'reimagine', 'suspension', 'justintrudeau', 'vigyan', 'welgama', 'seemingly', 'reilly', 'gt', 'sportinnovation', 'democratization', 'inference', 'darp', 'wambugu', 'özgürbırakılsı', 'geohazards', 'parganas', 'backpack', 'drugdiscovery', 'अच', 'twitterx', 'stanchart', 'firecrackers', 'decisions', 'flcccprotocols', 'inearmonitors', 'dispersion', 'pavilion', 'substitution', 'pole', 'deadlock', 'neti', 'dozens', 'omnipresent', 'munugodu', 'hayden', 'dependable', 'brri', 'ufo', 'franklinpierce', 'lau', 'metaversegames', 'commonwealth', 'davey', 'etough', 'makered', 'lacey', 'betoforgovernor', 'desirable', 'scheel', 'gpus', 'bbtf', 'smooth', 'maturation', 'organs', 'domainnames', 'positively', 'coverage', 'sportsyaari', 'floristry', 'costa', 'date', 'symbols', 'concurrently', 'mop', 'brenna', 'demonic', 'familyhistory', 'heinrich', 'tactile', 'classic', 'runningpunks', 'sweatband', 'fortunately', 'antitheism', 'narrate', 'parabens', 'liquorqueen', 'baltistan', 'preserve', 'longterm', 'back', 'magician', 'slop', 'podcastandchill', 'kawasaki', 'karua', 'vendors', 'blockchaingames', 'animbehav', 'babar', 'jewsdontcount', 'exceedingly', 'arvind', 'videogames', 'nipaluna', 'accomplishments', 'nozzles', '健康', 'employment', 'localgov', 'cashout', 'aiproducts', 'lubrication', 'ebikes', 'wonderland', 'superhero', 'corinne', 'keren', 'wifi', 'faq', 'evident', 'retrobowl', 'misguide', 'oilandgas', 'tapestry', 'sacc', 'elder', 'tibet', 'mensstyle', 'chemotherapy', 'nextgentech', 'artoftheday', 'madson', 'bcpoli', 'taekwondo', 'stump', 'techtwitter', 'headquarter', 'gigworkers', 'escalation', 'typography', 'boredom', 'reelsvideo', 'watan', 'atluri', 'ou', 'dishonest', 'opposites', 'npfl', 'goons', 'ccip', 'worsen', 'explain', 'plaid', 'bread', 'doddieweir', 'yuzi', 'summarize', 'comeback', 'ether', 'newsvibes', 'martin', 'goldenhill', 'espana', 'therapists', 'booze', 'southafrican', 'newscast', 'easy', 'negotiations', 'ciscoliveemea', 'sundayet', 'insufficient', 'minimize', 'wsha', 'halloween', 'advancements', 'baseballcards', 'rjv', 'burgers', 'aspect', 'takeaway', 'satyajit', 'agingwell', 'organize', '𝘯𝘰𝘵', 'steady', 'navidad', 'opmhs', 'rep', 'pribumi', 'rajapaksa', 'lion', 'confession', 'yashwant', 'choosewisely', 'chaos', 'venous', 'athleisure', 'caste', 'terronward', 'bhubaneshwar', 'mutually', 'kitgamestrong', 'euhaveyoursay', 'acrps', 'lahoreqalandars', 'regard', 'mumbaimetro', 'myphoto', 'invent', 'jewishwomen', 'schumer', 'blackburn', 'recommend', 'yashasvijaiswal', 'staytuned', 'vernacular', 'joygeeksquad', 'suvarnanews', 'incubators', 'mattie', 'hbm', 'stressors', 'sidharth', 'extraordinaire', 'equivalent', 'neverenuf', 'padhy', 'bitcoin', 'consult', 'coolest', 'stenhousemuir', 'humanrights', 'shameondmkgov', 'negotiation', 'cricketadicts', 'scraper', 'happykids', 'mitter', 'youngernextyear', 'thursdayvibes', 'novaperis', 'touchdowns', 'glamour', 'awe', 'huw', 'rd', 'quinoa', 'intellectually', 'ickonic', 'fáil', 'intervention', 'genxtech', 'relatable', 'clardy', 'practitioner', 'humanist', 'techarp', 'chidi', 'cskvsrr', 'arnt', 'borderless', 'dci', 'airqualityindex', 'gog', 'cllrs', 'decorum', 'dhoni', 'pupils', 'msr', 'engines', 'parentingtips', 'zaheer', 'tehdas', 'tailor', 'physiology', 'device', 'revere', 'archanagautam', 'greece', 'reader', 'comer', 'mers', 'sportsabc', 'pinnacle', 'musemind', 'मग', 'allabouteve', 'رمضان', 'endorphin', 'kickstart', 'chrystalpalace', 'neuralink', 'serial', 'distraught', 'hedera', 'liveipl', 'digvijayasingh', 'builder', 'birdlovers', 'unfearful', 'capitalism', 'shoulderinjury', 'tour', 'lawandorder', 'copadelray', 'seinetwork', 'dictatorships', 'photos', 'quem', 'hardwired', 'potentially', 'electioneer', 'ludis', 'harmony', 'ranadaggubati', 'incessant', 'goin', 'greenwashing', 'successes', 'devops', 'final', 'anmolpreet', 'senatorrennick', 'autism', 'zaheerkhan', 'vain', 'lowkey', 'prana', 'yes', 'amenities', 'szab', 'rolf', 'delran', 'lewishamilton𓃵', 'disk', 'purest', 'bajarin', 'manthiram', 'bioflavonoid', 'culprits', 'appeal', 'refugeeswelcome', 'imagine', 'totalmtb', 'educationforall', 'xis', 'imiscoe', 'seahawks', 'michellemoneppe', 'viralmario', 'coupon', 'militarización', 'tempest', 'feasibility', 'meryl', 'koretnews', 'journey', 'ishan', 'northants', 'handi', 'metronomic', 'zaroori', 'broadhead', 'nintendoswitch', 'psc', 'signify', 'choi', 'mmat', 'covidvacccine', 'thirstythursday', 'selby', 'joyful', 'princealbert', 'enjoythemoments', 'rawalpindi', 'interfere', 'murkowski', 'catapult', 'newmusicmonday', 'photographic', 'gems', 'armando', 'submission', 'boyle', 'newforest', 'cspldp', 'uncoveredhelmet', 'lade', 'supermatkets', 'kitco', 'hungry', 'provider', 'enembe', 'swimmingpool', 'sportjustice', 'weightwatchers', 'exoffender', 'tweetup', 'transcriptions', 'persuasive', 'flyer', 'intrude', 'ethernity', 'betel', 'mentalwellbeing', 'thora', 'recess', 'birthdaygift', 'todervoter', 'overpromised', 'agakhan', 'dublin', 'mcconnell', 'jihad', 'motivatate', 'nsng', 'piece', 'incite', 'downtown', 'ex', 'katie', 'noflyzone', 'hostile', 'deem', 'mutua', 'unmarried', 'dragrima', 'posthetics', 'yellowstone', 'marra', 'floridi', 'somnath', 'buoy', 'citizen', 'differentiator', 'compliances', 'mew', 'bounty', 'option', 'axon', 'policymaking', 'wingdingtv', 'abba', 'huaweipartner', 'bhubaneswar', 'bscgemalert', 'jacksonwang', 'indiegame', 'lockdowns', 'mechanise', 'elena', 'oscars', 'turunen', 'poems', 'creativity', 'handheld', 'receptor', 'impsci', 'stooge', 'potholes', 'deprive', 'desmond', 'bass', 'sardar', 'chancellor', 'trialling', 'buddha', 'gretathunberg', 'brinjal', 'nvme', 'デザイン', 'edgeprocessing', 'heung', 'rbleipzig', 'konst', 'candidly', 'em', 'separately', 'rugbyman', 'backheel', 'growthmindset', 'newyork', 'jock', 'legs', 'sportsnext', 'bhediyamovie', 'northsea', 'zibartas', 'رياضة', 'ugmh', 'neo', 'delft', 'securitycouncil', 'womens', 'hologenomics', 'math', 'shahabi', 'impasse', 'igames', 'impose', 'ratna', 'ideal', 'share', 'denis', 'outlook', 'erik', 'liar', 'si', 'nightmare', 'armv', 'warwick', 'thieryhenry', 'cheersup', 'table', 'tbsp', 'nye', 'yashaswi', 'aitools', 'onctwitter', 'alexander', 'frossard', 'toxin', 'rapists', 'zoomers', 'northcarolina', 'forwardtogether', 'contrition', '脱着式空飛ぶクルマ', 'unethical', 'laluprasadyadav', 'allinmeme', 'dawa', 'ace', 'houstontexans', 'genbajwa', 'garry', 'ape', 'catalyst', 'bouts', 'researchers', 'juventusinter', 'spoon', 'vandalism', 'guru', 'plyometric', 'aversion', 'pancreas', 'extras', 'disbelieve', 'comms', 'misgovernance', 'rise', 'vaughan', 'nann', 'starch', 'valve', 'distance', 'sentiments', 'langstaff', 'deadline', 'israeli', 'dunbar', 'carport', 'fantasyboys', 'sscscam', 'smallbusiness', 'politicise', 'alexjones', 'dubaihealth', 'completers', 'sourdough', 'adi', 'martian', 'rlv', 'knife', 'thmatch', 'recur', 'nsduh', 'kateforbes', 'kazakhstan', 'java', 'precautionary', 'hobbes', 'infantry', 'posh', 'chocs', 'mart', 'tea', 'foam', 'jobssummit', 'aisle', 'suddenly', 'sectarian', '𝐔𝐒𝐀', 'mail', 'kabat', 'surrogacy', 'okolo', 'fantastic', 'blissful', 'differences', 'ellagic', 'thus', 'bsu', 'covertly', 'cbm', 'robert', 'targetted', 'foodsafety', 'womensrights', 'keanureeves', 'astnot', 'andersen', 'slf', 'regenerate', 'keyamo', 'bogotá', 'pepe', 'lifeless', 'serenity', 'nixon', 'hallabo', 'cockshut', 'skillset', 'regroup', 'bogo', 'ff', 'tlos', '𝙒𝙀', 'vulnerabilities', 'body', 'rech', 'unchanging', 'infotainity', 'nationalherald', 'sgm', 'pitchteamwear', 'virat', 'embolism', 'synchronise', 'lovemk', 'popcorn', 'radiance', 'qualifier', 'language', '𝑱𝑶', 'carotid', 'hallmark', 'எடப', 'institut', 'aimi', 'paresis', 'foilsiú', 'lutein', 'healthcrisis', 'keeperharish', 'rippedat', 'referendums', 'gsma', 'gateway', 'tastic', 'phasephuket', 'rpgai', 'esther', 'preteens', 'sub', 'aerodynamic', 'smartphones', 'globalise', 'hattrick', 'nattokinase', 'urbannature', 'wall', 'lauf', 'prediction', 'unrelenting', 'bangerbreaks', 'public', 'wonga', 'destination', 'wcmr', 'milkshake', 'unconvinced', 'booktwt', 'csix', 'promovideo', 'sids', 'becos', 'goodness', 'aravind', 'dhabi', 'kmph', 'taunton', 'ssj', 'ravindra', 'sonko', 'electrolytes', 'informational', 'vitamind', 'gurabaz', 'waste', 'false', 'roshanmahanama', 'schweitzer', 'geo', 'crosland', 'ldc', 'receipt', 'adebara', 'vincanne', 'greisen', 'belal', 'airforce', 'macromonday', 'plane', 'underway', 'mayorkas', 'amigos', 'publicspeaking', 'patel', 'wewontblackdown', 'uknews', 'builditonxdc', 'gw', 'lukaku', 'joinbjp', 'socialists', 'glazer', 'amazfitpop', 'rwgi', 'cutest', 'kunst', 'yearn', 'uncertain', 'stfc', 'davido', 'bacs', 'inaccessible', 'asake', 'obsess', 'pamper', 'maintain', 'warhammer', 'sashi', 'exhibit', 'outreach', 'organic', 'fuckin', 'eightfold', 'cissp', 'overeat', 'origins', 'goseahawks', 'wheely', 'tekisite', 'pls', 'benefit', 'cloudnative', 'dessin', 'guesstheleader', 'asthma', 'optimuscomic', 'harishviji', 'wkts', 'digitalavatar', 'jumla', 'oceanfund', 'gymlife', 'kidsmartialarts', 'xenotropic', '格闘技', 'clarence', 'wordcamp', 'jokic', 'sf', 'nzpol', 'expend', 'tristan', 'eastlondon', 'firewalls', 'bojo', 'mosaicfootball', 'tmj', 'lvm', 'alredy', 'venezuelan', 'ak', 'stiffness', 'collection', 'coinplayers', 'benzema', 'crackers', 'walcott', 'polycentricity', 'fremantle', 'thomas', 'sistersinlaw', 'pervert', 'harari', 'davidpakman', 'prep', 'madame', 'victorian', 'lash', 'tifr', 'wabc', 'mediation', 'doppelganger', 'fungi', 'reconciliation', 'material', 'tbt', 'georgiafootball', 'sportsmax', 'ramos', 'northyork', 'safesupply', 'ceramic', 'santiago', 'motivateu', 'abstainers', 'woarldsports', 'insurrections', 'datajournalism', 'acause', 'voltga', 'suis', 'hertog', 'dychandrachud', 'cvprev', 'amit', 'dell', 'digitaltrust', 'chef', 'worldleaders', 'immunehealth', 'champ', 'rcbvskkr', 'uzbekistan', 'empathy', 'woodburners', 'bayern', 'urbandiplomacy', 'cathloic', '捷运', 'takecareofyou', 'iplonsportsmax', 'amparodomingo', 'rmb', 'wr', 'government', 'cold', 'epic', 'fútbol', 'tireless', 'dedication', 'natixnetwork', 'mention', 'containers', 'teambps', 'lv', 'showcases', 'furthermore', 'usedbuyoftheday', 'tod', 'naive', 'quesadillas', 'clap', 'compound', 'barassociation', 'nl', 'malaysia', 'iledefrance', 'switch', 'jan', 'diabeteschat', 'sacf', 'superficial', 'gearupclub', 'ryan', 'cheng', 'assistance', 'workday', 'giuseppe', 'minimally', 'halamadrid', 'stockstowatch', 'newsmax', 'putinswar', 'billgates', 'joymohunbagan', 'nhlhockey', 'asymptomatic', 'amr', 'gtvdc', 'chock', 'atari', 'sakawa', 'factor', 'rheumatoid', 'uot', 'anew', 'segal', 'speculative', 'geospatialworld', 'franchi', 'aidiagnosis', 'saud', 'author', 'challaned', 'fairplaynews', 'lifesaving', 'professors', 'soothe', 'moneycontrol', 'roko', 'scpo', 'techtalk', 'hampstead', 'parthivpatel', 'subr', 'speedtrainer', 'gentle', 'diedsuddendly', 'youturn', 'ripe', 'motion', 'stopallshots', 'adnanyunus', 'gametime', 'artech', 'yearoftheking', 'apartment', 'nftgaming', 'elterwater', 'goverment', 'isce', 'rajatpatidar', 'selfreflection', 'brain', 'buffer', 'sideline', 'deepdownfield', 'bash', 'drool', 'kwasikwarteng', 'printables', 'outsmart', 'framework', 'husband', 'texts', 'safestanding', 'iain', 'treatments', 'ontarians', 'tok', 'hydrogel', 'bongiorno', 'mizzou', 'damien', 'grenade', 'lickrust', 'polycystic', 'ru', 'abad', 'goosebumpsports', 'throwback', 'emmunuelmacron', 'bodylanguage', 'futuresmartundp', 'chives', 'anuradha', 'ruched', 'antibodies', 'tq', 'smartretail', 'fadnavis', 'shinzo', 'eyl', 'unitedunited', 'woodynelson', 'votebank', 'scot', 'emotionally', 'firo', 'aichat', 'chiacgo', 'startrektng', 'nflplayoffs', 'culturalstudies', 'grandcanyon', 'bestsportsclub', 'heartedness', 'articulate', 'islami', 'ramadanfestival', 'someone', 'many', 'infrastructure', 'kingcharlesiii', 'congressmen', 'rid', 'pub', 'ht', 'sabratha', 'rugbyfootball', 'phony', 'mobility', 'especial', 'ipa', 'fatty', 'loveyourself', 'libertyflames', 'sensitize', 'periods', 'server', 'composition', 'journaling', 'datasecurity', 'underwhelming', 'easier', 'manual', 'nw', 'puao', 'turntabl', 'kypolitics', 'radar', 'cage', 'backdrop', 'baseballlife', 'gujarat', 'socialscience', 'school', 'feom', 'jd', 'mandeepsingh', 'mohare', 'critically', 'vscode', 'bevan', 'wellness', 'rugbyfamily', 'saopaulo', 'emobility', 'picture', 'saujani', 'mbarara', 'britons', 'suggestion', 'devendra', 'radish', 'ploy', 'assault', 'tidbit', 'inadequate', 'anant', 'newspaper', 'amv', 'walk', 'coordination', 'anuaggarwal', 'lunchpun', 'importantly', 'sportstherapy', 'tweetiatrician', 'nancy', 'arthurroad', 'ayodhyameeknath', 'similarly', 'lhwp', 'oneteam', 'entity', 'bsap', 'telegraph', 'rfp', 'sportsnews', 'hesitancy', 'unhelpfully', 'anti', 'statesman', 'overthrow', 'panhellenic', 'tankart', 'ruin', 'coachennie', 'inexpensive', 'irreversible', 'poyer', 'facilitators', 'wrongfully', 'social', 'tremble', 'find', 'sxsw', 'fish', 'modernization', 'milica', 'inlandrail', 'thump', 'nit', 'smokers', 'baseballislife', 'fenugreek', 'herstory', 'fondateur', 'treetrunk', 'spreadlove', 'moocs', 'caroline', 'prescott', 'villages', 'rssdi', 'riot', 'rwot', 'sleepy', 'daridrata', 'frackingvote', 'uncomfortable', 'abalon', 'neurobiology', 'gapol', 'falklandislands', '𝙒𝙚', 'examsoftware', 'chandra', 'shaanxi', 'jang', 'court', 'lecce', 'beempowered', 'forestry', 'walker', 'fork', 'airtaxi', 'bust', 'okibo', 'saynotomaida', 'newsstands', 'fbaspaces', 'formation', 'symptoms', 'pakatanharapan', 'thnx', 'nhl', 'alliance', 'realworld', 'callisthenics', 'arabhealth', 'extensions', 'meek', 'creditparadox', 'bush', 'juaaannnnn', 'procuratorate', 'marker', 'periyarism', 'texans', 'totallytomball', 'engrave', 'atomize', 'skilling', 'solarpanel', 'inchworm', 'oshoko', 'chickpea', 'block', 'chicago', 'astroai', 'modimustanswer', 'saharan', 'savetheplanet', 'elonmusk', 'rot', 'warne', 'pursue', 'debatenothate', 'sox', 'raaj', 'improve', 'vast', 'caeveon', 'radha', 'reuse', 'sao', 'soberlife', 'rely', 'bandage', 'engineervids', 'drabble', 'epitome', 'chiefs', 'amazonca', 'book', 'soumci', 'suspense', 'aspi', 'ccg', 'jimenez', 'gunawardena', 'queer', 'skpoli', 'jeremyclarkson', 'sufficient', 'gullah', 'wwb', 'deflect', 'jerry', 'mil', 'araja', 'statutory', 'helium', 'insidesport', 'illuminate', 'summercamp', 'natsec', 'ஓச', 'newyorkjets', 'smartphone', 'splitx', 'seedfunding', 'patrol', 'enforcement', 'annoy', 'sock', 'addictio', 'achieversqn', 'bettshow', 'colombia', 'marcusrashford', 'joandbillwilson', 'hunterbiden', 'phenolic', 'woodstove', 'contraceptives', 'huge', 'femina', 'debtrecovery', 'toko', 'edwards', 'iprinchina', 'rareearth', 'equitableaccess', 'soccerexercises', 'handle', 'create', 'kindiki', 'faiths', 'incomparable', 'matrix', 'yatra', 'fu', 'developyourgame', 'female', 'smartcity', 'webdeveloper', 'bharath', 'mueenuddin', 'nuffield', 'agroecology', 'spork', 'marino', 'fungus', 'vie', 'keepfit', 'radychildrens', 'venturecapital', 'legaltechnology', 'ortylphotolab', 'hand', 'partisans', 'mapr', 'martyr', 'stain', 'electronics', 'mshami', 'alizila', 'shropshire', 'sdcalalbhai', 'candidacy', 'sportscard', 'stardew', 'intent', 'negativity', 'demonstration', 'usually', 'bheesma', 'soda', 'innovación', 'bheki', 'uneventful', 'fandom', 'thekeralastory', 'juniperus', 'yeezy', 'interactive', '𝐰𝐢𝐭𝐡', 'bertha', 'nirbhaya', 'provocative', 'anarchapulco', 'zombie', 'sewageparty', 'aimarketing', 'irradiation', 'deluxe', 'alittle', 'emphatic', 'inch', 'accuser', 'sarcastic', 'cyberattack', 'yaung', 'adobe', 'zahawi', 'kamalaharris', 'pretext', 'generatio', 'theamclub', 'ababa', 'malastare', 'gustavsson', 'tlc', 'spaniel', 'ab', 'tracer', 'easteregghunt', 'dmv', 'entry', 'rishidhawan', 'pyar', 'gadkari', 'jethexa', 'zeenat', 'zach', 'wearos', 'personalise', 'votedemocrat', 'ecipartner', 'eustice', 'wearer', 'color', 'antihistamines', 'clementine', 'queensfuneral', 'mqm', 'atagi', 'enforce', 'supporters', 'philippine', 'vigorous', 'occult', 'flood', 'cleo', 'emotion', 'promo', 'cvd', 'curriculum', 'axenai', 'nonsense', 'igdreams', 'ellarukkum', 'scream', 'degenerate', 'contribute', 'mad', 'stranger', 'edt', 'morocco', 'fact', 'successfully', 'revolución', 'pointer', 'khilao', 'alternatives', 'ioe', 'kishan', 'twinkie', 'indianrupee', 'transfigure', 'antifraud', 'team', 'kemibadenoch', 'khalwale', 'atcchat', 'yfn', 'sheikh', 'chicagoland', 'asumbere', 'convey', 'cackle', 'gtclass', 'wayneparnell', 'wfl', 'romelulukaku', 'canberra', 'purepolitics', 'compulsory', 'decoctions', 'incidentalomas', 'sacrifice', 'masrafe', 'loco', 'academy', 'streetlights', 'veganrunner', 'timesnownews', 'cancelculture', 'causal', 'competitor', 'mantra', 'chennaiairport', 'rick', 'predictably', 'kanji', 'tracker', 'ketodiet', 'studentships', 'zaheerabad', 'follower', 'sundaythoughts', 'boxpower', 'tectonic', 'mogadishu', 'lens', 'cyberpunkart', 'kale', 'rainy', 'bd', 'saisudarsha', 'fyp', 'rapper', 'bruins', 'endorsements', 'rgpfc', 'dinesh', 'xisumavoid', 'mut', 'disease', 'beachfun', 'brainstroke', 'olornoline', 'pfw', 'zenai', 'engel', 'goodvibes', 'dogsoftwittter', 'jayson', 'pbm', 'cidp', 'communism', 'ehptoken', 'polite', 'right', 'impact', 'senegal', 'star', 'alnassr', 'conservatives', 'optoelectronics', 'serious', 'malaysians', 'grim', 'grantshapps', 'geology', 'wpi', 'teachingtips', 'jammu', 'potomac', 'percentage', 'cartoon', 'credential', 'southfirst', 'iv', 'recuiting', 'ashore', 'gmmm', 'aspirations', 'crisis', 'mehboobamufti', 'gnclivewell', 'romantic', 'belly', 'dry', 'zerohours', 'piero', 'zerbi', 'congdon', 'idiocy', 'checkusout', 'economicfreedom', 'childscientists', 'longstoryshort', 'machete', 'poll', 'vaccinations', 'aspalathin', 'freak', 'weightloss', 'spatial', 'raypeat', 'andre', 'parkinson', 'localsportsnews', 'labour', 'oathceremony', 'mfs', 'fdc', 'aggies', 'stablediffusion', 'correspondents', 'organisers', 'livestreaming', 'archana', 'vaultfestival', 'andrade', 'pinkcricketball', 'resist', 'infections', 'virtualpet', 'stanleycup', 'bol', 'spx', 'santhara', 'pulsechain', 'bmi', 'healthhero', 'carbonneutral', 'deccan', 'theodore', 'evans', 'cambodia', 'side', 'intouch', 'gametech', 'assemble', 'iti', 'rishikesh', 'photooftheday', 'bca', 'roses', 'appearances', 'attempt', 'happiest', 'throwingitback', 'cphia', 'itfa', 'akawsports', 'jamesarthur', 'puri', 'fetchignition', 'collateral', '𝐀𝐟𝐫𝐢𝐜𝐚', 'cheatsheet', 'icymi', 'bounceback', 'adelaide', 'reportedly', 'powerfully', 'charliebrown', 'synonym', 'rhr', 'mainframe', 'spiny', 'medstudents', 'kmktowers', 'seniorcare', 'surfeit', 'digitalhealth', 'inn', 'bu', 'gbv', 'barack', 'aileadership', 'overthink', 'celo', 'trumpcult', 'omah', 'reply', 'petco', 'oconnect', 'headsets', 'jenny', 'beth', 'groningen', 'pakvsnewzealand', 'makeitmakesense', 'danishkaneria', 'alkaline', 'dowd', 'evgenios', 'cpd', 'rescue', 'pixelart', 'toy', 'sportsdiplomacy', 'womeninbusiness', '𝐂𝐀𝐍', 'abi', 'biotherapeutic', 'fifaworldcup', 'palmsprings', 'slimming', 'downtowns', 'itb', 'initiate', 'ahenkro', 'burmid', 'stoop', 'ntr', 'fours', 'unsure', 'blacktwitter', 'ysrcp', 'saviours', 'authentication', 'nbaplayoffs', 'greenbaypackers', 'neurologists', 'pepguardiola', 'zeaxanthin', 'haynes', 'md', 'politicslive', 'redesign', 'showcased', 'uzalendonews', 'goldstandard', 'bwrx', 'benficavsporto', 'hum', 'slvsnz', 'saudshakeel', 'negligent', 'underground', 'found', 'secondgentleman', 'nofilter', 'else', 'incrementally', 'eufc', 'daysofcode', 'walesfootball', 'unholy', 'cavalcade', 'saveournhs', 'gentrified', 'boycottqatar', 'fallacies', 'scalable', 'plus', 'आप', 'ramana', 'routeledge', 'prospect', 'assasin', 'astig', 'callumwilson', 'lamentably', 'russia', 'ketogenicdiet', 'wolves', 'wedidit', 'sangiuliano', 'emergence', 'phantasy', 'kathy', 'wake', 'steelersnation', 'warmongering', 'chirag', 'enough', 'bbig', 'yeg', 'legumes', 'flabby', 'twitterng', 'briefmarken', 'actionable', 'renewable', 'suzuki', 'album', 'blueteanfit', 'mivcsk', 'googly', 'materazzi', 'cryptos', 'mecfs', 'pbkvssrh', 'waistline', 'personas', 'dip', 'money', 'vira', 'dope', 'kettle', 'load', 'terror', 'bapunadkarni', 'footballlove', 'article', 'simgot', 'stimulate', 'noam', 'entrust', 'locally', 'rock', 'hilton', 'nola', 'flip', 'laplazavirtual', 'vangelis', 'decades', 'lewandowski', 'sportsindustry', 'hardcountlive', 'dive', 'edfringe', 'ampere', 'pogacar', 'mouthwatering', 'ceattyres', 'andrewkaufmanmd', 'mitcsail', 'curated', 'gicia', 'altid', 'bhimakoregaon', '𝘵𝘦𝘢𝘮', 'neurosciences', 'bristolacademia', 'spice', 'virtualreality', 'cabal', 'loom', 'pathways', 'brenner', 'whitelist', 'dpoa', 'bharat', 'facup', 'stationary', 'garrod', 'carbonchampions', 'cordially', 'urdu', 'canadanews', 'readiness', 'fort', 'pokal', 'agreymatter', 'edappadi', 'finalist', 'settlement', 'chronicillness', 'dignitykits', 'bluedog', 'irishnews', 'inherently', 'harmreduction', 'chatgpt', 'verkhoturye', 'webcomics', 'pete', 'noda', 'hojlund', 'friuli', 'janambhoomi', 'chainsaws', 'caportfolio', 'thespecials', 'diem', 'deankamen', 'choices', 'lampard', 'dhorasoo', 'sportslight', 'orange', 'morf', 'kms', 'ladle', 'guatemalan', 'nehwal', 'fca', 'relaxation', 'gitwitter', 'wednesdayviz', 'larkana', 'adjust', 'timothy', 'oddities', 'habitat', 'sydnor', 'mzuzu', 'marriotthotels', 'carsplan', 'jain', 'xpeng', 'capitalize', 'viruses', 'fell', 'william', 'consume', 'cfv', 'weekendreads', 'regenerators', 'smallbusinesses', 'favourite', 'marlon', 'lebanese', 'connell', 'alter', 'ycpdestroyedap', 'understandable', 'fragment', 'phogat', 'winteriscoming', 'partygate', 'unanimous', 'happiness', 'immeasurably', 'bhrashtachar', 'rosenblum', 'experimentation', 'criteria', 'pwsa', 'latina', 'transformations', 'professional', 'masculinity', 'ucc', 'aus', 'ghosh', 'dense', 'ailment', 'thisisuow', 'flex', 'hayfever', 'iyer', 'exam', 'lifescience', 'allergy', 'sandhagen', 'nfls', 'equity', 'workable', 'babarazam', 'nassir', 'caltech', 'pong', 'sandiego', 'protection', 'rkc', 'ipsa', 'howe', 'perfectionism', 'pandamanianft', 'cricketacademy', 'farcical', 'salary', 'زرداری', 'turmoil', 'trek', 'canonr', 'sexymuscle', 'chocolate', 'kurukshetra', 'tedbudd', 'scones', 'dean', 'ovarian', 'millet', 'esophageal', 'workload', 'bypussyson', 'pinpoint', 'tre', 'digitalmoney', 'macleod', 'supersede', 'aiccpresident', 'aaplepune', 'cave', 'ajoy', 'electronicmusic', 'counterpart', 'sundayvibes', 'powerhouse', 'sciencemuseum', 'alan', 'musalia', 'stumpset', 'techishiring', 'mustard', 'umran', 'rashford', 'impartiality', 'greeley', 'soap', 'moxi', 'monk', 'background', 'sportsball', 'retweet', 'dm', '성한빈', 'rebate', 'murcia', 'okoroknwo', 'magnitude', 'seafloor', 'frenchnavy', 'apsa', 'skyline', 'kaleidoscope', 'lokayukt', 'severance', 'basketballkit', 'litterateur', 'beastlake', 'recently', 'gutted', 'luminous', 'havethattalk', 'federal', 'planetfitness', 'designthinking', 'dipshit', 'bakambu', 'pogrom', 'footballclinic', 'romanticize', 'srk𓃵', 'precarious', 'barn', 'battlle', 'wildplants', 'eatmeat', 'neverquit', 'mygbets', 'witty', 'roseville', 'electrowritten', 'rollable', 'sagittal', 'chaotic', 'pbksvsrh', 'instruction', 'ahsoka', 'troughs', 'finexuk', 'conference', 'saturdays', 'ukrainians', 'pot', 'bundle', 'meerut', 'energyhouse', 'snippets', 'computerscience', 'weareuu', 'sigh', 'diversification', 'wweuniverse', 'hnd', 'ali', 'migraineblog', 'trays', 'harshal', 'luna', 'unbreakably', 'radiochemistry', 'sol', 'porto', 'coder', 'eastern', 'enquiry', 'levingston', 'recreate', 'competitions', 'federation', 'herverenard', 'protocal', 'ekv', 'dominate', 'attract', 'obstacle', 'mesmerise', 'aqhi', 'unviable', 'maha', 'laziojuve', 'marchmadness', 'durability', 'taxi', 'ruto', 'uneven', 'waxnft', 'jonny', 'expd', 'competence', 'environmental', 'selection', 'maclachlan', 'goetheuni', 'genztechies', 'miranshah', 'strap', 'formulas', 'authenticity', 'sportsredefined', 'techtip', 'drake', 'jittery', 'suryakumaryadav', 'israel', 'rajasthanroyals', 'gill', 'aakash', 'unman', 'destress', 'jeopardy', 'sicken', 'ahrq', 'overfull', 'sketch', 'rafizi', 'beatntds', 'cn', 'datajustice', 'brainfog', 'aka', 'custodial', 'watts', 'tackleforloss', 'lazer', 'rahan', 'bournemouth', 'bowlers', 'kirsty', 'layoffs', 'forvalaka', 'playoffs', 'shimronhetmyer', 'arloon', 'tivoli', 'krishna', 'nycc', 'chamomile', 'phlebotomy', 'pundit', 'pauli', 'footballing', '𝗕𝗵𝗮𝘃𝗮', 'pebagrass', 'pride', 'jhulangoswami', 'metrics', 'metaliks', 'realfootballno', 'rugbyclub', 'prescrinature', 'brexit', 'spyware', 'salon', 'punctuate', 'slangingmatches', 'misogyny', 'mock', 'emote', 'ulfa', 'rmtstrike', 'story', 'audioleak', 'resurface', 'madstudies', 'unitedkingdom', 'lifeisshort', 'satisfy', 'case', 'berth', 'stag', 'teamachine', 'rishabhisback', 'pilot', 'gmos', 'somaliland', 'cantonfair', 'bussy', 'whisperai', 'mommyspam', 'khzaimi', 'nota', 'shortestday', 'basketba', 'vgk', 'theturing', 'enhancement', 'deputies', 'trackandfield', 'studley', 'populatn', 'uncured', 'gunfight', 'wallart', 'rennes', 'allans', 'survivor', 'ajinkyarahane', 'weil', 'delicately', 'sharktankseason', 'popculture', 'carer', 'rapids', 'kala', 'kinesiology', 'prof', 'websecurity', 'kendra', 'digitalreality', 'sentinel', 'fashio', 'mishal', 'reputable', 'alisonsteinberg', 'citation', 'fray', 'ea', 'moodofthenation', 'otrim', 'flak', 'cmo', 'moronic', 'montego', 'matchfixing', 'mimi', 'aacons', 'britishgov', 'epilepsy', 'teambayer', 'kurd', 'comic', 'devrel', 'hajiya', 'peanuts', 'uml', 'techworldindia', 'chennai', 'emhoff', 'gurgaon', 'appearance', 'mull', 'oraichain', 'assembly', 'fabulous', 'dads', 'abuse', 'contracture', 'ryanpalmer', 'wearetheic', 'parisolympics', 'wyoming', 'machinelearning', 'tapasvi', 'restorative', 'israelis', 'homebrew', 'uncommunist', 'cyberpunk', 'gujarattitans', 'geeko', 'trident', 'maladaptations', 'karimuddin', 'cyberoewg', 'understatement', 'peruvian', 'colleagues', 'ledpulse', 'camo', 'lizzy', 'ballistic', 'mazuth', 'indoors', 'noncovalent', 'dumas', 'gray', 'lineup', 'uddhav', 'eloquently', 'padp', 'fanem', 'phenotyping', 'floridapolitics', 'wearewadzpay', 'slavery', 'gamingcommunity', 'connectors', 'luxon', 'thc', 'connor', 'joebide', 'slgbtqqia', 'metabolomics', 'fertile', 'wit', 'sergeant', 'origin', 'reality', 'solid', 'daltonkincaid', 'alternate', 'vault', 'kalashnikov', 'mainstreaming', 'jointpain', 'hyperautomation', 'crossborder', 'absolutely', 'idiom', 'rri', 'criticism', 'phdchat', 'dietdiversity', 'blindly', 'handelsman', 'gords', 'needy', 'southwest', 'dart', 'cricketmubarak', 'barsapara', 'sixth', 'thewin', 'celticsoul', 'idb', 'ino', 'glf', 'northeast', 'perceive', 'sangam', 'silva', 'odours', 'puberty', 'altaweel', 'bluemonday', 'jeremiah', 'elsalvador', 'business', 'shrooms', 'biosciences', 'safemoonarmy', 'resuscitation', 'differential', 'agile', 'snafu', 'mffl', 'disruptors', 'concrete', 'treat', 'cuckoo', 'elusive', 'amazonpodcast', 'burute', 'trivandrum', 'roomba', 'turf', 'finally', 'freshly', 'revolut', 'complacent', 'rib', 'gaya', 'selfhealing', 'powerladies', 'molecules', 'casemiro', 'jihoon', 'mtrg', 'twitterfriends', 'fhe', 'aortas', 'pfizerexposed', 'ituah', 'majlis', 'persist', 'caption', 'commercials', 'cleanout', 'gotonews', '𝑫𝑨𝒀', 'judge', 'disparities', 'normalise', 'vuejs', 'invasive', 'polymonial', 'pow', 'bbtitans', 'varsity', 'pacs', 'fijinews', 'perish', 'pensioner', 'ttzawards', 'ygk', 'dhruvjorel', 'tallangatta', 'surveillance', '𝗮𝘀', 'catalysts', 'delete', 'nickpagano', 'scattergood', 'coincidence', 'allan', 'hd', '𝗞𝗲𝘆𝗯𝗼𝗮𝗿𝗱', 'tkms', 'calories', 'download', 'cleave', 'munavar', 'radicals', 'tourism', 'jt', 'cambridgeshire', 'polygonzone', 'nitya', 'jiocinema', 'install', 'bcse', 'khelosports', 'casbury', 'tushardeshpande', 'gamingtwt', 'much', 'donoharm', 'xmrv', 'mindplex', 'stay', 'epson', 'alethea', 'notify', 'eclampsia', 'uptown', 'commemorative', 'zest', 'deemos', 'involvement', 'samantha', 'border', 'princeharry', 'cigarettes', 'jordan', 'pallavighosh', 'moeen', 'europeanleague', 'partition', 'olacak', 'eapce', 'liners', 'shahid', 'sporty', 'libtards', 'disappearance', 'platitudes', 'ଦଣ', 'jugaadu', 'apologize', 'kyle', 'mathhelp', 'aajkagyan', 'dallas', 'pinsforprelims', 'odin', 'tosa', 'topic', 'arbs', 'gameoftheyear', 'vaxx', 'outbreaks', 'check', 'danger', 'digitaltwins', 'astigsasports', 'vijaykumar', 'personnel', 'inevitably', 'anjanamodi', 'grandbradburn', 'twitterbug', 'yantrasana', 'jab', 'intricate', 'poonamjhawer', 'return', 'snakeboatrace', 'motive', 'runningback', 'foist', 'bhfad', 'affairs', 'censure', 'gutmicrobiome', 'cjr', 'openingceremony', 'credibility', 'badal', 'ecab', 'burgessowens', 'partum', 'mathare', 'greentech', 'darker', 'tdap', 'bs', 'aqf', 'liztrussresigns', 'keyboards', 'vc', 'grab', 'christi', 'mwaka', 'runaway', 'turingaward', 'arabia', 'decor', 'tripureshwor', 'estream', 'ghana', 'land', 'cheyenne', 'encyclopedia', 'egos', 'deceitful', 'unconsiderate', 'iartg', 'grahampotter', 'falcon', 'bucs', 'tshow', 'sundial', 'funactivity', 'gnc', 'sexpositive', 'irelandisfull', 'mrsthatcher', 'forthebirds', 'thhearing', 'ttp', 'spatialanalysis', 'autocratic', '𝐀𝐑𝐄', 'hautsdefrance', 'williamson', 'sponsorships', 'gentlethems', 'intake', 'leeds', 'domination', 'slim', 'neighbourhood', 'misconduct', 'phantasma', 'cailungo', 'cherwellcricket', 'infuse', 'padres', 'ngayong', 'holm', 'naijanews', 'sameach', 'medtronic', 'iied', 'tenant', 'liz', 'dance', 'hockey', '𝘈𝘤𝘵𝘪𝘷𝘦', 'jai', 'deputy', 'herewith', 'acoy', 'nse', 'ysletacares', 'cryptocurrency', 'devolve', 'exorcise', 'dwell', 'completly', 'address', 'una', 'slew', 'chicks', 'parity', 'techfacts', 'families', 'blanchard', 'feed', 'tpheroes', 'neapolitan', 'trustee', 'superleague', 'bwarelabsgang', 'pharmacist', 'respective', 'tigers', 'sportindia', 'hierarchy', 'facility', 'diplomatic', 'seifert', 'martinvanburen', 'revamp', 'leap', 'digestive', 'ramirez', 'longtermcare', 'leomessi', 'merica', 'keynes', 'urbansensing', 'wnba', 'natives', 'hostility', 'beleaguer', 'dmca', 'gerard', 'prismhealthntx', 'athletic', 'terrorism', 'benstokes', 'barley', 'skybetchamp', 'uday', 'rajya', '𝐀𝐃𝐕𝐀𝐍𝐓𝐈𝐒', 'opencall', 'army', 'timeless', 'truthgpt', 'napa', 'pigeons', 'digitall', 'groundsmen', 'epsco', 'pugetsoundbound', 'familycourt', 'millennials', 'beck', 'cannonswood', 'googleearth', 'plm', 'peacebooknow', 'cb', 'mybmc', 'little', 'tokenization', 'palatable', 'stitcher', 'unreasonable', 'technocultural', 'ceremony', 'parolin', 'effortless', 'paybill', 'overdue', 'dhawa', 'overtime', 'bandisanjay', 'pordenone', 'pashinyan', 'indigestion', 'thevoice', 'anytime', 'dataanalytics', 'droneshow', 'shower', 'slow', 'horrifically', 'regardless', 'als', 'library', 'centrality', 'mitroviç', 'haul', 'hell', 'samajwadiparty', 'perennial', '𝙛𝙖𝙢𝙞𝙡𝙮', 'oyo', 'cricketghar', 'brite', 'keyword', 'yenendrakelvi', 'cindy', 'extravagant', 'topple', 'pythoncode', 'snowden', 'ñublense', 'briteconf', 'delhi', 'tool', 'penny', 'warrant', 'sturgeonomics', 'gny', 'footballcamp', 'predators', 'players', 'cobenefits', 'uniben', 'fcuking', 'rudy', 'bubble', 'comeonblues', 'maz', 'polcomm', 'kitted', 'ambassador', 'dcf', 'religions', 'insurance', 'malwarebytes', 'chaddi', 'antique', 'spaceflights', 'cpusa', 'uschristmas', 'fashion', 'sportslifetalk', 'iftaar', 'silvester', 'elton', 'cluboriginals', 'categorisation', 'ready', 'middleeastern', 'icehockey', 'liptsin', 'brand', 'tdp', 'prizepicks', 'eason', 'danushka', 'representating', 'holochain', 'dailyroutine', 'truefeedback', 'sfm', 'ghumte', 'natura', 'mike', 'chattanooga', 'humbleness', 'attach', 'zombieartist', 'define', 'jagdeep', 'aibattle', 'moled', 'fussball', 'newshour', 'dhumal', '𝗚𝗢𝗔𝗟', 'womensday', 'wns', 'kingkohli', 'ulhaq', 'lbs', 'suyashsharma', 'aitrends', 'bugger', 'outta', 'pkr', 'stinkyfarts', 'shalom', 'julesbreach', 'songofthenight', 'halononbio', 'nobelprize', 'kumarsangakkara', 'eliminate', 'aiml', 'rfox', 'karimbenzema', 'sheer', 'gayi', 'neuralnetwork', 'green', 'minimisation', 'duchy', 'summergames', 'speedcamera', 'offet', 'cancellations', 'livinglegend', 'thematic', 'positiveenergy', 'movingknowledge', 'chapman', 'csa', 'hannover', 'nonprofit', 'cone', 'jamatislami', 'melenchon', 'nufc', 'patients', 'efl', 'blaze', 'churn', 'dispose', 'methodology', 'dodson', 'gp', 'samallardyce', 'bhuvneshwar', 'conscious', 'francisco', 'ppm', 'monthcycles', 'clinically', 'klerman', 'bypass', 'optimum', 'china', 'exodus', 'constantine', 'qnt', 'congratulations', 'eurobarometer', 'oranges', 'keralanews', 'rotorua', 'hold', 'profoundly', 'kompany', 'mercedesbenz', 'ramasamy', 'namak', 'basics', 'talbot', 'copyright', 'noexcuses', 'combative', 'storm', 'origyn', 'utc', 'tropical', 'gentler', 'sth', 'heartfelt', 'roadblock', 'nhscomms', 'skyscraper', 'londo', 'samaritans', 'abcs', 'adjustments', 'convoywatch', 'baniyan', 'baspiskoposluk', 'chat', 'physician', 'joemanchin', 'soccerskill', 'pasifika', 'consequently', 'editorialist', 'dewmi', 'rotto', 'godi', 'doyle', 'mpowerdinc', 'butterfly', 'adaptability', 'danawhite', 'widespread', 'honthemitchels', 'budokan', 'moose', 'latke', 'across', 'neuromuscular', 'sustainabletech', 'casa', 'βασιλοπιτα', 'bonsawin', 'enjoy', 'twelfthmantimes', 'tamara', 'creature', 'antigravity', 'propaganda', 'dstv', 'godimedia', 'nad', 'rtx', 'traoré', 'eventful', 'sort', 'smarter', 'osteopathy', 'mosen', 'hbomax', 'mclachlan', 'immunization', 'modular', 'unpause', 'breakout', 'brewmonday', 'omniverse', 'concentration', 'robertthebruce', 'weth', 'sordid', 'tesla', 'mexico', 'tm', 'tobruk', 'dismantle', 'iq', 'net', 'livesport', 'googlemaps', 'request', 'sensitive', 'unpack', 'netherlands', 'flipside', 'telescope', 'flavor', 'technicatome', 'irishbusiness', '𝗟𝗜𝗢𝗡𝗦', 'really', 'bwarelabs', 'brat', 'unawares', 'dutt', 'bagley', 'happytuesday', 'cadets', 'pattison', 'cloud', 'sxswedu', 'hearts', 'agakhanhospital', 'fitnessmodel', 'end', 'quite', 'keepthechange', 'roster', 'israe', 'caraccident', 'torch', 'cognition', 'deck', 'raje', 'motherson', 'costessey', 'historicbaths', 'nombreuses', 'righttowash', 'abe', 'bbcpm', 'amma', 'dj', 'jacc', 'theobserver', 'patil', 'shoot', 'adharmic', 'reap', 'feats', 'atm', 'cobras', 'gadgetsforsale', 'statepension', 'soup', 'kcmc', 'drainage', 'processors', 'exercsise', 'fix', 'valencia', 'adrc', 'outline', 'footballgames', 'commission', 'jr', 'annouces', 'elucidate', 'natio', 'brookland', 'whateverittakes', 'cavoritex', 'stark', 'jamie', 'bettertogether', 'heath', 'gutterchap', 'gripactive', 'perimenopause', 'gilgitbaltista', 'thuglife', 'meme', 'charismatic', 'rand', 'propertyprices', 'adamadli', 'etch', 'transrights', 'tsghoffeinheim', 'invite', 'mortgage', 'womencricket', 'runningmonk', 'chesschennai', 'computations', 'enjoyable', 'womeningames', 'denounce'}\n"
          ]
        }
      ]
    },
    {
      "cell_type": "code",
      "source": [
        "len(x)"
      ],
      "metadata": {
        "colab": {
          "base_uri": "https://localhost:8080/"
        },
        "id": "7qDDEbLG3k02",
        "outputId": "00b92800-70d1-44a1-f914-c17545741c5e"
      },
      "execution_count": null,
      "outputs": [
        {
          "output_type": "execute_result",
          "data": {
            "text/plain": [
              "17639"
            ]
          },
          "metadata": {},
          "execution_count": 37
        }
      ]
    },
    {
      "cell_type": "markdown",
      "source": [
        "# Vectorization"
      ],
      "metadata": {
        "id": "3VpXMDh44QnA"
      }
    },
    {
      "cell_type": "code",
      "source": [
        "from collections import Counter\n",
        "from wordcloud import WordCloud\n",
        "from sklearn.feature_extraction.text import TfidfVectorizer\n",
        "from sklearn.feature_extraction.text import CountVectorizer\n",
        "from sklearn.decomposition import LatentDirichletAllocation\n",
        "from sklearn.decomposition import TruncatedSVD\n",
        "\n",
        "# !pip install pyLDAvis\n",
        "\n",
        "import bokeh.plotting as bp\n",
        "from bokeh.models import HoverTool, BoxSelectTool\n",
        "from bokeh.models import ColumnDataSource\n",
        "from bokeh.plotting import figure, show, output_notebook"
      ],
      "metadata": {
        "id": "j1vqyNrgLOt4"
      },
      "execution_count": null,
      "outputs": []
    },
    {
      "cell_type": "code",
      "source": [
        "from sklearn.feature_extraction.text import CountVectorizer  #min_df=4,max_features=180000,stop_words='english',ngram_range=(1,2)\n",
        "vectorizer = CountVectorizer(stop_words='english',ngram_range=(1,2))\n",
        "X = vectorizer.fit_transform(corpus)"
      ],
      "metadata": {
        "id": "WNWQXuPxBb3H"
      },
      "execution_count": null,
      "outputs": []
    },
    {
      "cell_type": "code",
      "source": [
        "vectorizer.get_feature_names_out()"
      ],
      "metadata": {
        "id": "l8iELRSWBbzz",
        "colab": {
          "base_uri": "https://localhost:8080/"
        },
        "outputId": "224ccd3e-d253-450b-addf-546a4aeee6fa"
      },
      "execution_count": null,
      "outputs": [
        {
          "output_type": "execute_result",
          "data": {
            "text/plain": [
              "array(['aa', 'aaa', 'aaaaages', ..., '𝙛𝙖𝙢𝙞𝙡𝙮', '𝙞𝙣', '𝙩𝙝𝙚'], dtype=object)"
            ]
          },
          "metadata": {},
          "execution_count": 43
        }
      ]
    },
    {
      "cell_type": "code",
      "source": [
        "X.shape"
      ],
      "metadata": {
        "colab": {
          "base_uri": "https://localhost:8080/"
        },
        "id": "qQipSM1bGBlS",
        "outputId": "99bedbcb-6fd5-4540-a4ad-7c48e1fbd8a1"
      },
      "execution_count": null,
      "outputs": [
        {
          "output_type": "execute_result",
          "data": {
            "text/plain": [
              "(33106, 32938)"
            ]
          },
          "metadata": {},
          "execution_count": 44
        }
      ]
    },
    {
      "cell_type": "code",
      "source": [
        "lda = LatentDirichletAllocation(random_state=11, learning_method=\"online\")"
      ],
      "metadata": {
        "colab": {
          "base_uri": "https://localhost:8080/"
        },
        "id": "_SDZaQFJSmHQ",
        "outputId": "91981820-ba25-4083-cf98-404a43fb458d"
      },
      "execution_count": null,
      "outputs": [
        {
          "output_type": "stream",
          "name": "stderr",
          "text": [
            "/usr/local/lib/python3.10/dist-packages/ipykernel/ipkernel.py:283: DeprecationWarning: `should_run_async` will not call `transform_cell` automatically in the future. Please pass the result to `transformed_cell` argument and any exception that happen during thetransform in `preprocessing_exc_tuple` in IPython 7.17 and above.\n",
            "  and should_run_async(code)\n"
          ]
        }
      ]
    },
    {
      "cell_type": "code",
      "source": [
        "bowdist = lda.fit_transform(X)"
      ],
      "metadata": {
        "colab": {
          "base_uri": "https://localhost:8080/"
        },
        "id": "0W99UBc1SmDy",
        "outputId": "a69e30dc-0c95-465d-f27c-529da8d488da"
      },
      "execution_count": null,
      "outputs": [
        {
          "output_type": "stream",
          "name": "stderr",
          "text": [
            "/usr/local/lib/python3.10/dist-packages/ipykernel/ipkernel.py:283: DeprecationWarning: `should_run_async` will not call `transform_cell` automatically in the future. Please pass the result to `transformed_cell` argument and any exception that happen during thetransform in `preprocessing_exc_tuple` in IPython 7.17 and above.\n",
            "  and should_run_async(code)\n"
          ]
        }
      ]
    },
    {
      "cell_type": "code",
      "source": [
        "bowdist"
      ],
      "metadata": {
        "colab": {
          "base_uri": "https://localhost:8080/"
        },
        "id": "2nxGNO_GSmB6",
        "outputId": "630c1138-d781-48f4-d37c-d902fddcadba"
      },
      "execution_count": null,
      "outputs": [
        {
          "output_type": "stream",
          "name": "stderr",
          "text": [
            "/usr/local/lib/python3.10/dist-packages/ipykernel/ipkernel.py:283: DeprecationWarning: `should_run_async` will not call `transform_cell` automatically in the future. Please pass the result to `transformed_cell` argument and any exception that happen during thetransform in `preprocessing_exc_tuple` in IPython 7.17 and above.\n",
            "  and should_run_async(code)\n"
          ]
        },
        {
          "output_type": "execute_result",
          "data": {
            "text/plain": [
              "array([[0.05      , 0.05      , 0.05      , ..., 0.05      , 0.05      ,\n",
              "        0.05      ],\n",
              "       [0.54999998, 0.05      , 0.05      , ..., 0.05      , 0.05      ,\n",
              "        0.05      ],\n",
              "       [0.05      , 0.05      , 0.05      , ..., 0.05      , 0.05      ,\n",
              "        0.05      ],\n",
              "       ...,\n",
              "       [0.05      , 0.05      , 0.55      , ..., 0.05      , 0.05      ,\n",
              "        0.05      ],\n",
              "       [0.05      , 0.05      , 0.05      , ..., 0.05      , 0.05      ,\n",
              "        0.05      ],\n",
              "       [0.05      , 0.05      , 0.05      , ..., 0.05      , 0.05      ,\n",
              "        0.05      ]])"
            ]
          },
          "metadata": {},
          "execution_count": 75
        }
      ]
    },
    {
      "cell_type": "code",
      "source": [
        "pyLDAvis.enable_notebook()\n",
        "viz = pyLDAvis.gensim.prepare(lda, corpus, bowdist)\n",
        "viz"
      ],
      "metadata": {
        "colab": {
          "base_uri": "https://localhost:8080/",
          "height": 400
        },
        "id": "y7Kp6Cf7T5bg",
        "outputId": "289e083a-4d66-41e3-bc4d-329f01aa5821"
      },
      "execution_count": null,
      "outputs": [
        {
          "output_type": "stream",
          "name": "stderr",
          "text": [
            "/usr/local/lib/python3.10/dist-packages/ipykernel/ipkernel.py:283: DeprecationWarning: `should_run_async` will not call `transform_cell` automatically in the future. Please pass the result to `transformed_cell` argument and any exception that happen during thetransform in `preprocessing_exc_tuple` in IPython 7.17 and above.\n",
            "  and should_run_async(code)\n"
          ]
        },
        {
          "output_type": "error",
          "ename": "AttributeError",
          "evalue": "ignored",
          "traceback": [
            "\u001b[0;31m---------------------------------------------------------------------------\u001b[0m",
            "\u001b[0;31mAttributeError\u001b[0m                            Traceback (most recent call last)",
            "\u001b[0;32m<ipython-input-77-b10950208ff6>\u001b[0m in \u001b[0;36m<cell line: 2>\u001b[0;34m()\u001b[0m\n\u001b[1;32m      1\u001b[0m \u001b[0mpyLDAvis\u001b[0m\u001b[0;34m.\u001b[0m\u001b[0menable_notebook\u001b[0m\u001b[0;34m(\u001b[0m\u001b[0;34m)\u001b[0m\u001b[0;34m\u001b[0m\u001b[0;34m\u001b[0m\u001b[0m\n\u001b[0;32m----> 2\u001b[0;31m \u001b[0mviz\u001b[0m \u001b[0;34m=\u001b[0m \u001b[0mpyLDAvis\u001b[0m\u001b[0;34m.\u001b[0m\u001b[0mgensim\u001b[0m\u001b[0;34m.\u001b[0m\u001b[0mprepare\u001b[0m\u001b[0;34m(\u001b[0m\u001b[0mlda\u001b[0m\u001b[0;34m,\u001b[0m \u001b[0mcorpus\u001b[0m\u001b[0;34m,\u001b[0m \u001b[0mbowdist\u001b[0m\u001b[0;34m)\u001b[0m\u001b[0;34m\u001b[0m\u001b[0;34m\u001b[0m\u001b[0m\n\u001b[0m\u001b[1;32m      3\u001b[0m \u001b[0mviz\u001b[0m\u001b[0;34m\u001b[0m\u001b[0;34m\u001b[0m\u001b[0m\n",
            "\u001b[0;32m/usr/local/lib/python3.10/dist-packages/pyLDAvis/gensim.py\u001b[0m in \u001b[0;36mprepare\u001b[0;34m(topic_model, corpus, dictionary, doc_topic_dist, **kwargs)\u001b[0m\n\u001b[1;32m    120\u001b[0m     \u001b[0mSee\u001b[0m\u001b[0;31m \u001b[0m\u001b[0;31m`\u001b[0m\u001b[0mpyLDAvis\u001b[0m\u001b[0;34m.\u001b[0m\u001b[0mprepare\u001b[0m\u001b[0;31m`\u001b[0m \u001b[0;32mfor\u001b[0m \u001b[0;34m**\u001b[0m\u001b[0mkwargs\u001b[0m\u001b[0;34m.\u001b[0m\u001b[0;34m\u001b[0m\u001b[0;34m\u001b[0m\u001b[0m\n\u001b[1;32m    121\u001b[0m     \"\"\"\n\u001b[0;32m--> 122\u001b[0;31m     \u001b[0mopts\u001b[0m \u001b[0;34m=\u001b[0m \u001b[0mfp\u001b[0m\u001b[0;34m.\u001b[0m\u001b[0mmerge\u001b[0m\u001b[0;34m(\u001b[0m\u001b[0m_extract_data\u001b[0m\u001b[0;34m(\u001b[0m\u001b[0mtopic_model\u001b[0m\u001b[0;34m,\u001b[0m \u001b[0mcorpus\u001b[0m\u001b[0;34m,\u001b[0m \u001b[0mdictionary\u001b[0m\u001b[0;34m,\u001b[0m \u001b[0mdoc_topic_dist\u001b[0m\u001b[0;34m)\u001b[0m\u001b[0;34m,\u001b[0m \u001b[0mkwargs\u001b[0m\u001b[0;34m)\u001b[0m\u001b[0;34m\u001b[0m\u001b[0;34m\u001b[0m\u001b[0m\n\u001b[0m\u001b[1;32m    123\u001b[0m     \u001b[0;32mreturn\u001b[0m \u001b[0mvis_prepare\u001b[0m\u001b[0;34m(\u001b[0m\u001b[0;34m**\u001b[0m\u001b[0mopts\u001b[0m\u001b[0;34m)\u001b[0m\u001b[0;34m\u001b[0m\u001b[0;34m\u001b[0m\u001b[0m\n",
            "\u001b[0;32m/usr/local/lib/python3.10/dist-packages/pyLDAvis/gensim.py\u001b[0m in \u001b[0;36m_extract_data\u001b[0;34m(topic_model, corpus, dictionary, doc_topic_dists)\u001b[0m\n\u001b[1;32m     21\u001b[0m         \u001b[0mcorpus\u001b[0m \u001b[0;34m=\u001b[0m \u001b[0mgensim\u001b[0m\u001b[0;34m.\u001b[0m\u001b[0mmatutils\u001b[0m\u001b[0;34m.\u001b[0m\u001b[0mSparse2Corpus\u001b[0m\u001b[0;34m(\u001b[0m\u001b[0mcorpus_csc\u001b[0m\u001b[0;34m)\u001b[0m\u001b[0;34m\u001b[0m\u001b[0;34m\u001b[0m\u001b[0m\n\u001b[1;32m     22\u001b[0m \u001b[0;34m\u001b[0m\u001b[0m\n\u001b[0;32m---> 23\u001b[0;31m     \u001b[0mvocab\u001b[0m \u001b[0;34m=\u001b[0m \u001b[0mlist\u001b[0m\u001b[0;34m(\u001b[0m\u001b[0mdictionary\u001b[0m\u001b[0;34m.\u001b[0m\u001b[0mtoken2id\u001b[0m\u001b[0;34m.\u001b[0m\u001b[0mkeys\u001b[0m\u001b[0;34m(\u001b[0m\u001b[0;34m)\u001b[0m\u001b[0;34m)\u001b[0m\u001b[0;34m\u001b[0m\u001b[0;34m\u001b[0m\u001b[0m\n\u001b[0m\u001b[1;32m     24\u001b[0m     \u001b[0;31m# TODO: add the hyperparam to smooth it out? no beta in online LDA impl.. hmm..\u001b[0m\u001b[0;34m\u001b[0m\u001b[0;34m\u001b[0m\u001b[0m\n\u001b[1;32m     25\u001b[0m     \u001b[0;31m# for now, I'll just make sure we don't ever get zeros...\u001b[0m\u001b[0;34m\u001b[0m\u001b[0;34m\u001b[0m\u001b[0m\n",
            "\u001b[0;31mAttributeError\u001b[0m: 'numpy.ndarray' object has no attribute 'token2id'"
          ]
        }
      ]
    },
    {
      "cell_type": "code",
      "source": [],
      "metadata": {
        "id": "MW712zOsT5Vl"
      },
      "execution_count": null,
      "outputs": []
    },
    {
      "cell_type": "code",
      "source": [
        "# svd on count vectorizer\n",
        "from sklearn.decomposition import TruncatedSVD\n",
        "n_comp=30\n",
        "svd = TruncatedSVD(n_components=n_comp, random_state=42)\n",
        "svd_cv = svd.fit_transform(X)"
      ],
      "metadata": {
        "id": "A0Dh0U1BL3Hf"
      },
      "execution_count": null,
      "outputs": []
    },
    {
      "cell_type": "code",
      "source": [
        "#Applying Tsne to count vectorizer model\n",
        "from sklearn.manifold import TSNE\n",
        "tsne_model = TSNE(n_components=2, verbose=1, random_state=42, n_iter=250)\n",
        "tsne_cv = tsne_model.fit_transform(svd_cv)\n"
      ],
      "metadata": {
        "colab": {
          "base_uri": "https://localhost:8080/"
        },
        "id": "TJkwJSi4LtvY",
        "outputId": "ae6a95d9-ddb3-494a-8c32-a062a719d368"
      },
      "execution_count": null,
      "outputs": [
        {
          "output_type": "stream",
          "name": "stdout",
          "text": [
            "[t-SNE] Computing 91 nearest neighbors...\n",
            "[t-SNE] Indexed 33106 samples in 0.002s...\n",
            "[t-SNE] Computed neighbors for 33106 samples in 13.728s...\n",
            "[t-SNE] Computed conditional probabilities for sample 1000 / 33106\n",
            "[t-SNE] Computed conditional probabilities for sample 2000 / 33106\n",
            "[t-SNE] Computed conditional probabilities for sample 3000 / 33106\n",
            "[t-SNE] Computed conditional probabilities for sample 4000 / 33106\n",
            "[t-SNE] Computed conditional probabilities for sample 5000 / 33106\n",
            "[t-SNE] Computed conditional probabilities for sample 6000 / 33106\n",
            "[t-SNE] Computed conditional probabilities for sample 7000 / 33106\n",
            "[t-SNE] Computed conditional probabilities for sample 8000 / 33106\n",
            "[t-SNE] Computed conditional probabilities for sample 9000 / 33106\n",
            "[t-SNE] Computed conditional probabilities for sample 10000 / 33106\n",
            "[t-SNE] Computed conditional probabilities for sample 11000 / 33106\n",
            "[t-SNE] Computed conditional probabilities for sample 12000 / 33106\n",
            "[t-SNE] Computed conditional probabilities for sample 13000 / 33106\n",
            "[t-SNE] Computed conditional probabilities for sample 14000 / 33106\n",
            "[t-SNE] Computed conditional probabilities for sample 15000 / 33106\n",
            "[t-SNE] Computed conditional probabilities for sample 16000 / 33106\n",
            "[t-SNE] Computed conditional probabilities for sample 17000 / 33106\n",
            "[t-SNE] Computed conditional probabilities for sample 18000 / 33106\n",
            "[t-SNE] Computed conditional probabilities for sample 19000 / 33106\n",
            "[t-SNE] Computed conditional probabilities for sample 20000 / 33106\n",
            "[t-SNE] Computed conditional probabilities for sample 21000 / 33106\n",
            "[t-SNE] Computed conditional probabilities for sample 22000 / 33106\n",
            "[t-SNE] Computed conditional probabilities for sample 23000 / 33106\n",
            "[t-SNE] Computed conditional probabilities for sample 24000 / 33106\n",
            "[t-SNE] Computed conditional probabilities for sample 25000 / 33106\n",
            "[t-SNE] Computed conditional probabilities for sample 26000 / 33106\n",
            "[t-SNE] Computed conditional probabilities for sample 27000 / 33106\n",
            "[t-SNE] Computed conditional probabilities for sample 28000 / 33106\n",
            "[t-SNE] Computed conditional probabilities for sample 29000 / 33106\n",
            "[t-SNE] Computed conditional probabilities for sample 30000 / 33106\n",
            "[t-SNE] Computed conditional probabilities for sample 31000 / 33106\n",
            "[t-SNE] Computed conditional probabilities for sample 32000 / 33106\n",
            "[t-SNE] Computed conditional probabilities for sample 33000 / 33106\n",
            "[t-SNE] Computed conditional probabilities for sample 33106 / 33106\n",
            "[t-SNE] Mean sigma: 0.000000\n",
            "[t-SNE] KL divergence after 250 iterations with early exaggeration: 108.739792\n",
            "[t-SNE] KL divergence after 251 iterations: 179769313486231570814527423731704356798070567525844996598917476803157260780028538760589558632766878171540458953514382464234321326889464182768467546703537516986049910576551282076245490090389328944075868508455133942304583236903222948165808559332123348274797826204144723168738177180919299881250404026184124858368.000000\n"
          ]
        }
      ]
    },
    {
      "cell_type": "code",
      "source": [],
      "metadata": {
        "id": "O_7_CIS2JJlK"
      },
      "execution_count": null,
      "outputs": []
    },
    {
      "cell_type": "code",
      "source": [
        "from sklearn.cluster import MiniBatchKMeans\n",
        "\n",
        "num_clusters = 4 # need to be selected wisely\n",
        "kmeans_model = MiniBatchKMeans(n_clusters=num_clusters,\n",
        "                               init='k-means++',\n",
        "                               random_state=21,\n",
        "                               n_init=25,\n",
        "                               init_size=1000, batch_size=1000, verbose=0, max_iter=1000)"
      ],
      "metadata": {
        "id": "QUJcZdikLFYV"
      },
      "execution_count": null,
      "outputs": []
    },
    {
      "cell_type": "code",
      "source": [
        "#k-means on n-grams samples\n",
        "kmeans = kmeans_model.fit(X)\n",
        "kmeans_clusters = kmeans.predict(X)\n",
        "kmeans_distances = kmeans.transform(X)\n",
        "# print(kmeans_distances.shape)\n",
        "tsne_kmeans = tsne_model.fit_transform(kmeans_distances)\n",
        "kmeans_df = pd.DataFrame(tsne_kmeans, columns=['x', 'y'])\n",
        "kmeans_df['cluster'] = kmeans_clusters\n",
        "kmeans_df['Tweet'] = tweets['Tweet']\n",
        "kmeans_df['Hashtag'] = tweets['Hashtag']\n",
        "plot_kmeans = bp.figure(plot_width=700, plot_height=600,\n",
        "                        title=\"KMeans clustering of the Tweet\",\n",
        "    tools=\"pan,wheel_zoom,box_zoom,reset,hover,save\",\n",
        "    x_axis_type=None, y_axis_type=None, min_border=1)\n",
        "\n",
        "colormap = np.array([\"#6d8dca\", \"#69de53\", \"#723bca\", \"#c3e14c\"])\n",
        "\n",
        "source = ColumnDataSource(data=dict(x=kmeans_df['x'], y=kmeans_df['y'],\n",
        "                                    color=colormap[kmeans_clusters],\n",
        "                                    Tweet=kmeans_df['Tweet'],\n",
        "                                    Hashtag=kmeans_df['Hashtag'],\n",
        "                                    cluster=kmeans_df['cluster']))\n",
        "\n",
        "plot_kmeans.scatter(x='x', y='y', color='color', source=source)\n",
        "hover = plot_kmeans.select(dict(type=HoverTool))\n",
        "hover.tooltips={\"Tweet\": \"@Tweet\", \"Hashtag\": \"@Hashtag\", \"cluster\":\"@cluster\" }\n",
        "show(plot_kmeans)"
      ],
      "metadata": {
        "colab": {
          "base_uri": "https://localhost:8080/"
        },
        "id": "SpAUGirnF803",
        "outputId": "05b7c665-c393-44c0-b2e7-3980c111b291"
      },
      "execution_count": null,
      "outputs": [
        {
          "output_type": "stream",
          "name": "stdout",
          "text": [
            "[t-SNE] Computing 91 nearest neighbors...\n",
            "[t-SNE] Indexed 33106 samples in 0.019s...\n",
            "[t-SNE] Computed neighbors for 33106 samples in 5.517s...\n",
            "[t-SNE] Computed conditional probabilities for sample 1000 / 33106\n",
            "[t-SNE] Computed conditional probabilities for sample 2000 / 33106\n",
            "[t-SNE] Computed conditional probabilities for sample 3000 / 33106\n",
            "[t-SNE] Computed conditional probabilities for sample 4000 / 33106\n",
            "[t-SNE] Computed conditional probabilities for sample 5000 / 33106\n",
            "[t-SNE] Computed conditional probabilities for sample 6000 / 33106\n",
            "[t-SNE] Computed conditional probabilities for sample 7000 / 33106\n",
            "[t-SNE] Computed conditional probabilities for sample 8000 / 33106\n",
            "[t-SNE] Computed conditional probabilities for sample 9000 / 33106\n",
            "[t-SNE] Computed conditional probabilities for sample 10000 / 33106\n",
            "[t-SNE] Computed conditional probabilities for sample 11000 / 33106\n",
            "[t-SNE] Computed conditional probabilities for sample 12000 / 33106\n",
            "[t-SNE] Computed conditional probabilities for sample 13000 / 33106\n",
            "[t-SNE] Computed conditional probabilities for sample 14000 / 33106\n",
            "[t-SNE] Computed conditional probabilities for sample 15000 / 33106\n",
            "[t-SNE] Computed conditional probabilities for sample 16000 / 33106\n",
            "[t-SNE] Computed conditional probabilities for sample 17000 / 33106\n",
            "[t-SNE] Computed conditional probabilities for sample 18000 / 33106\n",
            "[t-SNE] Computed conditional probabilities for sample 19000 / 33106\n",
            "[t-SNE] Computed conditional probabilities for sample 20000 / 33106\n",
            "[t-SNE] Computed conditional probabilities for sample 21000 / 33106\n",
            "[t-SNE] Computed conditional probabilities for sample 22000 / 33106\n",
            "[t-SNE] Computed conditional probabilities for sample 23000 / 33106\n",
            "[t-SNE] Computed conditional probabilities for sample 24000 / 33106\n",
            "[t-SNE] Computed conditional probabilities for sample 25000 / 33106\n",
            "[t-SNE] Computed conditional probabilities for sample 26000 / 33106\n",
            "[t-SNE] Computed conditional probabilities for sample 27000 / 33106\n",
            "[t-SNE] Computed conditional probabilities for sample 28000 / 33106\n",
            "[t-SNE] Computed conditional probabilities for sample 29000 / 33106\n",
            "[t-SNE] Computed conditional probabilities for sample 30000 / 33106\n",
            "[t-SNE] Computed conditional probabilities for sample 31000 / 33106\n",
            "[t-SNE] Computed conditional probabilities for sample 32000 / 33106\n",
            "[t-SNE] Computed conditional probabilities for sample 33000 / 33106\n",
            "[t-SNE] Computed conditional probabilities for sample 33106 / 33106\n",
            "[t-SNE] Mean sigma: 0.000000\n",
            "[t-SNE] KL divergence after 250 iterations with early exaggeration: 84.717705\n",
            "[t-SNE] KL divergence after 251 iterations: 179769313486231570814527423731704356798070567525844996598917476803157260780028538760589558632766878171540458953514382464234321326889464182768467546703537516986049910576551282076245490090389328944075868508455133942304583236903222948165808559332123348274797826204144723168738177180919299881250404026184124858368.000000\n"
          ]
        }
      ]
    },
    {
      "cell_type": "code",
      "source": [],
      "metadata": {
        "id": "XSL9UdGBF8xL"
      },
      "execution_count": null,
      "outputs": []
    },
    {
      "cell_type": "markdown",
      "source": [
        "# TF-IDF + Spectral Clustering"
      ],
      "metadata": {
        "id": "S6umBPomW7Xl"
      }
    },
    {
      "cell_type": "code",
      "source": [
        "# TF-IDF\n",
        "\n",
        "from sklearn.feature_extraction.text import TfidfVectorizer\n",
        "vectorizer = TfidfVectorizer()\n",
        "X = vectorizer.fit_transform(corpus)"
      ],
      "metadata": {
        "id": "kGF3yoGc2TPg"
      },
      "execution_count": null,
      "outputs": []
    },
    {
      "cell_type": "code",
      "source": [
        "X.shape"
      ],
      "metadata": {
        "id": "DrxSb1nRDmwf",
        "colab": {
          "base_uri": "https://localhost:8080/"
        },
        "outputId": "264a39ce-5c59-49c7-ec75-9686286052dd"
      },
      "execution_count": null,
      "outputs": [
        {
          "output_type": "execute_result",
          "data": {
            "text/plain": [
              "(33106, 33106)"
            ]
          },
          "metadata": {},
          "execution_count": 40
        }
      ]
    },
    {
      "cell_type": "code",
      "source": [
        "vectorizer.get_feature_names_out()"
      ],
      "metadata": {
        "id": "VSM30aT-SCZP",
        "colab": {
          "base_uri": "https://localhost:8080/"
        },
        "outputId": "e517db1e-2e01-442b-c156-b238d720a231"
      },
      "execution_count": null,
      "outputs": [
        {
          "output_type": "execute_result",
          "data": {
            "text/plain": [
              "array(['aa', 'aaa', 'aaaaages', ..., '𝙛𝙖𝙢𝙞𝙡𝙮', '𝙞𝙣', '𝙩𝙝𝙚'], dtype=object)"
            ]
          },
          "metadata": {},
          "execution_count": 41
        }
      ]
    },
    {
      "cell_type": "code",
      "source": [
        "# SVD of TFIDF model\n",
        "n_comp=50\n",
        "svd = TruncatedSVD(n_components=n_comp, random_state=42)\n",
        "svd_tfidf = svd.fit_transform(X)\n",
        "print(svd_tfidf.shape)\n",
        "\n",
        "#Applying Tsne to TFIDF model\n",
        "from sklearn.manifold import TSNE\n",
        "tsne_model = TSNE(n_components=2, verbose=1, random_state=42, n_iter=250)\n",
        "tsne_tfidf = tsne_model.fit_transform(svd_tfidf)"
      ],
      "metadata": {
        "colab": {
          "base_uri": "https://localhost:8080/"
        },
        "id": "mMVN7DXEay0Y",
        "outputId": "5ed99fa9-743f-45f0-ce68-614fa0d11037"
      },
      "execution_count": null,
      "outputs": [
        {
          "output_type": "stream",
          "name": "stdout",
          "text": [
            "(33106, 50)\n",
            "[t-SNE] Computing 91 nearest neighbors...\n",
            "[t-SNE] Indexed 33106 samples in 0.002s...\n",
            "[t-SNE] Computed neighbors for 33106 samples in 8.893s...\n",
            "[t-SNE] Computed conditional probabilities for sample 1000 / 33106\n",
            "[t-SNE] Computed conditional probabilities for sample 2000 / 33106\n",
            "[t-SNE] Computed conditional probabilities for sample 3000 / 33106\n",
            "[t-SNE] Computed conditional probabilities for sample 4000 / 33106\n",
            "[t-SNE] Computed conditional probabilities for sample 5000 / 33106\n",
            "[t-SNE] Computed conditional probabilities for sample 6000 / 33106\n",
            "[t-SNE] Computed conditional probabilities for sample 7000 / 33106\n",
            "[t-SNE] Computed conditional probabilities for sample 8000 / 33106\n",
            "[t-SNE] Computed conditional probabilities for sample 9000 / 33106\n",
            "[t-SNE] Computed conditional probabilities for sample 10000 / 33106\n",
            "[t-SNE] Computed conditional probabilities for sample 11000 / 33106\n",
            "[t-SNE] Computed conditional probabilities for sample 12000 / 33106\n",
            "[t-SNE] Computed conditional probabilities for sample 13000 / 33106\n",
            "[t-SNE] Computed conditional probabilities for sample 14000 / 33106\n",
            "[t-SNE] Computed conditional probabilities for sample 15000 / 33106\n",
            "[t-SNE] Computed conditional probabilities for sample 16000 / 33106\n",
            "[t-SNE] Computed conditional probabilities for sample 17000 / 33106\n",
            "[t-SNE] Computed conditional probabilities for sample 18000 / 33106\n",
            "[t-SNE] Computed conditional probabilities for sample 19000 / 33106\n",
            "[t-SNE] Computed conditional probabilities for sample 20000 / 33106\n",
            "[t-SNE] Computed conditional probabilities for sample 21000 / 33106\n",
            "[t-SNE] Computed conditional probabilities for sample 22000 / 33106\n",
            "[t-SNE] Computed conditional probabilities for sample 23000 / 33106\n",
            "[t-SNE] Computed conditional probabilities for sample 24000 / 33106\n",
            "[t-SNE] Computed conditional probabilities for sample 25000 / 33106\n",
            "[t-SNE] Computed conditional probabilities for sample 26000 / 33106\n",
            "[t-SNE] Computed conditional probabilities for sample 27000 / 33106\n",
            "[t-SNE] Computed conditional probabilities for sample 28000 / 33106\n",
            "[t-SNE] Computed conditional probabilities for sample 29000 / 33106\n",
            "[t-SNE] Computed conditional probabilities for sample 30000 / 33106\n",
            "[t-SNE] Computed conditional probabilities for sample 31000 / 33106\n",
            "[t-SNE] Computed conditional probabilities for sample 32000 / 33106\n",
            "[t-SNE] Computed conditional probabilities for sample 33000 / 33106\n",
            "[t-SNE] Computed conditional probabilities for sample 33106 / 33106\n",
            "[t-SNE] Mean sigma: 0.009383\n",
            "[t-SNE] KL divergence after 250 iterations with early exaggeration: 109.121078\n",
            "[t-SNE] KL divergence after 251 iterations: 179769313486231570814527423731704356798070567525844996598917476803157260780028538760589558632766878171540458953514382464234321326889464182768467546703537516986049910576551282076245490090389328944075868508455133942304583236903222948165808559332123348274797826204144723168738177180919299881250404026184124858368.000000\n"
          ]
        }
      ]
    },
    {
      "cell_type": "code",
      "source": [
        "tsne_tfidf.shape"
      ],
      "metadata": {
        "colab": {
          "base_uri": "https://localhost:8080/"
        },
        "id": "DusvlTFQe0fj",
        "outputId": "d44aa909-8ffd-4c1d-d372-f03e3bd99705"
      },
      "execution_count": null,
      "outputs": [
        {
          "output_type": "execute_result",
          "data": {
            "text/plain": [
              "(33106, 2)"
            ]
          },
          "metadata": {},
          "execution_count": 43
        }
      ]
    },
    {
      "cell_type": "code",
      "source": [
        "# df = pd.DataFrame(tsne_tfidf)\n",
        "# df.to_csv(\"tsne_tfidf.csv\")"
      ],
      "metadata": {
        "id": "zhuwH_jQi6_k"
      },
      "execution_count": null,
      "outputs": []
    },
    {
      "cell_type": "code",
      "source": [
        "# import pandas as pd\n",
        "# import numpy as np"
      ],
      "metadata": {
        "id": "1INjayockG0k"
      },
      "execution_count": null,
      "outputs": []
    },
    {
      "cell_type": "code",
      "source": [
        "df = pd.read_csv('/content/tsne_tfidf.csv')\n",
        "arr = df.to_numpy()\n",
        "arr"
      ],
      "metadata": {
        "colab": {
          "base_uri": "https://localhost:8080/"
        },
        "id": "DNHR4i4Oj5i_",
        "outputId": "9ffbc01b-34ba-4256-b17a-daf180239303"
      },
      "execution_count": null,
      "outputs": [
        {
          "output_type": "execute_result",
          "data": {
            "text/plain": [
              "array([[ 0.0000000e+00,  9.8804160e-06,  2.1704851e-05],\n",
              "       [ 1.0000000e+00, -1.1380937e-04,  7.9948280e-05],\n",
              "       [ 2.0000000e+00,  1.0918758e-03, -1.1187509e-03],\n",
              "       ...,\n",
              "       [ 3.3103000e+04, -1.0406908e-03,  3.9028164e-03],\n",
              "       [ 3.3104000e+04,  3.8332088e-05,  6.8344385e-04],\n",
              "       [ 3.3105000e+04,  2.0573748e-04,  3.0067570e-04]])"
            ]
          },
          "metadata": {},
          "execution_count": 4
        }
      ]
    },
    {
      "cell_type": "code",
      "source": [
        "from sklearn.cluster import SpectralClustering\n",
        "clustering = SpectralClustering(n_clusters=4,assign_labels='discretize',random_state=0)\n",
        "clustering.fit(X)\n",
        "clustering.labels_"
      ],
      "metadata": {
        "id": "ojaJ5I7xW5sU"
      },
      "execution_count": null,
      "outputs": []
    },
    {
      "cell_type": "code",
      "source": [
        "import matplotlib.pyplot as plt\n",
        "%matplotlib inline"
      ],
      "metadata": {
        "id": "phWgMNokZOu8"
      },
      "execution_count": null,
      "outputs": []
    },
    {
      "cell_type": "code",
      "source": [
        "SpectralClustering(affinity='rbf', assign_labels='kmeans', coef0=1, degree=3,\n",
        "                   eigen_solver=None, eigen_tol=0.0, gamma=1.0,\n",
        "                   kernel_params=None, n_clusters=4, n_components=None,\n",
        "                   n_init=10, n_jobs=None, n_neighbors=10, random_state=None)\n",
        "labels = clustering.labels_\n",
        "\n",
        "plt.scatter(x[:,0], x[:,1], c=labels)\n",
        "plt.show()"
      ],
      "metadata": {
        "id": "zL7wJ-USY9v4"
      },
      "execution_count": null,
      "outputs": []
    },
    {
      "cell_type": "markdown",
      "source": [
        "# LDA + TF-IDF"
      ],
      "metadata": {
        "id": "R2OanW5TfyvN"
      }
    },
    {
      "cell_type": "code",
      "source": [
        "# TF-IDF\n",
        "\n",
        "from sklearn.feature_extraction.text import TfidfVectorizer\n",
        "vectorizer = TfidfVectorizer()\n",
        "X = vectorizer.fit_transform(corpus)"
      ],
      "metadata": {
        "id": "UAd9GLfq6w_R"
      },
      "execution_count": null,
      "outputs": []
    },
    {
      "cell_type": "code",
      "source": [
        "# tfidf = models.TfidfModel(corpus)\n",
        "# corpus_tfidf = tfidf[corpus]"
      ],
      "metadata": {
        "id": "zb1P_5dTW8UJ"
      },
      "execution_count": null,
      "outputs": []
    },
    {
      "cell_type": "code",
      "source": [
        "len(x)"
      ],
      "metadata": {
        "id": "K1SoB51UJbpp",
        "colab": {
          "base_uri": "https://localhost:8080/"
        },
        "outputId": "2128561c-2a5d-4718-ea50-c0501c0b97a1"
      },
      "execution_count": null,
      "outputs": [
        {
          "output_type": "execute_result",
          "data": {
            "text/plain": [
              "17639"
            ]
          },
          "metadata": {},
          "execution_count": 49
        }
      ]
    },
    {
      "cell_type": "code",
      "source": [
        "from sklearn.decomposition import LatentDirichletAllocation\n",
        "import gensim\n",
        "from gensim import corpora, models\n",
        "import pyLDAvis\n",
        "import pyLDAvis.gensim\n",
        "\n",
        "dic = corpora.Dictionary(x)\n",
        "corpus = [dic.doc2bow(i) for i in x]\n",
        "\n",
        "print(dic)\n",
        "print(corpus)\n",
        "\n",
        "tfidf = models.TfidfModel(corpus)\n",
        "corpus_tfidf = tfidf[corpus]\n",
        "\n",
        "# LDA Modelling\n",
        "LDA = gensim.models.ldamodel.LdaModel\n",
        "lda_model = LDA(corpus = corpus, id2word = dic, num_topics = 4, random_state = 42, chunksize = 1000, passes = 50, iterations = 100)\n",
        "\n",
        "lda_model.print_topics()\n",
        "\n",
        "# vizualizations\n",
        "\n",
        "pyLDAvis.enable_notebook()\n",
        "viz = pyLDAvis.gensim.prepare(lda_model, corpus, dic)\n",
        "viz"
      ],
      "metadata": {
        "id": "QxXznzmyf1HG",
        "colab": {
          "base_uri": "https://localhost:8080/",
          "height": 1000
        },
        "outputId": "53c16790-a9e2-4b86-b3e3-71c47cb2104c"
      },
      "execution_count": null,
      "outputs": [
        {
          "output_type": "stream",
          "name": "stderr",
          "text": [
            "IOPub data rate exceeded.\n",
            "The notebook server will temporarily stop sending output\n",
            "to the client in order to avoid crashing it.\n",
            "To change this limit, set the config variable\n",
            "`--NotebookApp.iopub_data_rate_limit`.\n",
            "\n",
            "Current values:\n",
            "NotebookApp.iopub_data_rate_limit=1000000.0 (bytes/sec)\n",
            "NotebookApp.rate_limit_window=3.0 (secs)\n",
            "\n"
          ]
        },
        {
          "output_type": "execute_result",
          "data": {
            "text/plain": [
              "PreparedData(topic_coordinates=              x        y  topics  cluster       Freq\n",
              "topic                                               \n",
              "0     -0.135277 -0.22512       1        1  46.521201\n",
              "3     -0.225505  0.20187       2        1  24.014496\n",
              "1      0.114453 -0.07084       3        1  15.170256\n",
              "2      0.246329  0.09409       4        1  14.294048, topic_info=             Term         Freq        Total Category  logprob  loglift\n",
              "16653         ipl  3076.000000  3076.000000  Default  30.0000  30.0000\n",
              "451    technology  4642.000000  4642.000000  Default  29.0000  29.0000\n",
              "5254     football  3078.000000  3078.000000  Default  28.0000  28.0000\n",
              "2532        sport  3573.000000  3573.000000  Default  27.0000  27.0000\n",
              "850            ai  2821.000000  2821.000000  Default  26.0000  26.0000\n",
              "...           ...          ...          ...      ...      ...      ...\n",
              "924           run   178.779523   383.069499   Topic4  -5.5402   1.1833\n",
              "8411        score   170.821726   271.170390   Topic4  -5.5858   1.4832\n",
              "450          team   181.933580   716.533208   Topic4  -5.5227   0.5745\n",
              "221        market   173.826360   364.344246   Topic4  -5.5683   1.2053\n",
              "4336     politics   178.364146  3639.019493   Topic4  -5.5425  -1.0703\n",
              "\n",
              "[225 rows x 6 columns], token_table=       Topic      Freq     Term\n",
              "term                           \n",
              "850        2  0.999812       ai\n",
              "881        1  0.996973     also\n",
              "1          1  0.999941      amp\n",
              "1554       3  0.995804      app\n",
              "27427      3  0.983874  arsenal\n",
              "...      ...       ...      ...\n",
              "826        4  0.096030    world\n",
              "306        1  0.997524    would\n",
              "1054       1  0.955167     year\n",
              "1054       3  0.045111     year\n",
              "872        1  0.999169    years\n",
              "\n",
              "[272 rows x 3 columns], R=30, lambda_step=0.01, plot_opts={'xlab': 'PC1', 'ylab': 'PC2'}, topic_order=[1, 4, 2, 3])"
            ],
            "text/html": [
              "\n",
              "<link rel=\"stylesheet\" type=\"text/css\" href=\"https://cdn.jsdelivr.net/gh/bmabey/pyLDAvis@3.4.0/pyLDAvis/js/ldavis.v1.0.0.css\">\n",
              "\n",
              "\n",
              "<div id=\"ldavis_el7911405833098855044331343548\" style=\"background-color:white;\"></div>\n",
              "<script type=\"text/javascript\">\n",
              "\n",
              "var ldavis_el7911405833098855044331343548_data = {\"mdsDat\": {\"x\": [-0.13527721477790472, -0.22550545960999085, 0.11445349422446827, 0.24632918016342742], \"y\": [-0.2251199457687949, 0.20187015670724678, -0.07084036507740633, 0.09409015413895447], \"topics\": [1, 2, 3, 4], \"cluster\": [1, 1, 1, 1], \"Freq\": [46.52120063920402, 24.014495825132524, 15.170255531616073, 14.294048004047385]}, \"tinfo\": {\"Term\": [\"ipl\", \"technology\", \"football\", \"sport\", \"ai\", \"cricket\", \"politics\", \"amp\", \"health\", \"innovation\", \"blockchain\", \"tech\", \"soccer\", \"match\", \"web\", \"news\", \"win\", \"nfl\", \"bet\", \"game\", \"tataipl\", \"digital\", \"vs\", \"technologies\", \"work\", \"people\", \"kkr\", \"chatgpt\", \"data\", \"women\", \"amp\", \"people\", \"work\", \"support\", \"women\", \"need\", \"good\", \"mentalhealth\", \"mental\", \"life\", \"talk\", \"thank\", \"excite\", \"would\", \"many\", \"years\", \"also\", \"want\", \"may\", \"well\", \"better\", \"community\", \"every\", \"discuss\", \"even\", \"care\", \"government\", \"improve\", \"much\", \"uk\", \"health\", \"continue\", \"help\", \"time\", \"year\", \"one\", \"know\", \"great\", \"look\", \"day\", \"make\", \"come\", \"us\", \"get\", \"new\", \"take\", \"today\", \"politics\", \"see\", \"go\", \"like\", \"ai\", \"innovation\", \"blockchain\", \"tech\", \"web\", \"technologies\", \"digital\", \"chatgpt\", \"data\", \"iot\", \"metaverse\", \"robotics\", \"machinelearning\", \"bjp\", \"vote\", \"party\", \"congress\", \"engineer\", \"industry\", \"bigdata\", \"cc\", \"election\", \"intelligence\", \"robots\", \"platform\", \"digitalhealth\", \"edge\", \"matrixainetwork\", \"artificial\", \"mwc\", \"tool\", \"technology\", \"man\", \"politics\", \"potential\", \"business\", \"future\", \"use\", \"power\", \"learn\", \"new\", \"news\", \"world\", \"say\", \"soccer\", \"nfl\", \"bet\", \"basketball\", \"crypto\", \"nft\", \"fifa\", \"premierleague\", \"chelsea\", \"nba\", \"liverpool\", \"goal\", \"app\", \"stream\", \"epl\", \"thrill\", \"footba\", \"card\", \"crypt\", \"thehobby\", \"sportscards\", \"odds\", \"fast\", \"content\", \"mlb\", \"easter\", \"manchester\", \"arsenal\", \"medical\", \"refill\", \"football\", \"sport\", \"club\", \"game\", \"messi\", \"goals\", \"best\", \"league\", \"player\", \"news\", \"team\", \"check\", \"win\", \"unite\", \"vs\", \"baseball\", \"technology\", \"match\", \"us\", \"premier\", \"live\", \"join\", \"new\", \"ipl\", \"cricket\", \"tataipl\", \"kkr\", \"rcb\", \"usa\", \"breakingnews\", \"gt\", \"crickettwitter\", \"tennis\", \"entertainment\", \"indian\", \"stock\", \"season\", \"newsbreak\", \"sp\", \"gujarat\", \"csk\", \"dc\", \"pakistan\", \"players\", \"ball\", \"rr\", \"cup\", \"kkrvsrcb\", \"sportsnews\", \"bowl\", \"pbks\", \"kolkata\", \"kings\", \"match\", \"hockey\", \"trend\", \"sport\", \"vs\", \"win\", \"news\", \"break\", \"update\", \"live\", \"football\", \"baseball\", \"run\", \"score\", \"team\", \"market\", \"politics\"], \"Freq\": [3076.0, 4642.0, 3078.0, 3573.0, 2821.0, 1575.0, 3639.0, 2884.0, 2409.0, 906.0, 891.0, 697.0, 475.0, 619.0, 594.0, 931.0, 635.0, 337.0, 333.0, 604.0, 312.0, 424.0, 450.0, 406.0, 740.0, 733.0, 282.0, 380.0, 379.0, 664.0, 2883.5619902495237, 732.5874473801309, 740.4095246117136, 610.4397191671887, 663.3640102203863, 592.7054580721451, 539.6122426725643, 417.79156165689966, 399.1025933008366, 411.24212835706754, 419.84101601502107, 396.85495048075836, 362.3404108507155, 375.28429497037837, 339.78347182253543, 329.6670948318939, 325.3834563860925, 353.1443005699821, 323.0152026179838, 316.2308971830171, 284.76137850329343, 312.8097909360923, 270.5209698292657, 249.86773398924805, 249.1789919861601, 242.38968266350685, 262.5049315580821, 236.176855711912, 233.99959516036256, 264.1390632382215, 2392.0463222997637, 243.95068856428247, 564.2377888703556, 699.8350354262919, 486.68325831781243, 685.9815135443584, 496.1623125650414, 476.6525340805362, 500.1751199035057, 538.8231468391838, 815.7080955377478, 500.47283396606906, 675.7480455818522, 695.4838617515074, 838.2349077110979, 527.3532699936915, 552.6964081953013, 868.0073492545425, 431.03885391821746, 419.6539396346854, 418.522957488819, 2820.8879656683653, 906.1168322367884, 890.384908589484, 697.0757793184829, 594.3426054583298, 405.68849524716694, 424.162959628683, 379.5929050310019, 379.20420295882127, 336.9770135824535, 305.6744901176188, 285.7883887834991, 277.9390474471679, 267.09288795323795, 253.53384808028318, 253.79920582855098, 223.07533540728386, 210.35640505422094, 197.5604646618346, 181.22804797368988, 177.59861808431836, 176.08070264580135, 172.19378880815762, 163.53089866639942, 166.74739940668078, 157.89224247000755, 163.40732276013375, 152.21993557634946, 150.47061592529224, 148.65262319961283, 152.0797035547085, 4358.394701184379, 367.7176470032587, 2592.4859154939268, 176.39080923024318, 246.78658934695517, 410.2209181722322, 442.4195940863391, 304.7530417498087, 251.8224723070328, 318.2218713893298, 225.65083400900994, 216.49075436979243, 207.12916245557457, 474.8340617699038, 336.7451976167849, 332.9933557719255, 228.6786754819938, 244.50924736366323, 201.4633446817837, 193.94084540359532, 192.48968188953108, 188.43367345331635, 168.3768300651296, 143.05908287144254, 104.27922100807294, 101.66982973559844, 99.77026554081544, 92.79771710503849, 92.82371232595051, 88.08793448955768, 86.10249603902594, 82.7988298080376, 78.23634781772037, 77.71033283456431, 77.26271988781261, 80.56948078795715, 75.36216539889963, 69.57088594006858, 71.06766487749512, 69.90018687164344, 67.35946349440927, 67.77621977633814, 65.9687079222739, 2755.389525817041, 2301.242978502671, 131.14307616553626, 385.31849450521133, 101.3888675362433, 117.28403360320927, 221.89878426786782, 163.6989169152864, 155.44601944952464, 302.95768979621243, 248.11524589119801, 164.8651345467908, 201.21271024015923, 117.62224155528278, 157.46719851547482, 139.03795979662488, 283.14188174859476, 157.63616745140294, 169.61609314206257, 116.47975722287076, 144.66593637741926, 132.22335202123762, 141.83223223116153, 3076.035632149546, 1574.8725816920173, 311.3345494361576, 281.978613571745, 233.61857766221456, 226.1696049501256, 217.5735385796699, 221.09780152007278, 207.95129937020758, 205.30732811897298, 198.8342682771282, 184.7253619490448, 176.96610285174586, 188.2774269228011, 171.78264594678407, 164.65568694594964, 165.90751007930933, 161.21879576558948, 154.23512008920375, 144.44145621413332, 153.03678034876341, 130.11558375085647, 119.03221090521366, 128.02126993858968, 111.63320126755688, 112.50051443314602, 111.7722432444307, 106.97686964257132, 105.4925146284183, 103.72717033742889, 460.9557619794936, 182.741344380463, 244.06745551402287, 1271.5001868177726, 292.5466520836698, 352.50694326442584, 402.9182645150758, 246.58484374688487, 183.16089848257107, 262.2135309447405, 322.3627105397443, 182.12802431439613, 178.77952281749666, 170.82172624021712, 181.93357973482532, 173.82636048248244, 178.36414644274984], \"Total\": [3076.0, 4642.0, 3078.0, 3573.0, 2821.0, 1575.0, 3639.0, 2884.0, 2409.0, 906.0, 891.0, 697.0, 475.0, 619.0, 594.0, 931.0, 635.0, 337.0, 333.0, 604.0, 312.0, 424.0, 450.0, 406.0, 740.0, 733.0, 282.0, 380.0, 379.0, 664.0, 2884.1702919078693, 733.1642180784288, 740.9970951502088, 611.0457163121405, 664.0296205165098, 593.3247370088493, 540.2199605882428, 418.34366299240986, 399.6554181082002, 411.8198863108333, 420.4527056909562, 397.44771713829437, 362.96444998671785, 375.930875606008, 340.385549197896, 330.2745795955889, 325.9868057817302, 353.8006040640844, 323.62288389593147, 316.84228864705653, 285.34472801898977, 313.4626950757326, 271.10628534468185, 250.45752131253175, 249.774024934185, 242.97030300073197, 263.135810779221, 236.76289553022377, 234.5863183513114, 264.81343965489526, 2409.561298057231, 244.59731826488607, 581.5877047107339, 738.4913055800541, 509.8587443957856, 758.8824895618777, 540.7049474279953, 519.4836043894946, 560.926995424172, 614.558595527862, 1059.9592471166297, 572.474889342832, 845.7986594498261, 883.0933399512345, 1380.430903523512, 686.334770813621, 858.4344271001021, 3639.0194931365545, 624.6738694643599, 570.208838310908, 626.5464425507499, 2821.5312416260917, 906.7680514825182, 891.0274191563612, 697.7268668384635, 594.998533287326, 406.3365760392262, 424.85933749312704, 380.22805530959, 379.8473281226807, 337.60615714826554, 306.3101174563159, 286.4203544869245, 278.56742959396695, 267.7230302310555, 254.17362520380075, 254.4479019442364, 223.70827008579263, 211.01350600215721, 198.2188804529996, 181.85576537364807, 178.22876864593388, 176.71402834450058, 172.8306399929342, 164.16220127311217, 167.40528359825453, 158.52401190047905, 164.07067701392725, 152.84997138302282, 151.11388482267134, 149.2928966086576, 152.74892368987733, 4642.044846763962, 398.09681992388244, 3639.0194931365545, 182.55431551496707, 282.8473835765447, 574.172467833803, 810.7592710310355, 455.71092204466277, 503.3362461193345, 1380.430903523512, 931.8756736050007, 697.6952667459881, 550.1146210918895, 475.5822999108205, 337.47860710101804, 333.73614399746884, 229.41662767497402, 245.30216082532544, 202.2261181619673, 194.68372125144202, 193.22853852027472, 189.17942973324983, 169.11671620580415, 143.799594405011, 105.04419546557075, 102.42982719470366, 100.5274697643805, 93.53459621127666, 93.60689453646948, 88.83717281507879, 86.84869058187974, 83.52609187367064, 78.9644306058059, 78.43862488294451, 78.00716514552666, 81.34821171783469, 76.145379145634, 70.30496920796111, 71.82791977236379, 70.65209356295313, 68.09813500441554, 68.52390362311543, 66.70340402581122, 3078.3551497563403, 3573.3497158055725, 150.85910994707393, 604.0581203033893, 112.61246252328364, 155.57585567734208, 464.23727673605435, 293.6790265270373, 270.33595142742064, 931.8756736050007, 716.5332079028544, 353.0865961801426, 635.7049133657318, 184.359434741082, 450.6206925616861, 321.76361426669746, 4642.044846763962, 619.1923074897953, 845.7986594498261, 197.67907454148883, 773.0958515465628, 598.5372529008177, 1380.430903523512, 3076.7900824580283, 1575.6407414443593, 312.08708000479055, 282.7304900729731, 234.3725023886554, 226.95465931294459, 218.33138538077534, 221.88628155204222, 208.7109537695083, 206.08218721024178, 199.59712210935038, 185.5101031494406, 177.73676430729975, 189.1092474849006, 172.5426692386229, 165.41142974383428, 166.67745835073072, 161.9722610827338, 154.9927466971219, 145.21695118952397, 153.90343170138968, 130.9009083464746, 119.78628024322902, 128.8411585303896, 112.38667151160823, 113.27680860352945, 112.55513061528055, 107.73085702372366, 106.24790039491717, 104.48326677658935, 619.1923074897953, 210.85516042428713, 343.14049504584546, 3573.3497158055725, 450.6206925616861, 635.7049133657318, 931.8756736050007, 429.69865964073864, 249.5488879928931, 773.0958515465628, 3078.3551497563403, 321.76361426669746, 383.069498645777, 271.1703898497998, 716.5332079028544, 364.3442463107091, 3639.0194931365545], \"Category\": [\"Default\", \"Default\", \"Default\", \"Default\", \"Default\", \"Default\", \"Default\", \"Default\", \"Default\", \"Default\", \"Default\", \"Default\", \"Default\", \"Default\", \"Default\", \"Default\", \"Default\", \"Default\", \"Default\", \"Default\", \"Default\", \"Default\", \"Default\", \"Default\", \"Default\", \"Default\", \"Default\", \"Default\", \"Default\", \"Default\", \"Topic1\", \"Topic1\", \"Topic1\", \"Topic1\", \"Topic1\", \"Topic1\", \"Topic1\", \"Topic1\", \"Topic1\", \"Topic1\", \"Topic1\", \"Topic1\", \"Topic1\", \"Topic1\", \"Topic1\", \"Topic1\", \"Topic1\", \"Topic1\", \"Topic1\", \"Topic1\", \"Topic1\", \"Topic1\", \"Topic1\", \"Topic1\", \"Topic1\", \"Topic1\", \"Topic1\", \"Topic1\", \"Topic1\", \"Topic1\", \"Topic1\", \"Topic1\", \"Topic1\", \"Topic1\", \"Topic1\", \"Topic1\", \"Topic1\", \"Topic1\", \"Topic1\", \"Topic1\", \"Topic1\", \"Topic1\", \"Topic1\", \"Topic1\", \"Topic1\", \"Topic1\", \"Topic1\", \"Topic1\", \"Topic1\", \"Topic1\", \"Topic1\", \"Topic2\", \"Topic2\", \"Topic2\", \"Topic2\", \"Topic2\", \"Topic2\", \"Topic2\", \"Topic2\", \"Topic2\", \"Topic2\", \"Topic2\", \"Topic2\", \"Topic2\", \"Topic2\", \"Topic2\", \"Topic2\", \"Topic2\", \"Topic2\", \"Topic2\", \"Topic2\", \"Topic2\", \"Topic2\", \"Topic2\", \"Topic2\", \"Topic2\", \"Topic2\", \"Topic2\", \"Topic2\", \"Topic2\", \"Topic2\", \"Topic2\", \"Topic2\", \"Topic2\", \"Topic2\", \"Topic2\", \"Topic2\", \"Topic2\", \"Topic2\", \"Topic2\", \"Topic2\", \"Topic2\", \"Topic2\", \"Topic2\", \"Topic2\", \"Topic3\", \"Topic3\", \"Topic3\", \"Topic3\", \"Topic3\", \"Topic3\", \"Topic3\", \"Topic3\", \"Topic3\", \"Topic3\", \"Topic3\", \"Topic3\", \"Topic3\", \"Topic3\", \"Topic3\", \"Topic3\", \"Topic3\", \"Topic3\", \"Topic3\", \"Topic3\", \"Topic3\", \"Topic3\", \"Topic3\", \"Topic3\", \"Topic3\", \"Topic3\", \"Topic3\", \"Topic3\", \"Topic3\", \"Topic3\", \"Topic3\", \"Topic3\", \"Topic3\", \"Topic3\", \"Topic3\", \"Topic3\", \"Topic3\", \"Topic3\", \"Topic3\", \"Topic3\", \"Topic3\", \"Topic3\", \"Topic3\", \"Topic3\", \"Topic3\", \"Topic3\", \"Topic3\", \"Topic3\", \"Topic3\", \"Topic3\", \"Topic3\", \"Topic3\", \"Topic3\", \"Topic4\", \"Topic4\", \"Topic4\", \"Topic4\", \"Topic4\", \"Topic4\", \"Topic4\", \"Topic4\", \"Topic4\", \"Topic4\", \"Topic4\", \"Topic4\", \"Topic4\", \"Topic4\", \"Topic4\", \"Topic4\", \"Topic4\", \"Topic4\", \"Topic4\", \"Topic4\", \"Topic4\", \"Topic4\", \"Topic4\", \"Topic4\", \"Topic4\", \"Topic4\", \"Topic4\", \"Topic4\", \"Topic4\", \"Topic4\", \"Topic4\", \"Topic4\", \"Topic4\", \"Topic4\", \"Topic4\", \"Topic4\", \"Topic4\", \"Topic4\", \"Topic4\", \"Topic4\", \"Topic4\", \"Topic4\", \"Topic4\", \"Topic4\", \"Topic4\", \"Topic4\", \"Topic4\"], \"logprob\": [30.0, 29.0, 28.0, 27.0, 26.0, 25.0, 24.0, 23.0, 22.0, 21.0, 20.0, 19.0, 18.0, 17.0, 16.0, 15.0, 14.0, 13.0, 12.0, 11.0, 10.0, 9.0, 8.0, 7.0, 6.0, 5.0, 4.0, 3.0, 2.0, 1.0, -3.9397, -5.3099, -5.2992, -5.4923, -5.4091, -5.5217, -5.6156, -5.8715, -5.9172, -5.8873, -5.8666, -5.9229, -6.0139, -5.9788, -6.0781, -6.1084, -6.1214, -6.0396, -6.1287, -6.15, -6.2548, -6.1608, -6.3061, -6.3855, -6.3883, -6.4159, -6.3362, -6.4419, -6.4511, -6.33, -4.1265, -6.4095, -5.571, -5.3556, -5.7188, -5.3756, -5.6995, -5.7396, -5.6915, -5.617, -5.2024, -5.6909, -5.3906, -5.3618, -5.1751, -5.6386, -5.5916, -5.1402, -5.8402, -5.867, -5.8697, -3.3004, -4.436, -4.4535, -4.6983, -4.8577, -5.2396, -5.1951, -5.3061, -5.3071, -5.4252, -5.5227, -5.5899, -5.6178, -5.6576, -5.7097, -5.7086, -5.8377, -5.8964, -5.9591, -6.0454, -6.0657, -6.0742, -6.0966, -6.1482, -6.1287, -6.1833, -6.1489, -6.2199, -6.2314, -6.2436, -6.2208, -2.8653, -5.3379, -3.3848, -6.0725, -5.7367, -5.2285, -5.1529, -5.5257, -5.7165, -5.4824, -5.8262, -5.8676, -5.9118, -4.6229, -4.9665, -4.9777, -5.3535, -5.2866, -5.4803, -5.5183, -5.5258, -5.5471, -5.6597, -5.8226, -6.1388, -6.1641, -6.183, -6.2554, -6.2552, -6.3075, -6.3303, -6.3695, -6.4261, -6.4329, -6.4387, -6.3967, -6.4636, -6.5435, -6.5222, -6.5388, -6.5758, -6.5697, -6.5967, -2.8646, -3.0447, -5.9096, -4.8318, -6.1669, -6.0213, -5.3836, -5.6878, -5.7396, -5.0723, -5.272, -5.6807, -5.4815, -6.0184, -5.7266, -5.8511, -5.1399, -5.7256, -5.6523, -6.0281, -5.8114, -5.9014, -5.8312, -2.695, -3.3644, -4.9855, -5.0845, -5.2727, -5.3051, -5.3438, -5.3278, -5.3891, -5.4019, -5.4339, -5.5075, -5.5504, -5.4885, -5.5801, -5.6225, -5.6149, -5.6436, -5.6879, -5.7535, -5.6957, -5.8579, -5.947, -5.8742, -6.0112, -6.0034, -6.0099, -6.0538, -6.0677, -6.0846, -4.5931, -5.5183, -5.2289, -3.5784, -5.0477, -4.8613, -4.7276, -5.2187, -5.516, -5.1572, -4.9507, -5.5217, -5.5402, -5.5858, -5.5227, -5.5683, -5.5425], \"loglift\": [30.0, 29.0, 28.0, 27.0, 26.0, 25.0, 24.0, 23.0, 22.0, 21.0, 20.0, 19.0, 18.0, 17.0, 16.0, 15.0, 14.0, 13.0, 12.0, 11.0, 10.0, 9.0, 8.0, 7.0, 6.0, 5.0, 4.0, 3.0, 2.0, 1.0, 0.7651, 0.7645, 0.7645, 0.7643, 0.7643, 0.7642, 0.7641, 0.7639, 0.7639, 0.7639, 0.7638, 0.7638, 0.7635, 0.7635, 0.7635, 0.7634, 0.7634, 0.7634, 0.7634, 0.7633, 0.7632, 0.7632, 0.7631, 0.7629, 0.7629, 0.7629, 0.7629, 0.7628, 0.7628, 0.7627, 0.758, 0.7626, 0.735, 0.7115, 0.7187, 0.6643, 0.6793, 0.6792, 0.6506, 0.6337, 0.5033, 0.6308, 0.5408, 0.5264, 0.2664, 0.5018, 0.325, -0.668, 0.3942, 0.4587, 0.3618, 1.4263, 1.4258, 1.4258, 1.4256, 1.4254, 1.4249, 1.4249, 1.4248, 1.4248, 1.4246, 1.4244, 1.4243, 1.4243, 1.4242, 1.424, 1.424, 1.4237, 1.4234, 1.4232, 1.4231, 1.423, 1.4229, 1.4228, 1.4227, 1.4226, 1.4225, 1.4225, 1.4224, 1.4222, 1.4222, 1.4221, 1.3635, 1.3471, 1.0874, 1.3922, 1.2901, 1.0903, 0.8208, 1.0242, 0.734, -0.0409, 0.0083, 0.2563, 0.4497, 1.8843, 1.8837, 1.8836, 1.8826, 1.8826, 1.8821, 1.882, 1.882, 1.8819, 1.8814, 1.8807, 1.8785, 1.8784, 1.8783, 1.8779, 1.8774, 1.8774, 1.8772, 1.8771, 1.8766, 1.8765, 1.8762, 1.8762, 1.8755, 1.8753, 1.8752, 1.8751, 1.8749, 1.8749, 1.8748, 1.775, 1.4458, 1.7458, 1.4362, 1.7808, 1.6033, 1.1477, 1.3014, 1.3325, 0.7622, 0.8253, 1.1242, 0.7355, 1.4364, 0.8344, 1.0468, -0.9111, 0.5177, 0.2791, 1.3569, 0.2099, 0.3758, -0.3897, 1.9451, 1.9448, 1.9429, 1.9427, 1.9421, 1.9419, 1.9418, 1.9418, 1.9417, 1.9416, 1.9415, 1.9411, 1.941, 1.9409, 1.9409, 1.9407, 1.9407, 1.9407, 1.9404, 1.94, 1.9397, 1.9393, 1.939, 1.9389, 1.9386, 1.9385, 1.9383, 1.9383, 1.9382, 1.9381, 1.6502, 1.8022, 1.6046, 0.912, 1.5133, 1.3557, 1.1069, 1.3899, 1.636, 0.8641, -0.3111, 1.3762, 1.1833, 1.4832, 0.5745, 1.2053, -1.0703]}, \"token.table\": {\"Topic\": [2, 1, 1, 3, 3, 2, 4, 3, 4, 3, 1, 2, 3, 4, 3, 1, 2, 2, 2, 4, 1, 2, 3, 4, 4, 1, 2, 3, 1, 2, 2, 1, 2, 3, 3, 3, 4, 1, 3, 4, 1, 2, 3, 1, 4, 4, 3, 3, 4, 4, 2, 1, 3, 4, 4, 2, 2, 1, 3, 2, 2, 2, 4, 3, 1, 1, 1, 3, 3, 3, 3, 4, 1, 2, 2, 3, 4, 1, 3, 4, 1, 2, 3, 4, 3, 1, 3, 1, 1, 1, 3, 4, 4, 1, 3, 1, 3, 3, 4, 1, 4, 2, 2, 2, 2, 4, 1, 2, 3, 4, 4, 4, 4, 1, 2, 4, 3, 4, 1, 2, 1, 1, 2, 3, 1, 3, 4, 3, 1, 3, 2, 1, 2, 3, 4, 2, 4, 3, 1, 2, 4, 3, 4, 2, 1, 3, 1, 1, 3, 4, 2, 3, 1, 2, 3, 1, 1, 2, 3, 4, 2, 3, 4, 4, 3, 3, 3, 1, 3, 4, 4, 2, 4, 1, 2, 3, 4, 4, 1, 2, 4, 2, 3, 1, 2, 4, 3, 4, 3, 4, 3, 2, 2, 4, 1, 4, 1, 2, 4, 3, 4, 4, 1, 2, 3, 3, 4, 3, 4, 3, 4, 4, 3, 1, 1, 2, 3, 4, 1, 4, 1, 3, 4, 2, 2, 2, 3, 4, 1, 3, 3, 1, 3, 1, 2, 3, 4, 2, 2, 4, 1, 2, 3, 4, 1, 2, 3, 4, 1, 3, 4, 1, 2, 2, 3, 4, 1, 2, 1, 1, 3, 4, 1, 1, 1, 2, 3, 4, 1, 1, 3, 1], \"Freq\": [0.9998117186801783, 0.9969728658822132, 0.9999409563615758, 0.9958036911076046, 0.9838742279161634, 0.9926288386803208, 0.9931176310550112, 0.43199415296469246, 0.5656326319393815, 0.9981839691429678, 0.3920409004627982, 0.032311063224955895, 0.47820373572934727, 0.09908726055653141, 0.997794233526368, 0.9987918893004155, 0.9952942631657029, 0.9972993349491395, 0.9988469275644356, 0.9950679226060515, 0.16523207230704767, 0.10007012829863451, 0.16290486002103294, 0.5748214346456447, 0.9984821908210888, 0.12727711865242555, 0.8732624529763642, 0.990227940384667, 0.9960064954904013, 0.998716432550862, 0.9994002144071028, 0.35402080212703907, 0.181258650689044, 0.46730745880769153, 0.9937655498015145, 0.868359889210263, 0.1259453274427099, 0.873400754003326, 0.06812525881225942, 0.05589764825621286, 0.998523922996257, 0.9968339566278841, 0.9849579953703642, 0.9975579525191719, 0.9995933454705088, 0.9965935962791227, 0.993701466669046, 0.9987682096875592, 0.9939973605589343, 0.993471352322626, 0.9977692929239006, 0.8770522516848657, 0.08135920702085953, 0.04230678765084695, 0.9935948828685391, 0.997977359993551, 0.996694432003096, 0.9981732578437489, 0.9884735660591645, 0.9934742939237317, 0.9959594133460158, 0.9951969614582544, 0.9970083631314922, 0.9942845082682656, 0.9969010991659802, 0.9996079569142164, 0.9973428527594007, 0.9957194914248084, 0.9964880409771962, 0.9905763230801883, 0.8949584651459288, 0.10460131607150239, 0.2856284638981864, 0.714071159745466, 0.13243758723054638, 0.6373558885470045, 0.2284548379726925, 0.787006275053981, 0.1189002286052777, 0.09285541662507402, 0.7365722377158135, 0.1297770133118338, 0.047351072424588005, 0.08593342773351156, 0.990059465342728, 0.2442538389684993, 0.7520447147188005, 0.9995928314311021, 0.9994838757263071, 0.9182195471993345, 0.08084951987918669, 0.9960056946926016, 0.9959355130715686, 0.9927118276379231, 0.007055226199767848, 0.9697591531452998, 0.02923032908416684, 0.1327925764001119, 0.8678943386150171, 0.9967778079056041, 0.9972502675553488, 0.998895763852064, 0.9991529791094178, 0.9951939077875996, 0.9982045435622807, 0.9997432121019458, 0.5463319090251955, 0.15704953959745682, 0.2205376513496202, 0.07685403001577674, 0.9953746969108203, 0.9974163024554424, 0.9965594540134745, 0.9173209943044796, 0.08137524949475222, 0.9882548230103485, 0.5584327963062813, 0.43925506538725784, 0.4986726108743044, 0.5006593543439232, 0.9980091143286498, 0.6687453180552713, 0.1899300545312107, 0.14204852817880464, 0.4734212442969708, 0.18755759678431905, 0.33889717487925236, 0.9944395225291183, 0.8913815952500216, 0.1069657914300026, 0.9979630440113044, 0.7698409181482556, 0.09151295227987842, 0.08585235729349419, 0.053775652370650205, 0.9243982407856535, 0.07535855223796088, 0.9907703575355189, 0.9988673161983388, 0.5214848372765847, 0.4775703246638196, 0.25517112872498654, 0.7445182933051822, 0.9944391786577905, 0.9980752785821791, 0.9923544399046949, 0.9983600419799069, 0.999178515123304, 0.8968811953571955, 0.09768013018741732, 0.9989875703130827, 0.9956621955546412, 0.9975006285301202, 0.9980381075368551, 0.9933967721768842, 0.9994526825048853, 0.6070568239678118, 0.23036285205461116, 0.10286643079168171, 0.05940174172477395, 0.24252162214483977, 0.32515067039772766, 0.43246112267420544, 0.9968548693432324, 0.9985818149922766, 0.993936895129514, 0.9870888123719439, 0.9039607705219886, 0.04348499333414814, 0.052709082829270476, 0.991619771799673, 0.9982397106016045, 0.9932158989177751, 0.9997760146030323, 0.9975790274384222, 0.5733606617306102, 0.42169751895025526, 0.9941298794224254, 0.2385257901577908, 0.7122797789043707, 0.04891427494019212, 0.9640966279187757, 0.03286693049723099, 0.28526856327410804, 0.6692839369123305, 0.0438874712729397, 0.5868097079524416, 0.40975505469092904, 0.9936420441323898, 0.9984106395380902, 0.9894547506820036, 0.9985323861229154, 0.9990119450649768, 0.9934359741229759, 0.5325404416722775, 0.4672781326438121, 0.5108026386251286, 0.37628521777723, 0.11270378503472589, 0.368771826656257, 0.6305998235821995, 0.9941343562006973, 0.6899600272532134, 0.1456760150349012, 0.16488603899554752, 0.9987756064283096, 0.99751268854594, 0.6439336149558104, 0.35596851726370743, 0.9944080498147555, 0.9975563523819048, 0.9958547444577875, 0.9947529788065212, 0.9982886447212956, 0.7678468619260884, 0.07867880558635441, 0.0524525370575696, 0.10053402936034174, 0.99892328986155, 0.9965167414018745, 0.39914409666659173, 0.34611096494165994, 0.2540007887878311, 0.9989582358469912, 0.9991716816573418, 0.938810404435887, 0.06096451226602938, 0.9947487590999907, 0.998873519411514, 0.9877865185830266, 0.993516561579414, 0.9478784580275853, 0.05145625915006891, 0.644195971808939, 0.15726303109259812, 0.08736835060699895, 0.11183148877695866, 0.9950970280393081, 0.2885115613847123, 0.7110789997764626, 0.9969282538833553, 0.3362995774372709, 0.6400540344773866, 0.02712093366429604, 0.1602892335915324, 0.06812292427640128, 0.036065077558094794, 0.7333232436812608, 0.7992445866959915, 0.20099346115135883, 0.9957936121874096, 0.45389551886593615, 0.5451679873335429, 0.9993169031457865, 0.34840832343381134, 0.6502142596567307, 0.9977371320034848, 0.9983217886575128, 0.9973416154432756, 0.12899066575693433, 0.31618443679443653, 0.5552890855146074, 0.9984494358614471, 0.9986543872348019, 0.5417838102341886, 0.3095907487052506, 0.05303174862080682, 0.0960304637187583, 0.997523811779207, 0.9551665149474398, 0.04511053356014602, 0.9991686323666656], \"Term\": [\"ai\", \"also\", \"amp\", \"app\", \"arsenal\", \"artificial\", \"ball\", \"baseball\", \"baseball\", \"basketball\", \"best\", \"best\", \"best\", \"best\", \"bet\", \"better\", \"bigdata\", \"bjp\", \"blockchain\", \"bowl\", \"break\", \"break\", \"break\", \"break\", \"breakingnews\", \"business\", \"business\", \"card\", \"care\", \"cc\", \"chatgpt\", \"check\", \"check\", \"check\", \"chelsea\", \"club\", \"club\", \"come\", \"come\", \"come\", \"community\", \"congress\", \"content\", \"continue\", \"cricket\", \"crickettwitter\", \"crypt\", \"crypto\", \"csk\", \"cup\", \"data\", \"day\", \"day\", \"day\", \"dc\", \"digital\", \"digitalhealth\", \"discuss\", \"easter\", \"edge\", \"election\", \"engineer\", \"entertainment\", \"epl\", \"even\", \"every\", \"excite\", \"fast\", \"fifa\", \"footba\", \"football\", \"football\", \"future\", \"future\", \"game\", \"game\", \"game\", \"get\", \"get\", \"get\", \"go\", \"go\", \"go\", \"go\", \"goal\", \"goals\", \"goals\", \"good\", \"government\", \"great\", \"great\", \"gt\", \"gujarat\", \"health\", \"health\", \"help\", \"help\", \"hockey\", \"hockey\", \"improve\", \"indian\", \"industry\", \"innovation\", \"intelligence\", \"iot\", \"ipl\", \"join\", \"join\", \"join\", \"join\", \"kings\", \"kkr\", \"kkrvsrcb\", \"know\", \"know\", \"kolkata\", \"league\", \"league\", \"learn\", \"learn\", \"life\", \"like\", \"like\", \"like\", \"live\", \"live\", \"live\", \"liverpool\", \"look\", \"look\", \"machinelearning\", \"make\", \"make\", \"make\", \"make\", \"man\", \"man\", \"manchester\", \"many\", \"market\", \"market\", \"match\", \"match\", \"matrixainetwork\", \"may\", \"medical\", \"mental\", \"mentalhealth\", \"messi\", \"messi\", \"metaverse\", \"mlb\", \"much\", \"mwc\", \"nba\", \"need\", \"new\", \"new\", \"new\", \"new\", \"news\", \"news\", \"news\", \"newsbreak\", \"nfl\", \"nft\", \"odds\", \"one\", \"one\", \"one\", \"pakistan\", \"party\", \"pbks\", \"people\", \"platform\", \"player\", \"player\", \"players\", \"politics\", \"politics\", \"politics\", \"potential\", \"potential\", \"power\", \"power\", \"power\", \"premier\", \"premier\", \"premierleague\", \"rcb\", \"refill\", \"robotics\", \"robots\", \"rr\", \"run\", \"run\", \"say\", \"say\", \"say\", \"score\", \"score\", \"season\", \"see\", \"see\", \"see\", \"soccer\", \"sp\", \"sport\", \"sport\", \"sportscards\", \"sportsnews\", \"stock\", \"stream\", \"support\", \"take\", \"take\", \"take\", \"take\", \"talk\", \"tataipl\", \"team\", \"team\", \"team\", \"tech\", \"technologies\", \"technology\", \"technology\", \"tennis\", \"thank\", \"thehobby\", \"thrill\", \"time\", \"time\", \"today\", \"today\", \"today\", \"today\", \"tool\", \"trend\", \"trend\", \"uk\", \"unite\", \"unite\", \"unite\", \"update\", \"update\", \"update\", \"update\", \"us\", \"us\", \"usa\", \"use\", \"use\", \"vote\", \"vs\", \"vs\", \"want\", \"web\", \"well\", \"win\", \"win\", \"win\", \"women\", \"work\", \"world\", \"world\", \"world\", \"world\", \"would\", \"year\", \"year\", \"years\"]}, \"R\": 30, \"lambda.step\": 0.01, \"plot.opts\": {\"xlab\": \"PC1\", \"ylab\": \"PC2\"}, \"topic.order\": [1, 4, 2, 3]};\n",
              "\n",
              "function LDAvis_load_lib(url, callback){\n",
              "  var s = document.createElement('script');\n",
              "  s.src = url;\n",
              "  s.async = true;\n",
              "  s.onreadystatechange = s.onload = callback;\n",
              "  s.onerror = function(){console.warn(\"failed to load library \" + url);};\n",
              "  document.getElementsByTagName(\"head\")[0].appendChild(s);\n",
              "}\n",
              "\n",
              "if(typeof(LDAvis) !== \"undefined\"){\n",
              "   // already loaded: just create the visualization\n",
              "   !function(LDAvis){\n",
              "       new LDAvis(\"#\" + \"ldavis_el7911405833098855044331343548\", ldavis_el7911405833098855044331343548_data);\n",
              "   }(LDAvis);\n",
              "}else if(typeof define === \"function\" && define.amd){\n",
              "   // require.js is available: use it to load d3/LDAvis\n",
              "   require.config({paths: {d3: \"https://d3js.org/d3.v5\"}});\n",
              "   require([\"d3\"], function(d3){\n",
              "      window.d3 = d3;\n",
              "      LDAvis_load_lib(\"https://cdn.jsdelivr.net/gh/bmabey/pyLDAvis@3.4.0/pyLDAvis/js/ldavis.v3.0.0.js\", function(){\n",
              "        new LDAvis(\"#\" + \"ldavis_el7911405833098855044331343548\", ldavis_el7911405833098855044331343548_data);\n",
              "      });\n",
              "    });\n",
              "}else{\n",
              "    // require.js not available: dynamically load d3 & LDAvis\n",
              "    LDAvis_load_lib(\"https://d3js.org/d3.v5.js\", function(){\n",
              "         LDAvis_load_lib(\"https://cdn.jsdelivr.net/gh/bmabey/pyLDAvis@3.4.0/pyLDAvis/js/ldavis.v3.0.0.js\", function(){\n",
              "                 new LDAvis(\"#\" + \"ldavis_el7911405833098855044331343548\", ldavis_el7911405833098855044331343548_data);\n",
              "            })\n",
              "         });\n",
              "}\n",
              "</script>"
            ]
          },
          "metadata": {},
          "execution_count": 50
        }
      ]
    },
    {
      "cell_type": "code",
      "source": [
        "print(\"Perplexity : \", lda_model.log_perplexity(corpus, total_docs = 1000))\n",
        "\n",
        "# coherence_score\n",
        "\n",
        "from gensim.models.coherencemodel import CoherenceModel\n",
        "coherence_score = CoherenceModel(model = lda_model, texts = corpus, dictionary= dic, coherence = 'c_v')\n",
        "coherence_score_lda = coherence_score.get_coherence()\n",
        "print(\"Coherence : \", coherence_score_lda)"
      ],
      "metadata": {
        "id": "8CYbhYMqgIQe",
        "colab": {
          "base_uri": "https://localhost:8080/"
        },
        "outputId": "9ab6c473-c330-4b61-e1fa-d29ea738c394"
      },
      "execution_count": null,
      "outputs": [
        {
          "output_type": "stream",
          "name": "stderr",
          "text": [
            "/usr/local/lib/python3.10/dist-packages/ipykernel/ipkernel.py:283: DeprecationWarning: `should_run_async` will not call `transform_cell` automatically in the future. Please pass the result to `transformed_cell` argument and any exception that happen during thetransform in `preprocessing_exc_tuple` in IPython 7.17 and above.\n",
            "  and should_run_async(code)\n"
          ]
        },
        {
          "output_type": "stream",
          "name": "stdout",
          "text": [
            "Perplexity :  -13.043186128036549\n",
            "Coherence :  nan\n"
          ]
        },
        {
          "output_type": "stream",
          "name": "stderr",
          "text": [
            "/usr/local/lib/python3.10/dist-packages/gensim/topic_coherence/direct_confirmation_measure.py:204: RuntimeWarning: divide by zero encountered in scalar divide\n",
            "  m_lr_i = np.log(numerator / denominator)\n",
            "/usr/local/lib/python3.10/dist-packages/gensim/topic_coherence/indirect_confirmation_measure.py:323: RuntimeWarning: invalid value encountered in scalar divide\n",
            "  return cv1.T.dot(cv2)[0, 0] / (_magnitude(cv1) * _magnitude(cv2))\n"
          ]
        }
      ]
    },
    {
      "cell_type": "code",
      "source": [
        "from sklearn.metrics import v_measure_score"
      ],
      "metadata": {
        "colab": {
          "base_uri": "https://localhost:8080/"
        },
        "id": "W4V_H06GM5sP",
        "outputId": "6447c47c-1a05-46a5-d679-c4bc21818fcb"
      },
      "execution_count": null,
      "outputs": [
        {
          "output_type": "stream",
          "name": "stderr",
          "text": [
            "/usr/local/lib/python3.10/dist-packages/ipykernel/ipkernel.py:283: DeprecationWarning: `should_run_async` will not call `transform_cell` automatically in the future. Please pass the result to `transformed_cell` argument and any exception that happen during thetransform in `preprocessing_exc_tuple` in IPython 7.17 and above.\n",
            "  and should_run_async(code)\n"
          ]
        }
      ]
    },
    {
      "cell_type": "code",
      "source": [
        "# from sklearn import cluster\n",
        "# spectral = cluster.SpectralClustering(\n",
        "#         n_clusters=params[\"n_clusters\"],\n",
        "#         eigen_solver=\"arpack\",\n",
        "#         affinity=\"nearest_neighbors\",\n",
        "#     )"
      ],
      "metadata": {
        "id": "_9ay-FwkZvmQ",
        "colab": {
          "base_uri": "https://localhost:8080/"
        },
        "outputId": "7b33a441-3418-4c70-c4f8-8dd882489183"
      },
      "execution_count": null,
      "outputs": [
        {
          "output_type": "stream",
          "name": "stderr",
          "text": [
            "/usr/local/lib/python3.10/dist-packages/ipykernel/ipkernel.py:283: DeprecationWarning: `should_run_async` will not call `transform_cell` automatically in the future. Please pass the result to `transformed_cell` argument and any exception that happen during thetransform in `preprocessing_exc_tuple` in IPython 7.17 and above.\n",
            "  and should_run_async(code)\n"
          ]
        }
      ]
    },
    {
      "cell_type": "code",
      "source": [],
      "metadata": {
        "id": "ejcMNT9B5zT8"
      },
      "execution_count": null,
      "outputs": []
    },
    {
      "cell_type": "code",
      "source": [
        "# from gensim.test.utils import common_texts\n",
        "# common_texts"
      ],
      "metadata": {
        "id": "Z-DRHQN35zJB"
      },
      "execution_count": null,
      "outputs": []
    },
    {
      "cell_type": "code",
      "source": [
        "# ## Word2Vec\n",
        "\n",
        "# from gensim.models import Word2Vec\n",
        "# w2v = Word2Vec(sentences = tweets['Tweet'], vector_size=100, window=5, min_count=2, workers=4)\n",
        "# w2v.train(tweets['Tweet'], total_examples=1, epochs=1)\n",
        "# x = w2v.seeded_vector\n",
        "\n",
        "# from gensim.models import KeyedVectors\n",
        "# word_vectors = w2v.wv\n",
        "# word_vectors\n",
        "\n",
        "# word_vectors.save(\"word2vec.wordvectors\")\n",
        "# wv = KeyedVectors.load(\"word2vec.wordvectors\", mmap='r')\n",
        "\n",
        "# from gensim.models import Word2Vec\n",
        "# model = Word2Vec(window = 5, min_count = 2, workers = 4)\n",
        "# model.build_vocab(tweets['Tweet'], progress_per = 1000)\n",
        "\n",
        "# model.train(tweets['Tweet'], total_examples = model.corpus_count, epochs = model.epochs)"
      ],
      "metadata": {
        "id": "DiA2zG9a50H5"
      },
      "execution_count": null,
      "outputs": []
    },
    {
      "cell_type": "code",
      "source": [
        "# from sklearn.cluster import MiniBatchKMeans\n",
        "\n",
        "# num_clusters = 4 # need to be selected wisely\n",
        "# kmeans_model = MiniBatchKMeans(n_clusters=num_clusters,\n",
        "#                                init='k-means++',\n",
        "#                                random_state=0,\n",
        "#                                n_init=25,\n",
        "#                                init_size=1000, batch_size=1000, verbose=0, max_iter=1000)"
      ],
      "metadata": {
        "id": "BiqaaD6v53Xx"
      },
      "execution_count": null,
      "outputs": []
    },
    {
      "cell_type": "code",
      "source": [
        "from gensim.models import Word2Vec\n",
        "w2v = Word2Vec(window = 11, min_count = 2, workers = 4)\n",
        "w2v.build_vocab(corpus, progress_per = 1000)\n",
        "w2v.train(corpus, total_examples = w2v.corpus_count, epochs = w2v.epochs)\n",
        "\n",
        "\n",
        "# SVD of gensim w2v model\n",
        "n_comp=50\n",
        "svd = TruncatedSVD(n_components=n_comp, random_state=42)\n",
        "svd_w2v = svd.fit_transform(w2v)\n",
        "print(svd_w2v.shape)\n",
        "#-----------------------------------------------\n",
        "#Applying Tsne to w2v vectorizer model\n",
        "from sklearn.manifold import TSNE\n",
        "tsne_model = TSNE(n_components=2, verbose=1, random_state=42, n_iter=500)\n",
        "tsne_w2v = tsne_model.fit_transform(svd_w2v)\n",
        "\n",
        "\n",
        "# #Plotting of W2V model\n",
        "# w2v_df = pd.DataFrame(tsne_w2v, columns=['x', 'y'])\n",
        "# w2v_df['Tweet'] = df['Tweet']\n",
        "# # tfidf_df['tokens'] = combined_sample['tokens']\n",
        "# w2v_df['Hashtag'] = df['Hashtag']\n",
        "# plot_tfidf.scatter(x='x', y='y', source=w2v_df, alpha=0.7)\n",
        "# hover = plot_tfidf.select(dict(type=HoverTool))\n",
        "# hover.tooltips={\"Tweet\": \"@Tweet\", \"tokens\": \"@tokens\", \"Hashtag\":\"@Hashtag\"}\n",
        "# show(plot_tfidf)"
      ],
      "metadata": {
        "colab": {
          "base_uri": "https://localhost:8080/",
          "height": 449
        },
        "id": "orM_wNxI573K",
        "outputId": "75f9f9af-6d72-476e-8edb-0a1e3c3c7688"
      },
      "execution_count": null,
      "outputs": [
        {
          "output_type": "stream",
          "name": "stderr",
          "text": [
            "WARNING:gensim.models.word2vec:Each 'sentences' item should be a list of words (usually unicode strings). First item here is instead plain <class 'str'>.\n"
          ]
        },
        {
          "output_type": "error",
          "ename": "ValueError",
          "evalue": "ignored",
          "traceback": [
            "\u001b[0;31m---------------------------------------------------------------------------\u001b[0m",
            "\u001b[0;31mValueError\u001b[0m                                Traceback (most recent call last)",
            "\u001b[0;32m<ipython-input-40-af673d613ecd>\u001b[0m in \u001b[0;36m<cell line: 10>\u001b[0;34m()\u001b[0m\n\u001b[1;32m      8\u001b[0m \u001b[0mn_comp\u001b[0m\u001b[0;34m=\u001b[0m\u001b[0;36m50\u001b[0m\u001b[0;34m\u001b[0m\u001b[0;34m\u001b[0m\u001b[0m\n\u001b[1;32m      9\u001b[0m \u001b[0msvd\u001b[0m \u001b[0;34m=\u001b[0m \u001b[0mTruncatedSVD\u001b[0m\u001b[0;34m(\u001b[0m\u001b[0mn_components\u001b[0m\u001b[0;34m=\u001b[0m\u001b[0mn_comp\u001b[0m\u001b[0;34m,\u001b[0m \u001b[0mrandom_state\u001b[0m\u001b[0;34m=\u001b[0m\u001b[0;36m42\u001b[0m\u001b[0;34m)\u001b[0m\u001b[0;34m\u001b[0m\u001b[0;34m\u001b[0m\u001b[0m\n\u001b[0;32m---> 10\u001b[0;31m \u001b[0msvd_w2v\u001b[0m \u001b[0;34m=\u001b[0m \u001b[0msvd\u001b[0m\u001b[0;34m.\u001b[0m\u001b[0mfit_transform\u001b[0m\u001b[0;34m(\u001b[0m\u001b[0mw2v\u001b[0m\u001b[0;34m)\u001b[0m\u001b[0;34m\u001b[0m\u001b[0;34m\u001b[0m\u001b[0m\n\u001b[0m\u001b[1;32m     11\u001b[0m \u001b[0mprint\u001b[0m\u001b[0;34m(\u001b[0m\u001b[0msvd_w2v\u001b[0m\u001b[0;34m.\u001b[0m\u001b[0mshape\u001b[0m\u001b[0;34m)\u001b[0m\u001b[0;34m\u001b[0m\u001b[0;34m\u001b[0m\u001b[0m\n\u001b[1;32m     12\u001b[0m \u001b[0;31m#-----------------------------------------------\u001b[0m\u001b[0;34m\u001b[0m\u001b[0;34m\u001b[0m\u001b[0m\n",
            "\u001b[0;32m/usr/local/lib/python3.10/dist-packages/sklearn/utils/_set_output.py\u001b[0m in \u001b[0;36mwrapped\u001b[0;34m(self, X, *args, **kwargs)\u001b[0m\n\u001b[1;32m    138\u001b[0m     \u001b[0;34m@\u001b[0m\u001b[0mwraps\u001b[0m\u001b[0;34m(\u001b[0m\u001b[0mf\u001b[0m\u001b[0;34m)\u001b[0m\u001b[0;34m\u001b[0m\u001b[0;34m\u001b[0m\u001b[0m\n\u001b[1;32m    139\u001b[0m     \u001b[0;32mdef\u001b[0m \u001b[0mwrapped\u001b[0m\u001b[0;34m(\u001b[0m\u001b[0mself\u001b[0m\u001b[0;34m,\u001b[0m \u001b[0mX\u001b[0m\u001b[0;34m,\u001b[0m \u001b[0;34m*\u001b[0m\u001b[0margs\u001b[0m\u001b[0;34m,\u001b[0m \u001b[0;34m**\u001b[0m\u001b[0mkwargs\u001b[0m\u001b[0;34m)\u001b[0m\u001b[0;34m:\u001b[0m\u001b[0;34m\u001b[0m\u001b[0;34m\u001b[0m\u001b[0m\n\u001b[0;32m--> 140\u001b[0;31m         \u001b[0mdata_to_wrap\u001b[0m \u001b[0;34m=\u001b[0m \u001b[0mf\u001b[0m\u001b[0;34m(\u001b[0m\u001b[0mself\u001b[0m\u001b[0;34m,\u001b[0m \u001b[0mX\u001b[0m\u001b[0;34m,\u001b[0m \u001b[0;34m*\u001b[0m\u001b[0margs\u001b[0m\u001b[0;34m,\u001b[0m \u001b[0;34m**\u001b[0m\u001b[0mkwargs\u001b[0m\u001b[0;34m)\u001b[0m\u001b[0;34m\u001b[0m\u001b[0;34m\u001b[0m\u001b[0m\n\u001b[0m\u001b[1;32m    141\u001b[0m         \u001b[0;32mif\u001b[0m \u001b[0misinstance\u001b[0m\u001b[0;34m(\u001b[0m\u001b[0mdata_to_wrap\u001b[0m\u001b[0;34m,\u001b[0m \u001b[0mtuple\u001b[0m\u001b[0;34m)\u001b[0m\u001b[0;34m:\u001b[0m\u001b[0;34m\u001b[0m\u001b[0;34m\u001b[0m\u001b[0m\n\u001b[1;32m    142\u001b[0m             \u001b[0;31m# only wrap the first output for cross decomposition\u001b[0m\u001b[0;34m\u001b[0m\u001b[0;34m\u001b[0m\u001b[0m\n",
            "\u001b[0;32m/usr/local/lib/python3.10/dist-packages/sklearn/decomposition/_truncated_svd.py\u001b[0m in \u001b[0;36mfit_transform\u001b[0;34m(self, X, y)\u001b[0m\n\u001b[1;32m    222\u001b[0m         \"\"\"\n\u001b[1;32m    223\u001b[0m         \u001b[0mself\u001b[0m\u001b[0;34m.\u001b[0m\u001b[0m_validate_params\u001b[0m\u001b[0;34m(\u001b[0m\u001b[0;34m)\u001b[0m\u001b[0;34m\u001b[0m\u001b[0;34m\u001b[0m\u001b[0m\n\u001b[0;32m--> 224\u001b[0;31m         \u001b[0mX\u001b[0m \u001b[0;34m=\u001b[0m \u001b[0mself\u001b[0m\u001b[0;34m.\u001b[0m\u001b[0m_validate_data\u001b[0m\u001b[0;34m(\u001b[0m\u001b[0mX\u001b[0m\u001b[0;34m,\u001b[0m \u001b[0maccept_sparse\u001b[0m\u001b[0;34m=\u001b[0m\u001b[0;34m[\u001b[0m\u001b[0;34m\"csr\"\u001b[0m\u001b[0;34m,\u001b[0m \u001b[0;34m\"csc\"\u001b[0m\u001b[0;34m]\u001b[0m\u001b[0;34m,\u001b[0m \u001b[0mensure_min_features\u001b[0m\u001b[0;34m=\u001b[0m\u001b[0;36m2\u001b[0m\u001b[0;34m)\u001b[0m\u001b[0;34m\u001b[0m\u001b[0;34m\u001b[0m\u001b[0m\n\u001b[0m\u001b[1;32m    225\u001b[0m         \u001b[0mrandom_state\u001b[0m \u001b[0;34m=\u001b[0m \u001b[0mcheck_random_state\u001b[0m\u001b[0;34m(\u001b[0m\u001b[0mself\u001b[0m\u001b[0;34m.\u001b[0m\u001b[0mrandom_state\u001b[0m\u001b[0;34m)\u001b[0m\u001b[0;34m\u001b[0m\u001b[0;34m\u001b[0m\u001b[0m\n\u001b[1;32m    226\u001b[0m \u001b[0;34m\u001b[0m\u001b[0m\n",
            "\u001b[0;32m/usr/local/lib/python3.10/dist-packages/sklearn/base.py\u001b[0m in \u001b[0;36m_validate_data\u001b[0;34m(self, X, y, reset, validate_separately, **check_params)\u001b[0m\n\u001b[1;32m    563\u001b[0m             \u001b[0;32mraise\u001b[0m \u001b[0mValueError\u001b[0m\u001b[0;34m(\u001b[0m\u001b[0;34m\"Validation should be done on X, y or both.\"\u001b[0m\u001b[0;34m)\u001b[0m\u001b[0;34m\u001b[0m\u001b[0;34m\u001b[0m\u001b[0m\n\u001b[1;32m    564\u001b[0m         \u001b[0;32melif\u001b[0m \u001b[0;32mnot\u001b[0m \u001b[0mno_val_X\u001b[0m \u001b[0;32mand\u001b[0m \u001b[0mno_val_y\u001b[0m\u001b[0;34m:\u001b[0m\u001b[0;34m\u001b[0m\u001b[0;34m\u001b[0m\u001b[0m\n\u001b[0;32m--> 565\u001b[0;31m             \u001b[0mX\u001b[0m \u001b[0;34m=\u001b[0m \u001b[0mcheck_array\u001b[0m\u001b[0;34m(\u001b[0m\u001b[0mX\u001b[0m\u001b[0;34m,\u001b[0m \u001b[0minput_name\u001b[0m\u001b[0;34m=\u001b[0m\u001b[0;34m\"X\"\u001b[0m\u001b[0;34m,\u001b[0m \u001b[0;34m**\u001b[0m\u001b[0mcheck_params\u001b[0m\u001b[0;34m)\u001b[0m\u001b[0;34m\u001b[0m\u001b[0;34m\u001b[0m\u001b[0m\n\u001b[0m\u001b[1;32m    566\u001b[0m             \u001b[0mout\u001b[0m \u001b[0;34m=\u001b[0m \u001b[0mX\u001b[0m\u001b[0;34m\u001b[0m\u001b[0;34m\u001b[0m\u001b[0m\n\u001b[1;32m    567\u001b[0m         \u001b[0;32melif\u001b[0m \u001b[0mno_val_X\u001b[0m \u001b[0;32mand\u001b[0m \u001b[0;32mnot\u001b[0m \u001b[0mno_val_y\u001b[0m\u001b[0;34m:\u001b[0m\u001b[0;34m\u001b[0m\u001b[0;34m\u001b[0m\u001b[0m\n",
            "\u001b[0;32m/usr/local/lib/python3.10/dist-packages/sklearn/utils/validation.py\u001b[0m in \u001b[0;36mcheck_array\u001b[0;34m(array, accept_sparse, accept_large_sparse, dtype, order, copy, force_all_finite, ensure_2d, allow_nd, ensure_min_samples, ensure_min_features, estimator, input_name)\u001b[0m\n\u001b[1;32m    892\u001b[0m             \u001b[0;31m# If input is scalar raise error\u001b[0m\u001b[0;34m\u001b[0m\u001b[0;34m\u001b[0m\u001b[0m\n\u001b[1;32m    893\u001b[0m             \u001b[0;32mif\u001b[0m \u001b[0marray\u001b[0m\u001b[0;34m.\u001b[0m\u001b[0mndim\u001b[0m \u001b[0;34m==\u001b[0m \u001b[0;36m0\u001b[0m\u001b[0;34m:\u001b[0m\u001b[0;34m\u001b[0m\u001b[0;34m\u001b[0m\u001b[0m\n\u001b[0;32m--> 894\u001b[0;31m                 raise ValueError(\n\u001b[0m\u001b[1;32m    895\u001b[0m                     \u001b[0;34m\"Expected 2D array, got scalar array instead:\\narray={}.\\n\"\u001b[0m\u001b[0;34m\u001b[0m\u001b[0;34m\u001b[0m\u001b[0m\n\u001b[1;32m    896\u001b[0m                     \u001b[0;34m\"Reshape your data either using array.reshape(-1, 1) if \"\u001b[0m\u001b[0;34m\u001b[0m\u001b[0;34m\u001b[0m\u001b[0m\n",
            "\u001b[0;31mValueError\u001b[0m: Expected 2D array, got scalar array instead:\narray=Word2Vec<vocab=309, vector_size=100, alpha=0.025>.\nReshape your data either using array.reshape(-1, 1) if your data has a single feature or array.reshape(1, -1) if it contains a single sample."
          ]
        }
      ]
    },
    {
      "cell_type": "code",
      "source": [
        "w2v_vectors = w2v.wv.vectors\n",
        "w2v_vectors.shape"
      ],
      "metadata": {
        "id": "RBVbFo1C5-yc"
      },
      "execution_count": null,
      "outputs": []
    },
    {
      "cell_type": "code",
      "source": [
        "#k-means on w2v+all samples\n",
        "kmeans = kmeans_model.fit(w2v_vectors)\n",
        "kmeans_clusters = kmeans.predict(w2v_vectors)\n",
        "kmeans_distances = kmeans.transform(w2v_vectors)\n",
        "# print(kmeans_distances.shape)\n",
        "tsne_kmeans = tsne_model.fit_transform(kmeans_distances)\n",
        "kmeans_df = pd.DataFrame(tsne_kmeans, columns=['x', 'y'])\n",
        "kmeans_df['cluster'] = kmeans_clusters\n",
        "kmeans_df['Tweet'] = df['Tweet']\n",
        "kmeans_df['Hashtag'] = df['Hashtag']\n",
        "plot_kmeans = bp.figure(plot_width=700, plot_height=600,\n",
        "                        title=\"KMeans clustering of the Tweet\",\n",
        "    tools=\"pan,wheel_zoom,box_zoom,reset,hover,save\",\n",
        "    x_axis_type=None, y_axis_type=None, min_border=1)\n",
        "source = ColumnDataSource(data=dict(x=kmeans_df['x'], y=kmeans_df['y'],\n",
        "                                    color=colormap[kmeans_clusters],\n",
        "                                    Tweet=kmeans_df['Tweet'],\n",
        "                                    Hashtag=kmeans_df['Hashtag'],\n",
        "                                    cluster=kmeans_df['cluster']))\n",
        "\n",
        "plot_kmeans.scatter(x='x', y='y', color='color', source=source)\n",
        "hover = plot_kmeans.select(dict(type=HoverTool))\n",
        "hover.tooltips={\"Tweet\": \"@Tweet\", \"Hashtag\": \"@Hashtag\", \"cluster\":\"@cluster\" }\n",
        "show(plot_kmeans)"
      ],
      "metadata": {
        "id": "5sdEek_N6DCi"
      },
      "execution_count": null,
      "outputs": []
    },
    {
      "cell_type": "code",
      "source": [
        "def similar(word):\n",
        "  dic_word = {}\n",
        "  words = []\n",
        "  index = df[df['word'] == word].index[0]\n",
        "  distance = similarity[index]\n",
        "\n",
        "  similar_words = np.argsort(similarity[index])[::-1][1:21]\n",
        "  #dic_word[word] = sorted(list(enumerate(distance)), reverse = True, key = lambda x : x[1])[1:21]\n",
        "\n",
        "  for i in range(len(similar_words)):\n",
        "    words.append(df.iloc[similar_words[i]].word)\n",
        "  dic_word[word] = words\n",
        "  print(dic_word)"
      ],
      "metadata": {
        "id": "ivRT6NRW6F1u"
      },
      "execution_count": null,
      "outputs": []
    },
    {
      "cell_type": "code",
      "source": [
        "df.reset_index(inplace = True)\n",
        "df.rename(columns = {'index' : 'idx'}, inplace=True)\n",
        "df"
      ],
      "metadata": {
        "id": "jweonm_VXlhd"
      },
      "execution_count": null,
      "outputs": []
    }
  ]
}